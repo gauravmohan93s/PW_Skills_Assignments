{
 "cells": [
  {
   "cell_type": "markdown",
   "metadata": {},
   "source": [
    "# Assignments: Data Structures in Python\n",
    "\n",
    "### 1. Write a code to reverse a string\n",
    "\n",
    "Explanation: Slicing with a negative step efficiently reverses the string's character order."
   ]
  },
  {
   "cell_type": "code",
   "execution_count": 1,
   "metadata": {},
   "outputs": [
    {
     "name": "stdout",
     "output_type": "stream",
     "text": [
      "Original: 'hello', Reversed: 'olleh'\n"
     ]
    }
   ],
   "source": [
    "def reverse_string(input_str):\n",
    "    \"\"\"Reverses a string using slicing.\"\"\"\n",
    "    return input_str[::-1]\n",
    "\n",
    "# Example usage\n",
    "original = \"hello\"\n",
    "reversed = reverse_string(original)\n",
    "print(f\"Original: '{original}', Reversed: '{reversed}'\")"
   ]
  },
  {
   "cell_type": "markdown",
   "metadata": {},
   "source": [
    "### 2. Write a code to count the number of vowels in a string"
   ]
  },
  {
   "cell_type": "code",
   "execution_count": 2,
   "metadata": {},
   "outputs": [
    {
     "name": "stdout",
     "output_type": "stream",
     "text": [
      "Number of vowels: 8\n"
     ]
    }
   ],
   "source": [
    "def count_vowels(input_str):\n",
    "    \"\"\"Counts vowels (both uppercase and lowercase) in a string.\"\"\"\n",
    "    vowels = set(\"aeiouAEIOU\")\n",
    "    count = 0\n",
    "    for char in input_str:\n",
    "        if char in vowels:\n",
    "            count += 1\n",
    "    return count\n",
    "\n",
    "# Example usage\n",
    "text = \"This is a sample sentence.\"\n",
    "vowel_count = count_vowels(text)\n",
    "print(f\"Number of vowels: {vowel_count}\")"
   ]
  },
  {
   "cell_type": "markdown",
   "metadata": {},
   "source": [
    "### 3. Write a code to check if a given string is a palindrome or not"
   ]
  },
  {
   "cell_type": "code",
   "execution_count": 3,
   "metadata": {},
   "outputs": [
    {
     "name": "stdout",
     "output_type": "stream",
     "text": [
      "'racecar' is a palindrome: True\n"
     ]
    }
   ],
   "source": [
    "def is_palindrome(input_str):\n",
    "    \"\"\"Checks if a string is a palindrome (reads the same backward).\"\"\"\n",
    "    cleaned_str = ''.join(char for char in input_str if char.isalnum()).lower()\n",
    "    return cleaned_str == cleaned_str[::-1]  \n",
    "\n",
    "# Example usage\n",
    "word = \"racecar\"\n",
    "is_pal = is_palindrome(word)\n",
    "print(f\"'{word}' is a palindrome: {is_pal}\")"
   ]
  },
  {
   "cell_type": "markdown",
   "metadata": {},
   "source": [
    "### 4. Write a code to check if two given strings are anagrams of each other."
   ]
  },
  {
   "cell_type": "code",
   "execution_count": 4,
   "metadata": {},
   "outputs": [
    {
     "name": "stdout",
     "output_type": "stream",
     "text": [
      "'listen' and 'silent' are anagrams: True\n"
     ]
    }
   ],
   "source": [
    "from collections import Counter\n",
    "\n",
    "def are_anagrams(str1, str2):\n",
    "    \"\"\"Checks if two strings are anagrams (contain the same letters).\"\"\"\n",
    "    return Counter(str1.lower()) == Counter(str2.lower())\n",
    "\n",
    "# Example usage\n",
    "word1 = \"listen\"\n",
    "word2 = \"silent\"\n",
    "is_ana = are_anagrams(word1, word2)\n",
    "print(f\"'{word1}' and '{word2}' are anagrams: {is_ana}\")"
   ]
  },
  {
   "cell_type": "markdown",
   "metadata": {},
   "source": [
    "### 5. Write a code to find all occurances of a given substring within another string"
   ]
  },
  {
   "cell_type": "code",
   "execution_count": 5,
   "metadata": {},
   "outputs": [
    {
     "name": "stdout",
     "output_type": "stream",
     "text": [
      "Indices of 'the' in the sentence: [0, 31, 45]\n"
     ]
    }
   ],
   "source": [
    "def find_substring_occurrences(text, substring):\n",
    "    \"\"\"Finds all indices (case-insensitive) of a substring within a string.\"\"\"\n",
    "\n",
    "    indices = []\n",
    "    start = 0\n",
    "    text_lower = text.lower()  # Convert text to lowercase for case-insensitive search\n",
    "    substring_lower = substring.lower()\n",
    "\n",
    "    while start < len(text_lower): \n",
    "        index = text_lower.find(substring_lower, start)\n",
    "        if index == -1:\n",
    "            break\n",
    "        indices.append(index)  # Append index from the original (case-sensitive) text\n",
    "        start = index + len(substring_lower) \n",
    "    return indices\n",
    "\n",
    "sentence = \"The quick brown fox jumps over the lazy dog. The lazy dog sleeps.\"\n",
    "sub = \"the\"  \n",
    "occurrences = find_substring_occurrences(sentence, sub)\n",
    "print(f\"Indices of '{sub}' in the sentence: {occurrences}\")"
   ]
  },
  {
   "cell_type": "markdown",
   "metadata": {},
   "source": [
    "### 6. Write a code to perform basic string compression using the counts of repeated characters"
   ]
  },
  {
   "cell_type": "code",
   "execution_count": 6,
   "metadata": {},
   "outputs": [
    {
     "name": "stdout",
     "output_type": "stream",
     "text": [
      "Compressed string: 'a2bc5a3'\n"
     ]
    }
   ],
   "source": [
    "def compress_string(input_str):\n",
    "    \"\"\"Compresses a string using run-length encoding.\"\"\"\n",
    "    \n",
    "    if not input_str:  # Handle empty string\n",
    "        return input_str\n",
    "    \n",
    "    compressed = \"\"\n",
    "    current_char = input_str[0]\n",
    "    count = 1\n",
    "\n",
    "    for i in range(1, len(input_str)):\n",
    "        if input_str[i] == current_char:\n",
    "            count += 1\n",
    "        else:\n",
    "            compressed += current_char + (str(count) if count > 1 else \"\")  \n",
    "            current_char = input_str[i]\n",
    "            count = 1\n",
    "\n",
    "    compressed += current_char + (str(count) if count > 1 else \"\")  \n",
    "\n",
    "    return compressed if len(compressed) < len(input_str) else input_str\n",
    "\n",
    "# Example usage\n",
    "text = \"aabcccccaaa\"\n",
    "compressed = compress_string(text)\n",
    "print(f\"Compressed string: '{compressed}'\")"
   ]
  },
  {
   "cell_type": "markdown",
   "metadata": {},
   "source": [
    "### 7. write a code to determine if a string has all unique characters"
   ]
  },
  {
   "cell_type": "code",
   "execution_count": 7,
   "metadata": {},
   "outputs": [
    {
     "name": "stdout",
     "output_type": "stream",
     "text": [
      "'abcdefg' has all unique characters: True\n",
      "'abbcdef' has all unique characters: False\n"
     ]
    }
   ],
   "source": [
    "def has_all_unique_chars(input_str):\n",
    "    \"\"\"Checks if a string has all unique characters.\"\"\"\n",
    "    return len(set(input_str)) == len(input_str)\n",
    "\n",
    "# Example usage\n",
    "text1 = \"abcdefg\"\n",
    "text2 = \"abbcdef\"\n",
    "print(f\"'{text1}' has all unique characters: {has_all_unique_chars(text1)}\")\n",
    "print(f\"'{text2}' has all unique characters: {has_all_unique_chars(text2)}\")"
   ]
  },
  {
   "cell_type": "markdown",
   "metadata": {},
   "source": [
    "### 8. Write a code to convert a given string to uppercase or lowercase"
   ]
  },
  {
   "cell_type": "code",
   "execution_count": 8,
   "metadata": {},
   "outputs": [
    {
     "name": "stdout",
     "output_type": "stream",
     "text": [
      "Original: This is a Mixed Case Sentence.\n",
      "Uppercase: THIS IS A MIXED CASE SENTENCE.\n",
      "Lowercase: this is a mixed case sentence.\n"
     ]
    }
   ],
   "source": [
    "def convert_case(input_str, to_uppercase=True):\n",
    "    \"\"\"Converts a string to uppercase or lowercase.\"\"\"\n",
    "    if to_uppercase:\n",
    "        return input_str.upper()\n",
    "    else:\n",
    "        return input_str.lower()\n",
    "\n",
    "# Example usage\n",
    "text = \"This is a Mixed Case Sentence.\"\n",
    "upper_text = convert_case(text)\n",
    "lower_text = convert_case(text, to_uppercase=False)\n",
    "\n",
    "print(f\"Original: {text}\")\n",
    "print(f\"Uppercase: {upper_text}\")\n",
    "print(f\"Lowercase: {lower_text}\")"
   ]
  },
  {
   "cell_type": "markdown",
   "metadata": {},
   "source": [
    "### 9. Write a code to count the number of words in a string"
   ]
  },
  {
   "cell_type": "code",
   "execution_count": 9,
   "metadata": {},
   "outputs": [
    {
     "name": "stdout",
     "output_type": "stream",
     "text": [
      "Number of words: 7\n"
     ]
    }
   ],
   "source": [
    "def count_words(input_str):\n",
    "    \"\"\"Counts words, allowing customization of what constitutes a word.\"\"\"\n",
    "    word_count = 0\n",
    "    in_word = False\n",
    "    for char in input_str:\n",
    "        if char.isalnum(): # Consider alphanumeric characters as part of words\n",
    "            in_word = True\n",
    "        elif in_word:  # Transition from word to non-word\n",
    "            word_count += 1\n",
    "            in_word = False\n",
    "    if in_word: # Handle case where last character is part of a word\n",
    "        word_count += 1\n",
    "    return word_count\n",
    "\n",
    "# Example usage\n",
    "text = \"This is a  sentence   with   extra spaces.\"\n",
    "word_count = count_words(text)\n",
    "print(f\"Number of words: {word_count}\")"
   ]
  },
  {
   "cell_type": "markdown",
   "metadata": {},
   "source": [
    "### 10. Write a code to concatenate two strings without using the + operator"
   ]
  },
  {
   "cell_type": "code",
   "execution_count": 10,
   "metadata": {},
   "outputs": [
    {
     "name": "stdout",
     "output_type": "stream",
     "text": [
      "Hello World!\n"
     ]
    }
   ],
   "source": [
    "def concatenate_strings(str1, str2):\n",
    "    \"\"\"Concatenates two strings using the join() method.\"\"\"\n",
    "    return \"\".join([str1, str2])\n",
    "\n",
    "# Example usage\n",
    "text1 = \"Hello\"\n",
    "text2 = \" World!\"\n",
    "result = concatenate_strings(text1, text2)\n",
    "print(result)"
   ]
  },
  {
   "cell_type": "markdown",
   "metadata": {},
   "source": [
    "### 11. Write a code to remove all occurrences of a specific element from a list"
   ]
  },
  {
   "cell_type": "code",
   "execution_count": 11,
   "metadata": {},
   "outputs": [
    {
     "name": "stdout",
     "output_type": "stream",
     "text": [
      "Filtered list: [1, 3, 4, 5]\n"
     ]
    }
   ],
   "source": [
    "def remove_all_occurrences(lst, element):\n",
    "    \"\"\"Removes all occurrences of an element from a list using list comprehension.\"\"\"\n",
    "    return [item for item in lst if item != element]\n",
    "\n",
    "# Example usage\n",
    "numbers = [1, 2, 3, 2, 4, 5, 2]\n",
    "element_to_remove = 2\n",
    "filtered_numbers = remove_all_occurrences(numbers, element_to_remove)\n",
    "print(f\"Filtered list: {filtered_numbers}\")"
   ]
  },
  {
   "cell_type": "markdown",
   "metadata": {},
   "source": [
    "### 12. Implement a code to find the second largest number in a given list of integers"
   ]
  },
  {
   "cell_type": "code",
   "execution_count": 12,
   "metadata": {},
   "outputs": [
    {
     "name": "stdout",
     "output_type": "stream",
     "text": [
      "Second largest number: 12\n"
     ]
    }
   ],
   "source": [
    "def find_second_largest(nums):\n",
    "    \"\"\"Finds the second largest number by tracking two largest values.\"\"\"\n",
    "    if len(nums) < 2:\n",
    "        return None \n",
    "\n",
    "    largest = float('-inf')\n",
    "    second_largest = float('-inf')\n",
    "\n",
    "    for num in nums:\n",
    "        if num > largest:\n",
    "            second_largest = largest\n",
    "            largest = num\n",
    "        elif num > second_largest and num != largest:\n",
    "            second_largest = num\n",
    "    \n",
    "    return second_largest if second_largest != float('-inf') else None\n",
    "\n",
    "# Example usage\n",
    "numbers = [5, 12, 8, 2, 20]\n",
    "second_largest = find_second_largest(numbers)\n",
    "print(f\"Second largest number: {second_largest}\") "
   ]
  },
  {
   "cell_type": "markdown",
   "metadata": {},
   "source": [
    "### 13. Create a code to count the occurrences of each element in a list and return a dictionary with elements as keys and their counts as Values."
   ]
  },
  {
   "cell_type": "code",
   "execution_count": 13,
   "metadata": {},
   "outputs": [
    {
     "name": "stdout",
     "output_type": "stream",
     "text": [
      "Element counts: Counter({2: 3, 1: 1, 3: 1, 4: 1, 5: 1})\n"
     ]
    }
   ],
   "source": [
    "from collections import Counter\n",
    "\n",
    "def count_occurrences(lst):\n",
    "    \"\"\"Counts occurrences of elements in a list using Counter.\"\"\"\n",
    "    return Counter(lst)  \n",
    "\n",
    "# Example usage\n",
    "numbers = [1, 2, 3, 2, 4, 5, 2]\n",
    "occurrences = count_occurrences(numbers)\n",
    "print(f\"Element counts: {occurrences}\")"
   ]
  },
  {
   "cell_type": "markdown",
   "metadata": {},
   "source": [
    "### 14. Write a code to reverse a list  in-place without using any built-in reverse functions."
   ]
  },
  {
   "cell_type": "code",
   "execution_count": 14,
   "metadata": {},
   "outputs": [
    {
     "name": "stdout",
     "output_type": "stream",
     "text": [
      "Reversed list: [5, 4, 3, 2, 1]\n"
     ]
    }
   ],
   "source": [
    "def reverse_list_in_place(lst):\n",
    "    \"\"\"Reverses a list in-place using two pointers (start and end).\"\"\"\n",
    "    start = 0\n",
    "    end = len(lst) - 1\n",
    "    \n",
    "    while start < end:\n",
    "        # Swap elements at start and end indices\n",
    "        lst[start], lst[end] = lst[end], lst[start]\n",
    "        \n",
    "        # Move the pointers towards the center\n",
    "        start += 1\n",
    "        end -= 1\n",
    "\n",
    "# Example usage\n",
    "numbers = [1, 2, 3, 4, 5]\n",
    "reverse_list_in_place(numbers)\n",
    "print(f\"Reversed list: {numbers}\")"
   ]
  },
  {
   "cell_type": "markdown",
   "metadata": {},
   "source": [
    "### 15. Implement a code to find a remove duplicates from a list while preserving the original order of elements."
   ]
  },
  {
   "cell_type": "code",
   "execution_count": 15,
   "metadata": {},
   "outputs": [
    {
     "name": "stdout",
     "output_type": "stream",
     "text": [
      "Unique list: [1, 2, 3, 4, 5]\n"
     ]
    }
   ],
   "source": [
    "def remove_duplicates_preserve_order(lst):\n",
    "    \"\"\"Removes duplicates from a list while preserving order.\"\"\"\n",
    "    seen = set()\n",
    "    return [x for x in lst if not (x in seen or seen.add(x))]\n",
    "\n",
    "# Example usage\n",
    "numbers = [1, 2, 3, 2, 4, 5, 2]\n",
    "unique_numbers = remove_duplicates_preserve_order(numbers)\n",
    "print(f\"Unique list: {unique_numbers}\")"
   ]
  },
  {
   "cell_type": "markdown",
   "metadata": {},
   "source": [
    "### 16. Create a code to check if a given list is sorted (either in ascending or descending order) or not."
   ]
  },
  {
   "cell_type": "code",
   "execution_count": 16,
   "metadata": {},
   "outputs": [
    {
     "name": "stdout",
     "output_type": "stream",
     "text": [
      "[1, 2, 3, 4, 5] is sorted: True\n",
      "[5, 4, 3, 2, 1] is sorted: True\n",
      "[3, 2, 5, 1, 4] is sorted: False\n"
     ]
    }
   ],
   "source": [
    "def is_sorted(lst):\n",
    "    \"\"\"Checks if a list is sorted in ascending or descending order.\"\"\"\n",
    "    \n",
    "    if not lst:  # Handle empty lists\n",
    "        return True\n",
    "    \n",
    "    ascending = lst[0] <= lst[1]  # Determine initial sort direction\n",
    "    for i in range(1, len(lst) - 1):\n",
    "        if ascending and lst[i] > lst[i + 1]:\n",
    "            return False  # Not ascending\n",
    "        elif not ascending and lst[i] < lst[i + 1]:\n",
    "            return False  # Not descending\n",
    "\n",
    "    return True  # If we reach here, the list is sorted\n",
    "\n",
    "# Example usage\n",
    "list1 = [1, 2, 3, 4, 5]\n",
    "list2 = [5, 4, 3, 2, 1]\n",
    "list3 = [3, 2, 5, 1, 4]\n",
    "print(f\"{list1} is sorted: {is_sorted(list1)}\")\n",
    "print(f\"{list2} is sorted: {is_sorted(list2)}\")\n",
    "print(f\"{list3} is sorted: {is_sorted(list3)}\")"
   ]
  },
  {
   "cell_type": "markdown",
   "metadata": {},
   "source": [
    "### 17. Write a code to merge two sorted lists into a single sorted list"
   ]
  },
  {
   "cell_type": "code",
   "execution_count": 17,
   "metadata": {},
   "outputs": [
    {
     "name": "stdout",
     "output_type": "stream",
     "text": [
      "Merged list: [1, 2, 3, 4, 5, 6]\n"
     ]
    }
   ],
   "source": [
    "def merge_sorted_lists(lst1, lst2):\n",
    "    \"\"\"Merges two sorted lists using the two-pointer approach.\"\"\"\n",
    "    merged = []\n",
    "    i, j = 0, 0  # Pointers for lst1 and lst2\n",
    "\n",
    "    while i < len(lst1) and j < len(lst2):\n",
    "        if lst1[i] < lst2[j]:\n",
    "            merged.append(lst1[i])\n",
    "            i += 1\n",
    "        else:\n",
    "            merged.append(lst2[j])\n",
    "            j += 1\n",
    "\n",
    "    merged.extend(lst1[i:])  # Append any remaining elements from lst1\n",
    "    merged.extend(lst2[j:])  # Append any remaining elements from lst2\n",
    "    return merged\n",
    "\n",
    "# Example usage\n",
    "list1 = [1, 3, 5]\n",
    "list2 = [2, 4, 6]\n",
    "merged_list = merge_sorted_lists(list1, list2)\n",
    "print(f\"Merged list: {merged_list}\")"
   ]
  },
  {
   "cell_type": "markdown",
   "metadata": {},
   "source": [
    "### 18. Implement a code to find the intersection of two given lists."
   ]
  },
  {
   "cell_type": "markdown",
   "metadata": {},
   "source": [
    "There are a few different ways to solve this problem. Let's explore them with code examples and illustrations.\n",
    "\n",
    "**1. Using Sets**\n",
    "\n",
    "1. Convert both lists into sets (`set1` and `set2`). Sets automatically eliminate duplicates and provide efficient methods for set operations.\n",
    "2. Use the `intersection()` method to find the common elements between the two sets.\n",
    "3. Convert the resulting set back into a list and return it."
   ]
  },
  {
   "cell_type": "code",
   "execution_count": 18,
   "metadata": {},
   "outputs": [
    {
     "name": "stdout",
     "output_type": "stream",
     "text": [
      "The intersection of [1, 2, 3, 4, 5] and [3, 5, 6, 7] is: [3, 5]\n"
     ]
    }
   ],
   "source": [
    "def intersection_using_sets(list1, list2):\n",
    "  \"\"\"Finds the intersection of two lists using sets.\n",
    "\n",
    "  Args:\n",
    "    list1: The first list.\n",
    "    list2: The second list.\n",
    "\n",
    "  Returns:\n",
    "    A list containing the common elements.\n",
    "  \"\"\"\n",
    "  set1 = set(list1)\n",
    "  set2 = set(list2)\n",
    "  return list(set1.intersection(set2))\n",
    "\n",
    "# Example usage\n",
    "list1 = [1, 2, 3, 4, 5]\n",
    "list2 = [3, 5, 6, 7]\n",
    "intersection = intersection_using_sets(list1, list2)\n",
    "print(f\"The intersection of {list1} and {list2} is: {intersection}\")"
   ]
  },
  {
   "cell_type": "markdown",
   "metadata": {},
   "source": [
    "**2. Using List Comprehension**\n",
    "\n",
    "1. Use list comprehension to iterate over `list1`.\n",
    "2. For each element `x` in `list1`, check if it is also present in `list2`.\n",
    "3. If it is, include it in the resulting list."
   ]
  },
  {
   "cell_type": "code",
   "execution_count": 19,
   "metadata": {},
   "outputs": [
    {
     "name": "stdout",
     "output_type": "stream",
     "text": [
      "The intersection of [1, 2, 3, 4, 5] and [3, 5, 6, 7] is: [3, 5]\n"
     ]
    }
   ],
   "source": [
    "def intersection_using_list_comprehension(list1, list2):\n",
    "  \"\"\"Finds the intersection of two lists using list comprehension.\n",
    "\n",
    "  Args:\n",
    "    list1: The first list.\n",
    "    list2: The second list.\n",
    "\n",
    "  Returns:\n",
    "    A list containing the common elements.\n",
    "  \"\"\"\n",
    "  return [x for x in list1 if x in list2]\n",
    "\n",
    "# Example usage\n",
    "list1 = [1, 2, 3, 4, 5]\n",
    "list2 = [3, 5, 6, 7]\n",
    "intersection = intersection_using_list_comprehension(list1, list2)\n",
    "print(f\"The intersection of {list1} and {list2} is: {intersection}\")"
   ]
  },
  {
   "cell_type": "markdown",
   "metadata": {},
   "source": [
    "**3. Using a Loop**\n",
    "\n",
    "1. Initialize an empty list `intersection` to store the common elements.\n",
    "2. Iterate over `list1`.\n",
    "3. For each element `x` in `list1`, check if it is also present in `list2`.\n",
    "4. If it is, append it to the `intersection` list.\n",
    "5. Return the `intersection` list."
   ]
  },
  {
   "cell_type": "code",
   "execution_count": 20,
   "metadata": {},
   "outputs": [
    {
     "name": "stdout",
     "output_type": "stream",
     "text": [
      "The intersection of [1, 2, 3, 4, 5] and [3, 5, 6, 7] is: [3, 5]\n"
     ]
    }
   ],
   "source": [
    "def intersection_using_loop(list1, list2):\n",
    "  \"\"\"Finds the intersection of two lists using a loop.\n",
    "\n",
    "  Args:\n",
    "    list1: The first list.\n",
    "    list2: The second list.\n",
    "\n",
    "  Returns:\n",
    "    A list containing the common elements.\n",
    "  \"\"\"\n",
    "  intersection = []\n",
    "  for x in list1:\n",
    "    if x in list2:\n",
    "      intersection.append(x)\n",
    "  return intersection\n",
    "\n",
    "# Example usage\n",
    "list1 = [1, 2, 3, 4, 5]\n",
    "list2 = [3, 5, 6, 7]\n",
    "intersection = intersection_using_loop(list1, list2)\n",
    "print(f\"The intersection of {list1} and {list2} is: {intersection}\")"
   ]
  },
  {
   "cell_type": "markdown",
   "metadata": {},
   "source": [
    "**Key Points**\n",
    "\n",
    "* The `set`-based approach is generally considered the most efficient, especially for larger lists.\n",
    "* List comprehension provides a concise and elegant solution.\n",
    "* The loop-based approach is the most explicit and easy to understand for beginners."
   ]
  },
  {
   "cell_type": "markdown",
   "metadata": {},
   "source": [
    "### 19. Create a code to find the union of two lists without duplicates."
   ]
  },
  {
   "cell_type": "markdown",
   "metadata": {},
   "source": [
    "Let's explore a few different approaches to solve this problem,\n",
    "\n",
    "**1. Using Sets**\n",
    "\n",
    "1. Convert both input lists into sets (`set1` and `set2`). Sets inherently store unique elements, automatically eliminating duplicates\n",
    "2. Use the `union()` method to combine the two sets, resulting in a new set containing all unique elements from both original sets\n",
    "3. Convert the resulting set back into a list and return it."
   ]
  },
  {
   "cell_type": "code",
   "execution_count": 21,
   "metadata": {},
   "outputs": [
    {
     "name": "stdout",
     "output_type": "stream",
     "text": [
      "The union of [1, 2, 3, 4, 5] and [3, 5, 6, 7] is: [1, 2, 3, 4, 5, 6, 7]\n"
     ]
    }
   ],
   "source": [
    "def union_using_sets(list1, list2):\n",
    "  \"\"\"Finds the union of two lists without duplicates using sets\n",
    "\n",
    "  Args:\n",
    "      list1: The first list\n",
    "      list2: The second list\n",
    "\n",
    "  Returns:\n",
    "      A list containing the unique elements from both lists\n",
    "  \"\"\"\n",
    "  set1 = set(list1)\n",
    "  set2 = set(list2)\n",
    "  return list(set1.union(set2))\n",
    "\n",
    "# Example usage:\n",
    "list1 = [1, 2, 3, 4, 5]\n",
    "list2 = [3, 5, 6, 7]\n",
    "union = union_using_sets(list1, list2)\n",
    "print(f\"The union of {list1} and {list2} is: {union}\")"
   ]
  },
  {
   "cell_type": "markdown",
   "metadata": {},
   "source": [
    "**2. Using List Comprehension & Sets**\n",
    "\n",
    "1. Concatenate the two input lists using the `+` operator\n",
    "2. Convert the concatenated list into a set to remove duplicates\n",
    "3. Convert the resulting set back into a list and return it"
   ]
  },
  {
   "cell_type": "code",
   "execution_count": 22,
   "metadata": {},
   "outputs": [
    {
     "name": "stdout",
     "output_type": "stream",
     "text": [
      "The union of [1, 2, 3, 4, 5] and [3, 5, 6, 7] is: [1, 2, 3, 4, 5, 6, 7]\n"
     ]
    }
   ],
   "source": [
    "def union_using_list_comprehension(list1, list2):\n",
    "  \"\"\"Finds the union of two lists without duplicates using list comprehension & sets\n",
    "\n",
    "  Args:\n",
    "      list1: The first list\n",
    "      list2: The second list\n",
    "\n",
    "  Returns:\n",
    "      A list containing the unique elements from both lists\n",
    "  \"\"\"\n",
    "  return list(set(list1 + list2))\n",
    "\n",
    "# Example usage\n",
    "list1 = [1, 2, 3, 4, 5]\n",
    "list2 = [3, 5, 6, 7]\n",
    "union = union_using_list_comprehension(list1, list2)\n",
    "print(f\"The union of {list1} and {list2} is: {union}\")"
   ]
  },
  {
   "cell_type": "markdown",
   "metadata": {},
   "source": [
    "**3. Using a Loop and a Set**\n",
    "\n",
    "1. Initialize an empty set `union_set` to store unique elements\n",
    "2. Iterate through the first list (`list1`) and add each element to the `union_set`\n",
    "3. Iterate through the second list (`list2`) and add each element to the `union_set`. Since it's a set, duplicates won't be added\n",
    "4. Convert the `union_set` back into a list and return it"
   ]
  },
  {
   "cell_type": "code",
   "execution_count": 23,
   "metadata": {},
   "outputs": [
    {
     "name": "stdout",
     "output_type": "stream",
     "text": [
      "The union of [1, 2, 3, 4, 5] and [3, 5, 6, 7] is: [1, 2, 3, 4, 5, 6, 7]\n"
     ]
    }
   ],
   "source": [
    "def union_using_loop(list1, list2):\n",
    "  \"\"\"Finds the union of two lists without duplicates using a loop & set\n",
    "\n",
    "  Args:\n",
    "      list1: The first list\n",
    "      list2: The second list\n",
    "\n",
    "  Returns:\n",
    "      A list containing the unique elements from both lists\n",
    "  \"\"\"\n",
    "  union_set = set()\n",
    "  for item in list1:\n",
    "      union_set.add(item)\n",
    "  for item in list2:\n",
    "      union_set.add(item)\n",
    "  return list(union_set)\n",
    "\n",
    "# Example usage\n",
    "list1 = [1, 2, 3, 4, 5]\n",
    "list2 = [3, 5, 6, 7]\n",
    "union = union_using_loop(list1, list2)\n",
    "print(f\"The union of {list1} and {list2} is: {union}\")"
   ]
  },
  {
   "cell_type": "markdown",
   "metadata": {},
   "source": [
    "**Key Points:**\n",
    "\n",
    "* Sets are highly efficient for handling unique elements and set operations, making them ideal for this task\n",
    "* The choice of method depends on your preference for code readability and conciseness\n",
    "* For very large lists, the loop-based approach might be slightly less efficient due to the iterative nature"
   ]
  },
  {
   "cell_type": "markdown",
   "metadata": {},
   "source": [
    "### 20. Write a code to shuffle a given list randomly without using any built-in shuffle functions."
   ]
  },
  {
   "cell_type": "markdown",
   "metadata": {},
   "source": [
    "The core idea behind achieving a random shuffle is to swap elements within the list multiple times. We'll employ the `random.randint()` function to generate random indices for these swaps.\n",
    "\n",
    "1. **Import `random`:** We import the `random` module to access the `randint()` function for generating random indices.\n",
    "\n",
    "2. **`shuffle_list` Function:**\n",
    "   * Takes the list `my_list` as input.\n",
    "   * Obtains the length of the list (`n`).\n",
    "   * Iterates from the last element (`n-1`) down to the second element (`1`).\n",
    "     * In each iteration:\n",
    "       * Generates a random index `j` between 0 and the current index `i` (inclusive).\n",
    "       * Swaps the elements at indices `i` and `j`.\n",
    "   * Returns the shuffled list."
   ]
  },
  {
   "cell_type": "code",
   "execution_count": 24,
   "metadata": {},
   "outputs": [
    {
     "name": "stdout",
     "output_type": "stream",
     "text": [
      "Original list: [4, 3, 1, 5, 2]\n",
      "Shuffled list: [5, 4, 1, 3, 2]\n"
     ]
    }
   ],
   "source": [
    "import random\n",
    "\n",
    "def shuffle_list(my_list):\n",
    "  \"\"\"Shuffles a list randomly without using built-in shuffle functions.\n",
    "\n",
    "  Args:\n",
    "    my_list: The list to be shuffled.\n",
    "\n",
    "  Returns:\n",
    "    The shuffled list.\n",
    "  \"\"\"\n",
    "  random.seed()  # Set a random seed\n",
    "  n = len(my_list)\n",
    "  for i in range(n - 1, 0, -1):\n",
    "    j = random.randint(0, i) \n",
    "    my_list[i], my_list[j] = my_list[j], my_list[i] \n",
    "  return my_list\n",
    "\n",
    "# Example usage\n",
    "my_list = [4, 3, 1, 5, 2]\n",
    "shuffled_list = shuffle_list(my_list.copy())  # Make a copy to avoid modifying the original\n",
    "print(f\"Original list: {my_list}\")\n",
    "print(f\"Shuffled list: {shuffled_list}\") "
   ]
  },
  {
   "cell_type": "markdown",
   "metadata": {},
   "source": [
    "**Key Points**\n",
    "\n",
    "* The algorithm ensures that each element has an equal probability of ending up at any position in the shuffled list.\n",
    "* The number of swaps performed is proportional to the size of the list, contributing to a thorough shuffle.\n",
    "* This implementation avoids relying on built-in shuffle functions, adhering to the problem's constraints."
   ]
  },
  {
   "cell_type": "markdown",
   "metadata": {},
   "source": [
    "### 21. Write a code that takes two tuples as input and returns a new tuple containing elements that are common to both input tuples."
   ]
  },
  {
   "cell_type": "markdown",
   "metadata": {},
   "source": [
    "1. **Convert to Sets:** The input tuples `tuple1` and `tuple2` are converted into sets `set1` and `set2`, respectively. Sets provide efficient membership testing and operations like intersection.\n",
    "\n",
    "2. **Find Intersection:** The `intersection()` method is used on `set1` to find the elements that are also present in `set2`. The result is stored in `common_set`.\n",
    "\n",
    "3. **Convert Back to Tuple:** The `common_set` is converted back into a tuple using the `tuple()` constructor. This final tuple, containing the common elements, is returned."
   ]
  },
  {
   "cell_type": "code",
   "execution_count": 25,
   "metadata": {},
   "outputs": [
    {
     "name": "stdout",
     "output_type": "stream",
     "text": [
      "The common elements between (1, 2, 3, 4, 5) and (3, 5, 6, 7) are: (3, 5)\n"
     ]
    }
   ],
   "source": [
    "def common_elements(tuple1, tuple2):\n",
    "    \"\"\"\n",
    "    Finds the common elements between two tuples.\n",
    "\n",
    "    Args:\n",
    "        tuple1: The first input tuple.\n",
    "        tuple2: The second input tuple.\n",
    "\n",
    "    Returns:\n",
    "        A new tuple containing the elements common to both input tuples.\n",
    "    \"\"\"\n",
    "    set1 = set(tuple1)  # Convert tuples to sets for efficient membership checks\n",
    "    set2 = set(tuple2)\n",
    "    common_set = set1.intersection(set2)  # Find the intersection of the sets\n",
    "    return tuple(common_set)  # Convert the set back to a tuple\n",
    "\n",
    "# Example usage\n",
    "tuple1 = (1, 2, 3, 4, 5)\n",
    "tuple2 = (3, 5, 6, 7)\n",
    "common_tuple = common_elements(tuple1, tuple2)\n",
    "print(f\"The common elements between {tuple1} and {tuple2} are: {common_tuple}\")"
   ]
  },
  {
   "cell_type": "markdown",
   "metadata": {},
   "source": [
    "### 22. Create a code that prompts the user to enter two sets of integers separated by commas. Then,print the intersection of these two sets."
   ]
  },
  {
   "cell_type": "markdown",
   "metadata": {},
   "source": [
    "Let's break down the solution into its constituent parts:\n",
    "\n",
    "- **`get_user_set` Function:**\n",
    "    - Takes a `prompt_message` as input to display to the user.\n",
    "    - Uses a `while True` loop to repeatedly prompt the user until valid input is provided.\n",
    "    - Inside the loop:\n",
    "        - Tries to:\n",
    "            - Get input from the user using `input()`.\n",
    "            - Split the input string into a list of strings using `,` as the delimiter.\n",
    "            - Convert each string in the list to an integer using `map(int, ...)`.\n",
    "            - Create a set from the list of integers.\n",
    "            - Return the set if successful.\n",
    "        - Catches `ValueError` if the user enters non-integer values and displays an error message.\n",
    "\n",
    "- **Main Code:**\n",
    "    - Calls `get_user_set` twice to get two sets of integers from the user.\n",
    "    - Uses the `intersection()` method to find the common elements between the two sets.\n",
    "    - Prints the resulting intersection set."
   ]
  },
  {
   "cell_type": "code",
   "execution_count": 26,
   "metadata": {},
   "outputs": [
    {
     "name": "stdout",
     "output_type": "stream",
     "text": [
      "Invalid input. Please enter integers separated by commas.\n",
      "For the sets: {1, 2, 3, 4, 5} and {3, 5, 6, 7}\n",
      "The intersection is: {3, 5}\n"
     ]
    }
   ],
   "source": [
    "def get_user_set(prompt_message):\n",
    "    \"\"\"Prompts the user to enter a set of integers and returns it as a set.\"\"\"\n",
    "    while True:\n",
    "        try:\n",
    "            user_input = input(prompt_message)\n",
    "            integer_strings = user_input.split(',')\n",
    "            user_set = set(map(int, integer_strings))\n",
    "            return user_set\n",
    "        except ValueError:\n",
    "            print(\"Invalid input. Please enter integers separated by commas.\")\n",
    "\n",
    "# Get input from the user\n",
    "set1 = get_user_set(\"Enter the first set of integers (separated by commas): \")\n",
    "set2 = get_user_set(\"Enter the second set of integers (separated by commas): \")\n",
    "\n",
    "# Find and print the intersection along with user inputs\n",
    "intersection = set1.intersection(set2)\n",
    "print(f\"For the sets: {set1} and {set2}\")\n",
    "print(f\"The intersection is: {intersection}\")"
   ]
  },
  {
   "cell_type": "markdown",
   "metadata": {},
   "source": [
    "**Key Points:**\n",
    "\n",
    "- **Error Handling:** The code includes error handling to ensure that the user enters valid integer input.\n",
    "- **Set Operations:** The `intersection()` method efficiently finds the common elements between two sets.\n",
    "- **User Interaction:** The code prompts the user for input and provides clear instructions."
   ]
  },
  {
   "cell_type": "markdown",
   "metadata": {},
   "source": [
    "### 23.  Write a code to concatenate two tuples. The function should take two tuples as input and return a new tuple containing elements from both input tuples."
   ]
  },
  {
   "cell_type": "markdown",
   "metadata": {},
   "source": [
    "**`concatenate_tuples` Function**:\n",
    "   * This function takes two tuples, `tuple1` and `tuple2`, as its arguments.\n",
    "   * It directly uses the `+` operator to concatenate the two tuples.\n",
    "   * The concatenated result is returned as a new tuple."
   ]
  },
  {
   "cell_type": "code",
   "execution_count": 27,
   "metadata": {},
   "outputs": [
    {
     "name": "stdout",
     "output_type": "stream",
     "text": [
      "The concatenated tuple is: (1, 2, 3, 4, 5, 6)\n"
     ]
    }
   ],
   "source": [
    "def concatenate_tuples(tuple1, tuple2):\n",
    "  \"\"\"\n",
    "  Concatenates two tuples.\n",
    "\n",
    "  Args:\n",
    "    tuple1: The first input tuple.\n",
    "    tuple2: The second input tuple.\n",
    "\n",
    "  Returns:\n",
    "    A new tuple containing all elements from both input tuples.\n",
    "  \"\"\"\n",
    "  return tuple1 + tuple2 \n",
    "\n",
    "# Example usage:\n",
    "tuple1 = (1, 2, 3)\n",
    "tuple2 = (4, 5, 6)\n",
    "concatenated_tuple = concatenate_tuples(tuple1, tuple2)\n",
    "print(f\"The concatenated tuple is: {concatenated_tuple}\")"
   ]
  },
  {
   "cell_type": "markdown",
   "metadata": {},
   "source": [
    "### 24. Develop a code that prompts the user to input two sets of strings. Then print the elements that are present in the first set but not in the second set."
   ]
  },
  {
   "cell_type": "markdown",
   "metadata": {},
   "source": [
    "1. **`get_user_set` Function:**\n",
    "   - Takes a `prompt_message` as input to display to the user\n",
    "   - Uses a `while True` loop to repeatedly prompt the user until valid input is provided\n",
    "   - Inside the loop:\n",
    "     - Tries to get input from the user using `input()`.\n",
    "     - Splits the input string into a list of strings using `,` as the delimiter.\n",
    "     - Strips any leading/trailing whitespace from each string using list comprehension\n",
    "     - Creates a set from the list of strings.\n",
    "     - Returns the set if successful\n",
    "\n",
    "2. **Main Code:**\n",
    "   - Calls `get_user_set` twice to get two sets of strings from the user\n",
    "   - Uses the `difference()` method to find the elements in `set1` that are not in `set2`\n",
    "   - Prints the resulting difference set"
   ]
  },
  {
   "cell_type": "code",
   "execution_count": 28,
   "metadata": {},
   "outputs": [
    {
     "name": "stdout",
     "output_type": "stream",
     "text": [
      "For the sets: {'apple', 'orange', 'banana'} and {'grape', 'banana'}\n",
      "The elements present in the first set but not in the second set are: {'apple', 'orange'}\n"
     ]
    }
   ],
   "source": [
    "def get_user_set(prompt_message):\n",
    "  \"\"\"Prompts the user to enter a set of strings and returns it as a set.\"\"\"\n",
    "  while True:\n",
    "    try:\n",
    "      user_input = input(prompt_message)\n",
    "      string_list = [s.strip() for s in user_input.split(',')]\n",
    "      user_set = set(string_list)\n",
    "      return user_set\n",
    "    except ValueError:\n",
    "      print(\"Invalid input. Please enter strings separated by commas.\")\n",
    "\n",
    "# Get input from the user\n",
    "set1 = get_user_set(\"Enter the first set of strings (separated by commas): \")\n",
    "set2 = get_user_set(\"Enter the second set of strings (separated by commas): \")\n",
    "\n",
    "# Find and print the difference along with user inputs\n",
    "difference = set1.difference(set2)\n",
    "print(f\"For the sets: {set1} and {set2}\") \n",
    "print(f\"The elements present in the first set but not in the second set are: {difference}\")"
   ]
  },
  {
   "cell_type": "markdown",
   "metadata": {},
   "source": [
    "**Key Points**\n",
    "\n",
    "- **Error Handling:** The code includes error handling to ensure that the user enters valid input\n",
    "- **Set Operations:** The `difference()` method provides a direct way to find the desired set difference\n",
    "- **User Interaction:** The code prompts the user for input and provides clear instructions\n",
    "- **String Handling:** The code includes whitespace stripping to handle potential user input variations"
   ]
  },
  {
   "cell_type": "markdown",
   "metadata": {},
   "source": [
    "### 25. Create a code that takes a tuple and two integers as input. The function should return a new tuple containing elements from the original tuple within the specified range of indices."
   ]
  },
  {
   "cell_type": "markdown",
   "metadata": {},
   "source": [
    "**`sub_tuple` Function:**\n",
    "   * Takes the `original_tuple`, `start_index`, and `end_index` as its parameters.\n",
    "   * Performs validation to ensure the indices are within bounds and `start_index` is less than `end_index`. If not, it raises a `ValueError`.\n",
    "   * Utilizes slicing (`original_tuple[start_index:end_index]`) to extract the desired portion of the tuple.\n",
    "   * Returns the extracted sub-tuple."
   ]
  },
  {
   "cell_type": "code",
   "execution_count": 29,
   "metadata": {},
   "outputs": [
    {
     "name": "stdout",
     "output_type": "stream",
     "text": [
      "Original tuple: (10, 20, 30, 40, 50)\n",
      "Sub-tuple from index 1 (inclusive) to 4 (exclusive): (20, 30, 40)\n"
     ]
    }
   ],
   "source": [
    "def get_user_tuple(prompt_message):\n",
    "  \"\"\"Prompts the user to enter a tuple and returns it as a tuple.\"\"\"\n",
    "  while True:\n",
    "    try:\n",
    "      user_input = input(prompt_message)\n",
    "      user_tuple = eval(user_input)\n",
    "      if not isinstance(user_tuple, tuple):\n",
    "        raise ValueError(\"Invalid input. Please enter a valid tuple.\")\n",
    "      return user_tuple\n",
    "    except (ValueError, SyntaxError):\n",
    "      print(\"Invalid input. Please enter a tuple in the format (element1, element2, ...).\")\n",
    "\n",
    "def get_user_index(prompt_message, min_index, max_index):\n",
    "  \"\"\"Prompts the user to enter an index within a specified range and validates it.\"\"\"\n",
    "  while True:\n",
    "    try:\n",
    "      user_input = int(input(prompt_message))\n",
    "      if min_index <= user_input < max_index:\n",
    "        return user_input\n",
    "      else:\n",
    "        print(f\"Invalid index. Please enter an index between {min_index} and {max_index - 1} (inclusive).\")\n",
    "    except ValueError:\n",
    "      print(\"Invalid input. Please enter an integer.\")\n",
    "\n",
    "def sub_tuple(original_tuple, start_index, end_index):\n",
    "  \"\"\"\n",
    "  Extracts a sub-tuple from a given tuple based on specified indices.\n",
    "\n",
    "  Args:\n",
    "    original_tuple: The input tuple.\n",
    "    start_index: The starting index (inclusive) of the sub-tuple.\n",
    "    end_index: The ending index (exclusive) of the sub-tuple.\n",
    "\n",
    "  Returns:\n",
    "    A new tuple containing elements from the original tuple within the specified range.\n",
    "  \"\"\"\n",
    "  if start_index < 0 or end_index > len(original_tuple) or start_index >= end_index:\n",
    "    raise ValueError(\"Invalid indices provided.\") \n",
    "\n",
    "  return original_tuple[start_index:end_index]\n",
    "\n",
    "# Get input from the user\n",
    "my_tuple = get_user_tuple(\"Enter a tuple (e.g., (1, 2, 3)): \")\n",
    "\n",
    "# Get start index with instructions in the prompt\n",
    "start = get_user_index(f\"Enter the start index (inclusive) [0 - {len(my_tuple) - 1}]: \", 0, len(my_tuple))\n",
    "\n",
    "# Get end index with instructions in the prompt, considering the start index\n",
    "end = get_user_index(f\"Enter the end index (exclusive) [{start + 1} - {len(my_tuple)}]: \", start + 1, len(my_tuple) + 1)\n",
    "\n",
    "# Extract and print the sub-tuple\n",
    "sub_tuple_result = sub_tuple(my_tuple, start, end)\n",
    "print(f\"Original tuple: {my_tuple}\")\n",
    "print(f\"Sub-tuple from index {start} (inclusive) to {end} (exclusive): {sub_tuple_result}\")"
   ]
  },
  {
   "cell_type": "markdown",
   "metadata": {},
   "source": [
    "**Key Points:**\n",
    "\n",
    "- **Slicing:** Leverages Python's slicing notation for efficient sub-tuple extraction\n",
    "- **Error Handling:** \n",
    "- * Includes validation to prevent out-of-bounds or invalid index combinations.\n",
    "- * We now dynamically calculate and display the valid range for the `start_index` based on the length of the tuple entered by the user\n",
    "- * Similarly the valid range for the `end_index` is calculated and displayed, taking into account both the tuple's length and the user-provided `start_index`\n",
    "- **Immutability:** The original tuple remains unaltered; a new tuple is created for the sub-tuple."
   ]
  },
  {
   "cell_type": "markdown",
   "metadata": {},
   "source": [
    "### 26. Write a code that prompts the user to input two sets of characters. Then, print the union of these two sets."
   ]
  },
  {
   "cell_type": "markdown",
   "metadata": {},
   "source": [
    "Let's break down the solution into its constituent parts:\n",
    "\n",
    "- **`get_user_set` Function:**\n",
    "    - Takes a `prompt_message` as input to display to the user.\n",
    "    - Uses a `while True` loop to repeatedly prompt the user until valid input is provided.\n",
    "    - Inside the loop:\n",
    "        - Tries to:\n",
    "            - Get input from the user using `input()`.\n",
    "            - Split the input string into a list of characters using `,` as the delimiter.\n",
    "            - Strip any leading/trailing whitespace from each character using list comprehension.\n",
    "            - Create a set from the list of characters.\n",
    "            - Return the set if successful.\n",
    "        - Catches `ValueError` (unlikely in this case, but included for robustness) and displays an error message."
   ]
  },
  {
   "cell_type": "code",
   "execution_count": 30,
   "metadata": {},
   "outputs": [
    {
     "name": "stdout",
     "output_type": "stream",
     "text": [
      "For the sets: {'b', 'c', 'a'} and {'b', 'd', 'c'}\n",
      "The union is: {'b', 'd', 'c', 'a'}\n"
     ]
    }
   ],
   "source": [
    "def get_user_set(prompt_message):\n",
    "    \"\"\"Prompts the user to enter a set of characters and returns it as a set.\"\"\"\n",
    "    while True:\n",
    "        try:\n",
    "            user_input = input(prompt_message)\n",
    "            char_list = [char.strip() for char in user_input.split(',')]\n",
    "            user_set = set(char_list)\n",
    "            return user_set\n",
    "        except ValueError:\n",
    "            print(\"Invalid input. Please enter characters separated by commas.\")\n",
    "\n",
    "# Get input from the user\n",
    "set1 = get_user_set(\"Enter the first set of characters (separated by commas): \")\n",
    "set2 = get_user_set(\"Enter the second set of characters (separated by commas): \")\n",
    "\n",
    "# Find and print the union along with user inputs\n",
    "union = set1.union(set2)\n",
    "print(f\"For the sets: {set1} and {set2}\")\n",
    "print(f\"The union is: {union}\")"
   ]
  },
  {
   "cell_type": "markdown",
   "metadata": {},
   "source": [
    "**Key Points:**\n",
    "\n",
    "- **Set Operations:** The `union()` method efficiently combines two sets, ensuring uniqueness.\n",
    "- **User Interaction:** The code prompts the user for input and provides clear instructions.\n",
    "- **String Handling:** The code includes whitespace stripping to handle potential user input variations."
   ]
  },
  {
   "cell_type": "markdown",
   "metadata": {},
   "source": [
    "### 27. Develop a code that takes a tuple of integers as input. The function should return the maximum and minimum values from the tuple using tuple unpacking."
   ]
  },
  {
   "cell_type": "markdown",
   "metadata": {},
   "source": [
    "- **`find_max_min` Function:**\n",
    "    - Takes a tuple of integers, `numbers`, as input.\n",
    "    - Handles the case of an empty tuple by returning `None, None`.\n",
    "    - Uses tuple unpacking twice:\n",
    "        - `*rest, maximum = numbers`: Unpacks all elements except the last into the list `rest`, and the last element into `maximum`. This initializes `maximum` with the last value in the tuple.\n",
    "        - `*rest, minimum = numbers`: Similar to above, but initializes `minimum` with the last value.\n",
    "    - Iterates through the remaining elements in `rest`:\n",
    "        - Compares each `num` with the current `maximum` and updates `maximum` if `num` is larger.\n",
    "        - Compares each `num` with the current `minimum` and updates `minimum` if `num` is smaller.\n",
    "    - Returns a tuple containing the final `maximum` and `minimum` values."
   ]
  },
  {
   "cell_type": "code",
   "execution_count": 31,
   "metadata": {},
   "outputs": [
    {
     "name": "stdout",
     "output_type": "stream",
     "text": [
      "For the tuple: (3, 1, 4, 1, 5, 9, 2, 6, 5, 3, 5)\n",
      "The maximum value is: 9\n",
      "The minimum value is: 1\n"
     ]
    }
   ],
   "source": [
    "def get_user_tuple(prompt_message):\n",
    "  \"\"\"Prompts the user to enter a tuple and returns it as a tuple.\"\"\"\n",
    "  while True:\n",
    "    try:\n",
    "      user_input = input(prompt_message)\n",
    "      # Evaluate the user input as a tuple, handling potential errors\n",
    "      user_tuple = eval(user_input)\n",
    "      if not isinstance(user_tuple, tuple):\n",
    "        raise ValueError(\"Invalid input. Please enter a valid tuple.\")\n",
    "      return user_tuple\n",
    "    except (ValueError, SyntaxError):\n",
    "      print(\"Invalid input. Please enter a tuple in the format (element1, element2, ...).\")\n",
    "\n",
    "\n",
    "def find_max_min(numbers):\n",
    "  \"\"\"\n",
    "  Finds the maximum and minimum values in a tuple of integers using tuple unpacking.\n",
    "\n",
    "  Args:\n",
    "    numbers: The input tuple of integers.\n",
    "\n",
    "  Returns:\n",
    "    A tuple containing the maximum and minimum values.\n",
    "  \"\"\"\n",
    "\n",
    "  if not numbers:  # Handle empty tuple\n",
    "    return None, None\n",
    "\n",
    "  *rest, maximum = numbers  # Unpack all but the last element into 'rest', last into 'maximum'\n",
    "  *rest, minimum = numbers  # Unpack all but the last element into 'rest', last into 'minimum'\n",
    "\n",
    "  for num in rest:\n",
    "    maximum = max(maximum, num)\n",
    "    minimum = min(minimum, num)\n",
    "\n",
    "  return maximum, minimum\n",
    "\n",
    "# Get input from the user\n",
    "my_tuple = get_user_tuple(\"Enter a tuple of integers (e.g., (3, 1, 4, 1, 5)): \")\n",
    "\n",
    "# Find and print the maximum and minimum values\n",
    "max_value, min_value = find_max_min(my_tuple)\n",
    "print(f\"For the tuple: {my_tuple}\")\n",
    "print(f\"The maximum value is: {max_value}\")\n",
    "print(f\"The minimum value is: {min_value}\")"
   ]
  },
  {
   "cell_type": "markdown",
   "metadata": {},
   "source": [
    "**Key Points:**\n",
    "\n",
    "- **Tuple Unpacking:** Efficiently extracts the last element from the tuple for initial `maximum` and `minimum` values.\n",
    "- **Iteration and Comparison:** Iterates through the remaining elements, comparing and updating `maximum` and `minimum` as needed.\n",
    "- **Error Handling:** Handles the case of an empty input tuple."
   ]
  },
  {
   "cell_type": "markdown",
   "metadata": {},
   "source": [
    "### 28. Create a code that defines two sets of integers. Then, print the union, intersection, and difference of these two sets."
   ]
  },
  {
   "cell_type": "markdown",
   "metadata": {},
   "source": [
    "1. **Define Sets:**\n",
    "   - We initialize two sets, `set1` and `set2`, containing distinct integer elements.\n",
    "\n",
    "2. **Calculate and Print Union:**\n",
    "   - The `union()` method is employed on `set1` to compute the union with `set2`.\n",
    "   - The resulting union set, `union_set`, encompasses all unique elements from both sets.\n",
    "   - The union set is then printed.\n",
    "\n",
    "3. **Calculate and Print Intersection:**\n",
    "   - The `intersection()` method is applied to `set1` to determine the intersection with `set2`.\n",
    "   - The resulting intersection set, `intersection_set`, contains only the elements common to both sets.\n",
    "   - The intersection set is then printed.\n",
    "\n",
    "4. **Calculate and Print Differences:**\n",
    "   - The `difference()` method is utilized twice:\n",
    "     - On `set1` to find elements present in `set1` but not in `set2`, stored in `difference_set1`.\n",
    "     - On `set2` to find elements present in `set2` but not in `set1`, stored in `difference_set2`.\n",
    "   - Both difference sets are subsequently printed."
   ]
  },
  {
   "cell_type": "code",
   "execution_count": 32,
   "metadata": {},
   "outputs": [
    {
     "name": "stdout",
     "output_type": "stream",
     "text": [
      "The union of the two sets is: {1, 2, 3, 4, 5, 6, 7, 8}\n",
      "The intersection of the two sets is: {4, 5}\n",
      "The difference (set1 - set2) is: {1, 2, 3}\n",
      "The difference (set2 - set1) is: {8, 6, 7}\n"
     ]
    }
   ],
   "source": [
    "# Define two sets of integers\n",
    "set1 = {1, 2, 3, 4, 5}\n",
    "set2 = {4, 5, 6, 7, 8}\n",
    "\n",
    "# Calculate and print the union\n",
    "union_set = set1.union(set2)\n",
    "print(f\"The union of the two sets is: {union_set}\")\n",
    "\n",
    "# Calculate and print the intersection\n",
    "intersection_set = set1.intersection(set2)\n",
    "print(f\"The intersection of the two sets is: {intersection_set}\")\n",
    "\n",
    "# Calculate and print the difference (set1 - set2)\n",
    "difference_set1 = set1.difference(set2)\n",
    "print(f\"The difference (set1 - set2) is: {difference_set1}\")\n",
    "\n",
    "# Calculate and print the difference (set2 - set1)\n",
    "difference_set2 = set2.difference(set1)\n",
    "print(f\"The difference (set2 - set1) is: {difference_set2}\")"
   ]
  },
  {
   "cell_type": "markdown",
   "metadata": {},
   "source": [
    "### 29. Write a code that takes a tuple and an element as input. The function should return the count of occurences of the given element in the tuple."
   ]
  },
  {
   "cell_type": "markdown",
   "metadata": {},
   "source": [
    "**`count_occurrences` Function:**\n",
    "   - Takes the `my_tuple` and `element` as input.\n",
    "   - Initializes a `count` variable to 0.\n",
    "   - Iterates through each `item` in the `my_tuple`.\n",
    "   - If the `item` matches the `element`, increments the `count`.\n",
    "   - Returns the final `count`."
   ]
  },
  {
   "cell_type": "code",
   "execution_count": 33,
   "metadata": {},
   "outputs": [
    {
     "name": "stdout",
     "output_type": "stream",
     "text": [
      "The element 2 occurs 1 times in the tuple (3, 1, 4, 1, 5, 9, 2, 6, 5, 3, 5)\n"
     ]
    }
   ],
   "source": [
    "def get_user_tuple(prompt_message):\n",
    "  \"\"\"Prompts the user to enter a tuple and returns it as a tuple.\"\"\"\n",
    "  while True:\n",
    "    try:\n",
    "      user_input = input(prompt_message)\n",
    "      user_tuple = eval(user_input)\n",
    "      if not isinstance(user_tuple, tuple):\n",
    "        raise ValueError(\"Invalid input. Please enter a valid tuple.\")\n",
    "      return user_tuple\n",
    "    except (ValueError, SyntaxError):\n",
    "      print(\"Invalid input. Please enter a tuple in the format (element1, element2, ...).\")\n",
    "\n",
    "def count_occurrences(my_tuple, element):\n",
    "  \"\"\"\n",
    "  Counts the occurrences of a given element within a tuple.\n",
    "\n",
    "  Args:\n",
    "    my_tuple: The input tuple.\n",
    "    element: The element whose occurrences are to be counted.\n",
    "\n",
    "  Returns:\n",
    "    The number of times the element appears in the tuple.\n",
    "  \"\"\"\n",
    "  count = 0\n",
    "  for item in my_tuple:\n",
    "    if item == element:\n",
    "      count += 1\n",
    "  return count\n",
    "\n",
    "# Get input from the user\n",
    "my_tuple = get_user_tuple(\"Enter a tuple (e.g., (1, 2, 3, 2, 1)): \")\n",
    "\n",
    "# Create a set of unique elements from the tuple for the prompt\n",
    "valid_elements = set(my_tuple)\n",
    "\n",
    "# Get the element to count with instructions in the prompt\n",
    "element_to_count = eval(input(f\"Enter the element to count (choose from {valid_elements}): \"))\n",
    "\n",
    "# Count and print the occurrences\n",
    "occurrences = count_occurrences(my_tuple, element_to_count)\n",
    "print(f\"The element {element_to_count} occurs {occurrences} times in the tuple {my_tuple}\")"
   ]
  },
  {
   "cell_type": "markdown",
   "metadata": {},
   "source": [
    "**Key Changes:**\n",
    "\n",
    "- We now create a `valid_elements` set from the user's input tuple.\n",
    "- The prompt for `element_to_count` now includes this set within the message, clearly indicating the valid choices to the user."
   ]
  },
  {
   "cell_type": "markdown",
   "metadata": {},
   "source": [
    "### 30. Develop a code that prompts the user to input two sets of strings. Then, print the symmetric difference of these two sets."
   ]
  },
  {
   "cell_type": "markdown",
   "metadata": {},
   "source": [
    "* **`get_user_set` Function:**\n",
    "    - Takes a `prompt_message` as input to display to the user.\n",
    "    - Uses a `while True` loop to repeatedly prompt the user until valid input is provided.\n",
    "    - Inside the loop:\n",
    "        - Tries to:\n",
    "            - Get input from the user using `input()`.\n",
    "            - Split the input string into a list of strings using `,` as the delimiter\n",
    "            - Strips any leading/trailing whitespace from each string using list comprehension\n",
    "            - Create a set from the list of strings\n",
    "            - Return the set if successful\n",
    "        - Catches `ValueError` (unlikely in this case, but included for robustness) and displays an error message"
   ]
  },
  {
   "cell_type": "code",
   "execution_count": 34,
   "metadata": {},
   "outputs": [
    {
     "name": "stdout",
     "output_type": "stream",
     "text": [
      "For the sets: {'\"orange\"', '\"banana\"', '\"apple\"'} and {'\"orange\"', '\"Grape\"', '\"banana\"', '\"apple\"'}\n",
      "The symmetric difference is: {'\"Grape\"'}\n"
     ]
    }
   ],
   "source": [
    "def get_user_set(prompt_message):\n",
    "  \"\"\"Prompts the user to enter a set of strings and returns it as a set.\"\"\"\n",
    "\n",
    "  while True: \n",
    "    try:\n",
    "      user_input = input(prompt_message)\n",
    "      string_list = [s.strip() for s in user_input.split(',')] \n",
    "      user_set = set(string_list)\n",
    "      return user_set\n",
    "    except ValueError:\n",
    "      print(\"Invalid input. Please enter strings separated by commas.\")\n",
    "\n",
    "# Get input from the user\n",
    "set1 = get_user_set(\"Enter the first set of strings (separated by commas): \")\n",
    "set2 = get_user_set(\"Enter the second set of strings (separated by commas): \")\n",
    "\n",
    "# Find and print the symmetric difference along with user inputs\n",
    "symmetric_difference = set1.symmetric_difference(set2)\n",
    "print(f\"For the sets: {set1} and {set2}\")\n",
    "print(f\"The symmetric difference is: {symmetric_difference}\")"
   ]
  },
  {
   "cell_type": "markdown",
   "metadata": {},
   "source": [
    "**Key Points:**\n",
    "\n",
    "- **Set Operations:** The `symmetric_difference()` method directly computes the symmetric difference between two sets\n",
    "- **User Interaction:** The code prompts the user for input and provides clear instructions\n",
    "- **String Handling:** The code includes whitespace stripping to handle potential user input variations"
   ]
  },
  {
   "cell_type": "markdown",
   "metadata": {},
   "source": [
    "### 31. Write a code that takes a list of words as input and returns a dictionary where the keys are unique words and the values are the frequencies of those words in the input list."
   ]
  },
  {
   "cell_type": "markdown",
   "metadata": {},
   "source": [
    "Let's break down the solution into its constituent parts:\n",
    "\n",
    "- **`count_word_frequencies` Function:**\n",
    "    - Takes a list of `words` as input\n",
    "    - Initializes an empty dictionary `word_frequencies` to store the word counts\n",
    "    - Iterates through each `word` in the input list:\n",
    "        - If the `word` is already a key in the dictionary, its count is incremented\n",
    "        - Otherwise, the `word` is added as a new key with a count of 1\n",
    "    - Returns the `word_frequencies` dictionary"
   ]
  },
  {
   "cell_type": "code",
   "execution_count": 35,
   "metadata": {},
   "outputs": [
    {
     "name": "stdout",
     "output_type": "stream",
     "text": [
      "Word frequencies in the list ['\"apple\"', '\"banana\"', '\"apple\"', '\"orange\"', '\"banana\"', '\"apple\"']\n",
      "\n",
      "Word Frequencies:\n",
      "- \"apple\": 3\n",
      "- \"banana\": 2\n",
      "- \"orange\": 1\n"
     ]
    }
   ],
   "source": [
    "def get_user_word_list(prompt_message):\n",
    "  \"\"\"Prompts the user to enter a list of words and returns it as a list.\"\"\"\n",
    "  while True:\n",
    "    try:\n",
    "      user_input = input(prompt_message)\n",
    "      word_list = [word.strip() for word in user_input.split(',')]\n",
    "      return word_list\n",
    "    except ValueError:\n",
    "      print(\"Invalid input. Please enter words separated by commas.\")\n",
    "\n",
    "def count_word_frequencies(words):\n",
    "  \"\"\"\n",
    "  Counts the frequencies of words in a list.\n",
    "\n",
    "  Args:\n",
    "    words: The input list of words.\n",
    "\n",
    "  Returns:\n",
    "    A dictionary where keys are unique words and values are their frequencies.\n",
    "  \"\"\"\n",
    "  word_frequencies = {}\n",
    "  for word in words:\n",
    "    if word in word_frequencies:\n",
    "      word_frequencies[word] += 1\n",
    "    else:\n",
    "      word_frequencies[word] = 1\n",
    "  return word_frequencies\n",
    "\n",
    "# Get input from the user\n",
    "word_list = get_user_word_list(\"Enter a list of words (separated by commas): \")\n",
    "\n",
    "# Count the word frequencies\n",
    "frequencies = count_word_frequencies(word_list)\n",
    "\n",
    "# Print the results in a more formatted way\n",
    "print(f\"Word frequencies in the list {word_list}\")\n",
    "print(\"\\nWord Frequencies:\")\n",
    "for word, count in frequencies.items():\n",
    "  print(f\"- {word}: {count}\")"
   ]
  },
  {
   "cell_type": "markdown",
   "metadata": {},
   "source": [
    "### 32. Write a code that takes two dictionaries as input and merges them into a single dictionary. If there are common keys, the values should be added together."
   ]
  },
  {
   "cell_type": "markdown",
   "metadata": {},
   "source": [
    "Let's break down the solution into its constituent parts:\n",
    "\n",
    "- `merge_dictionaries` Function:\n",
    "    - Takes two dictionaries, `dict1` and `dict2`, as input.\n",
    "    - Creates a copy of `dict1` called `merged_dict` to avoid modifying the original dictionary\n",
    "    - Iterates through each key-value pair in `dict2`\n",
    "        - If the `key` already exists in `merged_dict`, add the `value` from `dict2` to the existing value in `merged_dict`\n",
    "        - If the `key` doesn't exist in `merged_dict`, add the key-value pair from `dict2` to `merged_dict`\n",
    "    - Returns the `merged_dict`"
   ]
  },
  {
   "cell_type": "code",
   "execution_count": 36,
   "metadata": {},
   "outputs": [
    {
     "name": "stdout",
     "output_type": "stream",
     "text": [
      "Merged dictionary: {'a': 1, 'b': ['apple', 4], 'c': 8, 'd': 6}\n"
     ]
    }
   ],
   "source": [
    "def merge_dictionaries(dict1, dict2):\n",
    "  \"\"\"\n",
    "  Merges two dictionaries, adding numeric values for common keys and \n",
    "  creating a list for non-numeric values.\n",
    "\n",
    "  Args:\n",
    "      dict1: The first input dictionary.\n",
    "      dict2: The second input dictionary.\n",
    "\n",
    "  Returns:\n",
    "      A new dictionary containing the merged keys and values.\n",
    "  \"\"\"\n",
    "  merged_dict = dict1.copy()\n",
    "\n",
    "  for key, value in dict2.items():\n",
    "      if key in merged_dict:\n",
    "          if isinstance(merged_dict[key], (int, float)) and isinstance(value, (int, float)):\n",
    "              merged_dict[key] += value \n",
    "          else:\n",
    "              merged_dict[key] = [merged_dict[key], value]  # Create a list\n",
    "      else:\n",
    "          merged_dict[key] = value\n",
    "\n",
    "  return merged_dict\n",
    "\n",
    "# Example usage\n",
    "dict1 = {'a': 1, 'b': \"apple\", 'c': 3}\n",
    "dict2 = {'b': 4, 'c': 5, 'd': 6}\n",
    "merged_dictionary = merge_dictionaries(dict1, dict2)\n",
    "print(f\"Merged dictionary: {merged_dictionary}\") "
   ]
  },
  {
   "cell_type": "markdown",
   "metadata": {},
   "source": [
    "### 33. Write a code to access a value in a nested dictionary. The function should take the dictionary and a list of keys as input, and return the corresponding value. If any of the keys do not exist in the dictionary, the function should return None."
   ]
  },
  {
   "cell_type": "markdown",
   "metadata": {},
   "source": [
    "Let's break down the solution into its components:\n",
    "\n",
    "- `access_nested_value` function\n",
    "    - Takes a nested dictionary `nested_dict` and a list of `keys`\n",
    "    - Initializes `current_dict` to the input `nested_dict`\n",
    "    - Iterates through each `key` in the `keys` list:\n",
    "        - If the `key` exists in the `current_dict`, update `current_dict` to the value associated with that `key` (move one level deeper in the nested structure)\n",
    "        - If the `key` is not found, immediately return `None`\n",
    "    - If all keys are found successfully, return the final `current_dict`, which now holds the desired value"
   ]
  },
  {
   "cell_type": "code",
   "execution_count": 37,
   "metadata": {},
   "outputs": [
    {
     "name": "stdout",
     "output_type": "stream",
     "text": [
      "Value for keys ['e', 'f', 'g']: 7\n",
      "Value for keys ['b', 'x']: ({'c': 3, 'd': 4}, \"Further key 'x' not available in the dictionary\")\n",
      "Value for keys ['z']: Requested key 'z' not available in the dictionary\n"
     ]
    }
   ],
   "source": [
    "def access_nested_value(nested_dict, keys):\n",
    "  \"\"\"\n",
    "  Accesses a value in a nested dictionary using a list of keys.\n",
    "\n",
    "  Args:\n",
    "      nested_dict: The nested dictionary.\n",
    "      keys: A list of keys to navigate the dictionary.\n",
    "\n",
    "  Returns:\n",
    "      The corresponding value if all keys exist, \n",
    "      otherwise the value associated with the last valid key \n",
    "      or a message indicating the requested key is not available.\n",
    "  \"\"\"\n",
    "  current_dict = nested_dict\n",
    "  last_valid_value = None\n",
    "\n",
    "  for key in keys:\n",
    "    if key in current_dict:\n",
    "      last_valid_value = current_dict[key]\n",
    "      current_dict = current_dict[key]\n",
    "    else:\n",
    "      if last_valid_value is None:  # No valid keys were found\n",
    "        return f\"Requested key '{key}' not available in the dictionary\"\n",
    "      else:\n",
    "        return last_valid_value, f\"Further key '{key}' not available in the dictionary\" \n",
    "\n",
    "  return current_dict\n",
    "\n",
    "# Example usage\n",
    "my_dict = {\n",
    "    'a': 1,\n",
    "    'b': {\n",
    "        'c': 3,\n",
    "        'd': 4\n",
    "    },\n",
    "    'e': {\n",
    "        'f': {\n",
    "            'g': 7\n",
    "        }\n",
    "    }\n",
    "}\n",
    "\n",
    "keys_to_access = ['e', 'f', 'g']\n",
    "value = access_nested_value(my_dict, keys_to_access)\n",
    "print(f\"Value for keys {keys_to_access}: {value}\") \n",
    "\n",
    "keys_to_access = ['b', 'x']  # 'x' doesn't exist\n",
    "value = access_nested_value(my_dict, keys_to_access)\n",
    "print(f\"Value for keys {keys_to_access}: {value}\")\n",
    "\n",
    "keys_to_access = ['z']  # 'z' doesn't exist at the top level\n",
    "value = access_nested_value(my_dict, keys_to_access)\n",
    "print(f\"Value for keys {keys_to_access}: {value}\") "
   ]
  },
  {
   "cell_type": "markdown",
   "metadata": {},
   "source": [
    "### 34. Write a code that takes a dictionary as input and returns a sorted version of it based on the values. You can choose whether to sort in ascending or descending order."
   ]
  },
  {
   "cell_type": "markdown",
   "metadata": {},
   "source": [
    "1. `sort_dictionary_by_value` Function:\n",
    "   * Takes the input dictionary `my_dict` and an optional boolean flag `ascending`.\n",
    "   * Uses `my_dict.items()` to get a list of key-value pairs (tuples).\n",
    "   * Applies the `sorted()` function to this list.\n",
    "   * The `key` argument in `sorted()` is set to a lambda function `lambda item: item[1]`, which extracts the value (the second element of each tuple) for sorting.\n",
    "   * The `reverse` argument is set to `not ascending`. This means if `ascending` is True (default), `reverse` is False, resulting in ascending order. If `ascending` is False, `reverse` is True, leading to descending order.\n",
    "   * The sorted list of key-value pairs is converted back into a dictionary using `dict()` and returned."
   ]
  },
  {
   "cell_type": "code",
   "execution_count": 38,
   "metadata": {},
   "outputs": [
    {
     "name": "stdout",
     "output_type": "stream",
     "text": [
      "Sorted in ascending order: {'orange': 2, 'apple': 3, 'grape': 'purple', 'banana': 'yellow'}\n",
      "Sorted in descending order: {'banana': 'yellow', 'grape': 'purple', 'apple': 3, 'orange': 2}\n"
     ]
    }
   ],
   "source": [
    "def sort_dictionary_by_value(my_dict, ascending=True):\n",
    "  \"\"\"\n",
    "  Sorts a dictionary based on its values, handling string values appropriately.\n",
    "\n",
    "  Args:\n",
    "    my_dict: The input dictionary.\n",
    "    ascending: A boolean flag indicating whether to sort in ascending (True)\n",
    "               or descending (False) order. Defaults to True.\n",
    "\n",
    "  Returns:\n",
    "    A new dictionary sorted by values.\n",
    "  \"\"\"\n",
    "  sorted_items = sorted(my_dict.items(), key=lambda item: (isinstance(item[1], str), item[1]), reverse=not ascending)\n",
    "  return dict(sorted_items)\n",
    "\n",
    "# Example usage with mixed value types\n",
    "my_dictionary = {'apple': 3, 'banana': 'yellow', 'orange': 2, 'grape': 'purple'}\n",
    "\n",
    "# Sort in ascending order\n",
    "sorted_asc = sort_dictionary_by_value(my_dictionary)\n",
    "print(f\"Sorted in ascending order: {sorted_asc}\")\n",
    "\n",
    "# Sort in descending order\n",
    "sorted_desc = sort_dictionary_by_value(my_dictionary, ascending=False)\n",
    "print(f\"Sorted in descending order: {sorted_desc}\")"
   ]
  },
  {
   "cell_type": "markdown",
   "metadata": {},
   "source": [
    "### 35. Write a code that inverts a dictionary, swapping keys and values. Ensure that the inverted dictionary correctly handles cases where multiple keys have the same value by sorting they keys as a list in the inverted dictionary."
   ]
  },
  {
   "cell_type": "markdown",
   "metadata": {},
   "source": [
    "Let's dissect the solution into its key components.\n",
    "\n",
    "- `invert_dictionary` function:\n",
    "    - Takes the input dictionary `original_dict`\n",
    "    - Initializes an empty dictionary `inverted_dict` to store the inverted key-value pairs\n",
    "    - Iterates through each key-value pair in the `original_dict`\n",
    "        - If the `value` already exists as a key in `inverted_dict`, append the current `key` to the list associated with that `value` and then sort the list\n",
    "        - If the `value` is encountered for the first time, create a new key-value pair in `inverted_dict` with the `value` as the key and a list containing the `key` as the value\n",
    "    - Returns the `inverted_dict`"
   ]
  },
  {
   "cell_type": "code",
   "execution_count": 39,
   "metadata": {},
   "outputs": [
    {
     "name": "stdout",
     "output_type": "stream",
     "text": [
      "Original dictionary:\n",
      "{   'a': 1,\n",
      "    'b': [2, 3],\n",
      "    'c': 'apple',\n",
      "    'd': 3,\n",
      "    'e': [2, 3],\n",
      "    'f': {'x': 5, 'y': [7, 8]},\n",
      "    'g': 'banana',\n",
      "    'x': 'x'}\n",
      "\n",
      "Inverted dictionary:\n",
      "{   1: ['a'],\n",
      "    3: ['d'],\n",
      "    5: [('f', 'x')],\n",
      "    'apple': ['c'],\n",
      "    'banana': ['g'],\n",
      "    'x': ['x'],\n",
      "    (2, 3): ['b', 'e'],\n",
      "    (7, 8): [('f', 'y')]}\n"
     ]
    }
   ],
   "source": [
    "import pprint\n",
    "\n",
    "def invert_dictionary(original_dict):\n",
    "    \"\"\"\n",
    "    Inverts a dictionary, swapping keys and values, handling duplicate,\n",
    "    mutable, and nested values.\n",
    "\n",
    "    Args:\n",
    "        original_dict: The input dictionary.\n",
    "\n",
    "    Returns:\n",
    "        A new dictionary with keys and values swapped.\n",
    "    \"\"\"\n",
    "    inverted_dict = {}\n",
    "\n",
    "    def invert_helper(current_dict, path=()):\n",
    "        for key, value in current_dict.items():\n",
    "            new_path = path + (key,)\n",
    "            if isinstance(value, dict):\n",
    "                invert_helper(value, new_path)\n",
    "            else:\n",
    "                hashable_value = tuple(value) if isinstance(value, list) else value\n",
    "                if hashable_value in inverted_dict:\n",
    "                    inverted_dict[hashable_value].append(new_path)\n",
    "                else:\n",
    "                    inverted_dict[hashable_value] = [new_path]\n",
    "\n",
    "    invert_helper(original_dict)\n",
    "\n",
    "    # Flatten the paths for non-nested values and sort\n",
    "    for value, paths in inverted_dict.items():\n",
    "        if all(len(path) == 1 for path in paths):  # Check if all paths have length 1 (non-nested)\n",
    "            inverted_dict[value] = sorted([path[0] for path in paths])  # Flatten and sort\n",
    "        else:\n",
    "            inverted_dict[value] = sorted(paths)  # Sort nested paths\n",
    "\n",
    "    return inverted_dict\n",
    "\n",
    "# Example Usage\n",
    "my_dict = {\n",
    "    'a': 1, \n",
    "    'b': [2, 3], \n",
    "    'c': \"apple\", \n",
    "    'd': 3, \n",
    "    'e': [2, 3],\n",
    "    'f': {'x': 5, 'y': [7, 8]},\n",
    "    'g': 'banana',\n",
    "    'x': 'x' \n",
    "}\n",
    "\n",
    "inverted_dict = invert_dictionary(my_dict)\n",
    "\n",
    "# Use pprint for cleaner output\n",
    "pp = pprint.PrettyPrinter(indent=4)\n",
    "\n",
    "print(\"Original dictionary:\")\n",
    "pp.pprint(my_dict)\n",
    "\n",
    "print(\"\\nInverted dictionary:\")\n",
    "pp.pprint(inverted_dict)"
   ]
  },
  {
   "cell_type": "markdown",
   "metadata": {},
   "source": [
    "## End of Assignments: Data Structures in Python"
   ]
  }
 ],
 "metadata": {
  "kernelspec": {
   "display_name": "base",
   "language": "python",
   "name": "python3"
  },
  "language_info": {
   "codemirror_mode": {
    "name": "ipython",
    "version": 3
   },
   "file_extension": ".py",
   "mimetype": "text/x-python",
   "name": "python",
   "nbconvert_exporter": "python",
   "pygments_lexer": "ipython3",
   "version": "3.11.9"
  }
 },
 "nbformat": 4,
 "nbformat_minor": 2
}

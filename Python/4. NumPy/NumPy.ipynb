{
 "cells": [
  {
   "cell_type": "markdown",
   "metadata": {},
   "source": [
    "### Theoretical Questions"
   ]
  },
  {
   "cell_type": "markdown",
   "metadata": {},
   "source": [
    "#### 1. Explain the purpose and advantages of NumPy in scientific computing and data analysis. How does it enhance Python's capabilities for numerical operations?\n",
    "\n",
    "**Purpose and Advantages:**\n",
    "NumPy, short for Numerical Python, is a fundamental package for scientific computing in Python. Its primary purpose is to provide support for large, multi-dimensional arrays and matrices, along with a collection of mathematical functions to operate on these arrays efficiently.\n",
    "\n",
    "**Advantages:**\n",
    "- **Performance**: NumPy arrays are implemented in C, which makes them more compact and faster than Python lists due to the use of contiguous blocks of memory and optimized operations.\n",
    "- **Convenience**: Provides a wide range of mathematical functions and operations for array manipulation, making it easier to perform complex calculations.\n",
    "- **Functionality**: Supports advanced operations such as linear algebra, Fourier transforms, and random number generation.\n",
    "- **Interoperability**: Works seamlessly with other scientific libraries such as SciPy, Pandas, and Matplotlib, enhancing the capabilities for scientific computing and data analysis.\n",
    "\n",
    "**Enhancements to Python:**\n",
    "- **Array Operations**: Enables element-wise operations and batch processing, which are faster and more efficient than iterating over lists.\n",
    "- **Memory Efficiency**: Uses less memory due to its fixed data type and contiguous memory allocation, which reduces overhead.\n",
    "- **Broadcasting**: Allows operations on arrays of different shapes without the need for explicit loops, making the code more intuitive and less error-prone.\n",
    "\n",
    "*Real-life example:* \n",
    "In machine learning, NumPy is often used for handling large datasets and performing matrix operations, which are fundamental in training and optimizing machine learning models. For instance, calculating the dot product of large matrices is significantly faster with NumPy."
   ]
  },
  {
   "cell_type": "markdown",
   "metadata": {},
   "source": [
    "#### 2. Compare and contrast `np.mean()` and `np.average()` functions in NumPy. When would you use one over the other?\n",
    "\n",
    "**Comparison:**\n",
    "- **`np.mean()`**: Calculates the arithmetic mean along the specified axis. It is straightforward and does not allow for weighted calculations.\n",
    "- **`np.average()`**: Computes the weighted average, allowing for different weights for different elements. If no weights are provided, it behaves like `np.mean()`.\n",
    "\n",
    "**Usage:**\n",
    "- Use `np.mean()` when you need a simple average of an array.\n",
    "- Use `np.average()` when dealing with datasets where certain elements have more significance (weight) than others. For example, calculating the average score of a student where different assignments have different weights.\n",
    "\n",
    "*Real-life example:* \n",
    "In a grading system, if you have exams with different weights, you would use `np.average()` to calculate the final grade, considering the weight of each exam."
   ]
  },
  {
   "cell_type": "markdown",
   "metadata": {},
   "source": [
    "#### 3. Describe the methods for reversing a NumPy array along different axes. Provide examples for 1D and 2D arrays.\n",
    "\n",
    "**Methods:**\n",
    "- **1D Array**: Use slicing `[::-1]` to reverse the array."
   ]
  },
  {
   "cell_type": "code",
   "execution_count": 1,
   "metadata": {},
   "outputs": [
    {
     "data": {
      "text/plain": [
       "array([4, 3, 2, 1])"
      ]
     },
     "execution_count": 1,
     "metadata": {},
     "output_type": "execute_result"
    }
   ],
   "source": [
    "import numpy as np\n",
    "arr = np.array([1, 2, 3, 4])\n",
    "reversed_arr = arr[::-1]  # Output: [4, 3, 2, 1]\n",
    "reversed_arr"
   ]
  },
  {
   "cell_type": "markdown",
   "metadata": {},
   "source": [
    "- **2D Array**: Use slicing along different axes."
   ]
  },
  {
   "cell_type": "code",
   "execution_count": 2,
   "metadata": {},
   "outputs": [
    {
     "data": {
      "text/plain": [
       "array([[9, 8, 7],\n",
       "       [6, 5, 4],\n",
       "       [3, 2, 1]])"
      ]
     },
     "execution_count": 2,
     "metadata": {},
     "output_type": "execute_result"
    }
   ],
   "source": [
    "arr_2d = np.array([[1, 2, 3], [4, 5, 6], [7, 8, 9]])\n",
    "reversed_arr_2d = arr_2d[::-1, ::-1]  # Reverses both rows and columns\n",
    "reversed_arr_2d  # Output: [[9, 8, 7], [6, 5, 4], [3, 2, 1]]"
   ]
  },
  {
   "cell_type": "markdown",
   "metadata": {},
   "source": [
    "*Real-life example:* \n",
    "Reversing an image matrix for image processing tasks like flipping an image horizontally or vertically."
   ]
  },
  {
   "cell_type": "markdown",
   "metadata": {},
   "source": [
    "#### 4. How can you determine the data type of elements in a NumPy array? Discuss the importance of data types in memory management and performance.\n",
    "\n",
    "**Determining Data Type:**\n",
    "Use `array.dtype` to find the data type of elements."
   ]
  },
  {
   "cell_type": "code",
   "execution_count": 3,
   "metadata": {},
   "outputs": [
    {
     "name": "stdout",
     "output_type": "stream",
     "text": [
      "int32\n"
     ]
    }
   ],
   "source": [
    "arr = np.array([1, 2, 3])\n",
    "print(arr.dtype)  # Output: iint32"
   ]
  },
  {
   "cell_type": "markdown",
   "metadata": {},
   "source": [
    "**Importance:**\n",
    "- **Memory Management**: Different data types consume different amounts of memory. Using the appropriate type can save memory and optimize performance.\n",
    "- **Performance**: Operations on fixed-type arrays are faster due to optimized low-level implementations and reduced type checking.\n",
    "\n",
    "*Real-life example:* \n",
    "Using `float32` instead of `float64` for image data can reduce memory usage and improve performance in image processing tasks."
   ]
  },
  {
   "cell_type": "markdown",
   "metadata": {},
   "source": [
    "#### 5. Define ndarrays in NumPy and explain their key features. How do they differ from standard Python lists?\n",
    "\n",
    "**Definition:**\n",
    "An ndarray is a multi-dimensional, homogeneous array of fixed-size items.\n",
    "\n",
    "**Key Features:**\n",
    "- **Homogeneous**: All elements are of the same type.\n",
    "- **N-dimensional**: Can have multiple dimensions (e.g., 2D for matrices, 3D for tensors).\n",
    "- **Indexing and Slicing**: More powerful and flexible than Python lists.\n",
    "- **Broadcasting**: Allows arithmetic operations on arrays of different shapes, making code more efficient and concise.\n",
    "\n",
    "**Differences from Python Lists:**\n",
    "- **Performance**: NumPy arrays are faster due to contiguous memory allocation and lower-level optimizations.\n",
    "- **Functionality**: Supports a wider range of mathematical operations and functions.\n",
    "- **Memory**: More memory-efficient due to fixed data types and contiguous memory storage.\n",
    "\n",
    "*Real-life example:* \n",
    "NumPy ndarrays are extensively used in scientific computing and machine learning for handling large datasets and performing complex mathematical computations."
   ]
  },
  {
   "cell_type": "markdown",
   "metadata": {},
   "source": [
    "#### 6. Analyze the performance benefits of NumPy arrays over Python lists for large-scale numerical operations.\n",
    "\n",
    "**Performance Benefits:**\n",
    "- **Speed**: NumPy arrays are implemented in C and are much faster for numerical operations due to optimized low-level operations.\n",
    "- **Memory Efficiency**: Use less memory due to fixed data types and contiguous memory storage, which reduces overhead.\n",
    "- **Vectorization**: Allows for batch operations, reducing the need for explicit loops and increasing efficiency.\n",
    "\n",
    "*Real-life example:* \n",
    "Performing matrix multiplications in machine learning algorithms is significantly faster with NumPy arrays compared to Python lists, which can dramatically reduce training time for large models."
   ]
  },
  {
   "cell_type": "markdown",
   "metadata": {},
   "source": [
    "#### 7. Compare `vstack()` and `hstack()` functions in NumPy. Provide examples demonstrating their usage and output.\n",
    "\n",
    "**Comparison:**\n",
    "- **`vstack()`**: Stacks arrays vertically (row-wise).\n",
    "- **`hstack()`**: Stacks arrays horizontally (column-wise)."
   ]
  },
  {
   "cell_type": "code",
   "execution_count": 4,
   "metadata": {},
   "outputs": [
    {
     "name": "stdout",
     "output_type": "stream",
     "text": [
      "[[1 2 3]\n",
      " [4 5 6]]\n",
      "\n",
      "[1 2 3 4 5 6]\n"
     ]
    }
   ],
   "source": [
    "#Usage\n",
    "arr1 = np.array([1, 2, 3])\n",
    "arr2 = np.array([4, 5, 6])\n",
    "\n",
    "# Vertical stack\n",
    "vstacked = np.vstack((arr1, arr2))\n",
    "print(vstacked) # Output: [[1, 2, 3], [4, 5, 6]]\n",
    "\n",
    "print()\n",
    "# Horizontal stack\n",
    "hstacked = np.hstack((arr1, arr2))\n",
    "print(hstacked) # Output: [1, 2, 3, 4, 5, 6]"
   ]
  },
  {
   "cell_type": "markdown",
   "metadata": {},
   "source": [
    "*Real-life example:* \n",
    "Stacking feature vectors in machine learning datasets for model training. For instance, stacking multiple samples vertically to create a dataset matrix."
   ]
  },
  {
   "cell_type": "markdown",
   "metadata": {},
   "source": [
    "#### 8. Explain the differences between `fliplr()` and `flipud()` methods in NumPy, including their effects on various array dimensions.\n",
    "\n",
    "**Differences:**\n",
    "- **`fliplr()`**: Flips array horizontally (left to right).\n",
    "- **`flipud()`**: Flips array vertically (upside down)."
   ]
  },
  {
   "cell_type": "code",
   "execution_count": 5,
   "metadata": {},
   "outputs": [
    {
     "name": "stdout",
     "output_type": "stream",
     "text": [
      "[[2 1]\n",
      " [4 3]\n",
      " [6 5]]\n",
      "\n",
      "[[5 6]\n",
      " [3 4]\n",
      " [1 2]]\n"
     ]
    }
   ],
   "source": [
    "#Effects\n",
    "arr_2d = np.array([[1, 2], [3, 4], [5, 6]])\n",
    "\n",
    "# Horizontal flip\n",
    "flipped_lr = np.fliplr(arr_2d)\n",
    "print(flipped_lr)\n",
    "# Output: [[2, 1], [4, 3], [6, 5]]\n",
    "\n",
    "print()\n",
    "\n",
    "# Vertical flip\n",
    "flipped_ud = np.flipud(arr_2d)\n",
    "print(flipped_ud)\n",
    "# Output: [[5, 6], [3, 4], [1, 2]]"
   ]
  },
  {
   "cell_type": "markdown",
   "metadata": {},
   "source": [
    "*Real-life example:* \n",
    "Image processing tasks where flipping an image horizontally or vertically is required, such as creating mirror images or performing data augmentation."
   ]
  },
  {
   "cell_type": "markdown",
   "metadata": {},
   "source": [
    "#### 9. Discuss the functionality of the `array_split()` method in NumPy. How does it handle uneven splits?\n",
    "\n",
    "**Functionality:**\n",
    "`array_split()` splits an array into multiple sub-arrays.\n",
    "\n",
    "**Handling Uneven Splits:**\n",
    "When the array cannot be evenly divided, `array_split()` distributes the elements as evenly as possible."
   ]
  },
  {
   "cell_type": "code",
   "execution_count": 6,
   "metadata": {},
   "outputs": [
    {
     "name": "stdout",
     "output_type": "stream",
     "text": [
      "[array([1, 2]), array([3, 4]), array([5])]\n"
     ]
    }
   ],
   "source": [
    "arr = np.array([1, 2, 3, 4, 5])\n",
    "split_arr = np.array_split(arr, 3)\n",
    "print(split_arr)\n",
    "# Output: [array([1, 2]), array([3, 4]), array([5])]"
   ]
  },
  {
   "cell_type": "markdown",
   "metadata": {},
   "source": [
    "*Real-life example:* \n",
    "Dividing a dataset into training and testing subsets where the split is not necessarily even, ensuring that each subset has as close to equal elements as possible."
   ]
  },
  {
   "cell_type": "markdown",
   "metadata": {},
   "source": [
    "#### 10. Explain the concepts of vectorization and broadcasting in NumPy. How do they contribute to efficient array operations?\n",
    "\n",
    "**Vectorization:**\n",
    "Refers to the ability to perform element-wise operations on arrays without explicit loops, using optimized low-level code.\n",
    "\n",
    "**Broadcasting:**\n",
    "Allows operations on arrays of different shapes by expanding the smaller array to match the shape of the larger one.\n",
    "\n",
    "**Contribution to Efficiency:**\n",
    "- **Speed**: Operations are performed at C speed, avoiding Python loops and making the code much faster.\n",
    "- **Memory**: Reduces the need for additional memory allocations and avoids unnecessary data replication.\n",
    "\n",
    "*Real-life example:* \n",
    "In neural network computations, vectorized operations and broadcasting are used to efficiently process large datasets and matrices, significantly speeding up training and inference times."
   ]
  },
  {
   "cell_type": "markdown",
   "metadata": {},
   "source": [
    "### Practical Exercises\n",
    "\n",
    "#### 1. Create a 3x3 NumPy array with random integers between 1 and 100. Then, interchange its rows and columns.\n",
    "\n",
    "**Explanation:**\n",
    "- Create a 3x3 NumPy array with random integers between 1 and 100 using `np.random.randint()`.\n",
    "- Use `np.transpose()` to change the shape of the array."
   ]
  },
  {
   "cell_type": "code",
   "execution_count": 7,
   "metadata": {},
   "outputs": [
    {
     "name": "stdout",
     "output_type": "stream",
     "text": [
      "Original 3x3 Array:\n",
      " [[ 92  25  18]\n",
      " [ 61 100  76]\n",
      " [  5  15  96]]\n",
      "Transposed Array (Rows and Columns Interchanged):\n",
      " [[ 92  61   5]\n",
      " [ 25 100  15]\n",
      " [ 18  76  96]]\n"
     ]
    }
   ],
   "source": [
    "import numpy as np\n",
    "\n",
    "# Step 1: Create a 3x3 NumPy array with random integers between 1 and 100\n",
    "array_3x3 = np.random.randint(1, 101, size=(3, 3))\n",
    "print(\"Original 3x3 Array:\\n\", array_3x3)\n",
    "\n",
    "# Step 2: Transpose the array to interchange its rows and columns\n",
    "transposed_array = np.transpose(array_3x3)\n",
    "print(\"Transposed Array (Rows and Columns Interchanged):\\n\", transposed_array)"
   ]
  },
  {
   "cell_type": "markdown",
   "metadata": {},
   "source": [
    "#### 2. Generate a 1D NumPy array with 10 elements. Reshape it into a 2x5 array, then into a 5x2 array.\n",
    "\n",
    "**Explanation:**\n",
    "- Use `np.arange()` to create the array.\n",
    "- Use `reshape()` to reshape the array into a 2x5 array & then to 5x2"
   ]
  },
  {
   "cell_type": "code",
   "execution_count": 8,
   "metadata": {},
   "outputs": [
    {
     "name": "stdout",
     "output_type": "stream",
     "text": [
      "1D Array with 10 elements:\n",
      " [ 1  2  3  4  5  6  7  8  9 10]\n",
      "Reshaped to 2x5 Array:\n",
      " [[ 1  2  3  4  5]\n",
      " [ 6  7  8  9 10]]\n",
      "Reshaped to 5x2 Array:\n",
      " [[ 1  2]\n",
      " [ 3  4]\n",
      " [ 5  6]\n",
      " [ 7  8]\n",
      " [ 9 10]]\n"
     ]
    }
   ],
   "source": [
    "import numpy as np\n",
    "\n",
    "# Step 1: Generate a 1D NumPy array with 10 elements\n",
    "array_1d = np.arange(1, 11)\n",
    "print(\"1D Array with 10 elements:\\n\", array_1d)\n",
    "\n",
    "# Step 2: Reshape the array into a 2x5 array\n",
    "array_2x5 = array_1d.reshape(2, 5)\n",
    "print(\"Reshaped to 2x5 Array:\\n\", array_2x5)\n",
    "\n",
    "# Step 3: Reshape the 2x5 array into a 5x2 array\n",
    "array_5x2 = array_2x5.reshape(5, 2)\n",
    "print(\"Reshaped to 5x2 Array:\\n\", array_5x2)"
   ]
  },
  {
   "cell_type": "markdown",
   "metadata": {},
   "source": [
    "#### 3. Generate a 4x4 random matrix with values between 0 and 1. Add a border of zeros around it, resulting in a 6x6 array.\n",
    "\n",
    "**Explanation:**\n",
    "- Use `np.random.rand()` to generate the matrix.\n",
    "- Use `np.pad()` to add a border of zeros."
   ]
  },
  {
   "cell_type": "code",
   "execution_count": 9,
   "metadata": {},
   "outputs": [
    {
     "name": "stdout",
     "output_type": "stream",
     "text": [
      "Generated Array:\n",
      " [[0.61358442 0.76032607 0.86463691 0.05799793]\n",
      " [0.77000466 0.39261373 0.13652629 0.27230951]\n",
      " [0.32690507 0.93560414 0.10268371 0.43417463]\n",
      " [0.63997547 0.4600669  0.7992294  0.94936807]]\n",
      "\n",
      "Array with Border:\n",
      " [[0.         0.         0.         0.         0.         0.        ]\n",
      " [0.         0.61358442 0.76032607 0.86463691 0.05799793 0.        ]\n",
      " [0.         0.77000466 0.39261373 0.13652629 0.27230951 0.        ]\n",
      " [0.         0.32690507 0.93560414 0.10268371 0.43417463 0.        ]\n",
      " [0.         0.63997547 0.4600669  0.7992294  0.94936807 0.        ]\n",
      " [0.         0.         0.         0.         0.         0.        ]]\n"
     ]
    }
   ],
   "source": [
    "# Generate a 4x4 random matrix\n",
    "arr = np.random.rand(4, 4)\n",
    "print(\"Generated Array:\\n\", arr)\n",
    "\n",
    "print()\n",
    "# Add a border of zeros\n",
    "arr_with_border = np.pad(arr, pad_width=1, mode='constant', constant_values=0)\n",
    "print(\"Array with Border:\\n\", arr_with_border)"
   ]
  },
  {
   "cell_type": "markdown",
   "metadata": {},
   "source": [
    "#### 4. Using NumPy, create an array of integers from 10 to 60 with a step of 5.\n",
    "\n",
    "**Explanation:**\n",
    "- Use `np.arange()` to create the array with a specified step."
   ]
  },
  {
   "cell_type": "code",
   "execution_count": 10,
   "metadata": {},
   "outputs": [
    {
     "name": "stdout",
     "output_type": "stream",
     "text": [
      "Array from 10 to 60 with step 5:\n",
      " [10 15 20 25 30 35 40 45 50 55 60]\n"
     ]
    }
   ],
   "source": [
    "# Create an array of integers from 10 to 60 with a step of 5\n",
    "arr = np.arange(10, 61, 5)\n",
    "print(\"Array from 10 to 60 with step 5:\\n\", arr)"
   ]
  },
  {
   "cell_type": "markdown",
   "metadata": {},
   "source": [
    "#### 5. Create a NumPy array of strings ['python', 'numpy', 'pandas']. Apply different case transformations (uppercase, lowercase, title case) to each element.\n",
    "\n",
    "**Explanation:**\n",
    "- Use `np.char` functions for string manipulations."
   ]
  },
  {
   "cell_type": "code",
   "execution_count": 11,
   "metadata": {},
   "outputs": [
    {
     "name": "stdout",
     "output_type": "stream",
     "text": [
      "Uppercase:\n",
      " ['PYTHON' 'NUMPY' 'PANDAS']\n",
      "Lowercase:\n",
      " ['python' 'numpy' 'pandas']\n",
      "Titlecase:\n",
      " ['Python' 'Numpy' 'Pandas']\n"
     ]
    }
   ],
   "source": [
    "# Create an array of strings\n",
    "arr = np.array(['python', 'numpy', 'pandas'])\n",
    "\n",
    "# Apply different case transformations\n",
    "uppercase = np.char.upper(arr)\n",
    "lowercase = np.char.lower(arr)\n",
    "titlecase = np.char.title(arr)\n",
    "\n",
    "print(\"Uppercase:\\n\", uppercase)\n",
    "print(\"Lowercase:\\n\", lowercase)\n",
    "print(\"Titlecase:\\n\", titlecase)"
   ]
  },
  {
   "cell_type": "markdown",
   "metadata": {},
   "source": [
    "#### 6. Generate a NumPy array of words. Insert a space between each character of every word in the array.\n",
    "\n",
    "**Explanation:**\n",
    "- Use `np.char.join()` to insert spaces."
   ]
  },
  {
   "cell_type": "code",
   "execution_count": 12,
   "metadata": {},
   "outputs": [
    {
     "name": "stdout",
     "output_type": "stream",
     "text": [
      "Array with spaces between characters:\n",
      " ['h e l l o' 'w o r l d']\n"
     ]
    }
   ],
   "source": [
    "# Create an array of words\n",
    "arr = np.array(['hello', 'world'])\n",
    "\n",
    "# Insert a space between each character\n",
    "spaced_arr = np.char.join(' ', arr)\n",
    "print(\"Array with spaces between characters:\\n\", spaced_arr)"
   ]
  },
  {
   "cell_type": "markdown",
   "metadata": {},
   "source": [
    "#### 7. Create two 2D NumPy arrays and perform element-wise addition, subtraction, multiplication, and division.\n",
    "\n",
    "**Explanation:**\n",
    "- Use basic arithmetic operations for element-wise calculations."
   ]
  },
  {
   "cell_type": "code",
   "execution_count": 13,
   "metadata": {},
   "outputs": [
    {
     "name": "stdout",
     "output_type": "stream",
     "text": [
      "Addition:\n",
      " [[ 6  8]\n",
      " [10 12]]\n",
      "Subtraction:\n",
      " [[-4 -4]\n",
      " [-4 -4]]\n",
      "Multiplication:\n",
      " [[ 5 12]\n",
      " [21 32]]\n",
      "Division:\n",
      " [[0.2        0.33333333]\n",
      " [0.42857143 0.5       ]]\n"
     ]
    }
   ],
   "source": [
    "# Create two 2D arrays\n",
    "arr1 = np.array([[1, 2], [3, 4]])\n",
    "arr2 = np.array([[5, 6], [7, 8]])\n",
    "\n",
    "# Perform element-wise operations\n",
    "addition = arr1 + arr2\n",
    "subtraction = arr1 - arr2\n",
    "multiplication = arr1 * arr2\n",
    "division = arr1 / arr2\n",
    "\n",
    "print(\"Addition:\\n\", addition)\n",
    "print(\"Subtraction:\\n\", subtraction)\n",
    "print(\"Multiplication:\\n\", multiplication)\n",
    "print(\"Division:\\n\", division)"
   ]
  },
  {
   "cell_type": "markdown",
   "metadata": {},
   "source": [
    "#### 8. Use NumPy to create a 5x5 identity matrix, then extract its diagonal elements.\n",
    "\n",
    "**Explanation:**\n",
    "- Use `np.eye()` to create the identity matrix.\n",
    "- Use `np.diag()` to extract diagonal elements."
   ]
  },
  {
   "cell_type": "code",
   "execution_count": 14,
   "metadata": {},
   "outputs": [
    {
     "name": "stdout",
     "output_type": "stream",
     "text": [
      "Identity Matrix:\n",
      " [[1. 0. 0. 0. 0.]\n",
      " [0. 1. 0. 0. 0.]\n",
      " [0. 0. 1. 0. 0.]\n",
      " [0. 0. 0. 1. 0.]\n",
      " [0. 0. 0. 0. 1.]]\n",
      "Diagonal Elements:\n",
      " [1. 1. 1. 1. 1.]\n"
     ]
    }
   ],
   "source": [
    "# Create a 5x5 identity matrix\n",
    "identity_matrix = np.eye(5)\n",
    "\n",
    "# Extract diagonal elements\n",
    "diagonal_elements = np.diag(identity_matrix)\n",
    "\n",
    "print(\"Identity Matrix:\\n\", identity_matrix)\n",
    "print(\"Diagonal Elements:\\n\", diagonal_elements)"
   ]
  },
  {
   "cell_type": "markdown",
   "metadata": {},
   "source": [
    "#### 9. Generate a NumPy array of 100 random integers between 0 and 1000. Find and display all prime numbers in this array.\n",
    "\n",
    "**Explanation:**\n",
    "- Use `np.random.randint()` to generate the array.\n",
    "- Implement a function to check for prime numbers."
   ]
  },
  {
   "cell_type": "code",
   "execution_count": 15,
   "metadata": {},
   "outputs": [
    {
     "name": "stdout",
     "output_type": "stream",
     "text": [
      "Prime Numbers in the Array:\n",
      " [523 239 439 167  59 199 857 971 211  59 827 641 307 479 883 127]\n"
     ]
    }
   ],
   "source": [
    "# Generate a NumPy array of 100 random integers between 0 and 1000\n",
    "arr = np.random.randint(0, 1001, 100)\n",
    "\n",
    "# Function to check if a number is prime\n",
    "def is_prime(num):\n",
    "    if num < 2:\n",
    "        return False\n",
    "    for i in range(2, int(np.sqrt(num)) + 1):\n",
    "        if num % i == 0:\n",
    "            return False\n",
    "    return True\n",
    "\n",
    "# Find prime numbers in the array\n",
    "primes = np.array([num for num in arr if is_prime(num)])\n",
    "print(\"Prime Numbers in the Array:\\n\", primes)"
   ]
  },
  {
   "cell_type": "markdown",
   "metadata": {},
   "source": [
    "#### 10. Create a NumPy array representing daily temperatures for a month. Calculate and display the weekly averages.\n",
    "\n",
    "**Explanation:**\n",
    "- Use `np.random.rand()` to generate random temperatures.\n",
    "- Use `reshape()` and `np.mean()` to calculate weekly averages.\n",
    "\n",
    "**Steps:**\n",
    "1. **Generate daily temperatures:** Creates an array of random temperatures for 30 days.\n",
    "2. **Calculate padding length:** Determines how many values need to be added to make the array length a multiple of 7.\n",
    "3. **Pad the array:** Pads the array with `NaN` values.\n",
    "4. **Reshape the array:** Reshapes the array into weeks, now that its length is a multiple of 7.\n",
    "5. **Calculate weekly averages:** Uses `np.nanmean` to compute the mean, ignoring `NaN` values.\n",
    "\n",
    "This approach ensures that the array can be reshaped without errors and calculates accurate weekly averages even if the number of days is not a perfect multiple of 7."
   ]
  },
  {
   "cell_type": "code",
   "execution_count": 16,
   "metadata": {},
   "outputs": [
    {
     "name": "stdout",
     "output_type": "stream",
     "text": [
      "Daily Temperatures:\n",
      " [21.42229909 23.38007456  1.62071232 24.27363528 13.56514933 21.49515487\n",
      "  7.87442151 27.07496669 19.49048802  6.8413274  13.36489369 17.16211408\n",
      " 25.03537818 13.74051282 25.84158408  5.34035636 25.61019358 22.67053897\n",
      "  1.07695161 25.21573453 15.22903569 13.68361997 12.54653703 15.87455698\n",
      " 29.90917837 27.45895463 24.70402903 11.65658808 28.34947189  6.27929139]\n",
      "\n",
      " Padded Temperatures:\n",
      " [21.42229909 23.38007456  1.62071232 24.27363528 13.56514933 21.49515487\n",
      "  7.87442151 27.07496669 19.49048802  6.8413274  13.36489369 17.16211408\n",
      " 25.03537818 13.74051282 25.84158408  5.34035636 25.61019358 22.67053897\n",
      "  1.07695161 25.21573453 15.22903569 13.68361997 12.54653703 15.87455698\n",
      " 29.90917837 27.45895463 24.70402903 11.65658808 28.34947189  6.27929139\n",
      "         nan         nan         nan         nan         nan]\n",
      "\n",
      " Weekly Averages:\n",
      " [16.23306385 17.52995441 17.28348497 19.40478058 17.31438164]\n"
     ]
    }
   ],
   "source": [
    "import numpy as np\n",
    "\n",
    "# Generate a NumPy array of daily temperatures for a month\n",
    "daily_temperatures = np.random.rand(30) * 30  # Random temperatures between 0 and 30\n",
    "\n",
    "# Calculate the number of days to pad to make the length a multiple of 7\n",
    "padding_length = (7 - len(daily_temperatures) % 7) % 7\n",
    "\n",
    "# Pad the array with NaNs to handle partial weeks properly\n",
    "padded_temperatures = np.pad(daily_temperatures, (0, padding_length), constant_values=np.nan)\n",
    "\n",
    "# Reshape the array to have weeks as rows\n",
    "reshaped_temperatures = padded_temperatures.reshape(-1, 7)\n",
    "\n",
    "# Calculate weekly averages, ignoring NaNs\n",
    "weekly_averages = np.nanmean(reshaped_temperatures, axis=1)\n",
    "\n",
    "print(\"Daily Temperatures:\\n\", daily_temperatures)\n",
    "print(\"\\n Padded Temperatures:\\n\", padded_temperatures)\n",
    "print(\"\\n Weekly Averages:\\n\", weekly_averages)\n"
   ]
  },
  {
   "cell_type": "markdown",
   "metadata": {},
   "source": [
    "### End of Assignment!"
   ]
  }
 ],
 "metadata": {
  "kernelspec": {
   "display_name": "base",
   "language": "python",
   "name": "python3"
  },
  "language_info": {
   "codemirror_mode": {
    "name": "ipython",
    "version": 3
   },
   "file_extension": ".py",
   "mimetype": "text/x-python",
   "name": "python",
   "nbconvert_exporter": "python",
   "pygments_lexer": "ipython3",
   "version": "3.11.9"
  }
 },
 "nbformat": 4,
 "nbformat_minor": 2
}

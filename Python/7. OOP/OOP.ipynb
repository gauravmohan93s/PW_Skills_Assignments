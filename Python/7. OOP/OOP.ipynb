{
 "cells": [
  {
   "cell_type": "markdown",
   "metadata": {},
   "source": [
    "## Assignment : OOP"
   ]
  },
  {
   "cell_type": "markdown",
   "metadata": {},
   "source": [
    "\n",
    "### 1. What are the five key concepts of Object-Oriented Programming (OOP)?\n",
    "\n",
    "The five key concepts of Object-Oriented Programming are:\n",
    "\n",
    "1. **Encapsulation**: This is the bundling of data (attributes) and methods (functions) that operate on the data into a single unit or class. Encapsulation also involves restricting access to some of an object's components, which is a means of preventing unintended interference and misuse of the data.\n",
    "\n",
    "2. **Abstraction**: Abstraction involves hiding the complex implementation details and showing only the essential features of the object. It allows us to focus on what an object does instead of how it does it.\n",
    "\n",
    "3. **Inheritance**: Inheritance is a mechanism where a new class (derived class) inherits attributes and methods from an existing class (base class). It promotes code reusability and establishes a natural hierarchy between classes.\n",
    "\n",
    "4. **Polymorphism**: Polymorphism allows objects of different classes to be treated as objects of a common super class. It is achieved through method overriding (in runtime) and method overloading (in compile-time).\n",
    "\n",
    "5. **Association, Aggregation, and Composition**: These are ways to establish relationships between classes:\n",
    "   - **Association**: A general binary relationship that describes an activity between two classes.\n",
    "   - **Aggregation**: A special form of association where a class contains one or more objects of other classes.\n",
    "   - **Composition**: A stronger form of aggregation where the contained objects do not exist independently of the container."
   ]
  },
  {
   "cell_type": "markdown",
   "metadata": {},
   "source": [
    "\n",
    "### 2. Write a Python class for a `Car` with attributes for `make`, `model`, and `year`. Include a method to display the car's information."
   ]
  },
  {
   "cell_type": "code",
   "execution_count": 20,
   "metadata": {},
   "outputs": [],
   "source": [
    "class Car:\n",
    "    def __init__(self, make, model, year):\n",
    "        self.make = make\n",
    "        self.model = model\n",
    "        self.year = year\n",
    "    \n",
    "    def display_info(self):\n",
    "        return f\"Car Information: {self.year} {self.make} {self.model}\""
   ]
  },
  {
   "cell_type": "code",
   "execution_count": 21,
   "metadata": {},
   "outputs": [
    {
     "name": "stdout",
     "output_type": "stream",
     "text": [
      "Car Information: 2020 Toyota Corolla\n"
     ]
    }
   ],
   "source": [
    "# Example usage:\n",
    "my_car = Car(\"Toyota\", \"Corolla\", 2020)\n",
    "print(my_car.display_info())"
   ]
  },
  {
   "cell_type": "markdown",
   "metadata": {},
   "source": [
    "### 3. Explain the difference between instance methods and class methods. Provide an example of each.\n",
    "\n",
    "- **Instance Methods**: These methods operate on an instance of the class and can access the instance's attributes and methods. They are defined by including `self` as the first parameter."
   ]
  },
  {
   "cell_type": "code",
   "execution_count": 22,
   "metadata": {},
   "outputs": [],
   "source": [
    "class MyClass:\n",
    "      def instance_method(self):\n",
    "          return \"This is an instance method\""
   ]
  },
  {
   "cell_type": "markdown",
   "metadata": {},
   "source": [
    "**Class Methods**: These methods operate on the class itself, rather than on instances of the class. They are defined using the `@classmethod` decorator and take `cls` as the first parameter."
   ]
  },
  {
   "cell_type": "code",
   "execution_count": 23,
   "metadata": {},
   "outputs": [],
   "source": [
    "class MyClass:\n",
    "      count = 0\n",
    "      \n",
    "      @classmethod\n",
    "      def class_method(cls):\n",
    "          return f\"This is a class method, and the count is {cls.count}\""
   ]
  },
  {
   "cell_type": "markdown",
   "metadata": {},
   "source": [
    "### 4. How does Python implement method overloading? Give an example.\n",
    "\n",
    "Python does not support traditional method overloading (methods with the same name but different signatures). Instead, it achieves similar functionality through default parameters or variable-length arguments."
   ]
  },
  {
   "cell_type": "code",
   "execution_count": 24,
   "metadata": {},
   "outputs": [],
   "source": [
    "#Example using default parameters:\n",
    "\n",
    "class MyClass:\n",
    "    def add(self, a, b=0, c=0):\n",
    "        return a + b + c"
   ]
  },
  {
   "cell_type": "code",
   "execution_count": 25,
   "metadata": {},
   "outputs": [
    {
     "name": "stdout",
     "output_type": "stream",
     "text": [
      "1\n",
      "3\n",
      "6\n"
     ]
    }
   ],
   "source": [
    "# Example usage:\n",
    "obj = MyClass()\n",
    "print(obj.add(1))  # Outputs 1\n",
    "print(obj.add(1, 2))  # Outputs 3\n",
    "print(obj.add(1, 2, 3))  # Outputs 6"
   ]
  },
  {
   "cell_type": "markdown",
   "metadata": {},
   "source": [
    "### 5. What are the three types of access modifiers in Python? How are they denoted?\n",
    "\n",
    "Python uses the following access modifiers:\n",
    "\n",
    "1. **Public**: Accessible from outside the class. All attributes and methods are public by default. No special notation is needed."
   ]
  },
  {
   "cell_type": "code",
   "execution_count": 26,
   "metadata": {},
   "outputs": [],
   "source": [
    "class MyClass:\n",
    "    def public_method(self):\n",
    "        pass"
   ]
  },
  {
   "cell_type": "markdown",
   "metadata": {},
   "source": [
    "2. **Protected**: Denoted by a single underscore `_` before the attribute or method name. It is a convention indicating that it should not be accessed outside its class or subclass."
   ]
  },
  {
   "cell_type": "code",
   "execution_count": 27,
   "metadata": {},
   "outputs": [],
   "source": [
    "class MyClass:\n",
    "    def _protected_method(self):\n",
    "        pass"
   ]
  },
  {
   "cell_type": "markdown",
   "metadata": {},
   "source": [
    "3. **Private**: Denoted by double underscores `__` before the attribute or method name. It restricts access to the attribute or method only within the class."
   ]
  },
  {
   "cell_type": "code",
   "execution_count": 28,
   "metadata": {},
   "outputs": [],
   "source": [
    "class MyClass:\n",
    "    def __private_method(self):\n",
    "        pass"
   ]
  },
  {
   "cell_type": "markdown",
   "metadata": {},
   "source": [
    "### 6. Describe the five types of inheritance in Python. Provide a simple example of multiple inheritance.\n",
    "\n",
    "The five types of inheritance in Python are:\n",
    "\n",
    "1. **Single Inheritance**: A child class inherits from one parent class.\n",
    "2. **Multiple Inheritance**: A child class inherits from more than one parent class.\n",
    "3. **Multilevel Inheritance**: A child class inherits from a parent class, which in turn inherits from another parent class.\n",
    "4. **Hierarchical Inheritance**: Multiple child classes inherit from a single parent class.\n",
    "5. **Hybrid Inheritance**: A combination of two or more types of inheritance."
   ]
  },
  {
   "cell_type": "code",
   "execution_count": 29,
   "metadata": {},
   "outputs": [
    {
     "name": "stdout",
     "output_type": "stream",
     "text": [
      "Method A\n",
      "Method B\n",
      "Method C\n"
     ]
    }
   ],
   "source": [
    "#Example of multiple inheritance:\n",
    "\n",
    "class ClassA:\n",
    "    def method_a(self):\n",
    "        return \"Method A\"\n",
    "\n",
    "class ClassB:\n",
    "    def method_b(self):\n",
    "        return \"Method B\"\n",
    "\n",
    "class ClassC(ClassA, ClassB):\n",
    "    def method_c(self):\n",
    "        return \"Method C\"\n",
    "\n",
    "# Example usage:\n",
    "obj = ClassC()\n",
    "print(obj.method_a())  # Outputs \"Method A\"\n",
    "print(obj.method_b())  # Outputs \"Method B\"\n",
    "print(obj.method_c())  # Outputs \"Method C\""
   ]
  },
  {
   "cell_type": "markdown",
   "metadata": {},
   "source": [
    "### 7. What is the Method Resolution Order (MRO) in Python? How can you retrieve it programmatically?\n",
    "\n",
    "The Method Resolution Order (MRO) is the order in which Python looks for a method in a hierarchy of classes. It is particularly important in multiple inheritance scenarios to determine which method will be invoked.\n",
    "\n",
    "You can retrieve the MRO of a class using the `__mro__` attribute or the `mro()` method."
   ]
  },
  {
   "cell_type": "code",
   "execution_count": 30,
   "metadata": {},
   "outputs": [
    {
     "name": "stdout",
     "output_type": "stream",
     "text": [
      "(<class '__main__.ClassC'>, <class '__main__.ClassB'>, <class '__main__.ClassA'>, <class 'object'>)\n"
     ]
    }
   ],
   "source": [
    "#Example:\n",
    "\n",
    "class ClassA:\n",
    "    pass\n",
    "\n",
    "class ClassB(ClassA):\n",
    "    pass\n",
    "\n",
    "class ClassC(ClassB):\n",
    "    pass\n",
    "\n",
    "print(ClassC.__mro__)  # Outputs the MRO"
   ]
  },
  {
   "cell_type": "markdown",
   "metadata": {},
   "source": [
    "### 8. Create an abstract base class `Shape` with an abstract method `area()`. Then create two subclasses `Circle` and `Rectangle` that implement the `area()` method."
   ]
  },
  {
   "cell_type": "code",
   "execution_count": 31,
   "metadata": {},
   "outputs": [
    {
     "name": "stdout",
     "output_type": "stream",
     "text": [
      "78.53981633974483\n",
      "24\n"
     ]
    }
   ],
   "source": [
    "from abc import ABC, abstractmethod\n",
    "import math\n",
    "\n",
    "class Shape(ABC):\n",
    "    @abstractmethod\n",
    "    def area(self):\n",
    "        pass\n",
    "\n",
    "class Circle(Shape):\n",
    "    def __init__(self, radius):\n",
    "        self.radius = radius\n",
    "    \n",
    "    def area(self):\n",
    "        return math.pi * self.radius ** 2\n",
    "\n",
    "class Rectangle(Shape):\n",
    "    def __init__(self, width, height):\n",
    "        self.width = width\n",
    "        self.height = height\n",
    "    \n",
    "    def area(self):\n",
    "        return self.width * self.height\n",
    "\n",
    "# Example usage:\n",
    "circle = Circle(5)\n",
    "rectangle = Rectangle(4, 6)\n",
    "print(circle.area())  # Outputs area of the circle\n",
    "print(rectangle.area())  # Outputs area of the rectangle"
   ]
  },
  {
   "cell_type": "markdown",
   "metadata": {},
   "source": [
    "### 9. Demonstrate polymorphism by creating a function that can work with different shape objects to calculate and print their areas."
   ]
  },
  {
   "cell_type": "code",
   "execution_count": 32,
   "metadata": {},
   "outputs": [
    {
     "name": "stdout",
     "output_type": "stream",
     "text": [
      "The area is: 78.53981633974483\n",
      "The area is: 24\n"
     ]
    }
   ],
   "source": [
    "def print_area(shape):\n",
    "    print(f\"The area is: {shape.area()}\")\n",
    "\n",
    "# Example usage:\n",
    "circle = Circle(5)\n",
    "rectangle = Rectangle(4, 6)\n",
    "print_area(circle)  # Outputs the area of the circle\n",
    "print_area(rectangle)  # Outputs the area of the rectangle"
   ]
  },
  {
   "cell_type": "markdown",
   "metadata": {},
   "source": [
    "### 10. Implement encapsulation in a `BankAccount` class with private attributes for `balance` and `account_number`. Include methods for deposit, withdrawal, and balance inquiry."
   ]
  },
  {
   "cell_type": "code",
   "execution_count": 33,
   "metadata": {},
   "outputs": [
    {
     "name": "stdout",
     "output_type": "stream",
     "text": [
      "Deposited 500. New balance is 500\n",
      "Withdrew 200. New balance is 300\n",
      "Current balance is 300\n"
     ]
    }
   ],
   "source": [
    "class BankAccount:\n",
    "    def __init__(self, account_number, balance=0):\n",
    "        self.__account_number = account_number\n",
    "        self.__balance = balance\n",
    "    \n",
    "    def deposit(self, amount):\n",
    "        self.__balance += amount\n",
    "        return f\"Deposited {amount}. New balance is {self.__balance}\"\n",
    "    \n",
    "    def withdraw(self, amount):\n",
    "        if amount > self.__balance:\n",
    "            return \"Insufficient funds\"\n",
    "        self.__balance -= amount\n",
    "        return f\"Withdrew {amount}. New balance is {self.__balance}\"\n",
    "    \n",
    "    def get_balance(self):\n",
    "        return f\"Current balance is {self.__balance}\"\n",
    "\n",
    "# Example usage:\n",
    "account = BankAccount(\"123456789\")\n",
    "print(account.deposit(500))  # Outputs the deposit status\n",
    "print(account.withdraw(200))  # Outputs the withdrawal status\n",
    "print(account.get_balance())  # Outputs the current balance"
   ]
  },
  {
   "cell_type": "markdown",
   "metadata": {},
   "source": [
    "### 11. Write a class that overrides the `__str__` and `__add__` magic methods. What will these methods allow you to do?"
   ]
  },
  {
   "cell_type": "code",
   "execution_count": 34,
   "metadata": {},
   "outputs": [
    {
     "name": "stdout",
     "output_type": "stream",
     "text": [
      "MyNumber: 10\n",
      "MyNumber: 30\n",
      "MyNumber: 15\n"
     ]
    }
   ],
   "source": [
    "class MyNumber:\n",
    "    def __init__(self, value):\n",
    "        self.value = value\n",
    "    \n",
    "    def __str__(self):\n",
    "        return f\"MyNumber: {self.value}\"\n",
    "    \n",
    "    def __add__(self, other):\n",
    "        if isinstance(other, MyNumber):\n",
    "            return MyNumber(self.value + other.value)\n",
    "        return MyNumber(self.value + other)\n",
    "\n",
    "# Example usage:\n",
    "num1 = MyNumber(10)\n",
    "num2 = MyNumber(20)\n",
    "print(num1)  # Outputs \"MyNumber: 10\"\n",
    "print(num1 + num2)  # Outputs \"MyNumber: 30\"\n",
    "print(num1 + 5)  # Outputs \"MyNumber: 15\""
   ]
  },
  {
   "cell_type": "markdown",
   "metadata": {},
   "source": [
    "- **`__str__`** allows you to define how an instance of your class is represented as a string, which is useful for printing.\n",
    "- **`__add__`** allows you to define how instances of your class should behave when the `+` operator is used, which is useful for adding objects together."
   ]
  },
  {
   "cell_type": "markdown",
   "metadata": {},
   "source": [
    "### 12. Create a decorator that measures and prints the execution time of a function."
   ]
  },
  {
   "cell_type": "code",
   "execution_count": 35,
   "metadata": {},
   "outputs": [
    {
     "name": "stdout",
     "output_type": "stream",
     "text": [
      "Execution time: 2.0005836486816406 seconds\n",
      "Function complete\n"
     ]
    }
   ],
   "source": [
    "import time\n",
    "\n",
    "def time_decorator(func):\n",
    "    def wrapper(*args, **kwargs):\n",
    "        start_time = time.time()\n",
    "        result = func(*args, **kwargs)\n",
    "        end_time = time.time()\n",
    "        print(f\"Execution time: {end_time - start_time} seconds\")\n",
    "        return result\n",
    "    return wrapper\n",
    "\n",
    "# Example usage:\n",
    "@time_decorator\n",
    "def example_function():\n",
    "     time.sleep(2)\n",
    "     return \"Function complete\"\n",
    "print(example_function())  # Outputs the execution time"
   ]
  },
  {
   "cell_type": "markdown",
   "metadata": {},
   "source": [
    "### 13. Explain the concept of the Diamond Problem in multiple inheritance. How does Python resolve it?\n",
    "\n",
    "The Diamond Problem occurs in multiple inheritance when a class inherits from two classes that both inherit from a common base class. This can create ambiguity in the method resolution order.\n",
    "\n",
    "Python resolves this issue using the **Method Resolution Order (MRO)**, which follows the C3 linearization algorithm. The MRO ensures a consistent method lookup order that avoids ambiguity."
   ]
  },
  {
   "cell_type": "code",
   "execution_count": 36,
   "metadata": {},
   "outputs": [
    {
     "name": "stdout",
     "output_type": "stream",
     "text": [
      "B\n"
     ]
    }
   ],
   "source": [
    "#Example:\n",
    "\n",
    "class A:\n",
    "    def method(self):\n",
    "        return \"A\"\n",
    "\n",
    "class B(A):\n",
    "    def method(self):\n",
    "        return \"B\"\n",
    "\n",
    "class C(A):\n",
    "    def method(self):\n",
    "        return \"C\"\n",
    "\n",
    "class D(B, C):\n",
    "    pass\n",
    "\n",
    "# D's MRO: D -> B -> C -> A\n",
    "print(D().method())  # Outputs \"B\" as B's method is called first"
   ]
  },
  {
   "cell_type": "markdown",
   "metadata": {},
   "source": [
    "### 14. Write a class method that keeps track of the number of instances created from a class."
   ]
  },
  {
   "cell_type": "code",
   "execution_count": 37,
   "metadata": {},
   "outputs": [
    {
     "name": "stdout",
     "output_type": "stream",
     "text": [
      "Number of instances created: 2\n"
     ]
    }
   ],
   "source": [
    "class MyClass:\n",
    "    instance_count = 0\n",
    "    \n",
    "    def __init__(self):\n",
    "        MyClass.instance_count += 1\n",
    "    \n",
    "    @classmethod\n",
    "    def get_instance_count(cls):\n",
    "        return f\"Number of instances created: {cls.instance_count}\"\n",
    "\n",
    "# Example usage:\n",
    "obj1 = MyClass()\n",
    "obj2 = MyClass()\n",
    "print(MyClass.get_instance_count())  # Outputs the number of instances created"
   ]
  },
  {
   "cell_type": "markdown",
   "metadata": {},
   "source": [
    "### 15. Implement a static method in a class that checks if a given year is a leap year."
   ]
  },
  {
   "cell_type": "code",
   "execution_count": 38,
   "metadata": {},
   "outputs": [
    {
     "name": "stdout",
     "output_type": "stream",
     "text": [
      "True\n",
      "False\n"
     ]
    }
   ],
   "source": [
    "class Year:\n",
    "    @staticmethod\n",
    "    def is_leap_year(year):\n",
    "        if (year % 4 == 0 and year % 100 != 0) or (year % 400 == 0):\n",
    "            return True\n",
    "        return False\n",
    "\n",
    "# Example usage:\n",
    "print(Year.is_leap_year(2020))  # Outputs True\n",
    "print(Year.is_leap_year(1900))  # Outputs False"
   ]
  }
 ],
 "metadata": {
  "kernelspec": {
   "display_name": "base",
   "language": "python",
   "name": "python3"
  },
  "language_info": {
   "codemirror_mode": {
    "name": "ipython",
    "version": 3
   },
   "file_extension": ".py",
   "mimetype": "text/x-python",
   "name": "python",
   "nbconvert_exporter": "python",
   "pygments_lexer": "ipython3",
   "version": "3.12.4"
  }
 },
 "nbformat": 4,
 "nbformat_minor": 2
}

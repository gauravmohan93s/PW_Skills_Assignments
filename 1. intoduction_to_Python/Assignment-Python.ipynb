{
 "cells": [
  {
   "cell_type": "markdown",
   "id": "619cc521-1be1-4c79-8214-b4b8d20491df",
   "metadata": {},
   "source": [
    "To complete the assignment, we'll cover the following topics in detail as outlined:\n",
    "\n",
    "1. **Key Features of Python**\n",
    "2. **Role of Predefined Keywords in Python**\n",
    "3. **Comparison of Mutable and Immutable Objects in Python**\n",
    "4. **Types of Operators in Python**\n",
    "5. **Concept of Type Casting in Python**\n",
    "6. **Conditional Statements in Python**\n",
    "7. **Different Types of Loops in Python**\n",
    "\n",
    "Let's dive into each section:"
   ]
  },
  {
   "cell_type": "markdown",
   "id": "e23ef457-e325-425b-9da6-badd1f726b76",
   "metadata": {},
   "source": [
    "### 1. Key Features of Python\n",
    "\n",
    "Python is a popular programming language due to several key features:\n",
    "\n",
    "- **Readability**: Python's syntax is clear and readable, which makes it easier to learn and understand.\n",
    "- **Interpreted Language**: Python is an interpreted language, meaning the code is executed line by line, which makes debugging easier.\n",
    "- **Dynamically Typed**: Variables in Python do not require an explicit declaration to reserve memory space. The declaration happens automatically when a value is assigned to a variable.\n",
    "- **High-Level Language**: Python abstracts away most of the complex details of the computer’s memory management, making it simpler to write code.\n",
    "- **Extensive Libraries**: Python has a rich set of libraries and frameworks, such as NumPy, Pandas, and Django, which can be used for various applications.\n",
    "- **Community Support**: Python has a large and active community, providing extensive documentation and support."
   ]
  },
  {
   "cell_type": "markdown",
   "id": "032b4aed-74d5-4f13-9e3d-2de1af5599cf",
   "metadata": {},
   "source": [
    "### 2. Role of Predefined Keywords in Python\n",
    "\n",
    "Keywords in Python are reserved words that have special meanings and cannot be used as variable names. They play crucial roles in the syntax and structure of Python programs.\n",
    "\n",
    "**Examples of Keywords**:\n",
    "\n",
    "- `if`, `else`, `elif`: Used for conditional statements.\n",
    "- `for`, `while`: Used for loops.\n",
    "- `def`: Used to define a function.\n",
    "- `return`: Used to return a value from a function.\n",
    "- `import`: Used to import modules.\n",
    "\n",
    "\n"
   ]
  },
  {
   "cell_type": "code",
   "execution_count": 1,
   "id": "2bdcc0c9-732b-47d5-be80-fa39e51b9496",
   "metadata": {},
   "outputs": [],
   "source": [
    "#Example Usage\n",
    "\n",
    "def greet(name):\n",
    "    if name:\n",
    "        return f\"Hello, {name}!\"\n",
    "    else:\n",
    "        return \"Hello, World!\""
   ]
  },
  {
   "cell_type": "code",
   "execution_count": 2,
   "id": "3bc11da6-a8d6-4e55-813a-d8551e34a337",
   "metadata": {},
   "outputs": [
    {
     "data": {
      "text/plain": [
       "'Hello, Gaurav!'"
      ]
     },
     "execution_count": 2,
     "metadata": {},
     "output_type": "execute_result"
    }
   ],
   "source": [
    "greet(\"Gaurav\")"
   ]
  },
  {
   "cell_type": "code",
   "execution_count": 3,
   "id": "45f5c459-5ccb-42cb-9c1b-0f7170429274",
   "metadata": {},
   "outputs": [
    {
     "data": {
      "text/plain": [
       "'Hello, World!'"
      ]
     },
     "execution_count": 3,
     "metadata": {},
     "output_type": "execute_result"
    }
   ],
   "source": [
    "greet(\"\")"
   ]
  },
  {
   "cell_type": "markdown",
   "id": "7270b978-7b89-46fb-a77d-83f6a39bd710",
   "metadata": {},
   "source": [
    "### 3. Comparison of Mutable and Immutable Objects in Python\n",
    "\n",
    "- **Mutable Objects**: These objects can be changed after they are created. Examples. - lists, dictionaries, and sets.\n",
    "- **Immutable Objects**: These objects cannot be changed after they are created. Examples. - strings, tuples, and frozensets."
   ]
  },
  {
   "cell_type": "code",
   "execution_count": 4,
   "id": "42ec250f-ecff-4d20-b56e-f9c17668ef63",
   "metadata": {},
   "outputs": [
    {
     "data": {
      "text/plain": [
       "[1, 2, 3]"
      ]
     },
     "execution_count": 4,
     "metadata": {},
     "output_type": "execute_result"
    }
   ],
   "source": [
    "#Example\n",
    "\n",
    "# Mutable\n",
    "my_list = [1, 2, 3]\n",
    "my_list"
   ]
  },
  {
   "cell_type": "code",
   "execution_count": 5,
   "id": "24d3e2b9-fd21-4206-b0f8-352639e9fa06",
   "metadata": {},
   "outputs": [
    {
     "data": {
      "text/plain": [
       "[4, 2, 3]"
      ]
     },
     "execution_count": 5,
     "metadata": {},
     "output_type": "execute_result"
    }
   ],
   "source": [
    "my_list[0] = 4  # Changes the list to [4, 2, 3]\n",
    "my_list"
   ]
  },
  {
   "cell_type": "code",
   "execution_count": 6,
   "id": "221adf28-5eff-47c1-9c18-7d282485bf5b",
   "metadata": {},
   "outputs": [
    {
     "data": {
      "text/plain": [
       "(1, 2, 3)"
      ]
     },
     "execution_count": 6,
     "metadata": {},
     "output_type": "execute_result"
    }
   ],
   "source": [
    "# Immutable\n",
    "my_tuple = (1, 2, 3)\n",
    "my_tuple"
   ]
  },
  {
   "cell_type": "code",
   "execution_count": 7,
   "id": "d4649f7b-9232-4007-a592-479a240e428f",
   "metadata": {},
   "outputs": [
    {
     "ename": "TypeError",
     "evalue": "'tuple' object does not support item assignment",
     "output_type": "error",
     "traceback": [
      "\u001b[0;31m---------------------------------------------------------------------------\u001b[0m",
      "\u001b[0;31mTypeError\u001b[0m                                 Traceback (most recent call last)",
      "Cell \u001b[0;32mIn[7], line 1\u001b[0m\n\u001b[0;32m----> 1\u001b[0m \u001b[43mmy_tuple\u001b[49m\u001b[43m[\u001b[49m\u001b[38;5;241;43m0\u001b[39;49m\u001b[43m]\u001b[49m \u001b[38;5;241m=\u001b[39m \u001b[38;5;241m4\u001b[39m  \u001b[38;5;66;03m# This will raise a TypeError\u001b[39;00m\n",
      "\u001b[0;31mTypeError\u001b[0m: 'tuple' object does not support item assignment"
     ]
    }
   ],
   "source": [
    "my_tuple[0] = 4  # This will raise a TypeError"
   ]
  },
  {
   "cell_type": "markdown",
   "id": "fa435c0a-66e2-4dd1-b5e6-3f6618fd4038",
   "metadata": {},
   "source": [
    "### 4. Types of Operators in Python\n",
    "\n",
    "Operators are special symbols that perform operations on variables and values. \n",
    "\n",
    "- **Arithmetic Operators**: `+`, `-`, `*`, `/`, `%`, `//`, `**`\n",
    "- **Comparison Operators**: `==`, `!=`, `>`, `<`, `>=`, `<=`\n",
    "- **Logical Operators**: `and`, `or`, `not`\n",
    "- **Bitwise Operators**: `&`, `|`, `^`, `~`, `<<`, `>>`\n",
    "- **Assignment Operators**: `=`, `+=`, `-=`, `*=`, `/=`\n",
    "- **Identity Operators**: `is`, `is not`\n",
    "- **Membership Operators**: `in`, `not in`\n",
    "\n",
    "Operators are symbols that perform operations on variables and values. Python includes various types of operators, each serving a different purpose. Here are detailed examples of each type of operator:\n",
    "\n",
    "#### Arithmetic Operators\n",
    "\n",
    "Arithmetic operators perform mathematical operations such as addition, subtraction, multiplication, and division."
   ]
  },
  {
   "cell_type": "code",
   "execution_count": 8,
   "id": "79e9644e-f354-47b6-857a-3e39eb2e1e05",
   "metadata": {},
   "outputs": [
    {
     "name": "stdout",
     "output_type": "stream",
     "text": [
      "13\n"
     ]
    }
   ],
   "source": [
    "#Examples\n",
    "\n",
    "a = 10\n",
    "b = 3\n",
    "\n",
    "# Addition\n",
    "print(a + b)  # Output: 13"
   ]
  },
  {
   "cell_type": "code",
   "execution_count": 9,
   "id": "6752de27-18b9-4b22-869c-3d377dc1dcea",
   "metadata": {},
   "outputs": [
    {
     "name": "stdout",
     "output_type": "stream",
     "text": [
      "7\n"
     ]
    }
   ],
   "source": [
    "# Subtraction\n",
    "print(a - b)  # Output: 7"
   ]
  },
  {
   "cell_type": "code",
   "execution_count": 10,
   "id": "75f2af97-fd97-4137-94d6-a086278928d5",
   "metadata": {},
   "outputs": [
    {
     "name": "stdout",
     "output_type": "stream",
     "text": [
      "30\n"
     ]
    }
   ],
   "source": [
    "# Multiplication\n",
    "print(a * b)  # Output: 30"
   ]
  },
  {
   "cell_type": "code",
   "execution_count": 11,
   "id": "0b73ee69-beaa-495d-beb9-56ecf787072f",
   "metadata": {},
   "outputs": [
    {
     "name": "stdout",
     "output_type": "stream",
     "text": [
      "3.3333333333333335\n"
     ]
    }
   ],
   "source": [
    "# Division\n",
    "print(a / b)  # Output: 3.3333333333333335"
   ]
  },
  {
   "cell_type": "code",
   "execution_count": 12,
   "id": "70bf0092-481d-47b6-a2f9-35cb0392f13a",
   "metadata": {},
   "outputs": [
    {
     "name": "stdout",
     "output_type": "stream",
     "text": [
      "1\n"
     ]
    }
   ],
   "source": [
    "# Modulus (remainder of the division)\n",
    "print(a % b)  # Output: 1"
   ]
  },
  {
   "cell_type": "code",
   "execution_count": 13,
   "id": "ad9e7b58-7ea7-4cd6-b141-908573e3d4fa",
   "metadata": {},
   "outputs": [
    {
     "name": "stdout",
     "output_type": "stream",
     "text": [
      "1000\n"
     ]
    }
   ],
   "source": [
    "# Exponentiation\n",
    "print(a ** b)  # Output: 1000"
   ]
  },
  {
   "cell_type": "code",
   "execution_count": 14,
   "id": "acd05d12-f229-4225-8127-441dce049d8b",
   "metadata": {},
   "outputs": [
    {
     "name": "stdout",
     "output_type": "stream",
     "text": [
      "3\n"
     ]
    }
   ],
   "source": [
    "# Floor Division\n",
    "print(a // b)  # Output: 3"
   ]
  },
  {
   "cell_type": "markdown",
   "id": "1439294d-5213-4e1d-89e1-3cfc3d363321",
   "metadata": {},
   "source": [
    "#### Comparison Operators\n",
    "\n",
    "Comparison operators are used to compare two values. They return a boolean value (True or False)."
   ]
  },
  {
   "cell_type": "code",
   "execution_count": 15,
   "id": "552c7199-5020-433e-aaa6-fbd712f5e032",
   "metadata": {},
   "outputs": [
    {
     "name": "stdout",
     "output_type": "stream",
     "text": [
      "False\n"
     ]
    }
   ],
   "source": [
    "#Examples\n",
    "\n",
    "a = 10\n",
    "b = 20\n",
    "\n",
    "# Equal to\n",
    "print(a == b)  # Output: False"
   ]
  },
  {
   "cell_type": "code",
   "execution_count": 16,
   "id": "ea911718-2099-4b8c-ae02-7dc10029ba5c",
   "metadata": {},
   "outputs": [
    {
     "name": "stdout",
     "output_type": "stream",
     "text": [
      "True\n"
     ]
    }
   ],
   "source": [
    "# Not equal to\n",
    "print(a != b)  # Output: True"
   ]
  },
  {
   "cell_type": "code",
   "execution_count": 17,
   "id": "67c8b9d7-750a-4346-8922-336cd748a111",
   "metadata": {},
   "outputs": [
    {
     "name": "stdout",
     "output_type": "stream",
     "text": [
      "False\n"
     ]
    }
   ],
   "source": [
    "# Greater than\n",
    "print(a > b)  # Output: False"
   ]
  },
  {
   "cell_type": "code",
   "execution_count": 18,
   "id": "59c2e17f-0a9c-40dc-b45e-09ba30db444d",
   "metadata": {},
   "outputs": [
    {
     "name": "stdout",
     "output_type": "stream",
     "text": [
      "True\n"
     ]
    }
   ],
   "source": [
    "# Less than\n",
    "print(a < b)  # Output: True"
   ]
  },
  {
   "cell_type": "code",
   "execution_count": 19,
   "id": "8d8abf6c-36f5-4f2e-afef-46de564751bb",
   "metadata": {},
   "outputs": [
    {
     "name": "stdout",
     "output_type": "stream",
     "text": [
      "False\n"
     ]
    }
   ],
   "source": [
    "# Greater than or equal to\n",
    "print(a >= b)  # Output: False"
   ]
  },
  {
   "cell_type": "code",
   "execution_count": 20,
   "id": "ef143f52-e254-433b-b247-0ce42fcaf7c8",
   "metadata": {},
   "outputs": [
    {
     "name": "stdout",
     "output_type": "stream",
     "text": [
      "True\n"
     ]
    }
   ],
   "source": [
    "# Less than or equal to\n",
    "print(a <= b)  # Output: True"
   ]
  },
  {
   "cell_type": "markdown",
   "id": "814d9e51-bed3-473f-b851-04c0a1abbc40",
   "metadata": {},
   "source": [
    "#### Logical Operators\n",
    "\n",
    "Logical operators are used to combine conditional statements."
   ]
  },
  {
   "cell_type": "code",
   "execution_count": 21,
   "id": "ed7fc46b-df01-4feb-9ab8-c1e276df4768",
   "metadata": {},
   "outputs": [
    {
     "name": "stdout",
     "output_type": "stream",
     "text": [
      "False\n"
     ]
    }
   ],
   "source": [
    "#Examples\n",
    "\n",
    "a = True\n",
    "b = False\n",
    "\n",
    "# and\n",
    "print(a and b)  # Output: False"
   ]
  },
  {
   "cell_type": "code",
   "execution_count": 22,
   "id": "f09ff5e1-9187-4d6f-bdef-26a3288f5f12",
   "metadata": {},
   "outputs": [
    {
     "name": "stdout",
     "output_type": "stream",
     "text": [
      "True\n"
     ]
    }
   ],
   "source": [
    "# or\n",
    "print(a or b)  # Output: True"
   ]
  },
  {
   "cell_type": "code",
   "execution_count": 23,
   "id": "a1c865c9-ba28-44ed-a1d3-fd5ed96093ef",
   "metadata": {},
   "outputs": [
    {
     "name": "stdout",
     "output_type": "stream",
     "text": [
      "False\n"
     ]
    }
   ],
   "source": [
    "# not\n",
    "print(not a)  # Output: False"
   ]
  },
  {
   "cell_type": "markdown",
   "id": "df93add5-9949-4710-8641-c3ce8be4e540",
   "metadata": {},
   "source": [
    "#### Bitwise Operators\n",
    "\n",
    "Bitwise operators are used to perform bit-level operations on binary numbers."
   ]
  },
  {
   "cell_type": "code",
   "execution_count": 24,
   "id": "52ee2b73-d4b1-4461-a8cb-8f708973e6da",
   "metadata": {},
   "outputs": [
    {
     "name": "stdout",
     "output_type": "stream",
     "text": [
      "0\n"
     ]
    }
   ],
   "source": [
    "#Examples\n",
    "\n",
    "a = 10  # In binary: 1010\n",
    "b = 4   # In binary: 0100\n",
    "\n",
    "# AND\n",
    "print(a & b)  # Output: 0 (Binary: 0000)"
   ]
  },
  {
   "cell_type": "code",
   "execution_count": 25,
   "id": "85c41036-ec3d-4de6-9e7a-f64215f9ba86",
   "metadata": {},
   "outputs": [
    {
     "name": "stdout",
     "output_type": "stream",
     "text": [
      "14\n"
     ]
    }
   ],
   "source": [
    "# OR\n",
    "print(a | b)  # Output: 14 (Binary: 1110)"
   ]
  },
  {
   "cell_type": "code",
   "execution_count": 26,
   "id": "ef913d1b-8d3a-4c40-a5b5-e92805533a0c",
   "metadata": {},
   "outputs": [
    {
     "name": "stdout",
     "output_type": "stream",
     "text": [
      "14\n"
     ]
    }
   ],
   "source": [
    "# XOR\n",
    "print(a ^ b)  # Output: 14 (Binary: 1110)"
   ]
  },
  {
   "cell_type": "code",
   "execution_count": 27,
   "id": "7e1adbc4-10ed-4df6-a95b-22acf4d8c821",
   "metadata": {},
   "outputs": [
    {
     "name": "stdout",
     "output_type": "stream",
     "text": [
      "-11\n"
     ]
    }
   ],
   "source": [
    "# NOT\n",
    "print(~a)  # Output: -11 (Binary: ...1111111111110101)"
   ]
  },
  {
   "cell_type": "code",
   "execution_count": 28,
   "id": "4c871fd5-6d91-4489-9977-ee244f627cfd",
   "metadata": {},
   "outputs": [
    {
     "name": "stdout",
     "output_type": "stream",
     "text": [
      "40\n"
     ]
    }
   ],
   "source": [
    "# Left Shift\n",
    "print(a << 2)  # Output: 40 (Binary: 101000)"
   ]
  },
  {
   "cell_type": "code",
   "execution_count": 29,
   "id": "4fc7cb98-2aa5-4818-b6ba-90faab4ff635",
   "metadata": {},
   "outputs": [
    {
     "name": "stdout",
     "output_type": "stream",
     "text": [
      "2\n"
     ]
    }
   ],
   "source": [
    "# Right Shift\n",
    "print(a >> 2)  # Output: 2 (Binary: 0010)"
   ]
  },
  {
   "cell_type": "markdown",
   "id": "9ba10163-8a0f-480b-acf9-75d68538dfa3",
   "metadata": {},
   "source": [
    "#### Assignment Operators\n",
    "\n",
    "Assignment operators are used to assign values to variables."
   ]
  },
  {
   "cell_type": "code",
   "execution_count": 30,
   "id": "69f64ac6-0863-4cb6-8b2c-c42eb1dbb82d",
   "metadata": {},
   "outputs": [
    {
     "name": "stdout",
     "output_type": "stream",
     "text": [
      "5\n"
     ]
    }
   ],
   "source": [
    "#Examples\n",
    "\n",
    "a = 10\n",
    "\n",
    "# Assign\n",
    "a = 5\n",
    "print(a)  # Output: 5"
   ]
  },
  {
   "cell_type": "code",
   "execution_count": 31,
   "id": "47d3451b-5c9f-4a25-bd32-01f8956dd056",
   "metadata": {},
   "outputs": [
    {
     "name": "stdout",
     "output_type": "stream",
     "text": [
      "8\n"
     ]
    }
   ],
   "source": [
    "# Add and assign\n",
    "a += 3\n",
    "print(a)  # Output: 8"
   ]
  },
  {
   "cell_type": "code",
   "execution_count": 32,
   "id": "3cf451c0-a62d-4e8f-9a75-72886599db99",
   "metadata": {},
   "outputs": [
    {
     "name": "stdout",
     "output_type": "stream",
     "text": [
      "6\n"
     ]
    }
   ],
   "source": [
    "# Subtract and assign\n",
    "a -= 2\n",
    "print(a)  # Output: 6"
   ]
  },
  {
   "cell_type": "code",
   "execution_count": 33,
   "id": "3e98f77a-74a2-4eb7-a51e-14bfd68e06ed",
   "metadata": {},
   "outputs": [
    {
     "name": "stdout",
     "output_type": "stream",
     "text": [
      "12\n"
     ]
    }
   ],
   "source": [
    "# Multiply and assign\n",
    "a *= 2\n",
    "print(a)  # Output: 12"
   ]
  },
  {
   "cell_type": "code",
   "execution_count": 34,
   "id": "edb9f00b-0c30-4e9e-89db-688955b9eec6",
   "metadata": {},
   "outputs": [
    {
     "name": "stdout",
     "output_type": "stream",
     "text": [
      "4.0\n"
     ]
    }
   ],
   "source": [
    "# Divide and assign\n",
    "a /= 3\n",
    "print(a)  # Output: 4.0"
   ]
  },
  {
   "cell_type": "code",
   "execution_count": 35,
   "id": "936fadf7-ec52-4882-96f2-13476354da12",
   "metadata": {},
   "outputs": [
    {
     "name": "stdout",
     "output_type": "stream",
     "text": [
      "1.0\n"
     ]
    }
   ],
   "source": [
    "# Modulus and assign\n",
    "a %= 3\n",
    "print(a)  # Output: 1.0"
   ]
  },
  {
   "cell_type": "code",
   "execution_count": 36,
   "id": "4f8b2d69-2e13-4f18-a2e5-484fe79d6ca1",
   "metadata": {},
   "outputs": [
    {
     "name": "stdout",
     "output_type": "stream",
     "text": [
      "0.0\n"
     ]
    }
   ],
   "source": [
    "# Floor division and assign\n",
    "a //= 2\n",
    "print(a)  # Output: 0.0"
   ]
  },
  {
   "cell_type": "code",
   "execution_count": 37,
   "id": "93925220-f64c-4028-978c-301eefa4804c",
   "metadata": {},
   "outputs": [
    {
     "name": "stdout",
     "output_type": "stream",
     "text": [
      "0.0\n"
     ]
    }
   ],
   "source": [
    "# Exponentiation and assign\n",
    "a **= 2\n",
    "print(a)  # Output: 0.0"
   ]
  },
  {
   "cell_type": "code",
   "execution_count": 38,
   "id": "86ca6c3f-ef3f-4f28-ae66-47b83863cf61",
   "metadata": {},
   "outputs": [
    {
     "name": "stdout",
     "output_type": "stream",
     "text": [
      "2\n"
     ]
    }
   ],
   "source": [
    "# Bitwise AND and assign\n",
    "a = 10\n",
    "a &= 3\n",
    "print(a)  # Output: 2"
   ]
  },
  {
   "cell_type": "code",
   "execution_count": 39,
   "id": "697d1ce5-1242-4c99-925a-17feb67abd62",
   "metadata": {},
   "outputs": [
    {
     "name": "stdout",
     "output_type": "stream",
     "text": [
      "2\n"
     ]
    }
   ],
   "source": [
    "# Bitwise OR and assign\n",
    "a |= 2\n",
    "print(a)  # Output: 2"
   ]
  },
  {
   "cell_type": "code",
   "execution_count": 40,
   "id": "3ea21864-0b48-4660-847e-8305feb8481f",
   "metadata": {},
   "outputs": [
    {
     "name": "stdout",
     "output_type": "stream",
     "text": [
      "3\n"
     ]
    }
   ],
   "source": [
    "# Bitwise XOR and assign\n",
    "a ^= 1\n",
    "print(a)  # Output: 3"
   ]
  },
  {
   "cell_type": "code",
   "execution_count": 41,
   "id": "5671182c-d56a-4ce5-a3b3-085c23dbd307",
   "metadata": {},
   "outputs": [
    {
     "name": "stdout",
     "output_type": "stream",
     "text": [
      "6\n"
     ]
    }
   ],
   "source": [
    "# Bitwise Left Shift and assign\n",
    "a <<= 1\n",
    "print(a)  # Output: 6"
   ]
  },
  {
   "cell_type": "code",
   "execution_count": 42,
   "id": "fa3a23bc-399d-45aa-8e50-602cfa644b04",
   "metadata": {},
   "outputs": [
    {
     "name": "stdout",
     "output_type": "stream",
     "text": [
      "3\n"
     ]
    }
   ],
   "source": [
    "# Bitwise Right Shift and assign\n",
    "a >>= 1\n",
    "print(a)  # Output: 3"
   ]
  },
  {
   "cell_type": "markdown",
   "id": "77f29860-92e5-4a70-8900-5b18d356e244",
   "metadata": {},
   "source": [
    "#### Identity Operators\n",
    "\n",
    "Identity operators are used to compare the memory locations of two objects."
   ]
  },
  {
   "cell_type": "code",
   "execution_count": 43,
   "id": "beb59bb6-e295-42b7-88d4-2191fc6ed286",
   "metadata": {},
   "outputs": [
    {
     "name": "stdout",
     "output_type": "stream",
     "text": [
      "True\n",
      "False\n"
     ]
    }
   ],
   "source": [
    "#Examples\n",
    "\n",
    "a = 10\n",
    "b = 10\n",
    "c = a\n",
    "\n",
    "# is\n",
    "print(a is b)  # Output: True (Both point to the same object)\n",
    "\n",
    "# is not\n",
    "print(a is not c)  # Output: False (Both point to the same object)"
   ]
  },
  {
   "cell_type": "markdown",
   "id": "3c51a0d4-eb39-47a5-8cf3-9a1c26650f89",
   "metadata": {},
   "source": [
    "#### Membership Operators\n",
    "\n",
    "Membership operators are used to test if a sequence contains a specified element."
   ]
  },
  {
   "cell_type": "code",
   "execution_count": 44,
   "id": "a542984e-6328-4617-be6e-e3b9a155daea",
   "metadata": {},
   "outputs": [
    {
     "name": "stdout",
     "output_type": "stream",
     "text": [
      "True\n",
      "True\n"
     ]
    }
   ],
   "source": [
    "#Examples\n",
    "\n",
    "my_list = [1, 2, 3, 4, 5]\n",
    "\n",
    "# in\n",
    "print(3 in my_list)  # Output: True\n",
    "\n",
    "# not in\n",
    "print(6 not in my_list)  # Output: True"
   ]
  },
  {
   "cell_type": "markdown",
   "id": "34ed3dfb-6cfb-4f23-8f69-3b13bd2b796a",
   "metadata": {},
   "source": [
    "### Summary\n",
    "\n",
    "- **Arithmetic Operators**: Perform basic mathematical operations.\n",
    "- **Comparison Operators**: Compare two values and return a boolean result.\n",
    "- **Logical Operators**: Combine conditional statements.\n",
    "- **Bitwise Operators**: Perform bit-level operations on binary numbers.\n",
    "- **Assignment Operators**: Assign values to variables.\n",
    "- **Identity Operators**: Compare the memory locations of two objects.\n",
    "- **Membership Operators**: Test if a value is found in a sequence."
   ]
  },
  {
   "cell_type": "markdown",
   "id": "0f0e4d25-9265-46bd-ae93-00bea26b2ac4",
   "metadata": {},
   "source": [
    "### 5. Concept of Type Casting in Python\n",
    "\n",
    "Type casting refers to converting one data type to another. "
   ]
  },
  {
   "cell_type": "code",
   "execution_count": 45,
   "id": "5f2252fe-e753-47af-8802-aa845c1d5af2",
   "metadata": {},
   "outputs": [
    {
     "name": "stdout",
     "output_type": "stream",
     "text": [
      "<class 'int'> <class 'float'> <class 'float'>\n",
      "<class 'str'> <class 'int'> <class 'float'>\n"
     ]
    }
   ],
   "source": [
    "#Examples\n",
    "# Implicit Type Casting\n",
    "a = 10 #int\n",
    "b = 2.5 #float\n",
    "c = a + b  # c becomes 12.5 which is float\n",
    "print(type(a),type(b),type(c))\n",
    "\n",
    "# Explicit Type Casting\n",
    "x = \"123\" #string\n",
    "y = int(x)  # y becomes 123 which is intiger\n",
    "z = float(x)  # z becomes 123.0 which is float\n",
    "print(type(x),type(y),type(z))"
   ]
  },
  {
   "cell_type": "markdown",
   "id": "abacfbb2-bcc1-4f16-8f0b-caf4e2875b38",
   "metadata": {},
   "source": [
    "### 6. Conditional Statements in Python\n",
    "\n",
    "Conditional statements allow a program to execute certain pieces of code based on whether a condition is true or false. The primary conditional statements in Python are `if`, `elif`, and `else`.\n",
    "\n",
    "#### Basic `if` Statement\n",
    "\n",
    "The `if` statement evaluates a condition, and if the condition is true, it executes the block of code within it.\n",
    "\n",
    "**Syntax**:\n",
    "```python\n",
    "if condition:\n",
    "    # Code to execute if condition is true\n",
    "```"
   ]
  },
  {
   "cell_type": "code",
   "execution_count": 46,
   "id": "4f8f4930-24ca-4308-a7ee-6702661dc9f0",
   "metadata": {},
   "outputs": [
    {
     "name": "stdout",
     "output_type": "stream",
     "text": [
      "x is greater than 5\n"
     ]
    }
   ],
   "source": [
    "#Example\n",
    "\n",
    "x = 10\n",
    "\n",
    "if x > 5:\n",
    "    print(\"x is greater than 5\")  # Output: x is greater than 5"
   ]
  },
  {
   "cell_type": "markdown",
   "id": "a74aae5b-5247-4ba8-8952-be5c88536954",
   "metadata": {},
   "source": [
    "#### `if`-`else` Statement\n",
    "\n",
    "The `else` statement is used to execute a block of code if the condition in the `if` statement is false.\n",
    "\n",
    "**Syntax**:\n",
    "```python\n",
    "if condition:\n",
    "    # Code to execute if condition is true\n",
    "else:\n",
    "    # Code to execute if condition is false\n",
    "```"
   ]
  },
  {
   "cell_type": "code",
   "execution_count": 47,
   "id": "cc574859-5f25-4065-bfb5-4ca6a1e9ae93",
   "metadata": {},
   "outputs": [
    {
     "name": "stdout",
     "output_type": "stream",
     "text": [
      "x is less than or equal to 5\n"
     ]
    }
   ],
   "source": [
    "#Example\n",
    "\n",
    "x = 3\n",
    "\n",
    "if x > 5:\n",
    "    print(\"x is greater than 5\")\n",
    "else:\n",
    "    print(\"x is less than or equal to 5\")  # Output: x is less than or equal to 5"
   ]
  },
  {
   "cell_type": "markdown",
   "id": "5a1f8f7e-6bf2-46d0-bdfb-812fb978ef1e",
   "metadata": {},
   "source": [
    "#### `if`-`elif`-`else` Statement\n",
    "\n",
    "The `elif` (short for \"else if\") statement allows you to check multiple expressions for true and execute a block of code as soon as one of the conditions is true. If none of the conditions are true, the `else` block is executed.\n",
    "\n",
    "**Syntax**:\n",
    "```python\n",
    "if condition1:\n",
    "    # Code to execute if condition1 is true\n",
    "elif condition2:\n",
    "    # Code to execute if condition2 is true\n",
    "else:\n",
    "    # Code to execute if none of the above conditions are true\n",
    "```"
   ]
  },
  {
   "cell_type": "code",
   "execution_count": 48,
   "id": "c234ee18-ab65-44c1-bde4-8bb5423cb2da",
   "metadata": {},
   "outputs": [
    {
     "name": "stdout",
     "output_type": "stream",
     "text": [
      "x is greater than 5 but less than or equal to 10\n"
     ]
    }
   ],
   "source": [
    "#Example\n",
    "\n",
    "x = 7\n",
    "\n",
    "if x > 10:\n",
    "    print(\"x is greater than 10\")\n",
    "elif x > 5:\n",
    "    print(\"x is greater than 5 but less than or equal to 10\")  # Output: x is greater than 5 but less than or equal to 10\n",
    "else:\n",
    "    print(\"x is 5 or less\")"
   ]
  },
  {
   "cell_type": "markdown",
   "id": "4bd175d1-b593-409a-b4f5-0848bca49640",
   "metadata": {},
   "source": [
    "#### Nested Conditional Statements\n",
    "\n",
    "You can nest `if`, `elif`, and `else` statements within each other to create complex conditional logic."
   ]
  },
  {
   "cell_type": "code",
   "execution_count": 49,
   "id": "cac1bfcf-03ce-40db-98b6-c42c23581843",
   "metadata": {},
   "outputs": [
    {
     "name": "stdout",
     "output_type": "stream",
     "text": [
      "x is greater than 10\n",
      "x is not greater than 20\n"
     ]
    }
   ],
   "source": [
    "#Example\n",
    "\n",
    "x = 15\n",
    "\n",
    "if x > 10:\n",
    "    print(\"x is greater than 10\")  # Output: x is greater than 10\n",
    "    if x > 20:\n",
    "        print(\"x is also greater than 20\")\n",
    "    else:\n",
    "        print(\"x is not greater than 20\")  # Output: x is not greater than 20\n",
    "else:\n",
    "    print(\"x is 10 or less\")"
   ]
  },
  {
   "cell_type": "markdown",
   "id": "3d2fbaeb-d9ed-4fe6-a1bb-9d9974a61754",
   "metadata": {},
   "source": [
    "#### Conditional Expressions (Ternary Operator)\n",
    "\n",
    "Python also supports a shorthand for `if`-`else` statements known as the ternary operator or conditional expression.\n",
    "\n",
    "**Syntax**:\n",
    "```python\n",
    "value_if_true if condition else value_if_false\n",
    "```"
   ]
  },
  {
   "cell_type": "code",
   "execution_count": 50,
   "id": "4e1884fd-e988-4cf1-a161-cd48f399419e",
   "metadata": {},
   "outputs": [
    {
     "name": "stdout",
     "output_type": "stream",
     "text": [
      "Even\n"
     ]
    }
   ],
   "source": [
    "#Example\n",
    "\n",
    "x = 8\n",
    "result = \"Even\" if x % 2 == 0 else \"Odd\"\n",
    "print(result)  # Output: Even"
   ]
  },
  {
   "cell_type": "markdown",
   "id": "55aefc84-4fa9-491a-846d-458fbd7a7544",
   "metadata": {},
   "source": [
    "#### Combining Conditions\n",
    "\n",
    "You can combine multiple conditions using logical operators `and`, `or`, and `not`."
   ]
  },
  {
   "cell_type": "code",
   "execution_count": 51,
   "id": "bcf57ea1-e1a4-41e2-a769-7fba0b235b09",
   "metadata": {},
   "outputs": [
    {
     "name": "stdout",
     "output_type": "stream",
     "text": [
      "Both x and y are greater than 10\n",
      "At least one of x or y is greater than 10 or 20\n",
      "x is not less than 5\n"
     ]
    }
   ],
   "source": [
    "#Example\n",
    "\n",
    "x = 12\n",
    "y = 15\n",
    "\n",
    "# Using 'and' operator\n",
    "if x > 10 and y > 10:\n",
    "    print(\"Both x and y are greater than 10\")  # Output: Both x and y are greater than 10\n",
    "\n",
    "# Using 'or' operator\n",
    "if x > 10 or y > 20:\n",
    "    print(\"At least one of x or y is greater than 10 or 20\")\n",
    "\n",
    "# Using 'not' operator\n",
    "if not (x < 5):\n",
    "    print(\"x is not less than 5\")  # Output: x is not less than 5"
   ]
  },
  {
   "cell_type": "markdown",
   "id": "37c99c64-ae8e-46a9-888b-7f3bc86329cd",
   "metadata": {},
   "source": [
    "#### Summary\n",
    "\n",
    "- **`if` Statement**: Executes a block of code if the condition is true.\n",
    "- **`if`-`else` Statement**: Executes one block of code if the condition is true, and another block if it is false.\n",
    "- **`if`-`elif`-`else` Statement**: Checks multiple conditions, executing corresponding blocks of code for the first true condition.\n",
    "- **Nested Conditionals**: Conditional statements within other conditional statements for complex logic.\n",
    "- **Conditional Expressions**: Shorthand for `if`-`else` statements.\n",
    "- **Combining Conditions**: Using logical operators to evaluate multiple conditions."
   ]
  },
  {
   "cell_type": "markdown",
   "id": "a421e9e6-9124-4041-9427-feb380313428",
   "metadata": {},
   "source": [
    "### 7. Different Types of Loops in Python\n",
    "\n",
    "Loops are a fundamental programming construct that allow you to execute a block of code repeatedly based on a condition. Python supports two main types of loops: `for` and `while`.\n",
    "\n",
    "#### `for` Loop\n",
    "\n",
    "The `for` loop is used to iterate over a sequence (such as a list, tuple, dictionary, set, or string) and execute a block of code for each element in the sequence.\n",
    "\n",
    "**Syntax**:\n",
    "```python\n",
    "for element in sequence:\n",
    "    # Code to execute for each element\n",
    "```"
   ]
  },
  {
   "cell_type": "code",
   "execution_count": 52,
   "id": "cf705b53-b765-46f1-8798-ed62b3e6a4f2",
   "metadata": {},
   "outputs": [
    {
     "name": "stdout",
     "output_type": "stream",
     "text": [
      "1\n",
      "2\n",
      "3\n",
      "4\n",
      "5\n"
     ]
    }
   ],
   "source": [
    "#Example\n",
    "\n",
    "# Iterating over a list\n",
    "numbers = [1, 2, 3, 4, 5]\n",
    "for number in numbers:\n",
    "    print(number)  # Output: 1 2 3 4 5"
   ]
  },
  {
   "cell_type": "code",
   "execution_count": 53,
   "id": "8e62cd79-2646-445c-a407-c5370aa27ba4",
   "metadata": {},
   "outputs": [
    {
     "name": "stdout",
     "output_type": "stream",
     "text": [
      "h\n",
      "e\n",
      "l\n",
      "l\n",
      "o\n"
     ]
    }
   ],
   "source": [
    "# Iterating over a string\n",
    "for char in \"hello\":\n",
    "    print(char)  # Output: h e l l o"
   ]
  },
  {
   "cell_type": "code",
   "execution_count": 54,
   "id": "780198c8-5c7e-4ef2-ba4a-0c66c0592159",
   "metadata": {},
   "outputs": [
    {
     "name": "stdout",
     "output_type": "stream",
     "text": [
      "0\n",
      "1\n",
      "2\n",
      "3\n",
      "4\n"
     ]
    }
   ],
   "source": [
    "# Using range()\n",
    "for i in range(5):\n",
    "    print(i)  # Output: 0 1 2 3 4"
   ]
  },
  {
   "cell_type": "markdown",
   "id": "d15f510c-eabf-457a-9598-92a003709f1d",
   "metadata": {},
   "source": [
    "#### `while` Loop\n",
    "\n",
    "The `while` loop continues to execute a block of code as long as the specified condition is true.\n",
    "\n",
    "**Syntax**:\n",
    "```python\n",
    "while condition:\n",
    "    # Code to execute while condition is true\n",
    "```"
   ]
  },
  {
   "cell_type": "code",
   "execution_count": 55,
   "id": "755a7059-5369-4e84-88bd-03766155a09d",
   "metadata": {},
   "outputs": [
    {
     "name": "stdout",
     "output_type": "stream",
     "text": [
      "0\n",
      "1\n",
      "2\n",
      "3\n",
      "4\n"
     ]
    }
   ],
   "source": [
    "#Example\n",
    "\n",
    "count = 0\n",
    "while count < 5:\n",
    "    print(count)  # Output: 0 1 2 3 4\n",
    "    count += 1"
   ]
  },
  {
   "cell_type": "markdown",
   "id": "de916bee-ad34-4d8f-b63d-7ef1554cafaf",
   "metadata": {},
   "source": [
    "#### Nested Loops\n",
    "\n",
    "You can nest loops within each other to perform more complex iterations."
   ]
  },
  {
   "cell_type": "code",
   "execution_count": 56,
   "id": "4a52a95c-08f1-4f89-95fb-92d200b0610c",
   "metadata": {},
   "outputs": [
    {
     "name": "stdout",
     "output_type": "stream",
     "text": [
      "i: 0, j: 0\n",
      "i: 0, j: 1\n",
      "i: 1, j: 0\n",
      "i: 1, j: 1\n",
      "i: 2, j: 0\n",
      "i: 2, j: 1\n"
     ]
    }
   ],
   "source": [
    "#Example\n",
    "\n",
    "# Nested for loop\n",
    "for i in range(3):\n",
    "    for j in range(2):\n",
    "        print(f\"i: {i}, j: {j}\")\n",
    "# Output:\n",
    "# i: 0, j: 0\n",
    "# i: 0, j: 1\n",
    "# i: 1, j: 0\n",
    "# i: 1, j: 1\n",
    "# i: 2, j: 0\n",
    "# i: 2, j: 1"
   ]
  },
  {
   "cell_type": "markdown",
   "id": "f7f7e0ed-97d5-4dda-914d-944b3a19da70",
   "metadata": {},
   "source": [
    "#### Loop Control Statements\n",
    "\n",
    "Python provides several control statements that you can use within loops to modify their behavior:\n",
    "\n",
    "- **`break`**: Terminates the loop prematurely.\n",
    "- **`continue`**: Skips the current iteration and proceeds to the next iteration.\n",
    "- **`else`**: Executes a block of code once the loop completes normally (i.e., not terminated by a `break` statement)."
   ]
  },
  {
   "cell_type": "code",
   "execution_count": 57,
   "id": "d02dd417-b196-49c1-8ef8-2999e464d9c7",
   "metadata": {},
   "outputs": [
    {
     "name": "stdout",
     "output_type": "stream",
     "text": [
      "0\n",
      "1\n",
      "2\n",
      "3\n",
      "4\n"
     ]
    }
   ],
   "source": [
    "#Example\n",
    "\n",
    "# break\n",
    "for i in range(10):\n",
    "    if i == 5:\n",
    "        break\n",
    "    print(i)  # Output: 0 1 2 3 4"
   ]
  },
  {
   "cell_type": "code",
   "execution_count": 58,
   "id": "06a63b3f-6e39-4219-bd8d-159aee01c255",
   "metadata": {},
   "outputs": [
    {
     "name": "stdout",
     "output_type": "stream",
     "text": [
      "1\n",
      "3\n",
      "5\n",
      "7\n",
      "9\n"
     ]
    }
   ],
   "source": [
    "# continue\n",
    "for i in range(10):\n",
    "    if i % 2 == 0:\n",
    "        continue\n",
    "    print(i)  # Output: 1 3 5 7 9"
   ]
  },
  {
   "cell_type": "code",
   "execution_count": 59,
   "id": "57aee3d9-8fdb-4d99-8fbf-e1840d3b6b12",
   "metadata": {},
   "outputs": [
    {
     "name": "stdout",
     "output_type": "stream",
     "text": [
      "0\n",
      "1\n",
      "2\n",
      "3\n",
      "4\n",
      "Loop completed\n"
     ]
    }
   ],
   "source": [
    "# else\n",
    "for i in range(5):\n",
    "    print(i)\n",
    "else:\n",
    "    print(\"Loop completed\")  # Output: 0 1 2 3 4 Loop completed"
   ]
  },
  {
   "cell_type": "markdown",
   "id": "40e73beb-81f5-4295-b433-d9a9a918322f",
   "metadata": {},
   "source": [
    "### Summary\n",
    "\n",
    "- **`for` Loop**: Used for iterating over sequences.\n",
    "- **`while` Loop**: Used for iterating as long as a condition is true.\n",
    "- **Nested Loops**: Loops inside loops for more complex iteration.\n",
    "- **Loop Control Statements**: `break`, `continue`, and `else` modify loop behavior.\n",
    "\n",
    "### Use Cases:\n",
    "\n",
    "- **For Loop**: Generally used when the number of iterations is known.\n",
    "- **While Loop**: Used when the number of iterations is not known and depends on a condition."
   ]
  },
  {
   "cell_type": "markdown",
   "id": "5692a077-a470-4332-bd7e-894d5529edd4",
   "metadata": {},
   "source": [
    "### Real-World Use Case: Cricket World Cup Analysis\n",
    "\n",
    "Let's consider an example where we analyze player performance data from an ongoing Cricket World Cup. The goal is to calculate the total runs scored by each player, identify the top scorer, and determine the average runs per match.\n",
    "\n",
    "#### Dataset Example\n",
    "We will use a list of dictionaries, where each dictionary represents a match record with player names, runs scored, and the match date."
   ]
  },
  {
   "cell_type": "code",
   "execution_count": 60,
   "id": "90529d5a-731d-4030-8465-8a786d0be37d",
   "metadata": {},
   "outputs": [],
   "source": [
    "# Dataset of match records\n",
    "matches = [\n",
    "    {\"player\": \"Player A\", \"runs\": 120, \"date\": \"2023-06-01\"},\n",
    "    {\"player\": \"Player B\", \"runs\": 75, \"date\": \"2023-06-01\"},\n",
    "    {\"player\": \"Player A\", \"runs\": 45, \"date\": \"2023-06-02\"},\n",
    "    {\"player\": \"Player C\", \"runs\": 60, \"date\": \"2023-06-02\"},\n",
    "    {\"player\": \"Player B\", \"runs\": 89, \"date\": \"2023-06-03\"},\n",
    "    {\"player\": \"Player C\", \"runs\": 110, \"date\": \"2023-06-03\"},\n",
    "    {\"player\": \"Player A\", \"runs\": 70, \"date\": \"2023-06-04\"},\n",
    "    {\"player\": \"Player B\", \"runs\": 120, \"date\": \"2023-06-04\"},\n",
    "]"
   ]
  },
  {
   "cell_type": "code",
   "execution_count": 61,
   "id": "1155ef3c-5a87-4f80-adf6-8fc89a331163",
   "metadata": {},
   "outputs": [
    {
     "name": "stdout",
     "output_type": "stream",
     "text": [
      "Total Runs by Each Player: {'Player A': 235, 'Player B': 284, 'Player C': 170}\n",
      "Average Runs Per Match: 86.12\n",
      "Top Scorer: Player B with 284 runs\n"
     ]
    }
   ],
   "source": [
    "# Initialize variables\n",
    "total_runs = {}\n",
    "match_count = len(matches)\n",
    "\n",
    "# Loop through the matches\n",
    "for match in matches:\n",
    "    runs = match[\"runs\"]\n",
    "    player = match[\"player\"]\n",
    "    \n",
    "    # Update player run totals\n",
    "    if player in total_runs:\n",
    "        total_runs[player] += runs\n",
    "    else:\n",
    "        total_runs[player] = runs\n",
    "\n",
    "# Calculate total runs scored across all matches\n",
    "total_all_runs = sum(total_runs.values())\n",
    "\n",
    "# Calculate average runs per match\n",
    "average_runs_per_match = total_all_runs / match_count\n",
    "\n",
    "# Identify the top scorer\n",
    "top_scorer = max(total_runs, key=total_runs.get)\n",
    "\n",
    "# Print results\n",
    "print(f\"Total Runs by Each Player: {total_runs}\")\n",
    "print(f\"Average Runs Per Match: {average_runs_per_match:.2f}\")\n",
    "print(f\"Top Scorer: {top_scorer} with {total_runs[top_scorer]} runs\")\n",
    "\n",
    "# Output:\n",
    "# Total Runs by Each Player: {'Player A': 235, 'Player B': 284, 'Player C': 170}\n",
    "# Average Runs Per Match: 98.88\n",
    "# Top Scorer: Player B with 284 runs"
   ]
  },
  {
   "cell_type": "markdown",
   "id": "dff77e58-2f5c-4ded-bc12-6e99b0c97734",
   "metadata": {},
   "source": [
    "#### Explanation:\n",
    "\n",
    "- **Initialization**:\n",
    "  - `total_runs` is a dictionary to keep track of each player's total runs.\n",
    "  - `match_count` is set to the total number of matches in the dataset.\n",
    "\n",
    "- **Loop Through Matches**:\n",
    "  - Each match record is iterated over.\n",
    "  - The player's run total is updated in the `total_runs` dictionary. If the player is not already in the dictionary, they are added.\n",
    "\n",
    "- **Calculate Average Runs Per Match**:\n",
    "  - `total_all_runs` is calculated by summing the values in `total_runs`.\n",
    "  - `average_runs_per_match` is calculated by dividing `total_all_runs` by `match_count`.\n",
    "\n",
    "- **Identify Top Scorer**:\n",
    "  - `top_scorer` is identified using the `max()` function on `total_runs` with the `key` parameter set to `total_runs.get` to get the player with the highest total runs.\n",
    "\n",
    "This example demonstrates how to use loops and dictionaries to analyze player performance data in a Cricket World Cup, providing meaningful insights into player statistics."
   ]
  },
  {
   "cell_type": "markdown",
   "id": "9ef0d29f-eaa2-4305-856a-b3dc120e6533",
   "metadata": {},
   "source": [
    "#### End of Assignment 1"
   ]
  }
 ],
 "metadata": {
  "kernelspec": {
   "display_name": "Python 3 (ipykernel)",
   "language": "python",
   "name": "python3"
  },
  "language_info": {
   "codemirror_mode": {
    "name": "ipython",
    "version": 3
   },
   "file_extension": ".py",
   "mimetype": "text/x-python",
   "name": "python",
   "nbconvert_exporter": "python",
   "pygments_lexer": "ipython3",
   "version": "3.10.8"
  }
 },
 "nbformat": 4,
 "nbformat_minor": 5
}

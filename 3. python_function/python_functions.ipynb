{
 "cells": [
  {
   "cell_type": "markdown",
   "metadata": {},
   "source": [
    "### Theory Questions\n",
    "\n",
    "1. **Difference between a function and a method in Python:**\n",
    "\n",
    "   - **Function:** \n",
    "     A function is a block of reusable code that is independent of any object and can be called with zero or more arguments. Functions can perform operations, return results, and be used in various parts of a program. For example, a function to calculate the factorial of a number:"
   ]
  },
  {
   "cell_type": "code",
   "execution_count": 1,
   "metadata": {},
   "outputs": [
    {
     "name": "stdout",
     "output_type": "stream",
     "text": [
      "120\n"
     ]
    }
   ],
   "source": [
    "def factorial(n):\n",
    "    if n == 0:\n",
    "        return 1\n",
    "    else:\n",
    "        return n * factorial(n-1)\n",
    "\n",
    "print(factorial(5))  # Outputs 120"
   ]
  },
  {
   "cell_type": "markdown",
   "metadata": {},
   "source": [
    "   - **Method:**\n",
    "     A method is similar to a function but is associated with an object. It can access and modify the object's state. Methods are defined within a class. For instance, consider a `Circle` class with a method to calculate its area:"
   ]
  },
  {
   "cell_type": "code",
   "execution_count": 2,
   "metadata": {},
   "outputs": [
    {
     "name": "stdout",
     "output_type": "stream",
     "text": [
      "78.53981633974483\n"
     ]
    }
   ],
   "source": [
    "import math\n",
    "\n",
    "class Circle:\n",
    "    def __init__(self, radius):\n",
    "        self.radius = radius\n",
    "\n",
    "    def area(self):\n",
    "        return math.pi * (self.radius ** 2)\n",
    "\n",
    "circle = Circle(5)\n",
    "print(circle.area())  # Outputs 78.53981633974483"
   ]
  },
  {
   "cell_type": "markdown",
   "metadata": {},
   "source": [
    "2. **Function arguments and parameters in Python:**\n",
    "\n",
    "   - **Parameters:** Variables listed inside the parentheses in the function definition. They act as placeholders for the values that will be passed to the function.\n",
    "   - **Arguments:** Actual values that are passed to the function when it is called."
   ]
  },
  {
   "cell_type": "code",
   "execution_count": 3,
   "metadata": {},
   "outputs": [
    {
     "name": "stdout",
     "output_type": "stream",
     "text": [
      "Hello, Gaurav!\n"
     ]
    }
   ],
   "source": [
    "#Example\n",
    "def greet(name):  # 'name' is a parameter\n",
    "    return f\"Hello, {name}!\"\n",
    "\n",
    "print(greet(\"Gaurav\"))  # 'Gaurav' is an argument"
   ]
  },
  {
   "cell_type": "markdown",
   "metadata": {},
   "source": [
    "   **Real-life analogy:** Consider a coffee machine (function). The machine has a slot for inserting coins (parameters). When you insert a coin (argument), the machine dispenses coffee."
   ]
  },
  {
   "cell_type": "markdown",
   "metadata": {},
   "source": [
    "3. **Different ways to define and call a function in Python:**\n",
    "\n",
    "   - **Standard function definition:**"
   ]
  },
  {
   "cell_type": "code",
   "execution_count": 4,
   "metadata": {},
   "outputs": [
    {
     "name": "stdout",
     "output_type": "stream",
     "text": [
      "6\n"
     ]
    }
   ],
   "source": [
    "def multiply(x, y):\n",
    "    return x * y\n",
    "\n",
    "print(multiply(2, 3))  # Outputs 6"
   ]
  },
  {
   "cell_type": "markdown",
   "metadata": {},
   "source": [
    "     **Use case:** Multiplying two numbers provided by a user in a calculator application."
   ]
  },
  {
   "cell_type": "markdown",
   "metadata": {},
   "source": [
    "   - **Lambda function:** A small anonymous function defined using the `lambda` keyword, often used for short-term operations."
   ]
  },
  {
   "cell_type": "code",
   "execution_count": 5,
   "metadata": {},
   "outputs": [
    {
     "name": "stdout",
     "output_type": "stream",
     "text": [
      "6\n"
     ]
    }
   ],
   "source": [
    "multiply = lambda x, y: x * y\n",
    "print(multiply(2, 3))  # Outputs 6"
   ]
  },
  {
   "cell_type": "markdown",
   "metadata": {},
   "source": [
    "     **Use case:** Sorting a list of dictionaries by a specific key value."
   ]
  },
  {
   "cell_type": "code",
   "execution_count": 6,
   "metadata": {},
   "outputs": [
    {
     "name": "stdout",
     "output_type": "stream",
     "text": [
      "[{'name': 'banana', 'price': 5}, {'name': 'apple', 'price': 10}]\n"
     ]
    }
   ],
   "source": [
    "products = [{'name': 'apple', 'price': 10}, {'name': 'banana', 'price': 5}]\n",
    "sorted_products = sorted(products, key=lambda x: x['price'])\n",
    "\n",
    "print(sorted_products)"
   ]
  },
  {
   "cell_type": "markdown",
   "metadata": {},
   "source": [
    "4. **Purpose of the `return` statement in a Python function:**\n",
    "\n",
    "   The `return` statement terminates the function execution and optionally sends back a value to the caller. It is essential for retrieving the result of a function's computation."
   ]
  },
  {
   "cell_type": "code",
   "execution_count": 7,
   "metadata": {},
   "outputs": [
    {
     "name": "stdout",
     "output_type": "stream",
     "text": [
      "16\n"
     ]
    }
   ],
   "source": [
    "def square(x):\n",
    "    return x * x\n",
    "result = square(4)\n",
    "\n",
    "print(result)  # Outputs 16"
   ]
  },
  {
   "cell_type": "markdown",
   "metadata": {},
   "source": [
    "**Creative example:** A vending machine function where the return statement represents the item being dispensed."
   ]
  },
  {
   "cell_type": "code",
   "execution_count": 8,
   "metadata": {},
   "outputs": [
    {
     "name": "stdout",
     "output_type": "stream",
     "text": [
      "Chips\n"
     ]
    }
   ],
   "source": [
    "def dispense_item(code):\n",
    "    items = {'A1': 'Soda', 'B2': 'Chips', 'C3': 'Candy'}\n",
    "    return items.get(code, 'Invalid code')\n",
    "\n",
    "print(dispense_item('B2'))  # Outputs 'Chips'"
   ]
  },
  {
   "cell_type": "markdown",
   "metadata": {},
   "source": [
    "5. **Iterators in Python and how they differ from iterables:**\n",
    "\n",
    "   - **Iterable:** An object capable of returning its members one at a time. Examples include lists, tuples, and strings. Any object with an `__iter__()` method is iterable.\n",
    "   - **Iterator:** An object that represents a stream of data; it implements the `__next__()` method to fetch the next item. Created using the `iter()` function.\n",
    "   \n",
    "     **Real-life analogy:** A playlist (iterable) where you can go to the next song using a \"next\" button (iterator)."
   ]
  },
  {
   "cell_type": "code",
   "execution_count": 9,
   "metadata": {},
   "outputs": [
    {
     "name": "stdout",
     "output_type": "stream",
     "text": [
      "1\n",
      "2\n",
      "3\n"
     ]
    }
   ],
   "source": [
    "my_list = [1, 2, 3]\n",
    "my_iterator = iter(my_list)\n",
    "print(next(my_iterator))  # Outputs 1\n",
    "print(next(my_iterator))  # Outputs 2\n",
    "print(next(my_iterator))  # Outputs 3"
   ]
  },
  {
   "cell_type": "markdown",
   "metadata": {},
   "source": [
    "6. **Generators in Python and how they are defined:**\n",
    "\n",
    "   Generators are special iterators that allow you to declare a function that behaves like an iterator. They are defined using the `yield` keyword and provide a convenient way to implement lazy evaluation."
   ]
  },
  {
   "cell_type": "code",
   "execution_count": 10,
   "metadata": {},
   "outputs": [
    {
     "name": "stdout",
     "output_type": "stream",
     "text": [
      "5\n",
      "4\n",
      "3\n",
      "2\n",
      "1\n"
     ]
    }
   ],
   "source": [
    "def countdown(n):\n",
    "    while n > 0:\n",
    "        yield n\n",
    "        n -= 1\n",
    "\n",
    "for number in countdown(5):\n",
    "    print(number)  # Outputs 5 4 3 2 1"
   ]
  },
  {
   "cell_type": "markdown",
   "metadata": {},
   "source": [
    "   **Creative use case:** Simulating a traffic light sequence."
   ]
  },
  {
   "cell_type": "code",
   "execution_count": 11,
   "metadata": {},
   "outputs": [
    {
     "name": "stdout",
     "output_type": "stream",
     "text": [
      "Red\n",
      "Green\n",
      "Yellow\n",
      "Red\n",
      "Green\n",
      "Yellow\n"
     ]
    }
   ],
   "source": [
    "def traffic_light():\n",
    "    while True:\n",
    "        yield 'Red'\n",
    "        yield 'Green'\n",
    "        yield 'Yellow'\n",
    "\n",
    "light = traffic_light()\n",
    "for _ in range(6):\n",
    "    print(next(light))  # Outputs Red Green Yellow Red Green Yellow"
   ]
  },
  {
   "cell_type": "markdown",
   "metadata": {},
   "source": [
    "7. **Advantages of using generators over regular functions:**\n",
    "\n",
    "   - **Memory Efficiency:** Generators produce items one at a time and only when needed, which is more memory efficient than storing the entire sequence in memory.\n",
    "   - **Lazy Evaluation:** Values are generated on-the-fly, allowing for handling of large data sets or infinite sequences.\n",
    "   - **Improved Performance:** Generators can be faster for certain tasks due to reduced memory usage and immediate computation.\n",
    "\n",
    "   **Example:** Reading a large file line by line without loading the entire file into memory."
   ]
  },
  {
   "cell_type": "code",
   "execution_count": 12,
   "metadata": {},
   "outputs": [
    {
     "name": "stdout",
     "output_type": "stream",
     "text": [
      "This is line number 0\n",
      "This is line number 1\n",
      "This is line number 2\n",
      "This is line number 3\n",
      "This is line number 4\n",
      "This is line number 5\n",
      "This is line number 6\n",
      "This is line number 7\n",
      "This is line number 8\n",
      "This is line number 9\n"
     ]
    }
   ],
   "source": [
    "file_path = 'large_file.txt'\n",
    "\n",
    "# Create a large file with 1000 lines\n",
    "with open(file_path, 'w') as file:\n",
    "    for i in range(10):\n",
    "        file.write(f\"This is line number {i}\\n\")\n",
    "\n",
    "def read_large_file(file_path):\n",
    "    with open(file_path, 'r') as file:\n",
    "        for line in file:\n",
    "            yield line.strip()\n",
    "\n",
    "for line in read_large_file('large_file.txt'):\n",
    "    print(line)"
   ]
  },
  {
   "cell_type": "markdown",
   "metadata": {},
   "source": [
    "8. **Lambda function in Python and when it is typically used:**\n",
    "\n",
    "   A lambda function is a small anonymous function defined with the `lambda` keyword. It is used for creating small, one-off functions, typically for short-term use."
   ]
  },
  {
   "cell_type": "code",
   "execution_count": 13,
   "metadata": {},
   "outputs": [
    {
     "name": "stdout",
     "output_type": "stream",
     "text": [
      "8\n"
     ]
    }
   ],
   "source": [
    "add = lambda x, y: x + y\n",
    "print(add(5, 3))  # Outputs 8"
   ]
  },
  {
   "cell_type": "markdown",
   "metadata": {},
   "source": [
    "**Creative example:** Filtering a list of names based on a condition."
   ]
  },
  {
   "cell_type": "code",
   "execution_count": 14,
   "metadata": {},
   "outputs": [
    {
     "name": "stdout",
     "output_type": "stream",
     "text": [
      "['Bob']\n"
     ]
    }
   ],
   "source": [
    "names = [\"Alice\", \"Bob\", \"Charlie\", \"David\"]\n",
    "filtered_names = filter(lambda name: len(name) <= 4, names)\n",
    "print(list(filtered_names))  # Outputs ['Bob']"
   ]
  },
  {
   "cell_type": "markdown",
   "metadata": {},
   "source": [
    "9. **Purpose and usage of the `map()` function in Python:**"
   ]
  },
  {
   "cell_type": "code",
   "execution_count": 15,
   "metadata": {},
   "outputs": [
    {
     "name": "stdout",
     "output_type": "stream",
     "text": [
      "[1, 4, 9, 16]\n"
     ]
    }
   ],
   "source": [
    "numbers = [1, 2, 3, 4]\n",
    "squares = map(lambda x: x ** 2, numbers)\n",
    "print(list(squares))  # Outputs [1, 4, 9, 16]"
   ]
  },
  {
   "cell_type": "markdown",
   "metadata": {},
   "source": [
    "**Use case:** Converting a list of temperatures from Celsius to Fahrenheit."
   ]
  },
  {
   "cell_type": "code",
   "execution_count": 16,
   "metadata": {},
   "outputs": [
    {
     "name": "stdout",
     "output_type": "stream",
     "text": [
      "[32.0, 68.0, 86.0, 212.0]\n"
     ]
    }
   ],
   "source": [
    "celsius = [0, 20, 30, 100]\n",
    "fahrenheit = map(lambda c: (c * 9/5) + 32, celsius)\n",
    "print(list(fahrenheit))  # Outputs [32.0, 68.0, 86.0, 212.0]"
   ]
  },
  {
   "cell_type": "markdown",
   "metadata": {},
   "source": [
    "10. **Difference between `map()`, `reduce()`, and `filter()` functions in Python:**\n",
    "\n",
    "    - **`map()`:** Applies a function to all items in an iterable and returns a map object."
   ]
  },
  {
   "cell_type": "code",
   "execution_count": 17,
   "metadata": {},
   "outputs": [
    {
     "name": "stdout",
     "output_type": "stream",
     "text": [
      "[1, 4, 9, 16]\n"
     ]
    }
   ],
   "source": [
    "numbers = [1, 2, 3, 4]\n",
    "squares = map(lambda x: x ** 2, numbers)\n",
    "print(list(squares))  # Outputs [1, 4, 9, 16]"
   ]
  },
  {
   "cell_type": "markdown",
   "metadata": {},
   "source": [
    "    - **`reduce()`:** Applies a rolling computation to sequential pairs of values in an iterable. It is part of the `functools` module."
   ]
  },
  {
   "cell_type": "code",
   "execution_count": 18,
   "metadata": {},
   "outputs": [
    {
     "name": "stdout",
     "output_type": "stream",
     "text": [
      "24\n"
     ]
    }
   ],
   "source": [
    "from functools import reduce\n",
    "numbers = [1, 2, 3, 4]\n",
    "product = reduce(lambda x, y: x * y, numbers)\n",
    "print(product)  # Outputs 24"
   ]
  },
  {
   "cell_type": "markdown",
   "metadata": {},
   "source": [
    "    - **`filter()`:** Filters items out of an iterable based on a function that returns True or False."
   ]
  },
  {
   "cell_type": "code",
   "execution_count": 19,
   "metadata": {},
   "outputs": [
    {
     "name": "stdout",
     "output_type": "stream",
     "text": [
      "[2, 4]\n"
     ]
    }
   ],
   "source": [
    "numbers = [1, 2, 3, 4]\n",
    "evens = filter(lambda x: x % 2 == 0, numbers)\n",
    "print(list(evens))  # Outputs [2, 4]"
   ]
  },
  {
   "cell_type": "markdown",
   "metadata": {},
   "source": [
    "11. **Internal mechanism for sum operation using reduce function on the list `[47,11,42,13]`:**\n",
    "\n",
    "    Here is a step-by-step process of how `reduce` works with the sum operation:\n",
    "    - Initial list: `[47, 11, 42, 13]`\n",
    "    - Initial call: `47 + 11 = 58`\n",
    "    - Next call: `58 + 42 = \n",
    "\n",
    "100`\n",
    "    - Final call: `100 + 13 = 113`\n",
    "    The final result is `113`."
   ]
  },
  {
   "cell_type": "markdown",
   "metadata": {},
   "source": [
    "### Practical Questions\n",
    "\n",
    "1. **Python function to sum all even numbers in a list:**"
   ]
  },
  {
   "cell_type": "code",
   "execution_count": 20,
   "metadata": {},
   "outputs": [
    {
     "name": "stdout",
     "output_type": "stream",
     "text": [
      "12\n"
     ]
    }
   ],
   "source": [
    "def sum_even_numbers(numbers):\n",
    "       return sum(x for x in numbers if x % 2 == 0)\n",
    "\n",
    "# Example\n",
    "numbers = [1, 2, 3, 4, 5, 6]\n",
    "print(sum_even_numbers(numbers))  # Outputs 12"
   ]
  },
  {
   "cell_type": "markdown",
   "metadata": {},
   "source": [
    "   **Creative use case:** Calculating the sum of even transaction amounts in a financial application to analyze even-numbered transactions."
   ]
  },
  {
   "cell_type": "markdown",
   "metadata": {},
   "source": [
    "2. **Python function to reverse a string:**"
   ]
  },
  {
   "cell_type": "code",
   "execution_count": 21,
   "metadata": {},
   "outputs": [
    {
     "name": "stdout",
     "output_type": "stream",
     "text": [
      "olleh\n"
     ]
    }
   ],
   "source": [
    "def reverse_string(s):\n",
    "    return s[::-1]\n",
    "\n",
    "# Example\n",
    "print(reverse_string(\"hello\"))  # Outputs \"olleh\""
   ]
  },
  {
   "cell_type": "markdown",
   "metadata": {},
   "source": [
    "   **Real-life example:** Reversing a user's input to create a unique identifier or code."
   ]
  },
  {
   "cell_type": "markdown",
   "metadata": {},
   "source": [
    "3. **Python function to return a list of squares of each number:**"
   ]
  },
  {
   "cell_type": "code",
   "execution_count": 22,
   "metadata": {},
   "outputs": [
    {
     "name": "stdout",
     "output_type": "stream",
     "text": [
      "[1, 4, 9, 16]\n"
     ]
    }
   ],
   "source": [
    "def square_numbers(numbers):\n",
    "    return [x ** 2 for x in numbers]\n",
    "\n",
    "# Example\n",
    "numbers = [1, 2, 3, 4]\n",
    "print(square_numbers(numbers))  # Outputs [1, 4, 9, 16]"
   ]
  },
  {
   "cell_type": "markdown",
   "metadata": {},
   "source": [
    "   **Use case:** Calculating the area of squares given the lengths of their sides."
   ]
  },
  {
   "cell_type": "markdown",
   "metadata": {},
   "source": [
    "4. **Python function to check if a number is prime from 1 to 200:**"
   ]
  },
  {
   "cell_type": "code",
   "execution_count": 23,
   "metadata": {},
   "outputs": [
    {
     "name": "stdout",
     "output_type": "stream",
     "text": [
      "[2, 3, 5, 7, 11, 13, 17, 19, 23, 29, 31, 37, 41, 43, 47, 53, 59, 61, 67, 71, 73, 79, 83, 89, 97, 101, 103, 107, 109, 113, 127, 131, 137, 139, 149, 151, 157, 163, 167, 173, 179, 181, 191, 193, 197, 199]\n"
     ]
    }
   ],
   "source": [
    "def is_prime(n):\n",
    "    if n <= 1:\n",
    "        return False\n",
    "    for i in range(2, int(n**0.5) + 1):\n",
    "        if n % i == 0:\n",
    "            return False\n",
    "    return True\n",
    "\n",
    "# Example\n",
    "primes = [x for x in range(1, 201) if is_prime(x)]\n",
    "print(primes)"
   ]
  },
  {
   "cell_type": "markdown",
   "metadata": {},
   "source": [
    "   **Creative example:** Checking prime numbers to optimize resource allocation in a distributed computing environment where prime-numbered nodes have special roles."
   ]
  },
  {
   "cell_type": "markdown",
   "metadata": {},
   "source": [
    "5. **Iterator class generating the Fibonacci sequence:**"
   ]
  },
  {
   "cell_type": "code",
   "execution_count": 24,
   "metadata": {},
   "outputs": [
    {
     "name": "stdout",
     "output_type": "stream",
     "text": [
      "0 1 1 2 3 5 8 13 21 34 "
     ]
    }
   ],
   "source": [
    "class Fibonacci:\n",
    "    def __init__(self, terms):\n",
    "        self.terms = terms\n",
    "        self.current = 0\n",
    "        self.next = 1\n",
    "        self.count = 0\n",
    "\n",
    "    def __iter__(self):\n",
    "        return self\n",
    "\n",
    "    def __next__(self):\n",
    "        if self.count >= self.terms:\n",
    "            raise StopIteration\n",
    "        self.count += 1\n",
    "        fib = self.current\n",
    "        self.current, self.next = self.next, self.current + self.next\n",
    "        return fib\n",
    "\n",
    "# Example\n",
    "fib_sequence = Fibonacci(10)\n",
    "for num in fib_sequence:\n",
    "    print(num, end=\" \")  # Outputs 0 1 1 2 3 5 8 13 21 34"
   ]
  },
  {
   "cell_type": "markdown",
   "metadata": {},
   "source": [
    "   **Use case:** Generating the Fibonacci sequence for algorithmic training or in financial models to predict growth patterns."
   ]
  },
  {
   "cell_type": "markdown",
   "metadata": {},
   "source": [
    "6. **Generator function that yields powers of 2 up to a given exponent:**"
   ]
  },
  {
   "cell_type": "code",
   "execution_count": 25,
   "metadata": {},
   "outputs": [
    {
     "name": "stdout",
     "output_type": "stream",
     "text": [
      "1\n",
      "2\n",
      "4\n",
      "8\n",
      "16\n",
      "32\n"
     ]
    }
   ],
   "source": [
    "def powers_of_two(exponent):\n",
    "    for i in range(exponent + 1):\n",
    "        yield 2 ** i\n",
    "\n",
    "# Example\n",
    "for power in powers_of_two(5):\n",
    "    print(power)  # Outputs 1 2 4 8 16 32"
   ]
  },
  {
   "cell_type": "markdown",
   "metadata": {},
   "source": [
    "   **Use case:** Generating powers of 2 for network design or cryptographic algorithms."
   ]
  },
  {
   "cell_type": "markdown",
   "metadata": {},
   "source": [
    "7. **Generator function that reads a file line by line:**"
   ]
  },
  {
   "cell_type": "code",
   "execution_count": 26,
   "metadata": {},
   "outputs": [
    {
     "name": "stdout",
     "output_type": "stream",
     "text": [
      "This is line number 0\n",
      "This is line number 1\n",
      "This is line number 2\n",
      "This is line number 3\n",
      "This is line number 4\n",
      "This is line number 5\n",
      "This is line number 6\n",
      "This is line number 7\n",
      "This is line number 8\n",
      "This is line number 9\n"
     ]
    }
   ],
   "source": [
    "def read_file_line_by_line(file_path):\n",
    "    with open(file_path, 'r') as file:\n",
    "        for line in file:\n",
    "            yield line.strip()\n",
    "\n",
    "# Example\n",
    "for line in read_file_line_by_line('large_file.txt'):\n",
    "    print(line)"
   ]
  },
  {
   "cell_type": "markdown",
   "metadata": {},
   "source": [
    "   **Real-life application:** Efficiently processing log files in a monitoring system."
   ]
  },
  {
   "cell_type": "markdown",
   "metadata": {},
   "source": [
    "8. **Lambda function to sort a list of tuples based on the second element:**"
   ]
  },
  {
   "cell_type": "code",
   "execution_count": 27,
   "metadata": {},
   "outputs": [
    {
     "name": "stdout",
     "output_type": "stream",
     "text": [
      "[(4, 1), (5, 2), (1, 3)]\n"
     ]
    }
   ],
   "source": [
    "# Original tuples\n",
    "tuples = [(1, 3), (4, 1), (5, 2)]\n",
    "\n",
    "# Sorting function with explanation\n",
    "def sort_by_second(data):\n",
    "    \"\"\"\n",
    "    Sorts a list of data elements based on their second element.\n",
    "\n",
    "    Args:\n",
    "        data: A list of tuples or similar data structures with two elements.\n",
    "\n",
    "    Returns:\n",
    "        A new list containing the elements sorted by their second element.\n",
    "    \"\"\"\n",
    "    return sorted(data, key=lambda x: x[1])\n",
    "\n",
    "# Sort the tuples using the function \n",
    "sorted_tuples = sort_by_second(tuples.copy())  \n",
    "\n",
    "print(sorted_tuples)  # Output: [(4, 1), (5, 2), (1, 3)]"
   ]
  },
  {
   "cell_type": "markdown",
   "metadata": {},
   "source": [
    "   **Creative example:** Sorting a list of student records based on their grades."
   ]
  },
  {
   "cell_type": "code",
   "execution_count": 28,
   "metadata": {},
   "outputs": [
    {
     "name": "stdout",
     "output_type": "stream",
     "text": [
      "Bob: 88\n",
      "Charlie: 92\n",
      "Alice: 95\n"
     ]
    }
   ],
   "source": [
    "# Creative Example: Sorting Student Records by Grades\n",
    "\n",
    "class Student:\n",
    "    def __init__(self, name, grade):\n",
    "        self.name = name\n",
    "        self.grade = grade\n",
    "\n",
    "# Sample student records\n",
    "students = [\n",
    "    Student(\"Alice\", 95),\n",
    "    Student(\"Bob\", 88),\n",
    "    Student(\"Charlie\", 92),\n",
    "]\n",
    "\n",
    "def sort_by_second(data):\n",
    "    \"\"\"\n",
    "    Sorts a list of data elements based on a specified attribute.\n",
    "\n",
    "    Args:\n",
    "        data: A list of objects with a sortable attribute.\n",
    "\n",
    "    Returns:\n",
    "        A new list containing the elements sorted by the specified attribute.\n",
    "    \"\"\"\n",
    "    return sorted(data, key=lambda x: x.grade)  # Access grade attribute\n",
    "\n",
    "# Sort students by grade using the function\n",
    "sorted_students = sort_by_second(students.copy())  # Sort a copy to avoid modifying originals\n",
    "\n",
    "# Print sorted student records with descriptive output\n",
    "for student in sorted_students:\n",
    "    print(f\"{student.name}: {student.grade}\")\n",
    "\n",
    "# Output (example):\n",
    "# Bob: 88\n",
    "# Charlie: 92\n",
    "# Alice: 95\n"
   ]
  },
  {
   "cell_type": "markdown",
   "metadata": {},
   "source": [
    "9. **Python program using `map()` to convert Celsius to Fahrenheit:**"
   ]
  },
  {
   "cell_type": "code",
   "execution_count": 29,
   "metadata": {},
   "outputs": [
    {
     "name": "stdout",
     "output_type": "stream",
     "text": [
      "[32.0, 68.0, 86.0, 212.0]\n"
     ]
    }
   ],
   "source": [
    "def celsius_to_fahrenheit(celsius):\n",
    "    return (celsius * 9/5) + 32\n",
    "\n",
    "celsius_temperatures = [0, 20, 30, 100]\n",
    "fahrenheit_temperatures = list(map(celsius_to_fahrenheit, celsius))\n",
    "\n",
    "print(fahrenheit_temperatures)  # Outputs [32.0, 68.0, 86.0, 212.0]"
   ]
  },
  {
   "cell_type": "markdown",
   "metadata": {},
   "source": [
    "   **Use case:** Converting temperature data collected from different weather stations for reporting."
   ]
  },
  {
   "cell_type": "code",
   "execution_count": 30,
   "metadata": {},
   "outputs": [
    {
     "name": "stdout",
     "output_type": "stream",
     "text": [
      "Converted Temperatures (Fahrenheit):\n",
      "Station 1: 32.00°F\n",
      "Station 2: 68.00°F\n",
      "Station 3: 86.00°F\n",
      "Station 4: 212.00°F\n"
     ]
    }
   ],
   "source": [
    "def celsius_to_fahrenheit(celsius):\n",
    "  \"\"\"Converts a Celsius temperature to Fahrenheit.\n",
    "\n",
    "  Args:\n",
    "      celsius (float): The temperature in degrees Celsius.\n",
    "\n",
    "  Returns:\n",
    "      float: The temperature in degrees Fahrenheit.\n",
    "  \"\"\"\n",
    "\n",
    "  # Conversion formula: Fahrenheit = (Celsius x 9/5) + 32\n",
    "  return (celsius * 9/5) + 32\n",
    "\n",
    "# Sample Celsius temperature data collected from weather stations\n",
    "celsius_temperatures = [0, 20, 30, 100]\n",
    "\n",
    "# Use map() to efficiently convert all Celsius temperatures\n",
    "fahrenheit_temperatures = list(map(celsius_to_fahrenheit, celsius_temperatures))\n",
    "\n",
    "# Print the converted temperatures with descriptive labels\n",
    "print(\"Converted Temperatures (Fahrenheit):\")\n",
    "for i, temp in enumerate(fahrenheit_temperatures):\n",
    "  print(f\"Station {i+1}: {temp:.2f}°F\")  # Format output to two decimal places"
   ]
  },
  {
   "cell_type": "markdown",
   "metadata": {},
   "source": [
    "10. **Python program using `filter()` to remove all the vowels from a given string:**"
   ]
  },
  {
   "cell_type": "code",
   "execution_count": 31,
   "metadata": {},
   "outputs": [
    {
     "name": "stdout",
     "output_type": "stream",
     "text": [
      "Hll Wrld\n"
     ]
    }
   ],
   "source": [
    "def remove_vowels(s):\n",
    "    return ''.join(filter(lambda x: x.lower() not in 'aeiou', s))\n",
    "\n",
    "# Example\n",
    "result = remove_vowels(\"Hello World\")\n",
    "\n",
    "print(result)  # Outputs \"Hll Wrld\""
   ]
  },
  {
   "cell_type": "markdown",
   "metadata": {},
   "source": [
    "**Creative example:** Removing vowels from usernames to create unique and compact IDs."
   ]
  },
  {
   "cell_type": "code",
   "execution_count": 32,
   "metadata": {},
   "outputs": [
    {
     "name": "stdout",
     "output_type": "stream",
     "text": [
      "Username: StackOverflow, Compact ID: stckvrfl\n",
      "Username: CodingEnthusiast, Compact ID: cdngnths\n",
      "Username: Pythonista, Compact ID: pythnst\n"
     ]
    }
   ],
   "source": [
    "def remove_vowels(s):\n",
    "  \"\"\"Removes vowels from a string and returns the consonant-only version.\n",
    "\n",
    "  Args:\n",
    "      s: The input string.\n",
    "\n",
    "  Returns:\n",
    "      The string with vowels removed.\n",
    "  \"\"\"\n",
    "\n",
    "  consonants = ''.join(filter(lambda x: x.lower() not in 'aeiou', s))\n",
    "  return consonants\n",
    "\n",
    "def generate_compact_id(username):\n",
    "  \"\"\"Generates a unique and compact ID from a username by removing vowels.\n",
    "\n",
    "  Args:\n",
    "      username: The username to convert into a compact ID.\n",
    "\n",
    "  Returns:\n",
    "      A compact ID derived from the username.\n",
    "  \"\"\"\n",
    "\n",
    "  compact_id = remove_vowels(username)[:8]  # Limit ID length to 8 characters\n",
    "  return compact_id.lower()  # Ensure lowercase for consistency\n",
    "\n",
    "# Example usage\n",
    "usernames = [\"StackOverflow\", \"CodingEnthusiast\", \"Pythonista\"]\n",
    "for username in usernames:\n",
    "  compact_id = generate_compact_id(username)\n",
    "  print(f\"Username: {username}, Compact ID: {compact_id}\")"
   ]
  },
  {
   "cell_type": "markdown",
   "metadata": {},
   "source": [
    "\n",
    "11. **Python program for an accounting routine used in a book shop:**"
   ]
  },
  {
   "cell_type": "code",
   "execution_count": 33,
   "metadata": {},
   "outputs": [
    {
     "name": "stdout",
     "output_type": "stream",
     "text": [
      "Order totals including handling fee for small orders:\n",
      "Order Number: 34587, Total Cost: $163.80\n",
      "Order Number: 98762, Total Cost: $284.00\n",
      "Order Number: 77226, Total Cost: $108.85\n",
      "Order Number: 88112, Total Cost: $84.97\n"
     ]
    }
   ],
   "source": [
    "orders = [\n",
    "    [34587, \"Learning Python, Mark Lutz\", 4, 40.95],\n",
    "    [98762, \"Programming Python, Mark Lutz\", 5, 56.80],\n",
    "    [77226, \"Head First Python, Paul Barry\", 3, 32.95],\n",
    "    [88112, \"Einführung in Python3, Bernd Klein\", 3, 24.99]\n",
    "]\n",
    "\n",
    "def calculate_order(order):\n",
    "    \"\"\"\n",
    "    Calculate the total cost for a given order.\n",
    "    If the total cost is less than $100, an additional fee of $10 is added.\n",
    "    \n",
    "    Parameters:\n",
    "    order (list): A list containing the order details:\n",
    "                  [order_number, book_title, quantity, price_per_item]\n",
    "    \n",
    "    Returns:\n",
    "    tuple: A tuple containing the order number and the total cost.\n",
    "    \"\"\"\n",
    "    order_num, _, quantity, price_per_item = order\n",
    "    total_cost = quantity * price_per_item\n",
    "    # Apply a small order handling fee if the total cost is below $100\n",
    "    if total_cost < 100:\n",
    "        total_cost += 10\n",
    "    return (order_num, total_cost)\n",
    "\n",
    "# Using map to apply the calculate_order function to each order in the orders list\n",
    "order_totals = list(map(calculate_order, orders))\n",
    "\n",
    "# Print the order totals\n",
    "print(\"Order totals including handling fee for small orders:\")\n",
    "for order in order_totals:\n",
    "    print(f\"Order Number: {order[0]}, Total Cost: ${order[1]:.2f}\")\n",
    "\n",
    "# Output: \n",
    "# Order Number: 34587, Total Cost: $163.80\n",
    "# Order Number: 98762, Total Cost: $284.00\n",
    "# Order Number: 77226, Total Cost: $108.85\n",
    "# Order Number: 88112, Total Cost: $84.97"
   ]
  },
  {
   "cell_type": "markdown",
   "metadata": {},
   "source": [
    "**Use case:** Automating the calculation of order totals including handling of small orders with an additional fee."
   ]
  },
  {
   "cell_type": "markdown",
   "metadata": {},
   "source": [
    "Generate Summary Report\n",
    "Now, we will create a function to generate a summary report for the orders, including the total revenue and the number of orders processed."
   ]
  },
  {
   "cell_type": "code",
   "execution_count": 34,
   "metadata": {},
   "outputs": [
    {
     "name": "stdout",
     "output_type": "stream",
     "text": [
      "\n",
      "Summary Report\n",
      "====================\n",
      "Total Revenue: $641.62\n",
      "Number of Orders: 4\n"
     ]
    }
   ],
   "source": [
    "def generate_report(orders):\n",
    "    \"\"\"\n",
    "    Generate a summary report for the list of orders.\n",
    "    \n",
    "    Parameters:\n",
    "    orders (list): A list of orders where each order is a tuple (order_number, total_cost)\n",
    "    \n",
    "    Returns:\n",
    "    None\n",
    "    \"\"\"\n",
    "    total_revenue = sum(order[1] for order in orders)\n",
    "    num_orders = len(orders)\n",
    "    \n",
    "    print(\"\\nSummary Report\")\n",
    "    print(\"====================\")\n",
    "    print(f\"Total Revenue: ${total_revenue:.2f}\")\n",
    "    print(f\"Number of Orders: {num_orders}\")\n",
    "\n",
    "# Generate and print the summary report\n",
    "generate_report(order_totals)"
   ]
  },
  {
   "cell_type": "markdown",
   "metadata": {},
   "source": [
    "**End of Assignment 3!**"
   ]
  }
 ],
 "metadata": {
  "kernelspec": {
   "display_name": "base",
   "language": "python",
   "name": "python3"
  },
  "language_info": {
   "codemirror_mode": {
    "name": "ipython",
    "version": 3
   },
   "file_extension": ".py",
   "mimetype": "text/x-python",
   "name": "python",
   "nbconvert_exporter": "python",
   "pygments_lexer": "ipython3",
   "version": "3.11.9"
  }
 },
 "nbformat": 4,
 "nbformat_minor": 2
}

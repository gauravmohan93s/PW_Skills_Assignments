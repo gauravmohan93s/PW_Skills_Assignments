{
 "cells": [
  {
   "cell_type": "markdown",
   "metadata": {},
   "source": [
    "# Data Toolkit\n",
    "## Practice Questions"
   ]
  },
  {
   "cell_type": "markdown",
   "metadata": {},
   "source": [
    "### 1. Demonstrate three different methods for creating identical 2D arrays in NumPy. Provide the code for each method and the final output after each method."
   ]
  },
  {
   "cell_type": "markdown",
   "metadata": {},
   "source": [
    "**Method 1: Using `np.full()`**"
   ]
  },
  {
   "cell_type": "code",
   "execution_count": 1,
   "metadata": {},
   "outputs": [
    {
     "name": "stdout",
     "output_type": "stream",
     "text": [
      "Array created using np.full():\n",
      " [[7 7 7 7]\n",
      " [7 7 7 7]\n",
      " [7 7 7 7]]\n"
     ]
    }
   ],
   "source": [
    "import numpy as np\n",
    "\n",
    "# Define dimensions and fill value\n",
    "rows = 3\n",
    "cols = 4\n",
    "fill_value = 7\n",
    "\n",
    "# Create array filled with the specified value\n",
    "array1 = np.full((rows, cols), fill_value)\n",
    "\n",
    "#Display created Array\n",
    "print(\"Array created using np.full():\\n\", array1)"
   ]
  },
  {
   "cell_type": "markdown",
   "metadata": {},
   "source": [
    "**Method 2: Using `np.ones()` and Multiplication**"
   ]
  },
  {
   "cell_type": "code",
   "execution_count": 2,
   "metadata": {},
   "outputs": [
    {
     "name": "stdout",
     "output_type": "stream",
     "text": [
      "\n",
      "Array created using np.ones() and multiplication:\n",
      " [[7. 7. 7. 7.]\n",
      " [7. 7. 7. 7.]\n",
      " [7. 7. 7. 7.]]\n"
     ]
    }
   ],
   "source": [
    "# Create array of ones\n",
    "array2 = np.ones((rows, cols))\n",
    "\n",
    "# Multiply by the desired value to fill the array\n",
    "array2 *= fill_value\n",
    "\n",
    "# Display created Array\n",
    "print(\"\\nArray created using np.ones() and multiplication:\\n\", array2)"
   ]
  },
  {
   "cell_type": "markdown",
   "metadata": {},
   "source": [
    "**Method 3: Using `np.tile()` (Repeating an Array)**"
   ]
  },
  {
   "cell_type": "code",
   "execution_count": 3,
   "metadata": {},
   "outputs": [
    {
     "name": "stdout",
     "output_type": "stream",
     "text": [
      "\n",
      "Array created using np.tile():\n",
      " [[7 7 7 7]\n",
      " [7 7 7 7]\n",
      " [7 7 7 7]]\n"
     ]
    }
   ],
   "source": [
    "# Create a small array with the desired value\n",
    "small_array = np.array([fill_value])\n",
    "\n",
    "# Tile (repeat) the small array to the desired dimensions\n",
    "array3 = np.tile(small_array, (rows, cols))\n",
    "\n",
    "# Display created Array\n",
    "print(\"\\nArray created using np.tile():\\n\", array3)"
   ]
  },
  {
   "cell_type": "markdown",
   "metadata": {},
   "source": [
    "\n",
    "**Explanation**\n",
    "1. All three methods successfully create 3x4 NumPy arrays filled with the value 7.\n",
    "\n",
    "2. **`np.full()`:** The most direct way. It takes the desired shape (rows, columns) and the fill value.\n",
    "\n",
    "3. **`np.ones()` and Multiplication:** Creates an array of 1's and then multiplies each element by the desired value.  Slightly less efficient than `np.full()` due to the extra multiplication step.\n",
    "\n",
    "4. **`np.tile()`:** Creates a small array containing only the desired value and then \"tiles\" (repeats) it to fill the larger dimensions.\n",
    "\n",
    "**Key Points**\n",
    "* **Efficiency:** `np.full()` is generally the most efficient choice when you want to fill an array with a single value.\n",
    "* **Flexibility:** `np.ones()` and multiplication or `np.tile()` can be useful if you need to repeat patterns or more complex structures.\n",
    "* **Data Types:** Be mindful of data types.  In the second method, the output is a float array due to the multiplication, even though the original fill value was an integer."
   ]
  },
  {
   "cell_type": "markdown",
   "metadata": {},
   "source": [
    "### 2. Using the Numpy function, generate an array of 100 evenly spaced numbers between 1 and 10 and Reshape that 1D array into a 2D array."
   ]
  },
  {
   "cell_type": "markdown",
   "metadata": {},
   "source": [
    "1. **Import NumPy:**\n",
    "   - We begin by importing the NumPy library, which is essential for numerical operations and array manipulation in Python.\n",
    "\n",
    "2. **Create a Linear Array:**\n",
    "   - We use `np.linspace(1, 10, 100)` to generate 100 numbers evenly spaced between 1 (inclusive) and 10 (inclusive). This means the spacing between each consecutive number is (10 - 1) / (100 - 1) = 0.09.\n",
    "\n",
    "3. **Reshape into a 2D Array:**\n",
    "   - The `.reshape(10, 10)` method transforms the 1D `linear_array` into a 2D array with 10 rows and 10 columns.  We preserve the total number of elements (100)."
   ]
  },
  {
   "cell_type": "code",
   "execution_count": 4,
   "metadata": {},
   "outputs": [
    {
     "name": "stdout",
     "output_type": "stream",
     "text": [
      "Original 1D Array:\n",
      "[ 1.          1.09090909  1.18181818  1.27272727  1.36363636  1.45454545\n",
      "  1.54545455  1.63636364  1.72727273  1.81818182  1.90909091  2.\n",
      "  2.09090909  2.18181818  2.27272727  2.36363636  2.45454545  2.54545455\n",
      "  2.63636364  2.72727273  2.81818182  2.90909091  3.          3.09090909\n",
      "  3.18181818  3.27272727  3.36363636  3.45454545  3.54545455  3.63636364\n",
      "  3.72727273  3.81818182  3.90909091  4.          4.09090909  4.18181818\n",
      "  4.27272727  4.36363636  4.45454545  4.54545455  4.63636364  4.72727273\n",
      "  4.81818182  4.90909091  5.          5.09090909  5.18181818  5.27272727\n",
      "  5.36363636  5.45454545  5.54545455  5.63636364  5.72727273  5.81818182\n",
      "  5.90909091  6.          6.09090909  6.18181818  6.27272727  6.36363636\n",
      "  6.45454545  6.54545455  6.63636364  6.72727273  6.81818182  6.90909091\n",
      "  7.          7.09090909  7.18181818  7.27272727  7.36363636  7.45454545\n",
      "  7.54545455  7.63636364  7.72727273  7.81818182  7.90909091  8.\n",
      "  8.09090909  8.18181818  8.27272727  8.36363636  8.45454545  8.54545455\n",
      "  8.63636364  8.72727273  8.81818182  8.90909091  9.          9.09090909\n",
      "  9.18181818  9.27272727  9.36363636  9.45454545  9.54545455  9.63636364\n",
      "  9.72727273  9.81818182  9.90909091 10.        ]\n",
      "\n",
      "Reshaped 2D Array:\n",
      "[[ 1.          1.09090909  1.18181818  1.27272727  1.36363636  1.45454545\n",
      "   1.54545455  1.63636364  1.72727273  1.81818182]\n",
      " [ 1.90909091  2.          2.09090909  2.18181818  2.27272727  2.36363636\n",
      "   2.45454545  2.54545455  2.63636364  2.72727273]\n",
      " [ 2.81818182  2.90909091  3.          3.09090909  3.18181818  3.27272727\n",
      "   3.36363636  3.45454545  3.54545455  3.63636364]\n",
      " [ 3.72727273  3.81818182  3.90909091  4.          4.09090909  4.18181818\n",
      "   4.27272727  4.36363636  4.45454545  4.54545455]\n",
      " [ 4.63636364  4.72727273  4.81818182  4.90909091  5.          5.09090909\n",
      "   5.18181818  5.27272727  5.36363636  5.45454545]\n",
      " [ 5.54545455  5.63636364  5.72727273  5.81818182  5.90909091  6.\n",
      "   6.09090909  6.18181818  6.27272727  6.36363636]\n",
      " [ 6.45454545  6.54545455  6.63636364  6.72727273  6.81818182  6.90909091\n",
      "   7.          7.09090909  7.18181818  7.27272727]\n",
      " [ 7.36363636  7.45454545  7.54545455  7.63636364  7.72727273  7.81818182\n",
      "   7.90909091  8.          8.09090909  8.18181818]\n",
      " [ 8.27272727  8.36363636  8.45454545  8.54545455  8.63636364  8.72727273\n",
      "   8.81818182  8.90909091  9.          9.09090909]\n",
      " [ 9.18181818  9.27272727  9.36363636  9.45454545  9.54545455  9.63636364\n",
      "   9.72727273  9.81818182  9.90909091 10.        ]]\n"
     ]
    }
   ],
   "source": [
    "import numpy as np\n",
    "\n",
    "# Step 1: Generate 100 evenly spaced numbers\n",
    "linear_array = np.linspace(1, 10, 100) \n",
    "# Starts at 1, ends at 10, includes 100 values in total.\n",
    "\n",
    "# Explanation for linspace:\n",
    "# This function is ideal for creating evenly spaced sequences. The three parameters\n",
    "# represent:\n",
    "#  - start: The starting value of the sequence (inclusive)\n",
    "#  - stop: The ending value of the sequence (inclusive)\n",
    "#  - num: The desired number of elements in the sequence\n",
    "\n",
    "# Step 2: Reshape into a 2D array\n",
    "reshaped_array = linear_array.reshape(10, 10)\n",
    "\n",
    "# Explanation for reshape:\n",
    "# This method allows us to transform the shape of a NumPy array.  We're reshaping \n",
    "# our 100-element array into a 10x10 matrix (10 rows, 10 columns). The product of \n",
    "# the dimensions in reshape must match the total number of elements.\n",
    "\n",
    "# Display\n",
    "print(\"Original 1D Array:\")\n",
    "print(linear_array)\n",
    "print(\"\\nReshaped 2D Array:\")\n",
    "print(reshaped_array)"
   ]
  },
  {
   "cell_type": "markdown",
   "metadata": {},
   "source": [
    "### 3. Explain the following terms:\n",
    " - The difference in np.array, np.asarray and np.asanyarray.\n",
    " - The difference between Deep copy and shallow copy."
   ]
  },
  {
   "cell_type": "markdown",
   "metadata": {},
   "source": [
    "**NumPy Array Conversions: np.array, np.asarray, and np.asanyarray**\n",
    "\n",
    "These NumPy functions serve a common purpose: converting input data into NumPy's efficient `ndarray` format. However, they have subtle differences in how they handle existing arrays and subclasses.\n",
    "\n",
    "**1. np.array(object, dtype=None, copy=True, order='K', subok=False, ndmin=0)**\n",
    "\n",
    "*   **Purpose:** Creates a new NumPy array from any object (e.g., lists, tuples, other arrays).\n",
    "*   **Key Feature:** By default (`copy=True`), it always creates a new copy of the data, even if the input is already an `ndarray`.\n",
    "*   **Use Case:** When you need a completely independent array that won't be affected by changes to the original data."
   ]
  },
  {
   "cell_type": "code",
   "execution_count": 5,
   "metadata": {},
   "outputs": [
    {
     "name": "stdout",
     "output_type": "stream",
     "text": [
      "[1 2 3]\n"
     ]
    }
   ],
   "source": [
    "# Example\n",
    "import numpy as np\n",
    "\n",
    "original_list = [1, 2, 3]\n",
    "arr1 = np.array(original_list)\n",
    "\n",
    "original_list[0] = 10  # Modify the original list\n",
    "print(arr1)  # Output: [1 2 3] (arr1 is unchanged)"
   ]
  },
  {
   "cell_type": "markdown",
   "metadata": {},
   "source": [
    "**2. np.asarray(a, dtype=None, order=None)**\n",
    "\n",
    "*   **Purpose:** Converts input to an `ndarray`, but avoids unnecessary copies if the input is already an `ndarray` of the correct type.\n",
    "*   **Key Feature:** More memory efficient than `np.array` when working with existing arrays.\n",
    "*   **Use Case:** When you mainly want to ensure your data is in array format, without needlessly duplicating existing arrays."
   ]
  },
  {
   "cell_type": "code",
   "execution_count": 6,
   "metadata": {},
   "outputs": [
    {
     "name": "stdout",
     "output_type": "stream",
     "text": [
      "[40  5  6]\n"
     ]
    }
   ],
   "source": [
    "# Example\n",
    "arr2 = np.array([4, 5, 6])  # Create an ndarray\n",
    "arr3 = np.asarray(arr2)     # No copy is made\n",
    "arr2[0] = 40                # Modify arr2\n",
    "print(arr3)  # Output: [40 5 6] (arr3 reflects the change)"
   ]
  },
  {
   "cell_type": "markdown",
   "metadata": {},
   "source": [
    "**3. np.asanyarray(a, dtype=None, order=None)**\n",
    "\n",
    "*   **Purpose:** Similar to `np.asarray`, but it also handles NumPy subclasses (e.g., `np.matrix`, `np.ma.MaskedArray`).\n",
    "*   **Key Feature:** Preserves subclass types if `subok=True` (default).\n",
    "*   **Use Case:** When working with a mix of array types and you want to avoid inadvertently converting subclasses to base `ndarray` objects."
   ]
  },
  {
   "cell_type": "code",
   "execution_count": 7,
   "metadata": {},
   "outputs": [
    {
     "name": "stdout",
     "output_type": "stream",
     "text": [
      "<class 'numpy.matrix'>\n"
     ]
    }
   ],
   "source": [
    "# Example (Assuming you have NumPy's matrix subclass)\n",
    "mat = np.matrix([[1, 2], [3, 4]])\n",
    "arr4 = np.asanyarray(mat)\n",
    "print(type(arr4))  # Output: <class 'numpy.matrix'> (Subclass preserved)"
   ]
  },
  {
   "cell_type": "markdown",
   "metadata": {},
   "source": [
    "**Deep Copy vs. Shallow Copy**\n",
    "\n",
    "In Python (and many programming languages), copying objects can be done in two ways:\n",
    "\n",
    "**1. Shallow Copy**\n",
    "\n",
    "*   **Mechanics:** Creates a new object but only copies references to the original object's elements.\n",
    "*   **Consequence:** If the elements are mutable (e.g., lists, dictionaries), changes to the copy's elements will affect the original object as well.\n",
    "*   **Methods:**\n",
    "    *   `copy.copy(x)` (for general objects)\n",
    "    *   `x.copy()` (for some built-in types)\n",
    "    *   Slicing (`x[:]`) for lists"
   ]
  },
  {
   "cell_type": "code",
   "execution_count": 8,
   "metadata": {},
   "outputs": [
    {
     "name": "stdout",
     "output_type": "stream",
     "text": [
      "[1, [20, 3]]\n"
     ]
    }
   ],
   "source": [
    "# Example\n",
    "original_list = [1, [2, 3]]\n",
    "shallow_copy = original_list.copy()\n",
    "\n",
    "shallow_copy[0] = 10       # Modify the first element (no effect on original)\n",
    "shallow_copy[1][0] = 20    # Modify the nested list (affects original)\n",
    "\n",
    "print(original_list)  # Output: [1, [20, 3]]"
   ]
  },
  {
   "cell_type": "markdown",
   "metadata": {},
   "source": [
    "**2. Deep Copy**\n",
    "\n",
    "*   **Mechanics:** Creates a new object and recursively copies all of its elements, including nested objects.\n",
    "*   **Consequence:** The original and copied objects are completely independent; modifying one has no impact on the other.\n",
    "*   **Methods:**\n",
    "    *   `copy.deepcopy(x)`"
   ]
  },
  {
   "cell_type": "code",
   "execution_count": 9,
   "metadata": {},
   "outputs": [
    {
     "name": "stdout",
     "output_type": "stream",
     "text": [
      "[1, [20, 3]]\n"
     ]
    }
   ],
   "source": [
    "# Example\n",
    "import copy\n",
    "deep_copy = copy.deepcopy(original_list)\n",
    "\n",
    "deep_copy[0] = 100         # Modify the first element\n",
    "deep_copy[1][0] = 200      # Modify the nested list\n",
    "\n",
    "print(original_list)  # Output: [1, [20, 3]] (Original remains unchanged)"
   ]
  },
  {
   "cell_type": "markdown",
   "metadata": {},
   "source": [
    "### 4. Generate a 3x3 array with random floating-point numbers between 5 and 20. Then, round each number in\n",
    "the array to 2 decimal places."
   ]
  },
  {
   "cell_type": "markdown",
   "metadata": {},
   "source": [
    "1. **Import NumPy:**\n",
    "   - We start by importing the `numpy` library, which provides powerful tools for working with numerical arrays in Python. We alias it as `np` for convenience.\n",
    "\n",
    "2. **Array Generation:**\n",
    "   - We use `np.random.uniform(5, 20, size=(3, 3))` to create a 3x3 array.  Here's what's happening:\n",
    "     - `5`: The lower bound of the random numbers.\n",
    "     - `20`: The upper bound of the random numbers.\n",
    "     - `size=(3, 3)`: Specifies the dimensions of the array (3 rows, 3 columns).\n",
    "\n",
    "3. **Rounding:**\n",
    "   - `np.round(random_array, 2)` rounds each element in `random_array` to 2 decimal places. This modified array is stored in `rounded_array`.\n",
    "\n",
    "4. **Output:**\n",
    "   - We print both the original `random_array` and the rounded `rounded_array` with labels to make it easy to understand the results. "
   ]
  },
  {
   "cell_type": "code",
   "execution_count": 10,
   "metadata": {},
   "outputs": [
    {
     "name": "stdout",
     "output_type": "stream",
     "text": [
      "Original Array (Random Floats):\n",
      " [[13.09051051 12.33211419 17.23353326]\n",
      " [12.13037222  5.22512612  9.83035988]\n",
      " [14.92187961 18.60219352 13.95398171]]\n",
      "\n",
      "Rounded Array (2 Decimal Places):\n",
      " [[13.09 12.33 17.23]\n",
      " [12.13  5.23  9.83]\n",
      " [14.92 18.6  13.95]]\n"
     ]
    }
   ],
   "source": [
    "import numpy as np\n",
    "\n",
    "# Step 1: Array Generation\n",
    "# ------------------------\n",
    "# Create a 3x3 array with random floats between 5 and 20. We use NumPy for this.\n",
    "random_array = np.random.uniform(5, 20, size=(3, 3)) \n",
    "\n",
    "# Step 2: Rounding to 2 Decimal Places\n",
    "# -----------------------------------\n",
    "# Use the 'np.round' function to round each element in the array to 2 decimal places\n",
    "rounded_array = np.round(random_array, 2)\n",
    "\n",
    "# Step 3: Output\n",
    "# ---------------\n",
    "# Print the original and rounded arrays, clearly labeled\n",
    "print(\"Original Array (Random Floats):\\n\", random_array)\n",
    "print(\"\\nRounded Array (2 Decimal Places):\\n\", rounded_array)"
   ]
  },
  {
   "cell_type": "markdown",
   "metadata": {},
   "source": [
    "### 5. Create a NumPy array with random integers between 1 and 10 of shape (5,6). After creating the array perform the following operations:\n",
    " - a)Extract all even integers from array.\n",
    " - b)Extract all odd integers from array."
   ]
  },
  {
   "cell_type": "code",
   "execution_count": 11,
   "metadata": {},
   "outputs": [
    {
     "name": "stdout",
     "output_type": "stream",
     "text": [
      "\n",
      "Original Random Array:\n",
      "[[5 9 9 9 6 4]\n",
      " [1 3 9 9 1 9]\n",
      " [5 7 7 1 2 5]\n",
      " [9 2 3 2 4 3]\n",
      " [8 2 2 4 7 8]]\n",
      "\n",
      "Even Integers:\n",
      "[6 4 2 2 2 4 8 2 2 4 8]\n",
      "\n",
      "Odd Integers:\n",
      "[5 9 9 9 1 3 9 9 1 9 5 7 7 1 5 9 3 3 7]\n"
     ]
    }
   ],
   "source": [
    "import numpy as np\n",
    "\n",
    "# Create a (5, 6) NumPy array with random integers between 1 and 10\n",
    "random_array = np.random.randint(1, 11, size=(5, 6))\n",
    "\n",
    "print(\"\\nOriginal Random Array:\")\n",
    "print(random_array)\n",
    "\n",
    "# -----------------------------------------------------\n",
    "# (a) Extract Even Integers\n",
    "# -----------------------------------------------------\n",
    "\n",
    "# Use modulo operator (%) to check for divisibility by 2\n",
    "even_integers = random_array[random_array % 2 == 0]\n",
    "\n",
    "print(\"\\nEven Integers:\")\n",
    "print(even_integers)\n",
    "\n",
    "# Explanation:\n",
    "#  - `random_array % 2 == 0` creates a boolean array where `True` values indicate even numbers.\n",
    "#  - Using this boolean array as an index into the original array selects only the even elements.\n",
    "\n",
    "# -----------------------------------------------------\n",
    "# (b) Extract Odd Integers\n",
    "# -----------------------------------------------------\n",
    "\n",
    "# Again, use modulo operator to find elements NOT divisible by 2\n",
    "odd_integers = random_array[random_array % 2 != 0]\n",
    "\n",
    "print(\"\\nOdd Integers:\")\n",
    "print(odd_integers)\n",
    "\n",
    "# Explanation:\n",
    "#  - `random_array % 2 != 0` creates a boolean array where `True` values indicate odd numbers.\n",
    "#  - We use this array to index the original array, thus extracting the odd integers."
   ]
  },
  {
   "cell_type": "markdown",
   "metadata": {},
   "source": [
    "1. **Import NumPy:**\n",
    "   - `import numpy as np`: This line brings in the NumPy library and gives it the alias `np`.\n",
    "\n",
    "2. **Create Random Array:**\n",
    "   - `np.random.randint(1, 11, size=(5, 6))`:\n",
    "      - Generates random integers between 1 (inclusive) and 11 (exclusive).\n",
    "      - The `size=(5, 6)` argument specifies a 5x6 array shape.\n",
    "\n",
    "3. **Extract Even Integers:**\n",
    "   - `random_array % 2 == 0`: Creates a boolean mask with `True` for even numbers.\n",
    "   - `random_array[mask]`: Uses the mask to filter out only even elements.\n",
    "\n",
    "4. **Extract Odd Integers:**\n",
    "   - `random_array % 2 != 0`: Creates a mask with `True` for odd numbers.\n",
    "   - `random_array[mask]`: Filters for odd elements.\n",
    "\n",
    "\n",
    "- The shape of output arrays of even and odd numbers are one dimensional because we didn't preserve the original array shape."
   ]
  },
  {
   "cell_type": "markdown",
   "metadata": {},
   "source": [
    "### 6.  Create a 3D NumPy array of shape (3, 3, 3) containing random integers between 1 and 10. Perform the following operations:\n",
    " - a) Find the indices of the maximum values along each depth level (third axis).\n",
    " - b) Perform element-wise multiplication of between both array."
   ]
  },
  {
   "cell_type": "markdown",
   "metadata": {},
   "source": [
    "**Explanation:**\n",
    "\n",
    "1. **Import NumPy:**\n",
    "   - We begin by importing the NumPy library, which is essential for working with arrays in Python.\n",
    "\n",
    "2. **Create 3D Array:**\n",
    "   - `np.random.seed(42)` sets a seed for the random number generator. This ensures that you get the same random array every time you run the code, making it easier to debug and reproduce results.\n",
    "   - `np.random.randint(1, 11, (3, 3, 3))` generates a 3x3x3 array filled with random integers between 1 (inclusive) and 11 (exclusive).\n",
    "\n",
    "3. **Find Maximum Indices (Two Methods):**\n",
    "   - **Method 1:**\n",
    "      - `np.argmax(arr_3d, axis=2)` directly finds the index of the maximum value along the third axis (depth) of the array.\n",
    "   - **Method 2:**\n",
    "      - The list comprehension iterates through each depth level and uses `np.argmax` to find the maximum index within that 2D slice. \n",
    "\n",
    "4. **Element-wise Multiplication:**\n",
    "   - `arr_3d * arr_3d` performs the element-wise multiplication, where corresponding elements of the array are multiplied together."
   ]
  },
  {
   "cell_type": "code",
   "execution_count": 12,
   "metadata": {},
   "outputs": [
    {
     "name": "stdout",
     "output_type": "stream",
     "text": [
      "Original 3D array:\n",
      " [[[ 7  4  8]\n",
      "  [ 5  7 10]\n",
      "  [ 3  7  8]]\n",
      "\n",
      " [[ 5  4  8]\n",
      "  [ 8  3  6]\n",
      "  [ 5  2  8]]\n",
      "\n",
      " [[ 6  2  5]\n",
      "  [ 1 10  6]\n",
      "  [ 9  1 10]]]\n",
      "\n",
      "Indices of max values along each depth (method 1):\n",
      " [[2 2 2]\n",
      " [2 0 2]\n",
      " [0 1 2]]\n",
      "\n",
      "Indices of max values along each depth (method 2):\n",
      " [[2 2 2]\n",
      " [2 0 2]\n",
      " [0 1 2]]\n",
      "\n",
      "Result of element-wise multiplication:\n",
      " [[[ 49  16  64]\n",
      "  [ 25  49 100]\n",
      "  [  9  49  64]]\n",
      "\n",
      " [[ 25  16  64]\n",
      "  [ 64   9  36]\n",
      "  [ 25   4  64]]\n",
      "\n",
      " [[ 36   4  25]\n",
      "  [  1 100  36]\n",
      "  [ 81   1 100]]]\n"
     ]
    }
   ],
   "source": [
    "import numpy as np\n",
    "\n",
    "# Create the 3D Array\n",
    "np.random.seed(42)  # for reproducibility\n",
    "arr_3d = np.random.randint(1, 11, (3, 3, 3))\n",
    "print(\"Original 3D array:\\n\", arr_3d)\n",
    "\n",
    "# --- a) Find Indices of Maximum Values ---\n",
    "\n",
    "# Method 1: Using np.argmax with Axis Parameter\n",
    "max_indices = np.argmax(arr_3d, axis=2)\n",
    "print(\"\\nIndices of max values along each depth (method 1):\\n\", max_indices)\n",
    "\n",
    "# Method 2: Using a List Comprehension\n",
    "max_indices_lc = np.array([np.argmax(arr_3d[i, :, :], axis=1) for i in range(arr_3d.shape[0])])\n",
    "print(\"\\nIndices of max values along each depth (method 2):\\n\", max_indices_lc)\n",
    "\n",
    "# --- b) Element-wise Multiplication ---\n",
    "\n",
    "result = arr_3d * arr_3d\n",
    "print(\"\\nResult of element-wise multiplication:\\n\", result)"
   ]
  },
  {
   "cell_type": "markdown",
   "metadata": {},
   "source": [
    "### 7. Clean and transform the 'Phone' column in the sample dataset to remove non-numeric characters and convert it to a numeric data type. Also display the table attributes and data types of each column."
   ]
  },
  {
   "cell_type": "code",
   "execution_count": 13,
   "metadata": {},
   "outputs": [
    {
     "name": "stdout",
     "output_type": "stream",
     "text": [
      "| Index   | User Id         | First Name   | Last Name   | Gender   | Email                         | Phone              | Date of birth   | Job Title                | Salary   |\n",
      "|:--------|:----------------|:-------------|:------------|:---------|:------------------------------|:-------------------|:----------------|:-------------------------|:---------|\n",
      "| 1       | 8717bbf45cCDbEe | Shelia       | Mahoney     | Male     | pwarner@example.org           | 857.139.8239       | 27-01-2014      | Probation officer        | 90000    |\n",
      "| 2       | 3d5AD30A4cD38ed | Jo           | Rivers      | Female   | fergusonkatherine@example.net | nan                | 26-07-1931      | Dancer                   | 80000    |\n",
      "| 3       | 810Ce0F276Badec | Sheryl       | Lowery      | Female   | fhoward@example.org           | (599)782-0605      | 25-11-2013      | Copy                     | 50000    |\n",
      "| 4       | BF2a889C00f0cE1 | Whitney      | Hooper      | Male     | zjohnston@example.com         | nan                | 17-11-2012      | Counselling psychologist | 65000    |\n",
      "| 5       | 9afFEafAe1CBBB9 | Lindsey      | Rice        | Female   | elin@example.net              | (390)417-1635x3010 | 15-04-1923      | Biomedical engineer      | 100000   |\n"
     ]
    }
   ],
   "source": [
    "import pandas as pd\n",
    "\n",
    "pd.set_option('display.max_rows', None)\n",
    "pd.set_option('display.max_columns', None)\n",
    "\n",
    "# Read the CSV file into a DataFrame\n",
    "df = pd.read_csv('People Data.csv')\n",
    "\n",
    "# Display the first 5 rows\n",
    "print(df.head().to_markdown(index=False, numalign=\"left\", stralign=\"left\"))"
   ]
  },
  {
   "cell_type": "code",
   "execution_count": 14,
   "metadata": {},
   "outputs": [
    {
     "name": "stdout",
     "output_type": "stream",
     "text": [
      "<class 'pandas.core.frame.DataFrame'>\n",
      "RangeIndex: 1000 entries, 0 to 999\n",
      "Data columns (total 10 columns):\n",
      " #   Column         Non-Null Count  Dtype \n",
      "---  ------         --------------  ----- \n",
      " 0   Index          1000 non-null   int64 \n",
      " 1   User Id        1000 non-null   object\n",
      " 2   First Name     1000 non-null   object\n",
      " 3   Last Name      1000 non-null   object\n",
      " 4   Gender         1000 non-null   object\n",
      " 5   Email          1000 non-null   object\n",
      " 6   Phone          979 non-null    object\n",
      " 7   Date of birth  1000 non-null   object\n",
      " 8   Job Title      1000 non-null   object\n",
      " 9   Salary         1000 non-null   int64 \n",
      "dtypes: int64(2), object(8)\n",
      "memory usage: 78.3+ KB\n",
      "None\n"
     ]
    }
   ],
   "source": [
    "# Print the column names and their data types\n",
    "print(df.info())"
   ]
  },
  {
   "cell_type": "markdown",
   "metadata": {},
   "source": [
    "The 'Phone' column is currently of type `Object`, which means it has mixed data types, likely due to the presence of non-numeric characters like parentheses, hyphens, and the 'x' character as seen in the output of `df.head()`. We need to remove these characters and convert the column to a numeric type in order to carry out any numerical operations on it in the future."
   ]
  },
  {
   "cell_type": "code",
   "execution_count": 15,
   "metadata": {},
   "outputs": [
    {
     "name": "stdout",
     "output_type": "stream",
     "text": [
      "<class 'pandas.core.frame.DataFrame'>\n",
      "RangeIndex: 1000 entries, 0 to 999\n",
      "Data columns (total 10 columns):\n",
      " #   Column         Non-Null Count  Dtype  \n",
      "---  ------         --------------  -----  \n",
      " 0   Index          1000 non-null   int64  \n",
      " 1   User Id        1000 non-null   object \n",
      " 2   First Name     1000 non-null   object \n",
      " 3   Last Name      1000 non-null   object \n",
      " 4   Gender         1000 non-null   object \n",
      " 5   Email          1000 non-null   object \n",
      " 6   Phone          979 non-null    float64\n",
      " 7   Date of birth  1000 non-null   object \n",
      " 8   Job Title      1000 non-null   object \n",
      " 9   Salary         1000 non-null   int64  \n",
      "dtypes: float64(1), int64(2), object(7)\n",
      "memory usage: 78.3+ KB\n",
      "None\n"
     ]
    }
   ],
   "source": [
    "# Remove all non-numeric characters from the 'Phone' column\n",
    "df['Phone'] = df['Phone'].astype(str).str.replace(r'\\D', '', regex=True)\n",
    "\n",
    "# Convert the 'Phone' column to numeric, setting failed conversions to NaN\n",
    "df['Phone'] = pd.to_numeric(df['Phone'], errors='coerce')\n",
    "\n",
    "# Print the column names and their data types\n",
    "print(df.info())"
   ]
  },
  {
   "cell_type": "markdown",
   "metadata": {},
   "source": [
    "The 'Phone' column has been cleaned by removing all non-numeric characters and converted to a numeric datatype (float64) and no missing value (replaced with 0) as shown in the output of `df.info()`.\n",
    "\n",
    "We can further clean the 'Phone' column by ensuring all phone numbers have a uniform length and potentially extracting the ISD code. Let's proceed with these additional cleaning steps."
   ]
  },
  {
   "cell_type": "code",
   "execution_count": 16,
   "metadata": {},
   "outputs": [
    {
     "name": "stdout",
     "output_type": "stream",
     "text": [
      "\n",
      "Counts of different 'Phone' values:\n",
      "\n",
      "  - Zero phones (originally NaN): 0\n",
      "  - NaN phones (invalid numbers): 138\n",
      "  - Valid phones (10 digits): 862\n"
     ]
    }
   ],
   "source": [
    "# Filter all rows of `Phone` which have non zero values\n",
    "non_zero_phones = df[df['Phone'] != 0]\n",
    "\n",
    "# Find the max length of the phone numbers\n",
    "max_length = non_zero_phones['Phone'].astype(str).str.len().max()\n",
    "\n",
    "if max_length > 10:\n",
    "    # If the max length is greater than 10, then extract the last 10 digits from the `Phone` column\n",
    "    df['Phone'] = df['Phone'].astype(str).str[-10:]\n",
    "\n",
    "    # Convert the column back to numeric, handling non-numeric values\n",
    "    df['Phone'] = pd.to_numeric(df['Phone'], errors='coerce')\n",
    "\n",
    "else:\n",
    "    # Otherwise, fill all the phone numbers which have length less than 10 with '0' to the left\n",
    "    df['Phone'] = df['Phone'].astype(str).str.zfill(10)\n",
    "\n",
    "    # Convert the column back to numeric\n",
    "    df['Phone'] = pd.to_numeric(df['Phone'])\n",
    "\n",
    "# Filter rows where 'Phone' has less than 10 digits\n",
    "less_than_10_digits = df['Phone'].astype(str).str.len() < 10\n",
    "\n",
    "# Set these rows to NaN\n",
    "df.loc[less_than_10_digits, 'Phone'] = np.nan\n",
    "\n",
    "# Count occurrences of different 'Phone' values\n",
    "zero_phones = (df['Phone'] == 0).sum()\n",
    "nan_phones = df['Phone'].isna().sum()\n",
    "valid_phones = (df['Phone'].astype(str).str.len() == 10).sum()\n",
    "\n",
    "# Print the counts\n",
    "print(\"\\nCounts of different 'Phone' values:\\n\")\n",
    "print(f\"  - Zero phones (originally NaN): {zero_phones}\")\n",
    "print(f\"  - NaN phones (invalid numbers): {nan_phones}\")\n",
    "print(f\"  - Valid phones (10 digits): {valid_phones}\")"
   ]
  },
  {
   "cell_type": "code",
   "execution_count": 17,
   "metadata": {},
   "outputs": [
    {
     "name": "stdout",
     "output_type": "stream",
     "text": [
      "\n",
      "Unique value counts of the length of the phone numbers:\n",
      "\n",
      "| Phone   | count   |\n",
      "|:--------|:--------|\n",
      "| 3       | 138     |\n",
      "| 10      | 862     |\n",
      "\n",
      "First 5 rows of the dataframe:\n",
      "\n",
      "| Index   | User Id         | First Name   | Last Name   | Gender   | Email                         | Phone       | Date of birth   | Job Title                | Salary   |\n",
      "|:--------|:----------------|:-------------|:------------|:---------|:------------------------------|:------------|:----------------|:-------------------------|:---------|\n",
      "| 1       | 8717bbf45cCDbEe | Shelia       | Mahoney     | Male     | pwarner@example.org           | 7.13982e+07 | 27-01-2014      | Probation officer        | 90000    |\n",
      "| 2       | 3d5AD30A4cD38ed | Jo           | Rivers      | Female   | fergusonkatherine@example.net | nan         | 26-07-1931      | Dancer                   | 80000    |\n",
      "| 3       | 810Ce0F276Badec | Sheryl       | Lowery      | Female   | fhoward@example.org           | 9.78206e+07 | 25-11-2013      | Copy                     | 50000    |\n",
      "| 4       | BF2a889C00f0cE1 | Whitney      | Hooper      | Male     | zjohnston@example.com         | nan         | 17-11-2012      | Counselling psychologist | 65000    |\n",
      "| 5       | 9afFEafAe1CBBB9 | Lindsey      | Rice        | Female   | elin@example.net              | 1.6353e+07  | 15-04-1923      | Biomedical engineer      | 100000   |\n"
     ]
    }
   ],
   "source": [
    "# Print the unique value counts of the length of the phone numbers\n",
    "print(\"\\nUnique value counts of the length of the phone numbers:\\n\")\n",
    "print(df['Phone'].astype(str).str.len().value_counts().sort_index().to_markdown(numalign=\"left\", stralign=\"left\"))\n",
    "\n",
    "# Print the first 5 rows of the dataframe\n",
    "print(\"\\nFirst 5 rows of the dataframe:\\n\")\n",
    "print(df.head().to_markdown(index=False, numalign=\"left\", stralign=\"left\"))"
   ]
  },
  {
   "cell_type": "markdown",
   "metadata": {},
   "source": [
    "The 'Phone' column has been further cleaned to ensure uniformity.\n",
    "\n",
    "- Phone numbers with more than 10 digits (likely including country codes) have been truncated to keep only the last 10 digits.\n",
    "- Shorter phone numbers have been padded with zeros on the left to reach a standard length of 10 digits.\n",
    "\n",
    "As shown in the output, the majority of phone numbers (862 out of 1000) now have the desired length of 10 digits. However, there are still some outliers with lengths ranging from 3 to 9. These might require further investigation or specific handling depending on your data requirements.\n",
    "\n",
    "Extracting the ISD code reliably would necessitate additional information or assumptions about the phone number formats in dataset. If you have specific knowledge about the country codes present, you could implement further logic to extract them.\n",
    "\n",
    "Remember that data cleaning is often an iterative process, and the best approach depends on the specific characteristics and goals of dataset."
   ]
  },
  {
   "cell_type": "markdown",
   "metadata": {},
   "source": [
    "The remaining outliers in the 'Phone' column, with lengths less than 10, might represent invalid or incomplete phone numbers. To handle these, we can adopt a more conservative approach by setting them to NaN, indicating missing or unusable data. Additionally, we can provide a summary of the cleaning process, highlighting the number of phone numbers corrected, removed, or left unchanged.\n",
    "\n",
    "The 'Phone' column has been further refined to enhance data quality.\n",
    "\n",
    "- Phone numbers with less than 10 digits, which were likely invalid or incomplete, have been replaced with NaN to signify missing data.\n",
    "\n",
    "This approach ensures that the remaining phone numbers in the dataset adhere to a consistent 10-digit format, improving their reliability for future analysis or operations. It also explicitly identifies potentially problematic entries through NaN values, allowing for informed decision-making in subsequent data processing steps.\n",
    "\n",
    "Remember that handling NaN values effectively is crucial in any data analysis workflow. Depending on  specific objectives, we might choose to drop rows with NaN phone numbers, impute them with appropriate values, or employ other strategies to address missing data."
   ]
  },
  {
   "cell_type": "code",
   "execution_count": 18,
   "metadata": {},
   "outputs": [
    {
     "name": "stdout",
     "output_type": "stream",
     "text": [
      "<class 'pandas.core.frame.DataFrame'>\n",
      "RangeIndex: 1000 entries, 0 to 999\n",
      "Data columns (total 10 columns):\n",
      " #   Column         Non-Null Count  Dtype  \n",
      "---  ------         --------------  -----  \n",
      " 0   Index          1000 non-null   int64  \n",
      " 1   User Id        1000 non-null   object \n",
      " 2   First Name     1000 non-null   object \n",
      " 3   Last Name      1000 non-null   object \n",
      " 4   Gender         1000 non-null   object \n",
      " 5   Email          1000 non-null   object \n",
      " 6   Phone          862 non-null    float64\n",
      " 7   Date of birth  1000 non-null   object \n",
      " 8   Job Title      1000 non-null   object \n",
      " 9   Salary         1000 non-null   int64  \n",
      "dtypes: float64(1), int64(2), object(7)\n",
      "memory usage: 78.3+ KB\n",
      "None\n"
     ]
    }
   ],
   "source": [
    "# Print the column names and their data types\n",
    "print(df.info())"
   ]
  },
  {
   "cell_type": "markdown",
   "metadata": {},
   "source": [
    "### 8. Perform the following tasks using people dataset:\n",
    "- a) Read the 'data.csv' file using pandas, skipping the first 50 rows.\n",
    "\n",
    "- b) Only read the columns: 'Last Name', ‘Gender’,’Email’,‘Phone’ and ‘Salary’ from the file.\n",
    "\n",
    "- c) Display the first 10 rows of the filtered dataset.\n",
    "\n",
    "- d) Extract the ‘Salary’' column as a Series and display its last 5 values."
   ]
  },
  {
   "cell_type": "code",
   "execution_count": 19,
   "metadata": {},
   "outputs": [
    {
     "ename": "KeyError",
     "evalue": "\"None of [Index(['Last Name', 'Gender', 'Email', 'Phone', 'Salary'], dtype='object')] are in the [columns]\"",
     "output_type": "error",
     "traceback": [
      "\u001b[1;31m---------------------------------------------------------------------------\u001b[0m",
      "\u001b[1;31mKeyError\u001b[0m                                  Traceback (most recent call last)",
      "Cell \u001b[1;32mIn[19], line 10\u001b[0m\n\u001b[0;32m      7\u001b[0m df \u001b[38;5;241m=\u001b[39m pd\u001b[38;5;241m.\u001b[39mread_csv(\u001b[38;5;124m'\u001b[39m\u001b[38;5;124mPeople Data.csv\u001b[39m\u001b[38;5;124m'\u001b[39m, skiprows\u001b[38;5;241m=\u001b[39m\u001b[38;5;241m50\u001b[39m)\n\u001b[0;32m      9\u001b[0m \u001b[38;5;66;03m# b) Select only the required columns\u001b[39;00m\n\u001b[1;32m---> 10\u001b[0m filtered_df \u001b[38;5;241m=\u001b[39m df[[\u001b[38;5;124m'\u001b[39m\u001b[38;5;124mLast Name\u001b[39m\u001b[38;5;124m'\u001b[39m, \u001b[38;5;124m'\u001b[39m\u001b[38;5;124mGender\u001b[39m\u001b[38;5;124m'\u001b[39m, \u001b[38;5;124m'\u001b[39m\u001b[38;5;124mEmail\u001b[39m\u001b[38;5;124m'\u001b[39m, \u001b[38;5;124m'\u001b[39m\u001b[38;5;124mPhone\u001b[39m\u001b[38;5;124m'\u001b[39m, \u001b[38;5;124m'\u001b[39m\u001b[38;5;124mSalary\u001b[39m\u001b[38;5;124m'\u001b[39m]]\n\u001b[0;32m     12\u001b[0m \u001b[38;5;66;03m# c) Display the first 10 rows of the filtered dataset\u001b[39;00m\n\u001b[0;32m     13\u001b[0m \u001b[38;5;28mprint\u001b[39m(\u001b[38;5;124m\"\u001b[39m\u001b[38;5;124mFirst 10 rows of the filtered dataset:\u001b[39m\u001b[38;5;130;01m\\n\u001b[39;00m\u001b[38;5;124m\"\u001b[39m)\n",
      "File \u001b[1;32me:\\Program Files\\anaconda3\\Lib\\site-packages\\pandas\\core\\frame.py:4108\u001b[0m, in \u001b[0;36mDataFrame.__getitem__\u001b[1;34m(self, key)\u001b[0m\n\u001b[0;32m   4106\u001b[0m     \u001b[38;5;28;01mif\u001b[39;00m is_iterator(key):\n\u001b[0;32m   4107\u001b[0m         key \u001b[38;5;241m=\u001b[39m \u001b[38;5;28mlist\u001b[39m(key)\n\u001b[1;32m-> 4108\u001b[0m     indexer \u001b[38;5;241m=\u001b[39m \u001b[38;5;28mself\u001b[39m\u001b[38;5;241m.\u001b[39mcolumns\u001b[38;5;241m.\u001b[39m_get_indexer_strict(key, \u001b[38;5;124m\"\u001b[39m\u001b[38;5;124mcolumns\u001b[39m\u001b[38;5;124m\"\u001b[39m)[\u001b[38;5;241m1\u001b[39m]\n\u001b[0;32m   4110\u001b[0m \u001b[38;5;66;03m# take() does not accept boolean indexers\u001b[39;00m\n\u001b[0;32m   4111\u001b[0m \u001b[38;5;28;01mif\u001b[39;00m \u001b[38;5;28mgetattr\u001b[39m(indexer, \u001b[38;5;124m\"\u001b[39m\u001b[38;5;124mdtype\u001b[39m\u001b[38;5;124m\"\u001b[39m, \u001b[38;5;28;01mNone\u001b[39;00m) \u001b[38;5;241m==\u001b[39m \u001b[38;5;28mbool\u001b[39m:\n",
      "File \u001b[1;32me:\\Program Files\\anaconda3\\Lib\\site-packages\\pandas\\core\\indexes\\base.py:6200\u001b[0m, in \u001b[0;36mIndex._get_indexer_strict\u001b[1;34m(self, key, axis_name)\u001b[0m\n\u001b[0;32m   6197\u001b[0m \u001b[38;5;28;01melse\u001b[39;00m:\n\u001b[0;32m   6198\u001b[0m     keyarr, indexer, new_indexer \u001b[38;5;241m=\u001b[39m \u001b[38;5;28mself\u001b[39m\u001b[38;5;241m.\u001b[39m_reindex_non_unique(keyarr)\n\u001b[1;32m-> 6200\u001b[0m \u001b[38;5;28mself\u001b[39m\u001b[38;5;241m.\u001b[39m_raise_if_missing(keyarr, indexer, axis_name)\n\u001b[0;32m   6202\u001b[0m keyarr \u001b[38;5;241m=\u001b[39m \u001b[38;5;28mself\u001b[39m\u001b[38;5;241m.\u001b[39mtake(indexer)\n\u001b[0;32m   6203\u001b[0m \u001b[38;5;28;01mif\u001b[39;00m \u001b[38;5;28misinstance\u001b[39m(key, Index):\n\u001b[0;32m   6204\u001b[0m     \u001b[38;5;66;03m# GH 42790 - Preserve name from an Index\u001b[39;00m\n",
      "File \u001b[1;32me:\\Program Files\\anaconda3\\Lib\\site-packages\\pandas\\core\\indexes\\base.py:6249\u001b[0m, in \u001b[0;36mIndex._raise_if_missing\u001b[1;34m(self, key, indexer, axis_name)\u001b[0m\n\u001b[0;32m   6247\u001b[0m \u001b[38;5;28;01mif\u001b[39;00m nmissing:\n\u001b[0;32m   6248\u001b[0m     \u001b[38;5;28;01mif\u001b[39;00m nmissing \u001b[38;5;241m==\u001b[39m \u001b[38;5;28mlen\u001b[39m(indexer):\n\u001b[1;32m-> 6249\u001b[0m         \u001b[38;5;28;01mraise\u001b[39;00m \u001b[38;5;167;01mKeyError\u001b[39;00m(\u001b[38;5;124mf\u001b[39m\u001b[38;5;124m\"\u001b[39m\u001b[38;5;124mNone of [\u001b[39m\u001b[38;5;132;01m{\u001b[39;00mkey\u001b[38;5;132;01m}\u001b[39;00m\u001b[38;5;124m] are in the [\u001b[39m\u001b[38;5;132;01m{\u001b[39;00maxis_name\u001b[38;5;132;01m}\u001b[39;00m\u001b[38;5;124m]\u001b[39m\u001b[38;5;124m\"\u001b[39m)\n\u001b[0;32m   6251\u001b[0m     not_found \u001b[38;5;241m=\u001b[39m \u001b[38;5;28mlist\u001b[39m(ensure_index(key)[missing_mask\u001b[38;5;241m.\u001b[39mnonzero()[\u001b[38;5;241m0\u001b[39m]]\u001b[38;5;241m.\u001b[39munique())\n\u001b[0;32m   6252\u001b[0m     \u001b[38;5;28;01mraise\u001b[39;00m \u001b[38;5;167;01mKeyError\u001b[39;00m(\u001b[38;5;124mf\u001b[39m\u001b[38;5;124m\"\u001b[39m\u001b[38;5;132;01m{\u001b[39;00mnot_found\u001b[38;5;132;01m}\u001b[39;00m\u001b[38;5;124m not in index\u001b[39m\u001b[38;5;124m\"\u001b[39m)\n",
      "\u001b[1;31mKeyError\u001b[0m: \"None of [Index(['Last Name', 'Gender', 'Email', 'Phone', 'Salary'], dtype='object')] are in the [columns]\""
     ]
    }
   ],
   "source": [
    "import pandas as pd\n",
    "\n",
    "pd.set_option('display.max_rows', None)\n",
    "pd.set_option('display.max_columns', None)\n",
    "\n",
    "# a) Read the CSV file into a DataFrame, skipping the first 50 rows\n",
    "df = pd.read_csv('People Data.csv', skiprows=50)\n",
    "\n",
    "# b) Select only the required columns\n",
    "filtered_df = df[['Last Name', 'Gender', 'Email', 'Phone', 'Salary']]\n",
    "\n",
    "# c) Display the first 10 rows of the filtered dataset\n",
    "print(\"First 10 rows of the filtered dataset:\\n\")\n",
    "print(filtered_df.head(10).to_markdown(index=False, numalign=\"left\", stralign=\"left\"))\n",
    "\n",
    "# d) Extract the 'Salary' column as a Series and display its last 5 values\n",
    "salary_series = df['Salary']\n",
    "print(\"\\nLast 5 values of the 'Salary' series:\\n\")\n",
    "print(salary_series.tail().to_markdown(numalign=\"left\", stralign=\"left\"))"
   ]
  },
  {
   "cell_type": "markdown",
   "metadata": {},
   "source": [
    "It seems that the column names provided in the query do not exactly match the column names in the CSV file. We need to print the column names to make sure we got their names right."
   ]
  },
  {
   "cell_type": "code",
   "execution_count": 20,
   "metadata": {},
   "outputs": [
    {
     "name": "stdout",
     "output_type": "stream",
     "text": [
      "Index(['50', 'afF3018e9cdd1dA', 'George', 'Mercer', 'Female',\n",
      "       'douglascontreras@example.net', '+1-326-669-0118x4341', '11-09-1941',\n",
      "       'Human resources officer', '70000'],\n",
      "      dtype='object')\n"
     ]
    }
   ],
   "source": [
    "# Print the column names of the DataFrame\n",
    "print(df.columns)"
   ]
  },
  {
   "cell_type": "markdown",
   "metadata": {},
   "source": [
    "The column names in the dataframe are different than what was provided in the query.\n",
    "\n",
    "It seems that after skipping the first 50 rows, 51 rowth data is now the new headear and hence the the header is not being set properly, leading to incorrect column names. We need to print the first 5 rows to make sure we are skipping the right number of rows and the header is set correctly."
   ]
  },
  {
   "cell_type": "code",
   "execution_count": 21,
   "metadata": {},
   "outputs": [
    {
     "name": "stdout",
     "output_type": "stream",
     "text": [
      "| 50   | afF3018e9cdd1dA   | George    | Mercer   | Female   | douglascontreras@example.net   | +1-326-669-0118x4341   | 11-09-1941   | Human resources officer   | 70000   |\n",
      "|:-----|:------------------|:----------|:---------|:---------|:-------------------------------|:-----------------------|:-------------|:--------------------------|:--------|\n",
      "| 51   | CccE5DAb6E288e5   | Jo        | Zavala   | Male     | pamela64@example.net           | 001-859-448-9935x54536 | 23-11-1992   | Nurse, adult              | 80000   |\n",
      "| 52   | DfBDc3621D4bcec   | Joshua    | Carey    | Female   | dianashepherd@example.net      | 001-274-739-8470x814   | 07-01-1915   | Seismic interpreter       | 70000   |\n",
      "| 53   | f55b0A249f5E44D   | Rickey    | Hobbs    | Female   | ingramtiffany@example.org      | 241.179.9509x498       | 01-07-1910   | Barrister                 | 60000   |\n",
      "| 54   | Ed71DcfaBFd0beE   | Robyn     | Reilly   | Male     | carriecrawford@example.org     | 207.797.8345x6177      | 27-07-1982   | Engineer, structural      | 100000  |\n",
      "| 55   | FDaFD0c3f5387EC   | Christina | Conrad   | Male     | fuentesclaudia@example.net     | 001-599-042-7428x143   | 06-01-1998   | Producer, radio           | 50000   |\n"
     ]
    }
   ],
   "source": [
    "import pandas as pd\n",
    "\n",
    "pd.set_option('display.max_rows', None)\n",
    "pd.set_option('display.max_columns', None)\n",
    "\n",
    "# a) Read the CSV file into a DataFrame, skipping the first 50 rows\n",
    "df = pd.read_csv('People Data.csv', skiprows=50)\n",
    "\n",
    "# Print the first 5 rows to inspect the column names\n",
    "print(df.head().to_markdown(index=False, numalign=\"left\", stralign=\"left\"))"
   ]
  },
  {
   "cell_type": "markdown",
   "metadata": {},
   "source": [
    "It is clear now that the first row after skipping 50 rows contains the actual data and not the header. We need to skip 50 rows add headear row and then proceed with the rest of the tasks."
   ]
  },
  {
   "cell_type": "code",
   "execution_count": 22,
   "metadata": {},
   "outputs": [
    {
     "name": "stdout",
     "output_type": "stream",
     "text": [
      "First 10 rows of the filtered dataset:\n",
      "\n",
      "| Last Name   | Gender   | Email                        | Phone                  | Salary   |\n",
      "|:------------|:---------|:-----------------------------|:-----------------------|:---------|\n",
      "| Mercer      | Female   | douglascontreras@example.net | +1-326-669-0118x4341   | 70000    |\n",
      "| Zavala      | Male     | pamela64@example.net         | 001-859-448-9935x54536 | 80000    |\n",
      "| Carey       | Female   | dianashepherd@example.net    | 001-274-739-8470x814   | 70000    |\n",
      "| Hobbs       | Female   | ingramtiffany@example.org    | 241.179.9509x498       | 60000    |\n",
      "| Reilly      | Male     | carriecrawford@example.org   | 207.797.8345x6177      | 100000   |\n",
      "| Conrad      | Male     | fuentesclaudia@example.net   | 001-599-042-7428x143   | 50000    |\n",
      "| Cole        | Male     | kaneaudrey@example.org       | 663-280-5834           | 85000    |\n",
      "| Donovan     | Male     | rebekahsantos@example.net    | nan                    | 65000    |\n",
      "| Little      | Female   | craig28@example.com          | 125.219.3673x0076      | 60000    |\n",
      "| Dawson      | Female   | connercourtney@example.net   | 650-748-3069x64529     | 60000    |\n",
      "\n",
      "Last 5 values of the 'Salary' series:\n",
      "\n",
      "|     | Salary   |\n",
      "|:----|:---------|\n",
      "| 946 | 90000    |\n",
      "| 947 | 50000    |\n",
      "| 948 | 60000    |\n",
      "| 949 | 100000   |\n",
      "| 950 | 90000    |\n"
     ]
    }
   ],
   "source": [
    "import pandas as pd\n",
    "\n",
    "pd.set_option('display.max_rows', None)\n",
    "pd.set_option('display.max_columns', None)\n",
    "\n",
    "# a) Read the CSV file into a DataFrame, skipping the first 51 rows (including the header row)\n",
    "df = pd.read_csv('People Data.csv', skiprows=50, header=None)\n",
    "\n",
    "# Assign column names based on the output from the previous `df.head()` call\n",
    "df.columns = ['Index', 'User Id', 'First Name', 'Last Name', 'Gender', 'Email', 'Phone', 'Date of birth', 'Job Title', 'Salary']\n",
    "\n",
    "# b) Select only the required columns\n",
    "filtered_df = df[['Last Name', 'Gender', 'Email', 'Phone', 'Salary']]\n",
    "\n",
    "# c) Display the first 10 rows of the filtered dataset\n",
    "print(\"First 10 rows of the filtered dataset:\\n\")\n",
    "print(filtered_df.head(10).to_markdown(index=False, numalign=\"left\", stralign=\"left\"))\n",
    "\n",
    "# d) Extract the 'Salary' column as a Series and display its last 5 values\n",
    "salary_series = df['Salary']\n",
    "print(\"\\nLast 5 values of the 'Salary' series:\\n\")\n",
    "print(salary_series.tail().to_markdown(numalign=\"left\", stralign=\"left\"))"
   ]
  },
  {
   "cell_type": "markdown",
   "metadata": {},
   "source": [
    "The tasks using the people dataset have been completed.\n",
    "\n",
    "- Successfully read the CSV file, skipping the first 50 rows to correctly align the header with the data.\n",
    "- The dataset was filtered to include only the specified columns: 'Last Name', 'Gender', 'Email', 'Phone', and 'Salary'.\n",
    "- The first 10 rows of this filtered dataset were displayed.\n",
    "- The 'Salary' column was extracted as a Series, and its last 5 values were presented."
   ]
  },
  {
   "cell_type": "markdown",
   "metadata": {},
   "source": [
    "### 9. Filter and select rows from the People_Dataset, where the “Last Name' column contains the name 'Duke', 'Gender' column contains the word Female and ‘Salary’ should be less than 85000"
   ]
  },
  {
   "cell_type": "code",
   "execution_count": 23,
   "metadata": {},
   "outputs": [
    {
     "name": "stdout",
     "output_type": "stream",
     "text": [
      "| Index   | User Id         | First Name   | Last Name   | Gender   | Email                         | Phone              | Date of birth   | Job Title                | Salary   |\n",
      "|:--------|:----------------|:-------------|:------------|:---------|:------------------------------|:-------------------|:----------------|:-------------------------|:---------|\n",
      "| 1       | 8717bbf45cCDbEe | Shelia       | Mahoney     | Male     | pwarner@example.org           | 857.139.8239       | 27-01-2014      | Probation officer        | 90000    |\n",
      "| 2       | 3d5AD30A4cD38ed | Jo           | Rivers      | Female   | fergusonkatherine@example.net | nan                | 26-07-1931      | Dancer                   | 80000    |\n",
      "| 3       | 810Ce0F276Badec | Sheryl       | Lowery      | Female   | fhoward@example.org           | (599)782-0605      | 25-11-2013      | Copy                     | 50000    |\n",
      "| 4       | BF2a889C00f0cE1 | Whitney      | Hooper      | Male     | zjohnston@example.com         | nan                | 17-11-2012      | Counselling psychologist | 65000    |\n",
      "| 5       | 9afFEafAe1CBBB9 | Lindsey      | Rice        | Female   | elin@example.net              | (390)417-1635x3010 | 15-04-1923      | Biomedical engineer      | 100000   |\n",
      "<class 'pandas.core.frame.DataFrame'>\n",
      "RangeIndex: 1000 entries, 0 to 999\n",
      "Data columns (total 10 columns):\n",
      " #   Column         Non-Null Count  Dtype \n",
      "---  ------         --------------  ----- \n",
      " 0   Index          1000 non-null   int64 \n",
      " 1   User Id        1000 non-null   object\n",
      " 2   First Name     1000 non-null   object\n",
      " 3   Last Name      1000 non-null   object\n",
      " 4   Gender         1000 non-null   object\n",
      " 5   Email          1000 non-null   object\n",
      " 6   Phone          979 non-null    object\n",
      " 7   Date of birth  1000 non-null   object\n",
      " 8   Job Title      1000 non-null   object\n",
      " 9   Salary         1000 non-null   int64 \n",
      "dtypes: int64(2), object(8)\n",
      "memory usage: 78.3+ KB\n",
      "None\n"
     ]
    }
   ],
   "source": [
    "import pandas as pd\n",
    "\n",
    "pd.set_option('display.max_rows', None)\n",
    "pd.set_option('display.max_columns', None)\n",
    "\n",
    "# Read the CSV file into a DataFrame\n",
    "df = pd.read_csv('People Data.csv')\n",
    "\n",
    "# Display the first 5 rows\n",
    "print(df.head().to_markdown(index=False, numalign=\"left\", stralign=\"left\"))\n",
    "\n",
    "# Print the column names and their data types\n",
    "print(df.info())"
   ]
  },
  {
   "cell_type": "markdown",
   "metadata": {},
   "source": [
    "The required columns `Last Name`, `Gender` and `Salary` are present in the dataframe. We can filter the data based on the given conditions."
   ]
  },
  {
   "cell_type": "code",
   "execution_count": 24,
   "metadata": {},
   "outputs": [
    {
     "name": "stdout",
     "output_type": "stream",
     "text": [
      "The filtered data where the \"Last Name\" column contains the name \"Duke\", \"Gender\" column contains the word \"Female\" and \"Salary\" is less than 85000 is as follows: \n",
      "\n",
      "| Index   | User Id         | First Name   | Last Name   | Gender   | Email                    | Phone                  | Date of birth   | Job Title       | Salary   |\n",
      "|:--------|:----------------|:-------------|:------------|:---------|:-------------------------|:-----------------------|:----------------|:----------------|:---------|\n",
      "| 46      | 99A502C175C4EBd | Olivia       | Duke        | Female   | diana26@example.net      | 001-366-475-8607x04350 | 13-10-1934      | Dentist         | 60000    |\n",
      "| 211     | DF17975CC0a0373 | Katrina      | Duke        | Female   | robin78@example.com      | 740.434.0212           | 21-09-1935      | Producer, radio | 50000    |\n",
      "| 458     | dcE1B7DE83c1076 | Traci        | Duke        | Female   | perryhoffman@example.org | +1-903-596-0995x489    | 11-02-1997      | Herbalist       | 50000    |\n",
      "| 730     | c9b482D7aa3e682 | Lonnie       | Duke        | Female   | kevinkramer@example.net  | 982.692.6257           | 12-05-2015      | Nurse, adult    | 70000    |\n"
     ]
    }
   ],
   "source": [
    "# Filter the data based on the given conditions\n",
    "filtered_data = df[(df['Last Name'] == 'Duke') & (df['Gender'] == 'Female') & (df['Salary'] < 85000)]\n",
    "\n",
    "# Check if any rows match the conditions and print accordingly\n",
    "if not filtered_data.empty:\n",
    "    print('The filtered data where the \"Last Name\" column contains the name \"Duke\", \"Gender\" column contains the word \"Female\" and \"Salary\" is less than 85000 is as follows: \\n')\n",
    "    print(filtered_data.to_markdown(index=False, numalign=\"left\", stralign=\"left\"))\n",
    "\n",
    "else:\n",
    "    print(\"No matching records found\")"
   ]
  },
  {
   "cell_type": "markdown",
   "metadata": {},
   "source": [
    "### 10.  Create a 7x5 Dataframe in Pandas using a series generated from 35 random integers between 1 to 6?"
   ]
  },
  {
   "cell_type": "markdown",
   "metadata": {},
   "source": [
    "1. **Import Libraries**\n",
    "   - `import pandas as pd`: Imports the Pandas library for working with DataFrames.\n",
    "   - `import numpy as np`: Imports the NumPy library for generating random numbers.\n",
    "\n",
    "2. **Set Random Seed (Optional)**\n",
    "   - `np.random.seed(42)`: This line is optional but highly recommended for reproducibility. It ensures that you get the same random numbers every time you run the code, making it easier to debug and share your results.\n",
    "\n",
    "3. **Generate Random Integers**\n",
    "   - `np.random.randint(1, 7, 35)`: \n",
    "     - `1` is the lower bound (inclusive).\n",
    "     - `7` is the upper bound (exclusive), meaning the generated numbers will be between 1 and 6.\n",
    "     - `35` is the number of random integers to generate.\n",
    "\n",
    "4. **Create a Pandas Series**\n",
    "   - `data_series = pd.Series(random_integers)`: Creates a Pandas Series from the NumPy array of random integers.\n",
    "\n",
    "5. **Reshape into a DataFrame**\n",
    "   - `dataframe = data_series.values.reshape(7, 5)`: \n",
    "     - `.values` extracts the underlying NumPy array from the Series.\n",
    "     - `.reshape(7, 5)` reshapes this array into a 7x5 matrix (7 rows, 5 columns).\n",
    "\n",
    "6. **Convert to DataFrame**\n",
    "   - `df = pd.DataFrame(dataframe)`: Converts the NumPy array into a Pandas DataFrame.\n",
    "\n",
    "7. **Display the DataFrame**\n",
    "   - `print(df)`: Prints the DataFrame to the console.\n",
    "   - `to_markdown(index=False, numalign=\"left\", stralign=\"left\")`: Formats the output for better readability."
   ]
  },
  {
   "cell_type": "code",
   "execution_count": 25,
   "metadata": {},
   "outputs": [
    {
     "name": "stdout",
     "output_type": "stream",
     "text": [
      "7x5 DataFrame using random integers between 1 and 6:\n",
      "\n",
      "| 0   | 1   | 2   | 3   | 4   |\n",
      "|:----|:----|:----|:----|:----|\n",
      "| 4   | 5   | 3   | 5   | 5   |\n",
      "| 2   | 3   | 3   | 3   | 5   |\n",
      "| 4   | 3   | 6   | 5   | 2   |\n",
      "| 4   | 6   | 6   | 2   | 4   |\n",
      "| 5   | 1   | 4   | 2   | 6   |\n",
      "| 5   | 4   | 1   | 1   | 3   |\n",
      "| 3   | 2   | 4   | 4   | 6   |\n"
     ]
    }
   ],
   "source": [
    "import pandas as pd\n",
    "import numpy as np\n",
    "\n",
    "# Set the random seed for reproducibility\n",
    "np.random.seed(42)  # You can change this seed if you want different random numbers\n",
    "\n",
    "# Generate 35 random integers between 1 and 6 (inclusive)\n",
    "random_integers = np.random.randint(1, 7, 35)  # 7 (exclusive) ensures the upper bound is 6\n",
    "\n",
    "# Create a Pandas Series from the random integers\n",
    "data_series = pd.Series(random_integers)\n",
    "\n",
    "# Reshape the Series into a 7x5 DataFrame\n",
    "dataframe = data_series.values.reshape(7, 5)  # 7 rows, 5 columns\n",
    "\n",
    "# Convert the NumPy array into a DataFrame\n",
    "df = pd.DataFrame(dataframe)\n",
    "\n",
    "# Display the DataFrame\n",
    "print(\"7x5 DataFrame using random integers between 1 and 6:\\n\")\n",
    "print(df.to_markdown(index=False, numalign=\"left\", stralign=\"left\"))"
   ]
  },
  {
   "cell_type": "markdown",
   "metadata": {},
   "source": [
    "### 11. Create two different Series, each of length 50, with the following criteria:\n",
    " - a) The first Series should contain random numbers ranging from 10 to 50.\n",
    " - b) The second Series should contain random numbers ranging from 100 to 1000.\n",
    " - c) Create a DataFrame by joining these Series by column, and, change the names of the columns to 'col1', 'col2', etc"
   ]
  },
  {
   "cell_type": "markdown",
   "metadata": {},
   "source": [
    "1. **Import Libraries:**\n",
    "   - We import `pandas` for working with DataFrames and Series, and `numpy` for generating random numbers.\n",
    "\n",
    "2. **Create Series:**\n",
    "   - `series1`: We use `np.random.randint(10, 51, size=50)` to create a Series containing 50 random integers between 10 and 50 (inclusive).\n",
    "   - `series2`: Similarly, we use `np.random.randint(100, 1001, size=50)` to create a Series with 50 random integers between 100 and 1000 (inclusive).\n",
    "\n",
    "3. **Create DataFrame:**\n",
    "   - `pd.concat([series1, series2], axis=1)` combines the two Series into a DataFrame, joining them side-by-side as columns.\n",
    "\n",
    "4. **Rename Columns:**\n",
    "   - `df.columns = ['col1', 'col2']` assigns new names to the columns of the DataFrame.\n",
    "\n",
    "5. **Print Output:**\n",
    "   - `print(df.head().to_markdown(index=False, numalign=\"left\", stralign=\"left\"))` displays the first 5 rows of the DataFrame in a nicely formatted Markdown table, making it easy to read and understand."
   ]
  },
  {
   "cell_type": "code",
   "execution_count": 26,
   "metadata": {},
   "outputs": [
    {
     "name": "stdout",
     "output_type": "stream",
     "text": [
      "| col1   | col2   |\n",
      "|:-------|:-------|\n",
      "| 12     | 938    |\n",
      "| 46     | 620    |\n",
      "| 16     | 443    |\n",
      "| 30     | 228    |\n",
      "| 18     | 747    |\n"
     ]
    }
   ],
   "source": [
    "import pandas as pd\n",
    "import numpy as np\n",
    "\n",
    "# a) Create the first Series with random numbers between 10 and 50\n",
    "series1 = pd.Series(np.random.randint(10, 51, size=50))  # 50 random integers from 10 to 50 (inclusive)\n",
    "\n",
    "# b) Create the second Series with random numbers between 100 and 1000\n",
    "series2 = pd.Series(np.random.randint(100, 1001, size=50))  # 50 random integers from 100 to 1000 (inclusive)\n",
    "\n",
    "# c) Create a DataFrame by joining the Series\n",
    "df = pd.concat([series1, series2], axis=1)  # Join along columns (axis=1)\n",
    "\n",
    "# Rename the columns\n",
    "df.columns = ['col1', 'col2']  # Change column names\n",
    "\n",
    "# Print the first 5 rows\n",
    "print(df.head().to_markdown(index=False, numalign=\"left\", stralign=\"left\"))"
   ]
  },
  {
   "cell_type": "markdown",
   "metadata": {},
   "source": [
    "### 12. Perform the following operations using people data set:\n",
    "- a) Delete the 'Email', 'Phone', and 'Date of birth' columns from the dataset.\n",
    "- b) Delete the rows containing any missing values.\n",
    "- c) Print the final outut also"
   ]
  },
  {
   "cell_type": "code",
   "execution_count": 27,
   "metadata": {},
   "outputs": [
    {
     "name": "stdout",
     "output_type": "stream",
     "text": [
      "| Index   | User Id         | First Name   | Last Name   | Gender   | Email                         | Phone              | Date of birth   | Job Title                | Salary   |\n",
      "|:--------|:----------------|:-------------|:------------|:---------|:------------------------------|:-------------------|:----------------|:-------------------------|:---------|\n",
      "| 1       | 8717bbf45cCDbEe | Shelia       | Mahoney     | Male     | pwarner@example.org           | 857.139.8239       | 27-01-2014      | Probation officer        | 90000    |\n",
      "| 2       | 3d5AD30A4cD38ed | Jo           | Rivers      | Female   | fergusonkatherine@example.net | nan                | 26-07-1931      | Dancer                   | 80000    |\n",
      "| 3       | 810Ce0F276Badec | Sheryl       | Lowery      | Female   | fhoward@example.org           | (599)782-0605      | 25-11-2013      | Copy                     | 50000    |\n",
      "| 4       | BF2a889C00f0cE1 | Whitney      | Hooper      | Male     | zjohnston@example.com         | nan                | 17-11-2012      | Counselling psychologist | 65000    |\n",
      "| 5       | 9afFEafAe1CBBB9 | Lindsey      | Rice        | Female   | elin@example.net              | (390)417-1635x3010 | 15-04-1923      | Biomedical engineer      | 100000   |\n",
      "<class 'pandas.core.frame.DataFrame'>\n",
      "RangeIndex: 1000 entries, 0 to 999\n",
      "Data columns (total 10 columns):\n",
      " #   Column         Non-Null Count  Dtype \n",
      "---  ------         --------------  ----- \n",
      " 0   Index          1000 non-null   int64 \n",
      " 1   User Id        1000 non-null   object\n",
      " 2   First Name     1000 non-null   object\n",
      " 3   Last Name      1000 non-null   object\n",
      " 4   Gender         1000 non-null   object\n",
      " 5   Email          1000 non-null   object\n",
      " 6   Phone          979 non-null    object\n",
      " 7   Date of birth  1000 non-null   object\n",
      " 8   Job Title      1000 non-null   object\n",
      " 9   Salary         1000 non-null   int64 \n",
      "dtypes: int64(2), object(8)\n",
      "memory usage: 78.3+ KB\n",
      "None\n"
     ]
    }
   ],
   "source": [
    "import pandas as pd\n",
    "\n",
    "pd.set_option('display.max_rows', None)\n",
    "pd.set_option('display.max_columns', None)\n",
    "\n",
    "# Read the CSV file into a DataFrame\n",
    "df = pd.read_csv('People Data.csv')\n",
    "\n",
    "# Display the first 5 rows\n",
    "print(df.head().to_markdown(index=False, numalign=\"left\", stralign=\"left\"))\n",
    "\n",
    "# Print the column names and their data types\n",
    "print(df.info())"
   ]
  },
  {
   "cell_type": "markdown",
   "metadata": {},
   "source": [
    "The columns `Email`, `Phone`, and `Date of birth` exist in the dataframe. We can now proceed with deleting these columns and the rows containing missing values."
   ]
  },
  {
   "cell_type": "code",
   "execution_count": 28,
   "metadata": {},
   "outputs": [
    {
     "name": "stdout",
     "output_type": "stream",
     "text": [
      "Shape of dataframe before dropping rows with missing values: (1000, 7)\n",
      "Shape of dataframe after dropping rows with missing values: (1000, 7)\n",
      "\n",
      "Final dataframe:\n",
      "\n",
      "| Index   | User Id         | First Name   | Last Name   | Gender   | Job Title                                                   | Salary   |\n",
      "|:--------|:----------------|:-------------|:------------|:---------|:------------------------------------------------------------|:---------|\n",
      "| 1       | 8717bbf45cCDbEe | Shelia       | Mahoney     | Male     | Probation officer                                           | 90000    |\n",
      "| 2       | 3d5AD30A4cD38ed | Jo           | Rivers      | Female   | Dancer                                                      | 80000    |\n",
      "| 3       | 810Ce0F276Badec | Sheryl       | Lowery      | Female   | Copy                                                        | 50000    |\n",
      "| 4       | BF2a889C00f0cE1 | Whitney      | Hooper      | Male     | Counselling psychologist                                    | 65000    |\n",
      "| 5       | 9afFEafAe1CBBB9 | Lindsey      | Rice        | Female   | Biomedical engineer                                         | 100000   |\n",
      "| 6       | aF75e6dDEBC5b66 | Sherry       | Caldwell    | Male     | Higher education lecturer                                   | 50000    |\n",
      "| 7       | efeb05c7Cc94EA3 | Ernest       | Hoffman     | Male     | Health visitor                                              | 60000    |\n",
      "| 8       | fb1BF3FED57E9d7 | Doris        | Andersen    | Male     | Air broker                                                  | 65000    |\n",
      "| 9       | 421fAB9a3b98F30 | Cheryl       | Mays        | Male     | Designer, multimedia                                        | 50000    |\n",
      "| 10      | 4A42Fe10dB717CB | Harry        | Mitchell    | Male     | Insurance account manager                                   | 50000    |\n",
      "| 11      | 44FAA9C3CE8DB2B | Casey        | Ayala       | Male     | Scientist, water quality                                    | 60000    |\n",
      "| 12      | 86cCc6417942b4B | Sara         | Huff        | Male     | Metallurgist                                                | 100000   |\n",
      "| 13      | CDA21B6e83Cafe3 | Eddie        | Barnes      | Female   | Dramatherapist                                              | 85000    |\n",
      "| 14      | 1CC30c5F204332e | Ralph        | Lowe        | Female   | Presenter, broadcasting                                     | 50000    |\n",
      "| 15      | b4bE3BfBfeBC29e | Priscilla    | Davis       | Male     | Nurse, mental health                                        | 70000    |\n",
      "| 16      | bFCFDdE5491caE8 | Carly        | Abbott      | Female   | Therapeutic radiographer                                    | 100000   |\n",
      "| 17      | cEfCEAB1306DbCb | Nicolas      | Mckinney    | Male     | Land                                                        | 70000    |\n",
      "| 18      | aCefF56E59aAf75 | Natasha      | Macias      | Female   | Recruitment consultant                                      | 70000    |\n",
      "| 19      | CF091D6b9Dd4F9c | Courtney     | Jenkins     | Female   | Accounting technician                                       | 70000    |\n",
      "| 20      | 462EF46dcaab6EC | Perry        | Mcmahon     | Female   | Education officer, museum                                   | 60000    |\n",
      "| 21      | 7B247Ca7BbA098d | Emily        | Travis      | Male     | Tax inspector                                               | 85000    |\n",
      "| 22      | dCdadA2bCcFFEAE | Meghan       | Hawkins     | Male     | Engineer, land                                              | 60000    |\n",
      "| 23      | d62fFce33bbccAC | Ernest       | Oconnell    | Male     | Printmaker                                                  | 100000   |\n",
      "| 24      | 3Cb9Fe3aB463dba | Norman       | Walton      | Female   | Personnel officer                                           | 60000    |\n",
      "| 25      | be6BBa9EBFeBFcc | Roger        | Sweeney     | Female   | Race relations officer                                      | 60000    |\n",
      "| 26      | a902eE5EABd77DE | Ethan        | Wu          | Male     | Microbiologist                                              | 70000    |\n",
      "| 27      | EEA3bcfe1c7aEAf | Catherine    | Myers       | Male     | Industrial buyer                                            | 85000    |\n",
      "| 28      | 2Ab20Ed8CfE2D71 | Catherine    | Nash        | Female   | Production assistant, radio                                 | 85000    |\n",
      "| 29      | EC9BCcb3ccEAdE9 | Corey        | Delgado     | Male     | Agricultural consultant                                     | 85000    |\n",
      "| 30      | d6203591c7BEB4F | Hunter       | Hahn        | Female   | Chief Financial Officer                                     | 50000    |\n",
      "| 31      | f67cb59Eea96a23 | Dakota       | Gomez       | Male     | Insurance broker                                            | 90000    |\n",
      "| 32      | 94c6aF7DEe2Ad7A | Nathaniel    | Clarke      | Female   | Information systems manager                                 | 90000    |\n",
      "| 33      | b1DC89E2d73F0b4 | Marco        | Reyes       | Male     | Psychologist, sport and exercise                            | 60000    |\n",
      "| 34      | FECAedB175FD9f4 | Todd         | Weber       | Male     | Ergonomist                                                  | 50000    |\n",
      "| 35      | CB41aabFbB8AdDa | Bryan        | Vaughn      | Male     | Sports therapist                                            | 65000    |\n",
      "| 36      | BcdffBD402E5A23 | Adrienne     | Lambert     | Male     | Comptroller                                                 | 100000   |\n",
      "| 37      | b00f07E8F6Ecf6e | Seth         | Hess        | Male     | Claims inspector/assessor                                   | 80000    |\n",
      "| 38      | 8b8Aab259B2a00D | Stefanie     | Sherman     | Male     | Hospital doctor                                             | 50000    |\n",
      "| 39      | D060A3eacFBFAEE | Kent         | Velez       | Male     | Investment banker, corporate                                | 60000    |\n",
      "| 40      | DFAB00C01CcF860 | Angela       | Huff        | Male     | Pilot, airline                                              | 60000    |\n",
      "| 41      | aDB35cb99a88358 | Harry        | Moore       | Female   | Insurance underwriter                                       | 60000    |\n",
      "| 42      | 0269CdeD7B3C8B0 | Kristopher   | Barnes      | Male     | Engineer, mining                                            | 65000    |\n",
      "| 43      | ddd2B9CcEBEe00E | Rachael      | Herrera     | Male     | Armed forces technical officer                              | 60000    |\n",
      "| 44      | 355e6511Fa0ff55 | Vincent      | Berger      | Female   | Psychologist, educational                                   | 50000    |\n",
      "| 45      | F2f91586dA8f7f5 | Don          | Bolton      | Male     | Housing manager/officer                                     | 50000    |\n",
      "| 46      | 99A502C175C4EBd | Olivia       | Duke        | Female   | Dentist                                                     | 60000    |\n",
      "| 47      | eEF6Cf6C10b1446 | Erik         | Rosales     | Female   | Prison officer                                              | 80000    |\n",
      "| 48      | 3eD5c0dDBD0a7DC | Judith       | Wall        | Female   | Restaurant manager                                          | 100000   |\n",
      "| 49      | EbD7AF6EDF4831e | Chloe        | Ramirez     | Female   | Psychotherapist, dance movement                             | 90000    |\n",
      "| 50      | afF3018e9cdd1dA | George       | Mercer      | Female   | Human resources officer                                     | 70000    |\n",
      "| 51      | CccE5DAb6E288e5 | Jo           | Zavala      | Male     | Nurse, adult                                                | 80000    |\n",
      "| 52      | DfBDc3621D4bcec | Joshua       | Carey       | Female   | Seismic interpreter                                         | 70000    |\n",
      "| 53      | f55b0A249f5E44D | Rickey       | Hobbs       | Female   | Barrister                                                   | 60000    |\n",
      "| 54      | Ed71DcfaBFd0beE | Robyn        | Reilly      | Male     | Engineer, structural                                        | 100000   |\n",
      "| 55      | FDaFD0c3f5387EC | Christina    | Conrad      | Male     | Producer, radio                                             | 50000    |\n",
      "| 56      | 998C3Fda97EfAff | Shelby       | Cole        | Male     | Therapist, nutritional                                      | 85000    |\n",
      "| 57      | D7040faD2d368d8 | Steve        | Donovan     | Male     | Paediatric nurse                                            | 65000    |\n",
      "| 58      | 3CEf7FDfACa48b7 | Gina         | Little      | Female   | Production engineer                                         | 60000    |\n",
      "| 59      | 239dbABfd1d1B1e | Connie       | Dawson      | Female   | Accountant, chartered certified                             | 60000    |\n",
      "| 60      | 4e03dA0BCAc82e3 | Aaron        | Page        | Male     | Administrator                                               | 60000    |\n",
      "| 61      | B2F0bdF85bfc7cA | Lance        | Bradshaw    | Male     | Data scientist                                              | 80000    |\n",
      "| 62      | E923A19a2De032b | Mary         | Daniels     | Male     | Occupational hygienist                                      | 100000   |\n",
      "| 63      | 11Ae1fbab4076b2 | Yesenia      | Harding     | Male     | Nurse, mental health                                        | 100000   |\n",
      "| 64      | 14890EC026d5d43 | Shane        | Reyes       | Female   | Art therapist                                               | 90000    |\n",
      "| 65      | 2eC6783b36315eF | Norma        | Olson       | Female   | Academic librarian                                          | 60000    |\n",
      "| 66      | bd79EF2c2a3bad3 | Melinda      | Haas        | Male     | Musician                                                    | 65000    |\n",
      "| 67      | D5BDdFA8A0baa18 | Darrell      | Fuller      | Male     | Engineer, petroleum                                         | 65000    |\n",
      "| 68      | 9de346CD67Bea2f | Priscilla    | Valenzuela  | Male     | Journalist, newspaper                                       | 100000   |\n",
      "| 69      | d2adC15ceDc8Adf | Karla        | Steele      | Female   | Surgeon                                                     | 50000    |\n",
      "| 70      | D88FB59Ed3efac7 | Alexandria   | Mcguire     | Female   | Building surveyor                                           | 50000    |\n",
      "| 71      | EBFf87b4dbdcFbD | Joanna       | Doyle       | Male     | Engineer, structural                                        | 100000   |\n",
      "| 72      | 32fbdA8e70AeB2d | Lydia        | Neal        | Female   | Veterinary surgeon                                          | 50000    |\n",
      "| 73      | DbFcEF27decA754 | Darryl       | Meyer       | Male     | Orthoptist                                                  | 90000    |\n",
      "| 74      | 6c89bB8bB7DeADB | Alice        | Harding     | Male     | Administrator, arts                                         | 80000    |\n",
      "| 75      | 0Fe59D998cacdd5 | Seth         | Pratt       | Male     | Accounting technician                                       | 85000    |\n",
      "| 76      | f93C8B8c2FfB46e | Amy          | Payne       | Male     | Museum/gallery curator                                      | 65000    |\n",
      "| 77      | c380Ce9B006eD2D | Vickie       | Mccoy       | Male     | Neurosurgeon                                                | 60000    |\n",
      "| 78      | aCBb2be896F7EFE | Hector       | Sparks      | Female   | Designer, fashion/clothing                                  | 85000    |\n",
      "| 79      | 6C2EA6b5e2eda3C | Colin        | Conley      | Female   | Surgeon                                                     | 90000    |\n",
      "| 80      | 2B55d6d7B39C4D8 | Joshua       | Grant       | Male     | Therapeutic radiographer                                    | 65000    |\n",
      "| 81      | f6ac8CfF7ac94cc | Yesenia      | Key         | Male     | Local government officer                                    | 100000   |\n",
      "| 82      | fEE61DcbEb41633 | Meghan       | Humphrey    | Female   | Research officer, trade union                               | 50000    |\n",
      "| 83      | 8Bac76db335CcCf | Eddie        | Daniels     | Male     | Armed forces technical officer                              | 65000    |\n",
      "| 84      | 2BAFB7b410ebE3f | Joyce        | Abbott      | Female   | Recruitment consultant                                      | 50000    |\n",
      "| 85      | C76ae7aAFcbB2cA | Isaiah       | Olson       | Female   | Chief Financial Officer                                     | 50000    |\n",
      "| 86      | 9f887e71eee4b58 | Curtis       | Haney       | Male     | Health and safety adviser                                   | 85000    |\n",
      "| 87      | cdDbF70fBdfdCaD | Devon        | Henry       | Female   | Civil engineer, contracting                                 | 100000   |\n",
      "| 88      | EAE9F073c808ccc | Jordan       | Long        | Male     | Publishing rights manager                                   | 85000    |\n",
      "| 89      | daBacFb2F431Dfb | Tom          | Mccarty     | Female   | Paediatric nurse                                            | 65000    |\n",
      "| 90      | 1187FDb1d7C98B0 | Bethany      | Davila      | Female   | Surveyor, commercial/residential                            | 85000    |\n",
      "| 91      | 690145e7Daff789 | Ariel        | Blankenship | Female   | Actuary                                                     | 100000   |\n",
      "| 92      | 87bf311C37DC95E | Jaclyn       | Mclean      | Male     | Human resources officer                                     | 65000    |\n",
      "| 93      | CDF04Db0f9AbD34 | Stephanie    | Donovan     | Male     | Medical sales representative                                | 100000   |\n",
      "| 94      | fe3E1A26dc62DA6 | Carly        | Brooks      | Female   | Production engineer                                         | 50000    |\n",
      "| 95      | cEb6af0Da7E6707 | Dominique    | Stevenson   | Male     | Art gallery manager                                         | 60000    |\n",
      "| 96      | 3c3e7EB7afBFb5d | Doris        | Holmes      | Female   | Engineer, materials                                         | 85000    |\n",
      "| 97      | DFAbEADF85F6245 | Joe          | Acevedo     | Male     | Immigration officer                                         | 65000    |\n",
      "| 98      | e5d840eE5BB6e03 | Tony         | Melendez    | Male     | Environmental health practitioner                           | 65000    |\n",
      "| 99      | DdB70783c1181Ad | Lydia        | Vargas      | Male     | Accountant, chartered                                       | 70000    |\n",
      "| 100     | 7f83AADE353F5ad | Matthew      | Yoder       | Female   | Insurance account manager                                   | 100000   |\n",
      "| 101     | 631e880aee8B16B | Laura        | Bishop      | Male     | Legal executive                                             | 60000    |\n",
      "| 102     | cB5e9a6b2dcCa90 | Vernon       | Terry       | Male     | Nurse, adult                                                | 70000    |\n",
      "| 103     | bA3e5C6ADeBF8E1 | Roberta      | Hodge       | Male     | Translator                                                  | 60000    |\n",
      "| 104     | 98B4EeDf0aF2d88 | Janet        | Heath       | Female   | Fitness centre manager                                      | 60000    |\n",
      "| 105     | bcf0DEa3a7585Fd | Taylor       | Paul        | Male     | Games developer                                             | 90000    |\n",
      "| 106     | AB5a29077eDc170 | Ariana       | Potter      | Male     | Surveyor, building control                                  | 70000    |\n",
      "| 107     | 24e1fa8cf0c7BD5 | Dave         | Myers       | Female   | Therapist, nutritional                                      | 65000    |\n",
      "| 108     | 49F56fAC4632C31 | Beth         | Harrington  | Male     | Field seismologist                                          | 60000    |\n",
      "| 109     | 69d6EEBb6B1D58b | Diamond      | Spence      | Male     | Dance movement psychotherapist                              | 65000    |\n",
      "| 110     | 620D4D12cbE3c3F | Timothy      | Weeks       | Male     | Engineer, technical sales                                   | 80000    |\n",
      "| 111     | aA6A5Db8E06C3b1 | Victor       | Castro      | Female   | Audiological scientist                                      | 70000    |\n",
      "| 112     | 120b4B8Ab9f96C0 | Samantha     | Harris      | Male     | Commercial art gallery manager                              | 85000    |\n",
      "| 113     | Ebd38C6201E6bea | Priscilla    | Bean        | Male     | Retail buyer                                                | 80000    |\n",
      "| 114     | AcBD2EfE48eEa4F | Erica        | Atkins      | Female   | Psychologist, clinical                                      | 80000    |\n",
      "| 115     | D4d937A95711EcE | Tonya        | Blankenship | Female   | Insurance underwriter                                       | 60000    |\n",
      "| 116     | f9dd0F20DDC20a9 | Diane        | Small       | Female   | Waste management officer                                    | 65000    |\n",
      "| 117     | BC1Df0060C2cfDc | Karl         | Floyd       | Male     | Metallurgist                                                | 80000    |\n",
      "| 118     | 625CCE85FfAA2E6 | Dana         | Higgins     | Female   | Garment/textile technologist                                | 100000   |\n",
      "| 119     | 736A87324dd4E3b | Neil         | Sawyer      | Male     | Geophysical data processor                                  | 100000   |\n",
      "| 120     | 4aE4ecaBd55f3C6 | Julia        | Acosta      | Male     | Nutritional therapist                                       | 70000    |\n",
      "| 121     | A33b2e2A7509599 | Brandy       | Carpenter   | Male     | Clinical biochemist                                         | 50000    |\n",
      "| 122     | 97f2a3845Ac6aF7 | Darren       | Manning     | Female   | Runner, broadcasting/film/video                             | 100000   |\n",
      "| 123     | 363BC822BADd5f7 | Roger        | Beasley     | Male     | Armed forces logistics/support/administrative officer       | 50000    |\n",
      "| 124     | 201FF92c4c85ef7 | Albert       | Tyler       | Male     | Surveyor, hydrographic                                      | 90000    |\n",
      "| 125     | 18bc6EeCCE1f1C2 | Tracie       | Mooney      | Female   | Engineer, structural                                        | 90000    |\n",
      "| 126     | 1Bb45198c473530 | Tim          | Ponce       | Female   | Museum/gallery conservator                                  | 85000    |\n",
      "| 127     | b17FbED51F5E6dc | Margaret     | Carr        | Male     | Television camera operator                                  | 80000    |\n",
      "| 128     | a2A4fd285DAD2b4 | Autumn       | Davis       | Female   | Hydrographic surveyor                                       | 65000    |\n",
      "| 129     | eAdCa2bd47Bbd5e | Christina    | Hendrix     | Female   | IT sales professional                                       | 85000    |\n",
      "| 130     | 6b03e33eEddCFC7 | Andrew       | Holden      | Male     | Fitness centre manager                                      | 85000    |\n",
      "| 131     | aE16A3c90AC05dB | April        | Hebert      | Male     | Clinical research associate                                 | 50000    |\n",
      "| 132     | 8CA86e8FcACeE4D | Peter        | Long        | Male     | Artist                                                      | 50000    |\n",
      "| 133     | 99d1Fb3608ACF2A | Christina    | Carter      | Female   | Engineer, agricultural                                      | 65000    |\n",
      "| 134     | 4eB6A9cb84BF51B | David        | Faulkner    | Female   | Museum/gallery exhibitions officer                          | 60000    |\n",
      "| 135     | B43EAF7bc56967C | Willie       | Arellano    | Female   | Interior and spatial designer                               | 50000    |\n",
      "| 136     | 6e07e8F150DeB82 | Traci        | Sosa        | Male     | Financial adviser                                           | 70000    |\n",
      "| 137     | f781EbEb7FDBE35 | Alexandria   | Burgess     | Male     | Glass blower/designer                                       | 85000    |\n",
      "| 138     | B9506A7DdC58b34 | Manuel       | Castro      | Male     | Herbalist                                                   | 70000    |\n",
      "| 139     | be4B0DFd06FFF1D | Nathan       | Glenn       | Male     | Stage manager                                               | 100000   |\n",
      "| 140     | 7d3402dB0D0d2ae | Hailey       | Aguirre     | Male     | Engineer, manufacturing                                     | 90000    |\n",
      "| 141     | 9BEeD41BDC4ca32 | Arthur       | Lyons       | Female   | Development worker, community                               | 80000    |\n",
      "| 142     | B81eeD3F7e13A2e | Alexa        | Washington  | Female   | Loss adjuster, chartered                                    | 50000    |\n",
      "| 143     | cF20CcFDD4E8733 | Jorge        | Wells       | Female   | Research scientist (life sciences)                          | 60000    |\n",
      "| 144     | 0c7fc0bFd703d8e | Oscar        | Camacho     | Female   | Fashion designer                                            | 80000    |\n",
      "| 145     | 99fa0bC5cC11b1f | Derrick      | Cook        | Male     | Product/process development scientist                       | 60000    |\n",
      "| 146     | 979A626e5F115f2 | Teresa       | Page        | Male     | Chiropodist                                                 | 90000    |\n",
      "| 147     | 009E1accabB9Af6 | Randy        | Tanner      | Female   | Civil engineer, consulting                                  | 65000    |\n",
      "| 148     | a9E3b490AE3B346 | Joann        | Fuller      | Male     | Chief Executive Officer                                     | 50000    |\n",
      "| 149     | Ab0bbcE993E23c7 | Christopher  | Braun       | Female   | Engineer, petroleum                                         | 80000    |\n",
      "| 150     | 5627680A2Ca214B | Malik        | Summers     | Male     | Health promotion specialist                                 | 90000    |\n",
      "| 151     | 94bE4E2109cF33b | Kristi       | Sims        | Female   | Surveyor, building                                          | 65000    |\n",
      "| 152     | 3412AaD2be50E07 | Mariah       | Huang       | Female   | Research scientist (life sciences)                          | 60000    |\n",
      "| 153     | 5AB091FFDe887eC | Monique      | Mahoney     | Female   | Waste management officer                                    | 85000    |\n",
      "| 154     | d7A706Fd9AdB27E | Stacie       | Cardenas    | Female   | Writer                                                      | 90000    |\n",
      "| 155     | 4fdeB8D3F477aFB | Shannon      | Cochran     | Female   | Archaeologist                                               | 90000    |\n",
      "| 156     | d5bbEF5AC75B9a5 | Peggy        | Odom        | Male     | Teacher, music                                              | 90000    |\n",
      "| 157     | 49Dcb786C01C5ca | Anthony      | Briggs      | Female   | Biochemist, clinical                                        | 50000    |\n",
      "| 158     | 2bA19f60a800b19 | Perry        | Levine      | Male     | Tree surgeon                                                | 80000    |\n",
      "| 159     | aDCb1F0eA108aa7 | Denise       | Hahn        | Male     | Architectural technologist                                  | 70000    |\n",
      "| 160     | b956E2a9DE3898C | Thomas       | Bruce       | Female   | Product designer                                            | 90000    |\n",
      "| 161     | dB2D7274Daf7edD | Robyn        | Paul        | Male     | Commercial/residential surveyor                             | 100000   |\n",
      "| 162     | f52181F2B4c2e9A | Miguel       | Leblanc     | Female   | General practice doctor                                     | 70000    |\n",
      "| 163     | 5968b1AD19823B9 | Laura        | Rice        | Male     | Social worker                                               | 50000    |\n",
      "| 164     | dbcde3f68Bfaf7E | Madeline     | Leach       | Male     | Camera operator                                             | 100000   |\n",
      "| 165     | 925E52c1F2F239E | Christopher  | Nixon       | Male     | Food technologist                                           | 80000    |\n",
      "| 166     | 9ca2f3A7a60ea88 | Mackenzie    | Cantrell    | Male     | Engineer, agricultural                                      | 65000    |\n",
      "| 167     | aB2Ef1d3f6d6e6E | Phyllis      | Sanchez     | Male     | Translator                                                  | 60000    |\n",
      "| 168     | 37AdbaEbBA8e317 | Jesus        | Sosa        | Female   | Careers information officer                                 | 65000    |\n",
      "| 169     | beC1BB41df95f2D | Maurice      | Hodge       | Female   | Garment/textile technologist                                | 100000   |\n",
      "| 170     | E1844addD8eEe76 | Brittney     | Stafford    | Male     | Designer, textile                                           | 60000    |\n",
      "| 171     | 1AD35A22F0BA772 | Dalton       | Butler      | Female   | Claims inspector/assessor                                   | 85000    |\n",
      "| 172     | 382eD6ac4a352cE | Russell      | Zamora      | Female   | Research officer, trade union                               | 70000    |\n",
      "| 173     | bFB42223CDD342F | Alex         | Stewart     | Male     | Production engineer                                         | 60000    |\n",
      "| 174     | C8C2ebF103A8E69 | Jenny        | Nash        | Female   | Graphic designer                                            | 100000   |\n",
      "| 175     | bddDa7FF9dE3b91 | Daryl        | Koch        | Female   | Private music teacher                                       | 50000    |\n",
      "| 176     | 7eFA59d05df2cA9 | Jake         | Tate        | Male     | Primary school teacher                                      | 85000    |\n",
      "| 177     | C1e7272dFDFF2C4 | Luke         | Fletcher    | Female   | Engineer, control and instrumentation                       | 60000    |\n",
      "| 178     | 85E1F35FAaDA1Bb | Earl         | Yates       | Male     | Dietitian                                                   | 60000    |\n",
      "| 179     | bCb195daBc7263e | Brittany     | James       | Male     | Purchasing manager                                          | 70000    |\n",
      "| 180     | 2C96bcB1cD0f6ba | Wanda        | Alvarado    | Female   | Therapist, music                                            | 80000    |\n",
      "| 181     | 16361CBC0DAFa00 | Mckenzie     | Beltran     | Male     | Engineer, electrical                                        | 90000    |\n",
      "| 182     | 8EB4C4fd0C44bFa | Ernest       | Camacho     | Female   | Quantity surveyor                                           | 85000    |\n",
      "| 183     | 7Aa938827F1e018 | Haley        | Hays        | Female   | Secretary/administrator                                     | 100000   |\n",
      "| 184     | Befc7139d7eD662 | Dalton       | Chaney      | Female   | Social research officer, government                         | 90000    |\n",
      "| 185     | 4E641fd49f55bcD | Drew         | Sanchez     | Male     | Early years teacher                                         | 100000   |\n",
      "| 186     | 108773b6Ba4Dbdb | Bradley      | Copeland    | Female   | Engineer, aeronautical                                      | 65000    |\n",
      "| 187     | 6eBdCDac47F3428 | Alan         | Randall     | Male     | Teacher, special educational needs                          | 80000    |\n",
      "| 188     | fA0eA5B7e62c9Df | Angelica     | Hull        | Male     | Visual merchandiser                                         | 90000    |\n",
      "| 189     | eEFc74EBC49e6BB | Daryl        | Newman      | Female   | Copy                                                        | 100000   |\n",
      "| 190     | 554A9ecCaFa62ee | Tristan      | Morton      | Female   | Advertising art director                                    | 90000    |\n",
      "| 191     | CdCDB0F97fF999f | Tami         | Compton     | Male     | Nurse, mental health                                        | 100000   |\n",
      "| 192     | 26A154Aa4318fFd | Grant        | Esparza     | Female   | Historic buildings inspector/conservation officer           | 90000    |\n",
      "| 193     | 8f3015cAb55F348 | Sherri       | Williams    | Male     | Engineer, broadcasting (operations)                         | 60000    |\n",
      "| 194     | 037eF750C5fb7B6 | Barbara      | Bowers      | Male     | Risk analyst                                                | 50000    |\n",
      "| 195     | 346FcF07FB14CcD | Sherry       | Maldonado   | Male     | Retail manager                                              | 85000    |\n",
      "| 196     | 1aa37dC5b2eB175 | Francisco    | Flowers     | Female   | Librarian, academic                                         | 85000    |\n",
      "| 197     | DeF3DE4a6ABb2D2 | Janice       | Daugherty   | Female   | Fast food restaurant manager                                | 80000    |\n",
      "| 198     | C88B0CFc36D6fF4 | Melody       | Clements    | Male     | Public house manager                                        | 50000    |\n",
      "| 199     | 75Afa67CffE0Dd9 | Evan         | Howe        | Male     | Accommodation manager                                       | 100000   |\n",
      "| 200     | 448dAD1F6dCc9de | Terrance     | Rowe        | Male     | Medical secretary                                           | 80000    |\n",
      "| 201     | dEEb9bDB65Ed4fB | Stephanie    | Nunez       | Female   | Engineer, automotive                                        | 100000   |\n",
      "| 202     | bA09B6Bc6fBc65B | Jimmy        | Wiggins     | Male     | Landscape architect                                         | 90000    |\n",
      "| 203     | c23aDdb939f4D7F | Sonia        | Parks       | Female   | Manufacturing systems engineer                              | 85000    |\n",
      "| 204     | 81Ff5cfd97ACBd4 | Curtis       | Zamora      | Male     | Engineer, manufacturing                                     | 85000    |\n",
      "| 205     | eA7df1fcFa5aacC | Tracie       | Baker       | Female   | Merchandiser, retail                                        | 50000    |\n",
      "| 206     | 131570D70d0ff65 | Eugene       | Richmond    | Female   | Teacher, special educational needs                          | 80000    |\n",
      "| 207     | aBE87b98c2A20c0 | Lonnie       | Bernard     | Female   | Professor Emeritus                                          | 80000    |\n",
      "| 208     | 2F704AacCEbAb2b | Alan         | Shaffer     | Male     | Adult nurse                                                 | 60000    |\n",
      "| 209     | 674bbaD7A5D26B9 | Grace        | Mckenzie    | Male     | Fast food restaurant manager                                | 80000    |\n",
      "| 210     | 1bA6EDeebf7E163 | Logan        | Obrien      | Female   | Engineer, communications                                    | 100000   |\n",
      "| 211     | DF17975CC0a0373 | Katrina      | Duke        | Female   | Producer, radio                                             | 50000    |\n",
      "| 212     | fcFdD7dA96c1C7d | Katherine    | Bolton      | Male     | Engineer, automotive                                        | 90000    |\n",
      "| 213     | A7aBc39Ee9dC1bd | Perry        | Rollins     | Male     | Chief Marketing Officer                                     | 80000    |\n",
      "| 214     | AbcE3CcC947cbBD | Makayla      | York        | Female   | Librarian, academic                                         | 85000    |\n",
      "| 215     | 4C5Db5BFDBF60eb | Jo           | Olsen       | Female   | Amenity horticulturist                                      | 80000    |\n",
      "| 216     | E03EbCFDDcE1f1f | Christian    | Mosley      | Male     | Production manager                                          | 100000   |\n",
      "| 217     | aBa137daedc833c | Nancy        | Arias       | Male     | Multimedia programmer                                       | 80000    |\n",
      "| 218     | 4B4D0AD9abE41f0 | Cheryl       | Friedman    | Female   | Illustrator                                                 | 85000    |\n",
      "| 219     | Efa5aa3e87ed1D7 | Helen        | Maynard     | Male     | Research scientist (medical)                                | 50000    |\n",
      "| 220     | 0cC97Ab1eAF4ABe | Jennifer     | Kane        | Female   | Insurance claims handler                                    | 85000    |\n",
      "| 221     | 29cb6ecF75451Cc | Danielle     | Howard      | Female   | Set designer                                                | 90000    |\n",
      "| 222     | 4D01fd1AA71fdcF | Candice      | Estes       | Male     | Designer, fashion/clothing                                  | 50000    |\n",
      "| 223     | 0aB79DDdEDdAe0b | Renee        | Alvarado    | Female   | Accommodation manager                                       | 70000    |\n",
      "| 224     | 53147bb2CD4bc1c | Annette      | Santos      | Female   | Social worker                                               | 80000    |\n",
      "| 225     | 05c44eB3fF9BE99 | Kerry        | Newman      | Male     | Health physicist                                            | 65000    |\n",
      "| 226     | 90511Ae50ED8e2c | Lindsey      | Kline       | Male     | Emergency planning/management officer                       | 100000   |\n",
      "| 227     | 11e509B23bA84f8 | Dominic      | Buchanan    | Male     | Logistics and distribution manager                          | 85000    |\n",
      "| 228     | 9a8B1B4f4eEAb57 | Gordon       | Hess        | Male     | Lobbyist                                                    | 70000    |\n",
      "| 229     | fF56f2b4BAe239f | Bruce        | Pineda      | Male     | Horticultural therapist                                     | 90000    |\n",
      "| 230     | C4a0d68C1B2427c | Maxwell      | Vega        | Female   | Speech and language therapist                               | 90000    |\n",
      "| 231     | FC8fa29F2D57eCe | Geoffrey     | Lawrence    | Female   | Pharmacist, hospital                                        | 70000    |\n",
      "| 232     | 003faaEB83B8A0B | Charlene     | Schwartz    | Male     | Dispensing optician                                         | 90000    |\n",
      "| 233     | c905D9b34C5456C | Anita        | Burnett     | Male     | Neurosurgeon                                                | 65000    |\n",
      "| 234     | 78e17EBCd8dDbc6 | Leslie       | Patel       | Male     | Civil engineer, contracting                                 | 70000    |\n",
      "| 235     | 66301e7bCfdB2f2 | Pamela       | Hayden      | Female   | Editor, commissioning                                       | 90000    |\n",
      "| 236     | A5bBa8B5737bF18 | Deanna       | Ford        | Male     | Geophysicist/field seismologist                             | 100000   |\n",
      "| 237     | Ef3e6746Bb32d4F | Bonnie       | Hammond     | Male     | Nurse, adult                                                | 50000    |\n",
      "| 238     | F663ee880a9eCBa | Debra        | Byrd        | Male     | Tour manager                                                | 90000    |\n",
      "| 239     | CA4e2d7d6f7d6fB | Sharon       | Torres      | Male     | Oceanographer                                               | 70000    |\n",
      "| 240     | F52d1EFf9Aeca7f | Olivia       | Austin      | Male     | Geneticist, molecular                                       | 100000   |\n",
      "| 241     | ebceFfe3e95DA36 | Jean         | Harmon      | Female   | Geophysicist/field seismologist                             | 90000    |\n",
      "| 242     | a88B0C0F3c98028 | Bridget      | Griffith    | Male     | Historic buildings inspector/conservation officer           | 70000    |\n",
      "| 243     | C7BC4419E1B81Ef | Curtis       | Flores      | Female   | Clothing/textile technologist                               | 100000   |\n",
      "| 244     | 7ff3afDbFb3f698 | Bridget      | Ryan        | Male     | Local government officer                                    | 50000    |\n",
      "| 245     | Fd6F8D9e986Cc3D | Mitchell     | Boyd        | Female   | Tourist information centre manager                          | 70000    |\n",
      "| 246     | BF7ad5D75edfdB5 | Peter        | Bruce       | Female   | Production engineer                                         | 90000    |\n",
      "| 247     | aCdE9f39c476fcB | Jonathon     | Huynh       | Male     | Research officer, political party                           | 100000   |\n",
      "| 248     | cCA7ae678b6fb9F | Connie       | Myers       | Male     | Television/film/video producer                              | 60000    |\n",
      "| 249     | 94935E4B01ef83b | Stacie       | Barnett     | Female   | Politician's assistant                                      | 85000    |\n",
      "| 250     | 0ae5987cCC3EbcB | Jacqueline   | Harper      | Male     | Insurance underwriter                                       | 85000    |\n",
      "| 251     | 821BBcC7EA6B83b | Kara         | Bruce       | Female   | Chemical engineer                                           | 100000   |\n",
      "| 252     | 34F6f315c51B749 | Caroline     | Lindsey     | Male     | Insurance broker                                            | 90000    |\n",
      "| 253     | a6BfA20EDDd4317 | Meagan       | Salazar     | Male     | Music therapist                                             | 100000   |\n",
      "| 254     | C07BC44eFA20A96 | Jamie        | Logan       | Female   | Ranger/warden                                               | 90000    |\n",
      "| 255     | BF6f9c6fDb18DBF | Nicholas     | Glenn       | Female   | Civil Service administrator                                 | 100000   |\n",
      "| 256     | f074a08cD7BdBc4 | Shane        | Donaldson   | Male     | Materials engineer                                          | 70000    |\n",
      "| 257     | 02C553bfcFA32bA | Norman       | Zhang       | Male     | Restaurant manager, fast food                               | 50000    |\n",
      "| 258     | d81C0AeE4ba2ACb | Pamela       | Hutchinson  | Female   | Stage manager                                               | 90000    |\n",
      "| 259     | cDbDF7B189fcfDb | Yolanda      | Stanton     | Male     | Banker                                                      | 85000    |\n",
      "| 260     | 4AfAc0Bf3e2708E | Phillip      | Valencia    | Male     | Optometrist                                                 | 80000    |\n",
      "| 261     | Bcde4A17Aa9D059 | Taylor       | Benton      | Male     | Clinical cytogeneticist                                     | 100000   |\n",
      "| 262     | 6E90ff6FCE1A1a2 | Ebony        | Ross        | Male     | Scientist, forensic                                         | 65000    |\n",
      "| 263     | 438EeC867c970aE | Lucas        | Hess        | Male     | Medical laboratory scientific officer                       | 100000   |\n",
      "| 264     | 6fcbE57aeEc26a9 | Alan         | Nixon       | Female   | Public relations account executive                          | 80000    |\n",
      "| 265     | 48a0F16A7108695 | Ernest       | Wong        | Male     | Technical author                                            | 65000    |\n",
      "| 266     | a5cebB3ff1f279E | Kristina     | Krueger     | Male     | Medical laboratory scientific officer                       | 50000    |\n",
      "| 267     | 34C5b3CEc30c481 | Shaun        | Nixon       | Male     | Commercial/residential surveyor                             | 100000   |\n",
      "| 268     | 05d4a275BAf55B0 | Anthony      | Wallace     | Male     | Water quality scientist                                     | 90000    |\n",
      "| 269     | B93d9dCF40B31A8 | William      | Ingram      | Female   | Health physicist                                            | 80000    |\n",
      "| 270     | 69EA746B5eEA97C | Bobby        | Day         | Female   | Computer games developer                                    | 70000    |\n",
      "| 271     | 06D45f32D614AAe | Krista       | Booker      | Male     | Adult guidance worker                                       | 65000    |\n",
      "| 272     | 00d907CDBC1CAb6 | Isaiah       | Hood        | Male     | Scientist, audiological                                     | 90000    |\n",
      "| 273     | 5aA4DcBDf5EeBd6 | Gilbert      | Church      | Female   | Museum/gallery conservator                                  | 50000    |\n",
      "| 274     | 4B8f92DEfD6A22C | Dawn         | Francis     | Female   | Civil Service fast streamer                                 | 80000    |\n",
      "| 275     | 98b6D6c4Ba5f24E | Melody       | Jacobson    | Male     | Licensed conveyancer                                        | 50000    |\n",
      "| 276     | f057cc8de892Dd8 | Edgar        | Ball        | Male     | Engineer, drilling                                          | 50000    |\n",
      "| 277     | D90b96F7f39f00f | Allison      | Walls       | Male     | Programmer, multimedia                                      | 65000    |\n",
      "| 278     | 6761B55Ef8Ac3E9 | Clayton      | Anderson    | Female   | Graphic designer                                            | 100000   |\n",
      "| 279     | 510EBCCeF8FABe0 | Desiree      | Beltran     | Female   | Photographer                                                | 65000    |\n",
      "| 280     | 3aFf54f59dcFD2E | Yvette       | Webster     | Male     | Clothing/textile technologist                               | 85000    |\n",
      "| 281     | f42aB1cd1fc1B59 | Albert       | Cross       | Male     | Diplomatic Services operational officer                     | 85000    |\n",
      "| 282     | cfc55CA94Ad1CD2 | Kara         | Gamble      | Male     | Primary school teacher                                      | 90000    |\n",
      "| 283     | 0F7Ccb72cbbCcD2 | Yolanda      | Miller      | Male     | Senior tax professional/tax inspector                       | 90000    |\n",
      "| 284     | 0De37f35c9cffBc | Cheryl       | Tucker      | Female   | Fisheries officer                                           | 90000    |\n",
      "| 285     | 41ED141ea9e4E0c | Beverly      | Clarke      | Female   | Higher education lecturer                                   | 65000    |\n",
      "| 286     | D045Ee0Fc9dd45E | Kerri        | Morris      | Male     | Conservator, furniture                                      | 90000    |\n",
      "| 287     | B40923EA0F7b9d8 | Ralph        | Richards    | Female   | Contractor                                                  | 65000    |\n",
      "| 288     | bE0FB0ACceD7cD0 | Stefanie     | Castillo    | Female   | Ship broker                                                 | 100000   |\n",
      "| 289     | C79601b6BDedB8E | Judith       | Huff        | Male     | Academic librarian                                          | 50000    |\n",
      "| 290     | ECFCF3df04cc0cF | Benjamin     | Ramsey      | Male     | Land/geomatics surveyor                                     | 60000    |\n",
      "| 291     | D269D6cDBEB29b5 | Pamela       | Dean        | Female   | Product manager                                             | 90000    |\n",
      "| 292     | 9dCfeDAe04fffE2 | Tricia       | Chandler    | Female   | Primary school teacher                                      | 50000    |\n",
      "| 293     | c1D6Ddced4Fe3eF | Zachary      | Nixon       | Female   | Scientist, physiological                                    | 50000    |\n",
      "| 294     | DB64F2e35ab51b4 | Leon         | Guerrero    | Male     | Translator                                                  | 85000    |\n",
      "| 295     | A8AEe9dc6D1f3c4 | Lacey        | Casey       | Male     | Illustrator                                                 | 60000    |\n",
      "| 296     | 841E6f046E83F10 | Yesenia      | Petty       | Male     | Information officer                                         | 85000    |\n",
      "| 297     | a386b9bB31accdc | Phillip      | Morales     | Male     | Tourist information centre manager                          | 50000    |\n",
      "| 298     | a61eAFC61DFeA8E | Teresa       | Powers      | Male     | Designer, textile                                           | 85000    |\n",
      "| 299     | 7CcAbC7CAfC4e39 | Stacy        | Roach       | Female   | Buyer, retail                                               | 70000    |\n",
      "| 300     | caBE9a5064ceBfB | Gary         | Blackwell   | Male     | Facilities manager                                          | 65000    |\n",
      "| 301     | 3759DCaa1d909d2 | Jasmine      | Irwin       | Male     | Fashion designer                                            | 60000    |\n",
      "| 302     | c4AB82050cEE8f1 | Angie        | Munoz       | Female   | Land/geomatics surveyor                                     | 60000    |\n",
      "| 303     | 38ceeCDD313ecDB | Stanley      | Beard       | Male     | Public relations account executive                          | 65000    |\n",
      "| 304     | 05aaB3e75C576D6 | Mary         | Donaldson   | Female   | Psychotherapist                                             | 50000    |\n",
      "| 305     | 0b91dFFFc17f5A8 | Tristan      | Aguirre     | Male     | Paramedic                                                   | 60000    |\n",
      "| 306     | Ca9E100bcEbbB0e | Jessica      | Stokes      | Male     | Control and instrumentation engineer                        | 65000    |\n",
      "| 307     | 362D0033BCa5D4e | Kerry        | Downs       | Male     | Doctor, general practice                                    | 65000    |\n",
      "| 308     | 4dE9EDDe64A5A1C | Megan        | Owen        | Female   | Corporate investment banker                                 | 90000    |\n",
      "| 309     | 26bEd99B3626fFB | Steven       | Decker      | Female   | Analytical chemist                                          | 60000    |\n",
      "| 310     | F7307C0fbDafbDA | Dwayne       | Vazquez     | Male     | Advertising art director                                    | 50000    |\n",
      "| 311     | B86dFeA3794F47C | Chelsey      | Singh       | Male     | Merchandiser, retail                                        | 90000    |\n",
      "| 312     | 53a8165b5eFDeBb | Alex         | Newton      | Female   | Surveyor, hydrographic                                      | 90000    |\n",
      "| 313     | eD7A4B7C22dAE96 | Bethany      | Walsh       | Female   | Arts administrator                                          | 50000    |\n",
      "| 314     | ff2930FDFE1DAd9 | Mario        | Pennington  | Male     | Writer                                                      | 90000    |\n",
      "| 315     | Fe3234B9A5c73e7 | Deborah      | Benjamin    | Male     | Travel agency manager                                       | 100000   |\n",
      "| 316     | DCc1fd51aecd9dd | Marc         | Owens       | Female   | Newspaper journalist                                        | 70000    |\n",
      "| 317     | F68014D31ddbf8b | Kristin      | Love        | Female   | Conservation officer, nature                                | 70000    |\n",
      "| 318     | EbeBaF711EecFa4 | Frederick    | Villegas    | Female   | Programme researcher, broadcasting/film/video               | 90000    |\n",
      "| 319     | 6f09DcBFED2E9bE | Angel        | Vance       | Male     | Media buyer                                                 | 50000    |\n",
      "| 320     | F794BB8AeBFf32E | Tasha        | Stout       | Male     | Tax adviser                                                 | 85000    |\n",
      "| 321     | 0AB25BC3Df4bcaE | Emily        | Good        | Female   | Quantity surveyor                                           | 50000    |\n",
      "| 322     | 4Ac773784FBDecA | Warren       | Harrington  | Male     | Biomedical scientist                                        | 70000    |\n",
      "| 323     | 9D393CcAafBD1E8 | Julian       | Camacho     | Male     | Engineer, electronics                                       | 70000    |\n",
      "| 324     | 42b8FC0DBebFD48 | Edward       | Powers      | Male     | Radiation protection practitioner                           | 90000    |\n",
      "| 325     | 354aeA1EF24C5d1 | Hector       | Fritz       | Male     | Catering manager                                            | 100000   |\n",
      "| 326     | d06B554F25f3d0E | Brittney     | May         | Female   | Metallurgist                                                | 65000    |\n",
      "| 327     | Fafc20e3bb29b5E | Bethany      | Santos      | Male     | Investment banker, corporate                                | 50000    |\n",
      "| 328     | 46B71DAbA80e320 | Vicki        | Mitchell    | Male     | Pilot, airline                                              | 50000    |\n",
      "| 329     | 51C771FB6a3c75B | Jay          | Perkins     | Male     | Education officer, environmental                            | 100000   |\n",
      "| 330     | 810Cee3Cb9E7740 | Candace      | Case        | Female   | Operations geologist                                        | 60000    |\n",
      "| 331     | CBff85B9A4A4Aa3 | Valerie      | Welch       | Female   | Brewing technologist                                        | 60000    |\n",
      "| 332     | 3f4F6D658B8e4B3 | Hunter       | Blair       | Female   | Mental health nurse                                         | 50000    |\n",
      "| 333     | b9b02AbadcD77Ee | Phillip      | Barnes      | Female   | Architect                                                   | 60000    |\n",
      "| 334     | A8210B0B55DCA46 | Micheal      | Booker      | Male     | Oceanographer                                               | 60000    |\n",
      "| 335     | dF2fC9cE842641b | Daniel       | Morris      | Female   | Nurse, mental health                                        | 85000    |\n",
      "| 336     | Ce7fdC4A27F8BfB | Jonathan     | Molina      | Female   | Financial adviser                                           | 80000    |\n",
      "| 337     | 99375ddcf9ADB4b | Kirk         | Norton      | Female   | Broadcast presenter                                         | 80000    |\n",
      "| 338     | 2FEA22FE9FC687D | Kurt         | Liu         | Male     | Therapeutic radiographer                                    | 65000    |\n",
      "| 339     | 5FBeaAfC67EDA67 | Stefanie     | Prince      | Female   | Leisure centre manager                                      | 65000    |\n",
      "| 340     | FFfA65f10a35E4A | Ariana       | Hickman     | Male     | Podiatrist                                                  | 80000    |\n",
      "| 341     | DDB3ac3B6fDd78c | Lydia        | Torres      | Female   | Therapeutic radiographer                                    | 85000    |\n",
      "| 342     | F662ad8DfeC0095 | Jenny        | Hurley      | Female   | Dance movement psychotherapist                              | 80000    |\n",
      "| 343     | Db68EC1E050bdb2 | Ryan         | Ward        | Female   | IT sales professional                                       | 85000    |\n",
      "| 344     | 3ede74A0eaa6EEc | Aimee        | Bridges     | Male     | Nurse, children's                                           | 50000    |\n",
      "| 345     | Daf8e1af4eEe8F3 | Kari         | Brewer      | Female   | Solicitor, Scotland                                         | 85000    |\n",
      "| 346     | 444ecB8f60d8ab7 | Vicki        | Park        | Male     | Production engineer                                         | 100000   |\n",
      "| 347     | B0D770E2D294aF7 | Kerri        | Simpson     | Male     | Learning mentor                                             | 60000    |\n",
      "| 348     | 7Dd645101CE7dD1 | Raven        | Moore       | Male     | Museum/gallery conservator                                  | 85000    |\n",
      "| 349     | dCA2E3af07ed79d | Darryl       | Barton      | Female   | Prison officer                                              | 100000   |\n",
      "| 350     | Acda5EdA0bCA2f9 | Leah         | Benton      | Male     | Plant breeder/geneticist                                    | 85000    |\n",
      "| 351     | e9ad1A35EEDE512 | Bernard      | Schroeder   | Male     | Early years teacher                                         | 50000    |\n",
      "| 352     | 89adaADBd6c8F56 | Robert       | Montgomery  | Female   | Media planner                                               | 85000    |\n",
      "| 353     | b1788A50be78Efc | Randall      | Collins     | Female   | Conservator, furniture                                      | 90000    |\n",
      "| 354     | BEFD3f590Bcf07d | Stacie       | Archer      | Female   | Cartographer                                                | 90000    |\n",
      "| 355     | 2d6993bBcBBFE58 | Eduardo      | Rodgers     | Female   | Librarian, academic                                         | 80000    |\n",
      "| 356     | c2A8DC6D0Cd1fB4 | Robert       | Avila       | Male     | Forensic psychologist                                       | 100000   |\n",
      "| 357     | b3dcF7DFecB31A1 | Jermaine     | Michael     | Female   | Medical laboratory scientific officer                       | 60000    |\n",
      "| 358     | cAa967C5E66fc86 | Lance        | Blankenship | Male     | Nurse, mental health                                        | 65000    |\n",
      "| 359     | 93329AE35DEeCCc | Alvin        | Smith       | Male     | Immunologist                                                | 90000    |\n",
      "| 360     | 7A95b5f60c15e16 | Kathryn      | Bernard     | Female   | Conservation officer, nature                                | 50000    |\n",
      "| 361     | CBBE3b613E5EA09 | Jamie        | Jimenez     | Female   | Social worker                                               | 100000   |\n",
      "| 362     | 7E8caA1EfbC9865 | Francisco    | Hutchinson  | Female   | Paediatric nurse                                            | 60000    |\n",
      "| 363     | 8D0FdA9eDDa0dB0 | Earl         | Jenkins     | Male     | Microbiologist                                              | 60000    |\n",
      "| 364     | d70fce03dC34Ad2 | Heather      | Snyder      | Female   | Nurse, children's                                           | 100000   |\n",
      "| 365     | dACf9f23D35EDEd | Christine    | Matthews    | Male     | Sales executive                                             | 65000    |\n",
      "| 366     | 5BB4737f69cBBeD | Kaylee       | Dixon       | Female   | Scientist, research (physical sciences)                     | 70000    |\n",
      "| 367     | 3f5a8fd3CBf4b74 | Ariel        | Prince      | Female   | Product/process development scientist                       | 85000    |\n",
      "| 368     | 41C9C171F0e66FD | Emma         | Hinton      | Female   | Education administrator                                     | 90000    |\n",
      "| 369     | 3Ed2FEE49BF6ae1 | Kara         | Esparza     | Male     | Scientist, research (medical)                               | 50000    |\n",
      "| 370     | 2542C79ef0ada2b | Erika        | Cruz        | Male     | Furniture designer                                          | 100000   |\n",
      "| 371     | A5bA09eaEC487D3 | Preston      | Erickson    | Male     | Research officer, trade union                               | 65000    |\n",
      "| 372     | a77Eca88d9a36C5 | Brittney     | Norris      | Male     | Clinical embryologist                                       | 85000    |\n",
      "| 373     | 7feEdDc7bd8f38C | Gilbert      | Lin         | Female   | Medical physicist                                           | 70000    |\n",
      "| 374     | 9caF0aE6cF8Dd10 | Jose         | Deleon      | Female   | Investment analyst                                          | 90000    |\n",
      "| 375     | 340ABAD5FAaeD3f | Phyllis      | Strickland  | Male     | Doctor, hospital                                            | 85000    |\n",
      "| 376     | 2DA08d1CAd4dceC | Robyn        | Ferrell     | Male     | Editor, magazine features                                   | 100000   |\n",
      "| 377     | 204C8436FE7f0cf | Marie        | Taylor      | Male     | Lecturer, higher education                                  | 65000    |\n",
      "| 378     | A21b0F9a2a762fe | Cameron      | Gray        | Male     | Animal technologist                                         | 85000    |\n",
      "| 379     | 6355f81A0aFfFfD | Calvin       | Gilbert     | Female   | Best boy                                                    | 85000    |\n",
      "| 380     | d49EcceD0Fe3FfB | Glenn        | Graves      | Female   | Visual merchandiser                                         | 85000    |\n",
      "| 381     | 8A9d5DF69Eb8c3C | Jeff         | Olsen       | Female   | Legal executive                                             | 50000    |\n",
      "| 382     | 6c2B7c0DaD5bAD3 | Wyatt        | Monroe      | Male     | Records manager                                             | 60000    |\n",
      "| 383     | B216bfCCEEBFe1e | Gina         | Leon        | Female   | Engineer, manufacturing systems                             | 65000    |\n",
      "| 384     | ee89d034CeF83EB | Susan        | Fritz       | Male     | Scientist, biomedical                                       | 60000    |\n",
      "| 385     | 6455dAf38a33E73 | Tommy        | Combs       | Male     | Chiropractor                                                | 60000    |\n",
      "| 386     | A64b3f208cf312e | Julian       | Sherman     | Female   | Radio producer                                              | 100000   |\n",
      "| 387     | 4829908F4BE90ad | Fernando     | Carpenter   | Female   | Chief Strategy Officer                                      | 65000    |\n",
      "| 388     | Fc86a2288ebfdAd | Leonard      | Parsons     | Female   | Seismic interpreter                                         | 90000    |\n",
      "| 389     | CccE68e2611CB67 | Nina         | Giles       | Male     | Legal executive                                             | 50000    |\n",
      "| 390     | 7eBDf2F5dE9DC7a | Anne         | Fox         | Male     | Associate Professor                                         | 90000    |\n",
      "| 391     | 9C340401d2E861f | Mandy        | Green       | Male     | Market researcher                                           | 80000    |\n",
      "| 392     | B580643f4Eee7eB | Angel        | Stokes      | Male     | Social worker                                               | 90000    |\n",
      "| 393     | d500353D059Efd9 | Bryce        | Ball        | Female   | Financial adviser                                           | 60000    |\n",
      "| 394     | E95cF2ADa9cd5De | Whitney      | Vargas      | Female   | Geochemist                                                  | 85000    |\n",
      "| 395     | 1CB7C4e6d0a7C13 | Natalie      | Grimes      | Male     | Patent examiner                                             | 65000    |\n",
      "| 396     | AbB6e97949FBebc | Vickie       | Velez       | Male     | Teacher, special educational needs                          | 85000    |\n",
      "| 397     | a816CbCbbd4f233 | Grant        | Morrison    | Female   | Glass blower/designer                                       | 85000    |\n",
      "| 398     | CEC378179933f4F | Bradley      | Douglas     | Male     | Environmental health practitioner                           | 80000    |\n",
      "| 399     | 00bBcB58a9D114c | Roberto      | Yu          | Male     | Logistics and distribution manager                          | 60000    |\n",
      "| 400     | 70D7DdebB9D8f67 | Debbie       | Lozano      | Male     | Network engineer                                            | 70000    |\n",
      "| 401     | fE5a7Ff19b2aAEE | Henry        | Ellis       | Female   | Telecommunications researcher                               | 65000    |\n",
      "| 402     | faFEea3b50D6123 | Kyle         | Bartlett    | Male     | Psychologist, sport and exercise                            | 65000    |\n",
      "| 403     | E2F6F8eeC9bED4f | Ricky        | Fitzpatrick | Female   | Applications developer                                      | 65000    |\n",
      "| 404     | f930e7A099bbEBB | Tanya        | Spencer     | Female   | Trade union research officer                                | 90000    |\n",
      "| 405     | F7A3A17EA6DCAfA | Francis      | Walter      | Female   | Investment banker, corporate                                | 50000    |\n",
      "| 406     | 629924399F23af0 | Lydia        | Alexander   | Female   | Animal technologist                                         | 50000    |\n",
      "| 407     | f515A6dDdbCFD4B | Jessica      | Chambers    | Male     | Field seismologist                                          | 85000    |\n",
      "| 408     | A6DDea6bB9A5d18 | Summer       | Escobar     | Male     | Dealer                                                      | 70000    |\n",
      "| 409     | 7c4Bce1aAB51C6B | Marisa       | Vance       | Male     | Fitness centre manager                                      | 100000   |\n",
      "| 410     | 6995ED0DBaCC148 | Gabrielle    | Fritz       | Female   | Clothing/textile technologist                               | 65000    |\n",
      "| 411     | F6dB61Fb3e6eEc3 | Maureen      | Barrett     | Female   | Warden/ranger                                               | 85000    |\n",
      "| 412     | 6C23a8C9AcbCb7E | Cody         | Arnold      | Female   | Database administrator                                      | 60000    |\n",
      "| 413     | AAF953ce6519B3a | Holly        | Manning     | Female   | Radiographer, therapeutic                                   | 80000    |\n",
      "| 414     | c1711ACe52AFFC8 | Samantha     | Barr        | Female   | Programme researcher, broadcasting/film/video               | 85000    |\n",
      "| 415     | A4BF8fac1227a2c | Hailey       | Pena        | Male     | Clothing/textile technologist                               | 50000    |\n",
      "| 416     | EcFf0bEbF0B85f4 | Phillip      | Dalton      | Male     | Programmer, multimedia                                      | 60000    |\n",
      "| 417     | aa2fd18aaf2DE0A | Maria        | Downs       | Male     | Surveyor, quantity                                          | 85000    |\n",
      "| 418     | daa90Ea7F4193BE | Sarah        | Ayers       | Male     | Local government officer                                    | 60000    |\n",
      "| 419     | 62d4BBecd04c1D6 | Gregg        | Hurst       | Male     | Furniture designer                                          | 85000    |\n",
      "| 420     | 5BB3f6d54c50ead | Micheal      | Todd        | Male     | Nature conservation officer                                 | 80000    |\n",
      "| 421     | febeBfb4A53B2C1 | Gabriel      | Heath       | Female   | Wellsite geologist                                          | 65000    |\n",
      "| 422     | BAe516915432a3c | Joy          | Mercer      | Male     | Barrister's clerk                                           | 50000    |\n",
      "| 423     | E6E641Bbade1683 | Karen        | Brown       | Female   | Financial risk analyst                                      | 90000    |\n",
      "| 424     | 4FaC35aE11Bb4c3 | Molly        | Gutierrez   | Female   | Medical technical officer                                   | 50000    |\n",
      "| 425     | A6DfA24E3924aC6 | Scott        | Mcmahon     | Male     | Clinical psychologist                                       | 80000    |\n",
      "| 426     | 17cfdDe5c065ab5 | Grace        | Bolton      | Male     | Energy engineer                                             | 85000    |\n",
      "| 427     | 1595E8EF9338E27 | Kerry        | Andersen    | Male     | Trading standards officer                                   | 60000    |\n",
      "| 428     | CAd760C0ddC6EDE | Xavier       | Johnston    | Male     | Probation officer                                           | 70000    |\n",
      "| 429     | 8d9Ea473ed50Ddc | Dustin       | Hudson      | Male     | International aid/development worker                        | 60000    |\n",
      "| 430     | 7aFaa0f4Cf25e26 | Brendan      | Gilbert     | Female   | Production assistant, television                            | 100000   |\n",
      "| 431     | A1c6Cacc6fBf2Cc | Cory         | Forbes      | Male     | Theatre director                                            | 50000    |\n",
      "| 432     | 23fEF7f7C07FcBc | Carla        | Marshall    | Male     | Arts development officer                                    | 80000    |\n",
      "| 433     | b7A6ACe14Da2a70 | Tracy        | Jarvis      | Female   | Associate Professor                                         | 65000    |\n",
      "| 434     | BcB2dE02BdF4483 | Anne         | Garza       | Male     | Camera operator                                             | 100000   |\n",
      "| 435     | E646F0FE9dD0fDC | Megan        | Mcdonald    | Male     | Clinical research associate                                 | 50000    |\n",
      "| 436     | aB8f3fddcAE3ebe | Sydney       | Trujillo    | Male     | Hotel manager                                               | 60000    |\n",
      "| 437     | E99De3bB84f15fC | Regina       | Mclaughlin  | Female   | Air broker                                                  | 60000    |\n",
      "| 438     | 9f4FbA2EBBDE350 | Randy        | Bowen       | Male     | Barista                                                     | 100000   |\n",
      "| 439     | 184f82e6bb6A227 | Darin        | Wu          | Female   | Surveyor, planning and development                          | 50000    |\n",
      "| 440     | FF0689BbDb8B95E | Tracey       | Hurley      | Male     | Health physicist                                            | 80000    |\n",
      "| 441     | ace63bFCc6E8E88 | Jocelyn      | Hodge       | Female   | Sport and exercise psychologist                             | 80000    |\n",
      "| 442     | 7E23C2d0a7A7A1e | Susan        | Joseph      | Female   | Engineer, agricultural                                      | 50000    |\n",
      "| 443     | Ad1c6fE266De0ce | Whitney      | Burke       | Female   | Media buyer                                                 | 100000   |\n",
      "| 444     | 10BcFD5ED1Fd7a3 | Emma         | Caldwell    | Male     | General practice doctor                                     | 60000    |\n",
      "| 445     | Fa75A5784A3dE2C | Valerie      | Koch        | Male     | Geochemist                                                  | 60000    |\n",
      "| 446     | aa01BBDfDbcee59 | Kiara        | Miranda     | Female   | Designer, furniture                                         | 90000    |\n",
      "| 447     | 1a478d4BdBF68d7 | Karla        | Shelton     | Male     | Building control surveyor                                   | 90000    |\n",
      "| 448     | Afe55F5D86CBac0 | Marisa       | Snyder      | Male     | Museum/gallery conservator                                  | 65000    |\n",
      "| 449     | 433adDe6CcCb1a2 | Lynn         | Cordova     | Female   | Insurance account manager                                   | 70000    |\n",
      "| 450     | Daa2c6eE2b751cb | Sydney       | Leonard     | Male     | Counselling psychologist                                    | 70000    |\n",
      "| 451     | cDCbb25aa87Af7D | Diane        | Patel       | Male     | Media buyer                                                 | 80000    |\n",
      "| 452     | 2D2AEaaBbc6ebec | Christian    | Zuniga      | Female   | Librarian, public                                           | 85000    |\n",
      "| 453     | b8EdE8dB06C193A | Clayton      | Hale        | Female   | Research scientist (maths)                                  | 100000   |\n",
      "| 454     | 0Ca32994DF228FD | Brandon      | Campbell    | Male     | Arts administrator                                          | 60000    |\n",
      "| 455     | 04Ab34AF7FDD5e1 | Haley        | Gay         | Male     | Surveyor, planning and development                          | 70000    |\n",
      "| 456     | 8e0D0df4EDD0Bae | Megan        | Roberts     | Male     | Artist                                                      | 85000    |\n",
      "| 457     | a9E75C7cdc1aB2f | Kathleen     | Lang        | Female   | Amenity horticulturist                                      | 70000    |\n",
      "| 458     | dcE1B7DE83c1076 | Traci        | Duke        | Female   | Herbalist                                                   | 50000    |\n",
      "| 459     | 9465fFF674Ff030 | Bryan        | Dawson      | Male     | Gaffer                                                      | 100000   |\n",
      "| 460     | Dc1Ef4D914De5b8 | Caitlyn      | Wiggins     | Female   | Solicitor                                                   | 50000    |\n",
      "| 461     | Bb4bE79aeB90465 | Mary         | Salinas     | Female   | Animal nutritionist                                         | 70000    |\n",
      "| 462     | 4b79C5AcbdD80C3 | Cassie       | Knapp       | Male     | Trading standards officer                                   | 85000    |\n",
      "| 463     | 1AcD0ccddF0DCf9 | Nathaniel    | Shaffer     | Female   | Jewellery designer                                          | 60000    |\n",
      "| 464     | 751Bf40CDdCeB6D | Marcia       | Wilcox      | Male     | Data processing manager                                     | 70000    |\n",
      "| 465     | c97AD72A41Cca9a | Jose         | Webb        | Female   | Engineer, technical sales                                   | 90000    |\n",
      "| 466     | 5dDDcBeFEDa268f | Drew         | Valentine   | Female   | Horticulturist, amenity                                     | 60000    |\n",
      "| 467     | 4DB3cE8D9B95Bbc | Max          | Madden      | Male     | Museum education officer                                    | 70000    |\n",
      "| 468     | Bad48fB46B1bdc9 | Valerie      | Wright      | Male     | Occupational hygienist                                      | 80000    |\n",
      "| 469     | eb2A96D54cAb5c6 | Elijah       | Barnett     | Male     | Minerals surveyor                                           | 85000    |\n",
      "| 470     | 45241fd9cCfaA29 | Jeanne       | Mata        | Female   | Technical brewer                                            | 100000   |\n",
      "| 471     | 9cCe4d460980cdA | Sylvia       | Cisneros    | Female   | Phytotherapist                                              | 50000    |\n",
      "| 472     | d6DEBbCEEd1Ce8b | Linda        | Patterson   | Male     | Actuary                                                     | 80000    |\n",
      "| 473     | b8F00FeA81E7E1e | Peggy        | Guerrero    | Male     | Engineer, agricultural                                      | 80000    |\n",
      "| 474     | 4ffEeea05D7b7ab | Tracey       | George      | Male     | Accountant, chartered public finance                        | 90000    |\n",
      "| 475     | cA2E09ACc7f4c91 | Curtis       | Bolton      | Female   | Astronomer                                                  | 80000    |\n",
      "| 476     | 24ffE1aefa66372 | Candice      | Cervantes   | Male     | Chartered certified accountant                              | 65000    |\n",
      "| 477     | CC48BFF6057dE79 | Rodney       | Obrien      | Female   | Printmaker                                                  | 100000   |\n",
      "| 478     | 6CF34DCD040F082 | Jay          | Lawson      | Male     | Surveyor, building control                                  | 70000    |\n",
      "| 479     | d5703EFB0aE200d | Shawn        | Hogan       | Female   | Administrator                                               | 90000    |\n",
      "| 480     | D03D2428fD4bC6d | Bob          | Park        | Male     | Adult guidance worker                                       | 50000    |\n",
      "| 481     | 2E94Affb5a9dB80 | Carmen       | Stevenson   | Female   | Occupational psychologist                                   | 90000    |\n",
      "| 482     | 915f18a27Bc7A20 | Dawn         | Hickman     | Female   | Field trials officer                                        | 60000    |\n",
      "| 483     | F258Cc9fc813BFA | Elaine       | Nichols     | Male     | Investment analyst                                          | 50000    |\n",
      "| 484     | 28eD3aB6E0f464B | Ross         | Carrillo    | Male     | Teacher, primary school                                     | 65000    |\n",
      "| 485     | aD92Df9Efe5950C | Blake        | Long        | Male     | Radiation protection practitioner                           | 65000    |\n",
      "| 486     | Dc4B211215cDAdC | Johnny       | Phillips    | Male     | Maintenance engineer                                        | 50000    |\n",
      "| 487     | AFC47cfB7e7cc6d | Tanner       | Ford        | Male     | Accountant, chartered certified                             | 90000    |\n",
      "| 488     | a3c4c0fEE9fdee9 | Louis        | Hayden      | Female   | Haematologist                                               | 70000    |\n",
      "| 489     | d82f65d6b732F2D | Lonnie       | Meza        | Male     | Armed forces logistics/support/administrative officer       | 70000    |\n",
      "| 490     | 086EcD6FBFe5C85 | Kellie       | Frye        | Male     | Administrator, Civil Service                                | 85000    |\n",
      "| 491     | 6d6C1d45B3B9507 | Claudia      | Leon        | Male     | Occupational hygienist                                      | 50000    |\n",
      "| 492     | DBB6059dF096fa8 | Evan         | Logan       | Female   | Engineer, civil (contracting)                               | 60000    |\n",
      "| 493     | 0BDeC9Ae4A14b87 | Monica       | Fry         | Female   | Chiropodist                                                 | 65000    |\n",
      "| 494     | fdd16C2cB2631F0 | Caleb        | Nguyen      | Female   | Osteopath                                                   | 50000    |\n",
      "| 495     | feaBDee80bd3bDf | Tasha        | Lamb        | Female   | IT technical support officer                                | 100000   |\n",
      "| 496     | 4AfB8b6AB186855 | Alyssa       | Cisneros    | Female   | Fish farm manager                                           | 50000    |\n",
      "| 497     | eC15B0388fc6A1E | Seth         | Bullock     | Female   | Publishing copy                                             | 50000    |\n",
      "| 498     | 6EfA04eA2aA4F8f | Logan        | Henry       | Male     | Counsellor                                                  | 90000    |\n",
      "| 499     | a2a76D85aa14E12 | Mark         | Bishop      | Male     | Restaurant manager, fast food                               | 70000    |\n",
      "| 500     | e1aCEb9B8e6FADd | Sheena       | Baird       | Male     | Legal secretary                                             | 70000    |\n",
      "| 501     | dFaB7Bc81Df7EFE | Melody       | Clayton     | Female   | Investment banker, operational                              | 70000    |\n",
      "| 502     | 57AD76BAEEec978 | Sheryl       | Yoder       | Male     | Engineer, civil (contracting)                               | 80000    |\n",
      "| 503     | 0Fa10024eA9C495 | Lynn         | Carney      | Male     | Volunteer coordinator                                       | 65000    |\n",
      "| 504     | 45C1d78d93BFa96 | Carmen       | Irwin       | Male     | Librarian, academic                                         | 100000   |\n",
      "| 505     | 03ACdCF8F725B08 | Shelley      | Patton      | Male     | Production engineer                                         | 60000    |\n",
      "| 506     | Af9f7bEBaf20B3E | Jaime        | Mays        | Male     | Orthoptist                                                  | 80000    |\n",
      "| 507     | E87cf2dc71eFEd1 | Dan          | Woodard     | Female   | Psychiatric nurse                                           | 85000    |\n",
      "| 508     | 6de2B1AcFd9cD19 | Melinda      | Ortega      | Male     | Psychologist, counselling                                   | 100000   |\n",
      "| 509     | 22A3f7DdA2f4CbD | Clayton      | Flowers     | Female   | Scientist, research (life sciences)                         | 90000    |\n",
      "| 510     | B93dCdCCA9aee5e | Rita         | Jefferson   | Female   | Media planner                                               | 65000    |\n",
      "| 511     | 6dbECa1c2d65A28 | Melissa      | Palmer      | Female   | Sports therapist                                            | 65000    |\n",
      "| 512     | c68d7D9e4f37ad0 | Sally        | Strickland  | Male     | Corporate investment banker                                 | 80000    |\n",
      "| 513     | e5FcF92Af51de3A | Janice       | Wood        | Male     | Podiatrist                                                  | 70000    |\n",
      "| 514     | eaE6B24fCeeE972 | Sean         | Velazquez   | Male     | Leisure centre manager                                      | 100000   |\n",
      "| 515     | 6BeFa7bCaCe35bf | Marcia       | Berry       | Female   | Bookseller                                                  | 60000    |\n",
      "| 516     | 7210306Eb0E1cDe | Dustin       | Howard      | Male     | Academic librarian                                          | 65000    |\n",
      "| 517     | 440e0363A712DF3 | Jodi         | Jordan      | Male     | Personal assistant                                          | 80000    |\n",
      "| 518     | 5eE0eCa3c6ABffD | Benjamin     | Moses       | Female   | Electronics engineer                                        | 100000   |\n",
      "| 519     | 0eE44a7fAf7d1DB | Paula        | Mooney      | Female   | Designer, jewellery                                         | 90000    |\n",
      "| 520     | 1d302cfF4C11B3c | Melvin       | Edwards     | Male     | Publishing copy                                             | 50000    |\n",
      "| 521     | 3f9be87fDa35Cab | Kaylee       | Cantrell    | Female   | Naval architect                                             | 70000    |\n",
      "| 522     | 89FdFDb8Fa09efF | Logan        | Beck        | Male     | Arts development officer                                    | 65000    |\n",
      "| 523     | ffD399FC7075C4b | Preston      | Webb        | Female   | Theme park manager                                          | 65000    |\n",
      "| 524     | e64ea332bdDe3c2 | Bernard      | Payne       | Male     | Product designer                                            | 85000    |\n",
      "| 525     | D59d22DD2bF13C8 | Gina         | Mays        | Female   | Health and safety inspector                                 | 100000   |\n",
      "| 526     | 7fdEf92EFD9a035 | Ariel        | Wilkinson   | Male     | Medical illustrator                                         | 50000    |\n",
      "| 527     | 4d6fB4FFdF963Ae | Don          | Melton      | Male     | Architect                                                   | 80000    |\n",
      "| 528     | 0fD7769271FC4d4 | Alex         | Burns       | Female   | Immunologist                                                | 85000    |\n",
      "| 529     | A1CF962d1120Af2 | Shelia       | Spencer     | Male     | Geologist, engineering                                      | 60000    |\n",
      "| 530     | 348E5aCe5b6dFC8 | Dominic      | Graham      | Male     | Scientist, clinical (histocompatibility and immunogenetics) | 50000    |\n",
      "| 531     | 48bD7CBc57D9B81 | Leslie       | Richmond    | Male     | Personal assistant                                          | 65000    |\n",
      "| 532     | e5c8a1353Ea0C5F | Amy          | Roman       | Female   | Immigration officer                                         | 50000    |\n",
      "| 533     | 22A2538bBcCBf1C | Judy         | Meyers      | Male     | Technical brewer                                            | 80000    |\n",
      "| 534     | b1bb1cC8deF5333 | Alex         | Morrison    | Female   | Veterinary surgeon                                          | 85000    |\n",
      "| 535     | 66dAcfaceb50FCA | Allen        | Mccall      | Female   | Scientific laboratory technician                            | 65000    |\n",
      "| 536     | 4c41eedEcD804E2 | Tiffany      | Donovan     | Female   | Set designer                                                | 60000    |\n",
      "| 537     | a3672321B2aAa1F | Sally        | Garrett     | Female   | Agricultural consultant                                     | 70000    |\n",
      "| 538     | B42e02edC3Ae9Cb | Dakota       | Pace        | Male     | Buyer, retail                                               | 65000    |\n",
      "| 539     | 6cA2D7ED3BeFb75 | Willie       | Ewing       | Female   | Engineer, materials                                         | 65000    |\n",
      "| 540     | effC88CfAbbC5f1 | Isabella     | Caldwell    | Female   | Geophysicist/field seismologist                             | 85000    |\n",
      "| 541     | 7f7FFaa2d63b1a7 | Janet        | Mcgrath     | Male     | Quality manager                                             | 50000    |\n",
      "| 542     | cA1f220241E096C | Jeanette     | Thompson    | Male     | Holiday representative                                      | 85000    |\n",
      "| 543     | 1EfcdA0C36Eedc5 | Emily        | Lawson      | Male     | Chief Marketing Officer                                     | 100000   |\n",
      "| 544     | 8D7Abd69EBcabCb | Cristian     | Chavez      | Male     | Journalist, magazine                                        | 60000    |\n",
      "| 545     | a6cAC992Fb6BEBC | Nina         | Mullins     | Female   | Estate agent                                                | 85000    |\n",
      "| 546     | 660FcEEffCAbF4a | Kyle         | Bruce       | Male     | Mechanical engineer                                         | 50000    |\n",
      "| 547     | 4ab12D986DeafDc | Jacob        | Arroyo      | Female   | Prison officer                                              | 60000    |\n",
      "| 548     | A624979ED308f61 | Nicholas     | Kirby       | Female   | Phytotherapist                                              | 90000    |\n",
      "| 549     | Ad3eeD6281043bB | Jasmine      | Chapman     | Female   | Education administrator                                     | 85000    |\n",
      "| 550     | b57FacbCd397D90 | Jackie       | Potter      | Female   | Minerals surveyor                                           | 70000    |\n",
      "| 551     | 6da0A79eB0aAF5c | Rebecca      | Castillo    | Female   | Sports therapist                                            | 65000    |\n",
      "| 552     | De2AA444491b30C | Catherine    | Summers     | Male     | Pilot, airline                                              | 90000    |\n",
      "| 553     | 22cd7dca009E6b1 | Clifford     | Shields     | Male     | Armed forces operational officer                            | 90000    |\n",
      "| 554     | 8D2CF389dfD9753 | Chase        | Davies      | Female   | Public affairs consultant                                   | 90000    |\n",
      "| 555     | c3df75a238AC754 | Jeff         | Mejia       | Male     | Clinical psychologist                                       | 50000    |\n",
      "| 556     | BDFA03Ae3b2f54b | Brandy       | Baxter      | Male     | Firefighter                                                 | 60000    |\n",
      "| 557     | 0961FAf90F4b2b1 | Heidi        | Valenzuela  | Female   | Tourist information centre manager                          | 50000    |\n",
      "| 558     | 84d541bF328a42E | Andrew       | Logan       | Male     | Training and development officer                            | 100000   |\n",
      "| 559     | 6A8E5aE93ef7Aff | Virginia     | Sparks      | Female   | Recycling officer                                           | 85000    |\n",
      "| 560     | B1F5F9C8FAb02cb | Samantha     | Brown       | Male     | Administrator, sports                                       | 85000    |\n",
      "| 561     | 6CB75D1B2ab98E8 | Lorraine     | Andersen    | Female   | Fitness centre manager                                      | 80000    |\n",
      "| 562     | B1ffb1704b624FB | Kendra       | Buck        | Male     | Armed forces logistics/support/administrative officer       | 50000    |\n",
      "| 563     | E6bB801aCD2F2a0 | Aaron        | Wheeler     | Female   | Investment analyst                                          | 65000    |\n",
      "| 564     | d6Dde5a8cDAcaCF | Raven        | Waters      | Female   | Runner, broadcasting/film/video                             | 70000    |\n",
      "| 565     | 42069E2a97adFCb | Terri        | Stout       | Male     | Agricultural engineer                                       | 80000    |\n",
      "| 566     | 0D9d3de32cBD4De | Ross         | Cherry      | Male     | Programme researcher, broadcasting/film/video               | 85000    |\n",
      "| 567     | 09bfCF9a254fDBC | Jeremy       | Gonzales    | Male     | Dramatherapist                                              | 100000   |\n",
      "| 568     | f0Ece0Adc57469f | Edward       | Mcintosh    | Male     | Conservation officer, nature                                | 80000    |\n",
      "| 569     | bdEbae54edc2b23 | Sabrina      | Wilkerson   | Female   | Insurance claims handler                                    | 90000    |\n",
      "| 570     | 3d8FCb3DEc6DF1A | Darren       | Ramirez     | Female   | Insurance account manager                                   | 85000    |\n",
      "| 571     | 0dC7084B63A02BE | Tanya        | Burgess     | Female   | Secondary school teacher                                    | 90000    |\n",
      "| 572     | b55f4a156a24024 | Connor       | Benitez     | Female   | Physiological scientist                                     | 60000    |\n",
      "| 573     | 9AE7aF4ddAdEA5f | Angela       | Pruitt      | Female   | Paediatric nurse                                            | 85000    |\n",
      "| 574     | 21476cdda8cbB56 | Norma        | Cline       | Female   | Web designer                                                | 65000    |\n",
      "| 575     | 1Ce2abB79CA6b40 | Perry        | Camacho     | Male     | Cartographer                                                | 50000    |\n",
      "| 576     | d1dBCAD3825277E | Darryl       | Ballard     | Female   | Phytotherapist                                              | 70000    |\n",
      "| 577     | 738C11c81DEeeb8 | Maxwell      | Greene      | Female   | Therapist, sports                                           | 90000    |\n",
      "| 578     | 7BFf0E550f2D794 | Nicole       | Harrington  | Female   | Archivist                                                   | 80000    |\n",
      "| 579     | 7FB6905ebe1A4FB | Gail         | Walters     | Female   | Dietitian                                                   | 60000    |\n",
      "| 580     | fAd50CaEC5De3a2 | David        | Cooper      | Female   | Trade mark attorney                                         | 50000    |\n",
      "| 581     | 0d76Cc0178cEDde | Jade         | Molina      | Female   | Ceramics designer                                           | 100000   |\n",
      "| 582     | 8034D6C38d32ceB | Shannon      | Marquez     | Male     | Patent examiner                                             | 90000    |\n",
      "| 583     | Aca5354F4cFDE1f | Jake         | Shannon     | Male     | Clinical embryologist                                       | 90000    |\n",
      "| 584     | 1CAE1D46Bb2D88b | Dawn         | Lowery      | Female   | Video editor                                                | 90000    |\n",
      "| 585     | bBad672CaFe2Bf2 | Carrie       | Newman      | Male     | Sound technician, broadcasting/film/video                   | 60000    |\n",
      "| 586     | Bd5097dA8dAED4D | Ross         | Davenport   | Male     | Horticulturist, commercial                                  | 100000   |\n",
      "| 587     | FCb92CeC4Bd2Fa5 | Johnathan    | Dudley      | Female   | Data scientist                                              | 80000    |\n",
      "| 588     | D9e46cBD0bb5D98 | Franklin     | Decker      | Female   | Licensed conveyancer                                        | 80000    |\n",
      "| 589     | FbCfee2c5A11b99 | Candace      | Velasquez   | Male     | Recycling officer                                           | 60000    |\n",
      "| 590     | 67844458acb8E4f | Kaylee       | Skinner     | Female   | Tourism officer                                             | 60000    |\n",
      "| 591     | 8fdA78eCB748D7A | Francis      | Carr        | Male     | Local government officer                                    | 85000    |\n",
      "| 592     | aB4EC741BFAd71f | Breanna      | Yu          | Female   | Accountant, chartered public finance                        | 70000    |\n",
      "| 593     | 74c74Cac4de4fDf | Marco        | Ramos       | Female   | Conservator, museum/gallery                                 | 100000   |\n",
      "| 594     | 1EB8ac9BE8bbC8a | April        | Love        | Female   | Early years teacher                                         | 60000    |\n",
      "| 595     | 6fc27d896D3c31e | Bryan        | Wise        | Male     | Engineer, drilling                                          | 65000    |\n",
      "| 596     | 3E836e147370be3 | Sabrina      | Burch       | Male     | Dramatherapist                                              | 60000    |\n",
      "| 597     | 220bEfDd34E26EC | Evan         | Kerr        | Female   | Clinical scientist, histocompatibility and immunogenetics   | 70000    |\n",
      "| 598     | 7B4fC10a2bafCF3 | Luis         | Knox        | Female   | TEFL teacher                                                | 60000    |\n",
      "| 599     | a93ce099dd11BB0 | Jo           | Beasley     | Female   | Engineer, manufacturing systems                             | 100000   |\n",
      "| 600     | fF284beE35bBA83 | Rebecca      | Beasley     | Female   | Film/video editor                                           | 50000    |\n",
      "| 601     | ABf7325Ecd6bcbC | Kristie      | Good        | Male     | Banker                                                      | 80000    |\n",
      "| 602     | ec2Cc8fbFBF8F8D | Natalie      | Velasquez   | Female   | Psychotherapist, child                                      | 70000    |\n",
      "| 603     | D25eCcABfFE4C5c | Dominic      | Friedman    | Male     | Cartographer                                                | 85000    |\n",
      "| 604     | B3cc4415Cf3aDeC | Molly        | Ashley      | Female   | Engineer, drilling                                          | 65000    |\n",
      "| 605     | BE2A1E276a26bA1 | Kristin      | Wang        | Female   | Civil Service administrator                                 | 60000    |\n",
      "| 606     | 65C7BEd9cb1B8aA | Rick         | Chavez      | Male     | Armed forces training and education officer                 | 70000    |\n",
      "| 607     | 4bB94aac5333AE1 | Wyatt        | Bennett     | Female   | Production designer, theatre/television/film                | 65000    |\n",
      "| 608     | CDeF8A60Fb7A1Cc | Meagan       | Roth        | Female   | Musician                                                    | 85000    |\n",
      "| 609     | E3f1FCb09027344 | Lisa         | Roy         | Male     | Music therapist                                             | 90000    |\n",
      "| 610     | Ce4A51f46CD8379 | Marie        | Bautista    | Female   | Diagnostic radiographer                                     | 85000    |\n",
      "| 611     | EF07DC6caA5D31F | Rita         | Walsh       | Male     | Health physicist                                            | 100000   |\n",
      "| 612     | 0CfCCfc4617b8fd | Howard       | Sosa        | Female   | Engineer, maintenance (IT)                                  | 80000    |\n",
      "| 613     | EAebe71E9B4F8ca | Kenneth      | Middleton   | Male     | TEFL teacher                                                | 100000   |\n",
      "| 614     | 59F389BC8b480eC | Katelyn      | Burns       | Male     | Psychologist, counselling                                   | 80000    |\n",
      "| 615     | 5f4B1F99D8EfDf1 | Douglas      | Ellis       | Male     | Geochemist                                                  | 90000    |\n",
      "| 616     | 35b3eD70Ba7bfF9 | Rickey       | Sims        | Female   | Event organiser                                             | 85000    |\n",
      "| 617     | 44bCffc462bAA63 | Tammy        | Delacruz    | Female   | Tourist information centre manager                          | 100000   |\n",
      "| 618     | 20E292e52B978EA | Mallory      | Warner      | Male     | Clinical molecular geneticist                               | 85000    |\n",
      "| 619     | 936CC4d80a9960F | Charlene     | Abbott      | Female   | Barrister's clerk                                           | 85000    |\n",
      "| 620     | 5E5dbe677C8Da1D | Bailey       | Bonilla     | Male     | Customer service manager                                    | 65000    |\n",
      "| 621     | 15AB971997BFF3b | Jody         | Carlson     | Female   | Art gallery manager                                         | 80000    |\n",
      "| 622     | BD4D1Ce1cE4daA3 | Theresa      | Zavala      | Female   | Charity fundraiser                                          | 50000    |\n",
      "| 623     | eCD633518f1E6ed | Darlene      | Underwood   | Female   | Systems analyst                                             | 80000    |\n",
      "| 624     | 73d4A6193AAEcCC | Amanda       | Glover      | Female   | Armed forces training and education officer                 | 60000    |\n",
      "| 625     | FE85af8035F58c4 | Vickie       | Mcgee       | Female   | Chemical engineer                                           | 85000    |\n",
      "| 626     | b05b2FcafF87ebe | Laurie       | Wallace     | Male     | Architectural technologist                                  | 60000    |\n",
      "| 627     | 10a20299ba5e079 | Fernando     | Escobar     | Female   | Printmaker                                                  | 90000    |\n",
      "| 628     | 19Fed9aFBA694a3 | George       | Maynard     | Male     | Minerals surveyor                                           | 50000    |\n",
      "| 629     | 596B7256a000033 | Samuel       | Glover      | Male     | Logistics and distribution manager                          | 85000    |\n",
      "| 630     | A4E3D5AD1895c5C | Heidi        | Brock       | Male     | Archivist                                                   | 60000    |\n",
      "| 631     | a6eC59c6f5e5B25 | Bill         | Pierce      | Male     | Theatre manager                                             | 90000    |\n",
      "| 632     | 8bC1dECdBE9C486 | Max          | Hanson      | Female   | Physiotherapist                                             | 90000    |\n",
      "| 633     | a48c52e71Fe4BFC | Alexander    | Benjamin    | Male     | Communications engineer                                     | 90000    |\n",
      "| 634     | EB191EA73E73195 | Kelly        | Gentry      | Female   | Cabin crew                                                  | 80000    |\n",
      "| 635     | cFa41AC8D3DFbbd | Brett        | Petersen    | Male     | Interpreter                                                 | 85000    |\n",
      "| 636     | FbB1eCd50d46bbf | Lorraine     | Miles       | Male     | Advertising account executive                               | 100000   |\n",
      "| 637     | D2A1597db9DD6cb | Heidi        | Berger      | Male     | Phytotherapist                                              | 60000    |\n",
      "| 638     | f4EfF9e2fc4D0bC | Jaime        | Kelley      | Female   | Journalist, broadcasting                                    | 80000    |\n",
      "| 639     | CBA7CBab9Dfeabe | Brittany     | Conner      | Female   | Operations geologist                                        | 50000    |\n",
      "| 640     | FFB77320B39ea0E | Christy      | Martin      | Male     | Furniture designer                                          | 70000    |\n",
      "| 641     | C8F6080ebFbAf2E | Regina       | Sims        | Female   | Engineer, production                                        | 90000    |\n",
      "| 642     | 4aFFB7eC9bd16fc | Ariel        | Bean        | Female   | Chemical engineer                                           | 70000    |\n",
      "| 643     | C8CB3Df525208B3 | Troy         | Weeks       | Male     | Higher education lecturer                                   | 50000    |\n",
      "| 644     | Bd6E5AeDB8b0B85 | Carrie       | Gomez       | Male     | Insurance broker                                            | 60000    |\n",
      "| 645     | eEd90E2BE67cfEa | Norman       | Lambert     | Male     | Radiation protection practitioner                           | 80000    |\n",
      "| 646     | eB4dd4CFf58a92c | Vernon       | Lara        | Male     | Psychologist, counselling                                   | 100000   |\n",
      "| 647     | 4da9465cBbcd1a9 | Shaun        | Robertson   | Male     | Social research officer, government                         | 50000    |\n",
      "| 648     | 1c4a1Fb8Edf68Bd | Sheila       | Pace        | Female   | Scientist, biomedical                                       | 90000    |\n",
      "| 649     | 8FB6bFbdf6d5AFD | Diamond      | Huber       | Female   | Secondary school teacher                                    | 85000    |\n",
      "| 650     | EcF5c3AAa4aBB82 | Bryan        | Oconnell    | Male     | Engineer, maintenance (IT)                                  | 85000    |\n",
      "| 651     | F16DDAAEF9Aa1E9 | Chelsea      | Fitzpatrick | Male     | Trade union research officer                                | 50000    |\n",
      "| 652     | A3C384EB6F44Fc9 | Emma         | Jenkins     | Female   | Engineer, materials                                         | 90000    |\n",
      "| 653     | BA9FCDFCed8a434 | Elijah       | Roberts     | Female   | Biochemist, clinical                                        | 65000    |\n",
      "| 654     | 77F47E08CfbCa65 | Darren       | Hamilton    | Female   | Mental health nurse                                         | 85000    |\n",
      "| 655     | 3ACACCEa43cc701 | Alicia       | Orr         | Male     | Probation officer                                           | 100000   |\n",
      "| 656     | 5b8EC2B3CE232Dc | Christina    | Barnett     | Female   | Firefighter                                                 | 100000   |\n",
      "| 657     | A93DD75a1B1aC2a | Tabitha      | Beltran     | Female   | Engineer, communications                                    | 80000    |\n",
      "| 658     | 45a386F7a80Cdbe | Sarah        | Schroeder   | Male     | Engineer, civil (consulting)                                | 50000    |\n",
      "| 659     | F16A25630bcb0CC | Katrina      | Jordan      | Female   | Planning and development surveyor                           | 85000    |\n",
      "| 660     | 7D5A42fDBCE5D17 | Sophia       | Harris      | Female   | Financial planner                                           | 85000    |\n",
      "| 661     | f11201935b4Aaa6 | Brady        | Coffey      | Female   | Data scientist                                              | 70000    |\n",
      "| 662     | f1433fdBF2aF214 | Kristie      | Cameron     | Female   | Management consultant                                       | 50000    |\n",
      "| 663     | 7f988e027112551 | Tracy        | Yang        | Female   | Company secretary                                           | 100000   |\n",
      "| 664     | 0dF8df0E0e1Cf4B | Hayley       | Hess        | Female   | Exhibitions officer, museum/gallery                         | 60000    |\n",
      "| 665     | edf83d698CAcdD2 | Joanne       | Moody       | Male     | Designer, industrial/product                                | 50000    |\n",
      "| 666     | Ca53B9d7EdF83EE | Rick         | Shields     | Male     | Contracting civil engineer                                  | 60000    |\n",
      "| 667     | eBD1d5A9cc662a3 | Jo           | Harris      | Male     | Clinical biochemist                                         | 60000    |\n",
      "| 668     | 0Aa56ae7D7fe82f | Yvette       | Barrett     | Male     | Tax inspector                                               | 60000    |\n",
      "| 669     | f50FBaf6A949269 | Autumn       | Avila       | Male     | Operational researcher                                      | 70000    |\n",
      "| 670     | 3cB04beBeCd2daa | Eduardo      | Maldonado   | Female   | Environmental consultant                                    | 85000    |\n",
      "| 671     | F593F1abdecC4bc | Shari        | Gillespie   | Female   | Sports development officer                                  | 80000    |\n",
      "| 672     | 79fBAFAdA0Cc4c3 | Caitlyn      | Webb        | Male     | Fine artist                                                 | 60000    |\n",
      "| 673     | CE058D7DB97D0Df | Cathy        | Gallagher   | Female   | Nature conservation officer                                 | 50000    |\n",
      "| 674     | Fd8ad0F0ff47bAd | Morgan       | Spears      | Female   | Fisheries officer                                           | 85000    |\n",
      "| 675     | 6F140eDaa8EaBfF | Bianca       | Merritt     | Male     | Architectural technologist                                  | 65000    |\n",
      "| 676     | cFeE691ffA1c254 | Kenneth      | Sanchez     | Male     | Secretary, company                                          | 70000    |\n",
      "| 677     | C4D0eeca81999E0 | David        | Skinner     | Male     | Writer                                                      | 80000    |\n",
      "| 678     | F73c1acfEabbe77 | Caitlin      | Hoffman     | Female   | Phytotherapist                                              | 65000    |\n",
      "| 679     | CB7Bb6f8B855dD7 | Peggy        | Moore       | Male     | Teacher, adult education                                    | 65000    |\n",
      "| 680     | fD9d0F38eFBa56B | Doris        | Larsen      | Female   | Financial controller                                        | 85000    |\n",
      "| 681     | 203e2beE6cc7d3b | Mercedes     | Potts       | Female   | Conservation officer, historic buildings                    | 90000    |\n",
      "| 682     | 7f1600A9e94BcDB | Craig        | Duffy       | Male     | Operations geologist                                        | 50000    |\n",
      "| 683     | bC702C45cBCCa3F | Tami         | Patton      | Female   | Web designer                                                | 100000   |\n",
      "| 684     | 7d36C7aBBbf4b83 | Erik         | Summers     | Male     | Glass blower/designer                                       | 50000    |\n",
      "| 685     | 7333106C93e179c | Theresa      | Cantrell    | Female   | Archivist                                                   | 60000    |\n",
      "| 686     | dBF044bC70d8afd | Kendra       | Bird        | Female   | Civil Service administrator                                 | 70000    |\n",
      "| 687     | 80e5d8dD8aFAdcb | Heidi        | Odonnell    | Male     | Water quality scientist                                     | 50000    |\n",
      "| 688     | 8CaBCcBfccaacb0 | Regina       | Green       | Female   | Television production assistant                             | 80000    |\n",
      "| 689     | FF2F15A0c3e6Df6 | Betty        | Quinn       | Female   | Applications developer                                      | 90000    |\n",
      "| 690     | eBc8c80DF2ca986 | Mariah       | Woodard     | Female   | Quantity surveyor                                           | 65000    |\n",
      "| 691     | caEcaEe8b14Cfae | Emily        | Molina      | Male     | Personnel officer                                           | 80000    |\n",
      "| 692     | C7e5E19673db661 | Kristine     | Dyer        | Female   | Engineer, civil (contracting)                               | 85000    |\n",
      "| 693     | 7EDC571BC5fb2Cc | Brad         | Crosby      | Female   | Magazine journalist                                         | 60000    |\n",
      "| 694     | 1D2cA9eDfc7aAAC | Drew         | Beck        | Male     | Heritage manager                                            | 60000    |\n",
      "| 695     | 6EEacA1cC73fDba | Blake        | Whitehead   | Male     | Control and instrumentation engineer                        | 70000    |\n",
      "| 696     | acf2a33A8Fc3Cd9 | Maureen      | Flores      | Female   | Youth worker                                                | 85000    |\n",
      "| 697     | 1B7E5A3B1837BF8 | Monica       | Santos      | Female   | Youth worker                                                | 80000    |\n",
      "| 698     | f430E7D24D8CdD5 | Brittney     | Stephens    | Female   | Conservation officer, historic buildings                    | 80000    |\n",
      "| 699     | d5DEd272fDF5bEA | Aaron        | Little      | Male     | Hydrographic surveyor                                       | 85000    |\n",
      "| 700     | BCe1cA2aF4dc7Df | Leon         | Duarte      | Male     | Building services engineer                                  | 85000    |\n",
      "| 701     | 59b8B645CDe6e88 | Frances      | Harrell     | Male     | Production assistant, radio                                 | 80000    |\n",
      "| 702     | e5b56663E1207cF | Anthony      | Ross        | Female   | Paediatric nurse                                            | 70000    |\n",
      "| 703     | A4bD25aEFeB33fa | Alejandra    | Esparza     | Female   | Administrator, education                                    | 85000    |\n",
      "| 704     | 6dc774AEa44FFea | Angelica     | Lynn        | Female   | Adult guidance worker                                       | 70000    |\n",
      "| 705     | 84b2ad43250301f | Tara         | Moody       | Male     | Arts administrator                                          | 100000   |\n",
      "| 706     | 5E0A3C8fe14c45e | Patrick      | Landry      | Female   | Dramatherapist                                              | 70000    |\n",
      "| 707     | 2d4bFC48Fa759eC | Claire       | Esparza     | Male     | Automotive engineer                                         | 80000    |\n",
      "| 708     | 2bA0A8BBbAEFF68 | Evan         | Sheppard    | Male     | Fashion designer                                            | 85000    |\n",
      "| 709     | cA10A9202e6bA2D | Claire       | Thornton    | Male     | Systems analyst                                             | 70000    |\n",
      "| 710     | 1edDB7AddBB3e9E | Richard      | Rocha       | Female   | Food technologist                                           | 90000    |\n",
      "| 711     | ab2c4afC563bDc6 | Kent         | Flowers     | Male     | Teacher, adult education                                    | 90000    |\n",
      "| 712     | F7bf5c95e39b7BE | Jane         | Zamora      | Female   | Accountant, chartered certified                             | 65000    |\n",
      "| 713     | B117Cee2EEa4125 | Rita         | Sweeney     | Female   | Engineering geologist                                       | 60000    |\n",
      "| 714     | 8b0bC617a6a50Dc | Leah         | Mcfarland   | Male     | Bonds trader                                                | 60000    |\n",
      "| 715     | 8aa995c7659BC9C | Vincent      | Schmidt     | Male     | Accountant, chartered public finance                        | 85000    |\n",
      "| 716     | C54D6636EBAAD95 | Ronnie       | Hurley      | Male     | Teacher, English as a foreign language                      | 50000    |\n",
      "| 717     | FB6Fdd4Ff910aeE | Audrey       | Burke       | Female   | Public relations officer                                    | 50000    |\n",
      "| 718     | 029daB8F128B645 | Javier       | Mata        | Male     | Nurse, mental health                                        | 90000    |\n",
      "| 719     | fAe6254d1E37D0d | Cassie       | Price       | Female   | Furniture designer                                          | 100000   |\n",
      "| 720     | 5FAaf91AF4cb9d0 | Julian       | Zuniga      | Female   | Administrator, education                                    | 100000   |\n",
      "| 721     | AA8CB54E5bE8f7f | Carla        | Ramos       | Male     | Podiatrist                                                  | 70000    |\n",
      "| 722     | BC35A8dAaE8A73e | Elizabeth    | Pearson     | Male     | Loss adjuster, chartered                                    | 90000    |\n",
      "| 723     | A8DcFC5bC8276BD | Lorraine     | Carney      | Male     | Designer, multimedia                                        | 65000    |\n",
      "| 724     | E15806c8d7dE468 | Joanna       | Kaiser      | Male     | Theme park manager                                          | 100000   |\n",
      "| 725     | D25CCce21EFbe7F | Johnny       | Daugherty   | Male     | Therapist, drama                                            | 100000   |\n",
      "| 726     | 7e9af03228B5Cb9 | Gabriel      | Bird        | Male     | Health promotion specialist                                 | 60000    |\n",
      "| 727     | FAbE465EA20A1Ba | Bianca       | Becker      | Female   | Press sub                                                   | 80000    |\n",
      "| 728     | d2fFe97a32647f6 | Reginald     | Roach       | Female   | Restaurant manager                                          | 60000    |\n",
      "| 729     | f2659f09BB9d186 | Kimberly     | Kirby       | Male     | Senior tax professional/tax inspector                       | 80000    |\n",
      "| 730     | c9b482D7aa3e682 | Lonnie       | Duke        | Female   | Nurse, adult                                                | 70000    |\n",
      "| 731     | ac9A8cBf5e8EAEd | Kelli        | Koch        | Male     | Sub                                                         | 85000    |\n",
      "| 732     | bF6e50d8Ca9f8F9 | Jo           | Kidd        | Female   | Engineer, maintenance (IT)                                  | 85000    |\n",
      "| 733     | A20150cA0966CAF | Diana        | Rivera      | Female   | Higher education lecturer                                   | 50000    |\n",
      "| 734     | FF932e2bcccb9B2 | Allen        | Fitzgerald  | Female   | Probation officer                                           | 90000    |\n",
      "| 735     | 9BF53D7DcabdAA7 | Leonard      | Wallace     | Female   | Chemist, analytical                                         | 60000    |\n",
      "| 736     | 5A3147D0A0b5eFa | Arthur       | Pugh        | Female   | Metallurgist                                                | 50000    |\n",
      "| 737     | a2110859fEdbcaB | Dwayne       | Bauer       | Male     | Social research officer, government                         | 65000    |\n",
      "| 738     | BBa02EC792cfFf3 | Heidi        | Avila       | Female   | Industrial/product designer                                 | 50000    |\n",
      "| 739     | BF2d1D6E5bacaBC | Franklin     | Key         | Male     | Immunologist                                                | 60000    |\n",
      "| 740     | d8D3Ed36fa630bE | Sergio       | Rangel      | Female   | Multimedia programmer                                       | 100000   |\n",
      "| 741     | b0E2bF69efAB9c5 | Gina         | David       | Male     | Television/film/video producer                              | 65000    |\n",
      "| 742     | 95e04B535D8e8CC | Mike         | Baldwin     | Male     | Scientist, clinical (histocompatibility and immunogenetics) | 85000    |\n",
      "| 743     | 8019a2FFb2c0a3B | Holly        | Burnett     | Female   | Warehouse manager                                           | 70000    |\n",
      "| 744     | de8Bb8dEa84d29F | Jenna        | Dawson      | Female   | Education officer, community                                | 100000   |\n",
      "| 745     | 79e8a7A269f890d | Catherine    | Bryan       | Male     | Operations geologist                                        | 65000    |\n",
      "| 746     | e80Fa1FFD1Eb46A | Jerome       | Dougherty   | Male     | Clinical biochemist                                         | 100000   |\n",
      "| 747     | CEa30100D11C420 | Wayne        | Zhang       | Male     | Teaching laboratory technician                              | 100000   |\n",
      "| 748     | Ab9bBff60787e3A | Blake        | Duke        | Male     | Seismic interpreter                                         | 80000    |\n",
      "| 749     | eaAda801D24C59C | Rick         | Mosley      | Male     | Video editor                                                | 80000    |\n",
      "| 750     | f18c18ab8Ab27Fc | Reginald     | Howard      | Male     | Astronomer                                                  | 90000    |\n",
      "| 751     | 43A1757E8DbA223 | Chad         | Manning     | Male     | Contractor                                                  | 70000    |\n",
      "| 752     | Fb9178FdC2CEE3d | Wayne        | Velazquez   | Female   | Prison officer                                              | 65000    |\n",
      "| 753     | A97F9D0BFde1565 | Darren       | Lowery      | Female   | Forensic scientist                                          | 85000    |\n",
      "| 754     | 0AbaC4a6BB81Ab6 | Perry        | Wright      | Female   | Geneticist, molecular                                       | 85000    |\n",
      "| 755     | E28aB037BCbdE2a | Mandy        | Gregory     | Male     | Teaching laboratory technician                              | 90000    |\n",
      "| 756     | Eb6Cd01A17a5a56 | Tammie       | Neal        | Female   | Medical secretary                                           | 60000    |\n",
      "| 757     | cCbd920BE02ee0F | Wayne        | Guzman      | Male     | Social worker                                               | 50000    |\n",
      "| 758     | B5709aba28899e6 | Whitney      | Wang        | Male     | Health and safety inspector                                 | 100000   |\n",
      "| 759     | FBe8a925400f4f4 | Cassie       | Moore       | Male     | Recruitment consultant                                      | 60000    |\n",
      "| 760     | F2aEDA5F5fc0685 | Regina       | Carlson     | Male     | Brewing technologist                                        | 60000    |\n",
      "| 761     | eABE50FeE6c751b | Jason        | Downs       | Female   | Mudlogger                                                   | 60000    |\n",
      "| 762     | d7669B20ebC9A2e | Jose         | Kemp        | Female   | Actor                                                       | 80000    |\n",
      "| 763     | 424F7Df575a3065 | Joy          | Meadows     | Female   | Intelligence analyst                                        | 80000    |\n",
      "| 764     | Bebf9fB917CFc6a | Renee        | Bowen       | Male     | Restaurant manager                                          | 50000    |\n",
      "| 765     | fe01EF29A34aF99 | Julian       | Pennington  | Female   | English as a second language teacher                        | 90000    |\n",
      "| 766     | faCaD334e8Eef84 | Pam          | Jennings    | Male     | Paediatric nurse                                            | 50000    |\n",
      "| 767     | F32De403D1DBac2 | Julie        | Mckay       | Female   | Sports administrator                                        | 100000   |\n",
      "| 768     | 7740F2cBCaEB2fC | Jodi         | Pena        | Male     | Biomedical scientist                                        | 60000    |\n",
      "| 769     | 7502B47999fF8ED | Mason        | Compton     | Female   | Homeopath                                                   | 80000    |\n",
      "| 770     | C5BAe1ADD5986cE | Frederick    | Perry       | Female   | Nurse, adult                                                | 70000    |\n",
      "| 771     | dC121D6cCe812fa | Sheena       | Crawford    | Female   | Ceramics designer                                           | 70000    |\n",
      "| 772     | 6f9fcADee67c713 | Katelyn      | Henderson   | Male     | Advertising account planner                                 | 85000    |\n",
      "| 773     | 5DACBefF884DffE | Bobby        | Patterson   | Male     | Town planner                                                | 100000   |\n",
      "| 774     | db90E7B9FF2A9C0 | Marvin       | Steele      | Female   | Ecologist                                                   | 50000    |\n",
      "| 775     | 5CAbD9dF096Aa13 | Katrina      | Woods       | Female   | Surveyor, building control                                  | 80000    |\n",
      "| 776     | fcfDa2eC50ae07C | Rachael      | Delgado     | Male     | Fashion designer                                            | 50000    |\n",
      "| 777     | Ed91fA258936EC5 | Alexandra    | Ward        | Female   | Intelligence analyst                                        | 70000    |\n",
      "| 778     | F5a33C77aA390AC | Darlene      | Mcdonald    | Female   | Curator                                                     | 90000    |\n",
      "| 779     | cdD4Ee6be68BADD | Morgan       | Luna        | Male     | Theme park manager                                          | 65000    |\n",
      "| 780     | e8Cb6Bc924f9FDe | Vernon       | Hancock     | Female   | Development worker, international aid                       | 85000    |\n",
      "| 781     | dF4FDB4BDAA5f8f | Robyn        | Richardson  | Female   | Surveyor, minerals                                          | 80000    |\n",
      "| 782     | 6aBba43CE031E14 | Vanessa      | Fischer     | Male     | Surveyor, commercial/residential                            | 65000    |\n",
      "| 783     | Dba3CD8ABD2D807 | Heidi        | Roman       | Male     | Fine artist                                                 | 50000    |\n",
      "| 784     | 231cA50d1fBAC0f | Kristen      | Brewer      | Male     | Social researcher                                           | 85000    |\n",
      "| 785     | 9eD7FFd12eDFaCe | Jean         | Browning    | Female   | Personnel officer                                           | 50000    |\n",
      "| 786     | 7Cd475256fF1D28 | Lawrence     | Gregory     | Male     | Make                                                        | 50000    |\n",
      "| 787     | FFdAE44a6E3A64C | Christine    | Payne       | Male     | Art gallery manager                                         | 50000    |\n",
      "| 788     | 27eeC47948DFD15 | Barbara      | Ramirez     | Female   | Ambulance person                                            | 80000    |\n",
      "| 789     | f7B611b1acC1564 | Ruben        | Hammond     | Female   | Freight forwarder                                           | 80000    |\n",
      "| 790     | A4D53a3EfCfcAcB | Donald       | Nash        | Female   | Speech and language therapist                               | 100000   |\n",
      "| 791     | 668E9F3f3fbfD6f | Angelica     | Anthony     | Female   | Advertising account executive                               | 70000    |\n",
      "| 792     | 4A9BA13acFe3dB1 | Claire       | Glass       | Female   | Race relations officer                                      | 50000    |\n",
      "| 793     | e1835eA12f669Ab | Leslie       | Curry       | Female   | Psychiatrist                                                | 80000    |\n",
      "| 794     | Da915B5ed8D97d4 | Calvin       | Thomas      | Male     | Conservation officer, historic buildings                    | 65000    |\n",
      "| 795     | caDAddce68a5E34 | Makayla      | Boyer       | Male     | Forensic scientist                                          | 80000    |\n",
      "| 796     | 5150EF9E1cfceb2 | Caitlyn      | Bass        | Male     | Dietitian                                                   | 65000    |\n",
      "| 797     | 3fEA9f572A3af9D | Tony         | Holmes      | Male     | Engineer, production                                        | 60000    |\n",
      "| 798     | 7b8cD5a408faDB0 | Lydia        | Cisneros    | Male     | Editor, film/video                                          | 85000    |\n",
      "| 799     | a1169FdfbB173E8 | Debra        | Knight      | Female   | Actuary                                                     | 80000    |\n",
      "| 800     | d267aDd8B64dE78 | Garrett      | Barber      | Female   | Purchasing manager                                          | 90000    |\n",
      "| 801     | Dea7Ff4d68c0FD3 | Annette      | Grant       | Male     | Chartered certified accountant                              | 65000    |\n",
      "| 802     | d2DEaD9fd0ac7EC | Todd         | Blackburn   | Female   | Farm manager                                                | 70000    |\n",
      "| 803     | ee4aB7cf0f5c058 | Xavier       | Ray         | Female   | Freight forwarder                                           | 85000    |\n",
      "| 804     | c96f6E281e57197 | Gilbert      | Wilcox      | Female   | Historic buildings inspector/conservation officer           | 80000    |\n",
      "| 805     | 18941F347C6EFd2 | Frances      | Gilbert     | Female   | Journalist, newspaper                                       | 65000    |\n",
      "| 806     | 25Eeca12Af6dc9b | Eduardo      | Whitehead   | Female   | Legal executive                                             | 80000    |\n",
      "| 807     | d9dD13F72DeBEFc | Jillian      | Valenzuela  | Female   | Music therapist                                             | 100000   |\n",
      "| 808     | acF9EcCcB6aa19F | Jenna        | Atkins      | Female   | Broadcast presenter                                         | 90000    |\n",
      "| 809     | A04BcfcDF9FeB1e | Chelsey      | Martinez    | Male     | Actuary                                                     | 60000    |\n",
      "| 810     | DC89eCAd3e29B64 | Ebony        | Harmon      | Female   | Energy manager                                              | 100000   |\n",
      "| 811     | d9cdb1B50b11E0a | Grace        | Underwood   | Female   | Electronics engineer                                        | 60000    |\n",
      "| 812     | D4cd00da652b525 | Harry        | Conrad      | Female   | Neurosurgeon                                                | 50000    |\n",
      "| 813     | d0Fd08CEbA41c09 | Rebekah      | Koch        | Female   | Television production assistant                             | 50000    |\n",
      "| 814     | e96B00Ea1A4AfEb | Jody         | Nguyen      | Female   | Editorial assistant                                         | 100000   |\n",
      "| 815     | cfd7AbC9Fda5B0d | Caleb        | Erickson    | Male     | Medical technical officer                                   | 85000    |\n",
      "| 816     | a691dFeB0E93d4d | Katie        | Gamble      | Female   | Television production assistant                             | 70000    |\n",
      "| 817     | 71F739A38d5D85A | Patricia     | Lane        | Female   | Education officer, environmental                            | 65000    |\n",
      "| 818     | 8C68f3F7fCdE854 | Dorothy      | Shannon     | Male     | Industrial buyer                                            | 60000    |\n",
      "| 819     | 9dD0fA3FA742F6e | Dominic      | Moran       | Male     | Herpetologist                                               | 90000    |\n",
      "| 820     | bd0E4aCa6c9Ff6b | Virginia     | Tate        | Female   | Surveyor, mining                                            | 85000    |\n",
      "| 821     | 2d5C3dc437CF74c | Terrance     | Hubbard     | Male     | Copy                                                        | 70000    |\n",
      "| 822     | D8A160cFf6B758C | Paula        | Daniels     | Male     | Engineering geologist                                       | 50000    |\n",
      "| 823     | ca405D00cbffbB0 | Steve        | Peck        | Male     | Physiotherapist                                             | 50000    |\n",
      "| 824     | 031EEefB0f3f0C0 | Franklin     | Conley      | Female   | Engineer, broadcasting (operations)                         | 70000    |\n",
      "| 825     | c04a307Bf53C5a5 | Mary         | Aguirre     | Male     | Civil Service fast streamer                                 | 60000    |\n",
      "| 826     | 9A6ef2C5f4192B9 | Krista       | Alexander   | Female   | Chartered management accountant                             | 50000    |\n",
      "| 827     | bC9AF9CD40dB26C | Tim          | Frey        | Female   | Rural practice surveyor                                     | 65000    |\n",
      "| 828     | e08F4F30bB170cb | Shane        | Mcgrath     | Male     | Audiological scientist                                      | 70000    |\n",
      "| 829     | 43CdFBDc5D631BB | Sonya        | Nixon       | Male     | Visual merchandiser                                         | 100000   |\n",
      "| 830     | C373a6DfE147b59 | Diana        | Burnett     | Male     | Engineer, biomedical                                        | 70000    |\n",
      "| 831     | feAb6AB57dE8DB3 | Kirk         | Stanton     | Female   | Scientist, forensic                                         | 85000    |\n",
      "| 832     | b6A2C01C4d6c9a0 | Toni         | Kline       | Female   | Camera operator                                             | 50000    |\n",
      "| 833     | 0e0E47F5b9AbdDe | Sonya        | Flowers     | Female   | Designer, blown glass/stained glass                         | 90000    |\n",
      "| 834     | bc4EAf173C2e2cc | Stuart       | Kim         | Female   | Naval architect                                             | 65000    |\n",
      "| 835     | 7EAB1b223De8c22 | Margaret     | Wang        | Male     | Water engineer                                              | 50000    |\n",
      "| 836     | 0CFcdEe5cbBdA0c | Fred         | Dennis      | Male     | Theatre stage manager                                       | 90000    |\n",
      "| 837     | 8fB74AeAa3e1a76 | Becky        | Jimenez     | Male     | Conservator, museum/gallery                                 | 100000   |\n",
      "| 838     | c03baDebc04ba3D | Mark         | Donovan     | Female   | Race relations officer                                      | 60000    |\n",
      "| 839     | 132E21CcB3fC9a9 | Terri        | Brock       | Male     | Engineer, agricultural                                      | 70000    |\n",
      "| 840     | fcFEBc4ba91Bff1 | Jorge        | Flynn       | Male     | Water engineer                                              | 70000    |\n",
      "| 841     | dEcBC02d0DF5A2E | Jean         | Harding     | Male     | Phytotherapist                                              | 90000    |\n",
      "| 842     | A611B2d0cbD23bB | Laura        | Horton      | Female   | Radiographer, therapeutic                                   | 85000    |\n",
      "| 843     | BA364F4E2bF880b | Carlos       | Ramos       | Male     | Analytical chemist                                          | 60000    |\n",
      "| 844     | f06cFfc4ca098f7 | Norman       | Fritz       | Male     | Secretary, company                                          | 65000    |\n",
      "| 845     | 77fd54b78285efa | Dana         | Hayes       | Female   | Public relations officer                                    | 80000    |\n",
      "| 846     | aCabfCFCCa9fB2c | Jonathon     | Holden      | Male     | Designer, jewellery                                         | 85000    |\n",
      "| 847     | 4Fc2781bb90980C | David        | Garcia      | Female   | Engineer, petroleum                                         | 50000    |\n",
      "| 848     | d599aCa3193b446 | Javier       | Camacho     | Male     | Scientist, biomedical                                       | 65000    |\n",
      "| 849     | Ccba2A606527545 | Shelley      | Barajas     | Female   | Licensed conveyancer                                        | 90000    |\n",
      "| 850     | D2fc9aAf83C9E8d | Jerry        | Mooney      | Male     | Mechanical engineer                                         | 85000    |\n",
      "| 851     | fB2Ae2Ca0AEFaa0 | Gwendolyn    | Lane        | Female   | Chief Technology Officer                                    | 90000    |\n",
      "| 852     | F5bEe8FcBf4ccc9 | Jon          | Soto        | Male     | Scientist, research (physical sciences)                     | 85000    |\n",
      "| 853     | Da9eec47EAb83AA | Melody       | Hebert      | Male     | Engineer, water                                             | 60000    |\n",
      "| 854     | 89F06B3fA6caF36 | Gloria       | Allison     | Female   | Doctor, general practice                                    | 100000   |\n",
      "| 855     | 5BAA7F0Bf70A588 | Kristi       | Orr         | Female   | Quality manager                                             | 85000    |\n",
      "| 856     | Ed6dcecd37Fc4d0 | Bethany      | Olson       | Female   | Retail banker                                               | 100000   |\n",
      "| 857     | 3f66552DA64B9AC | Holly        | Cisneros    | Female   | English as a second language teacher                        | 90000    |\n",
      "| 858     | F2D75c64c1dBC4e | Stuart       | Tapia       | Male     | Horticulturist, commercial                                  | 60000    |\n",
      "| 859     | f45723A3eab55fb | Kaylee       | Meyers      | Female   | Acupuncturist                                               | 85000    |\n",
      "| 860     | f4c82B1EDBe3a19 | Ricardo      | Washington  | Male     | Computer games developer                                    | 85000    |\n",
      "| 861     | e4BC290cda6E2b4 | Roberto      | Frey        | Female   | Loss adjuster, chartered                                    | 50000    |\n",
      "| 862     | Ecd8EF1bE3A5F3B | Doris        | Coleman     | Female   | Dramatherapist                                              | 90000    |\n",
      "| 863     | D4eEb4d79D28F5D | Nancy        | Reese       | Female   | Surveyor, commercial/residential                            | 100000   |\n",
      "| 864     | Bba2ac9fC7CdfC4 | Juan         | Pratt       | Female   | Nurse, children's                                           | 60000    |\n",
      "| 865     | F5D5aDBEBCFd47D | Marvin       | Li          | Female   | Market researcher                                           | 60000    |\n",
      "| 866     | 9637A7c8840FbdD | Angela       | Novak       | Female   | Proofreader                                                 | 50000    |\n",
      "| 867     | a2CffC07D6ee278 | Bradley      | Miller      | Female   | Management consultant                                       | 80000    |\n",
      "| 868     | F6DA88Bf5aEAef9 | Jaclyn       | Duke        | Male     | Barrister                                                   | 60000    |\n",
      "| 869     | bB9D1eC2d6CEF3f | Leon         | Farrell     | Female   | Development worker, community                               | 60000    |\n",
      "| 870     | BE9Bab7Ff9B020D | Katrina      | Duncan      | Male     | Scientist, research (physical sciences)                     | 65000    |\n",
      "| 871     | D7A4cDC318400a9 | Savannah     | Marsh       | Female   | Social researcher                                           | 60000    |\n",
      "| 872     | 6dEd664A81d9726 | Cristian     | Hansen      | Female   | Civil engineer, contracting                                 | 85000    |\n",
      "| 873     | 89D9ED9f397ccdF | Jasmine      | Mcdaniel    | Female   | Cytogeneticist                                              | 60000    |\n",
      "| 874     | 10378DebBF35f3b | Wendy        | Ware        | Female   | Drilling engineer                                           | 50000    |\n",
      "| 875     | 8ABEFBfec676eAE | Leroy        | Ramsey      | Male     | Architectural technologist                                  | 85000    |\n",
      "| 876     | aF7fB3051A6f821 | Natalie      | Owens       | Male     | Professor Emeritus                                          | 100000   |\n",
      "| 877     | 54B827E53Aaad1B | Craig        | Olson       | Female   | Art gallery manager                                         | 60000    |\n",
      "| 878     | eE49Ce572F490dB | Patrick      | Wallace     | Male     | Engineer, drilling                                          | 80000    |\n",
      "| 879     | 0c6D5FE391DDDfF | Ivan         | Newton      | Male     | Tax adviser                                                 | 65000    |\n",
      "| 880     | cC7cc25dDF9Bc7c | Cody         | Stafford    | Female   | Systems analyst                                             | 90000    |\n",
      "| 881     | B7Bfd6CCb6e3550 | Sonia        | Hendricks   | Female   | IT technical support officer                                | 85000    |\n",
      "| 882     | B2fF6d256E04A02 | Bill         | Glass       | Female   | Pilot, airline                                              | 70000    |\n",
      "| 883     | bEB9A8E7cd5fe09 | Rebecca      | Nolan       | Female   | Art therapist                                               | 60000    |\n",
      "| 884     | 9ED6A10458B20F4 | Daniel       | Braun       | Female   | Database administrator                                      | 100000   |\n",
      "| 885     | Ad4fadaAcC5DA35 | April        | Mcdaniel    | Female   | Photographer                                                | 80000    |\n",
      "| 886     | 65c20c729B2dcF8 | Curtis       | Saunders    | Male     | Forest/woodland manager                                     | 90000    |\n",
      "| 887     | 5E6Db13AF3bddfD | Haley        | Pineda      | Male     | Graphic designer                                            | 50000    |\n",
      "| 888     | CF55FFa5ff58adC | Brad         | Lynch       | Male     | Designer, fashion/clothing                                  | 90000    |\n",
      "| 889     | aEf0fE6aF07daCF | Ashlee       | Snow        | Male     | Technical brewer                                            | 85000    |\n",
      "| 890     | 4835cD2367aaa0c | Malik        | Tate        | Male     | Therapeutic radiographer                                    | 65000    |\n",
      "| 891     | C3c29A0dEb9Cfdd | Cristina     | Berry       | Female   | International aid/development worker                        | 80000    |\n",
      "| 892     | 9Eb756Bd5F867Ee | Malik        | Bruce       | Female   | Animator                                                    | 60000    |\n",
      "| 893     | d0a4Fd80e3e6cc7 | Tonya        | Barrett     | Male     | Soil scientist                                              | 65000    |\n",
      "| 894     | 9ef55AFab0FB5d1 | Gabrielle    | Knox        | Female   | Investment banker, operational                              | 60000    |\n",
      "| 895     | Dbc452Be6ba20d0 | Darlene      | Sheppard    | Male     | Designer, textile                                           | 85000    |\n",
      "| 896     | D1F81074fB19eF6 | Dominique    | Mendez      | Female   | Forensic psychologist                                       | 100000   |\n",
      "| 897     | 013C5edC3dc4dF8 | Ronnie       | David       | Female   | Environmental education officer                             | 100000   |\n",
      "| 898     | 510DAC1BE6C39ef | Gabriella    | Pena        | Male     | Chief Strategy Officer                                      | 100000   |\n",
      "| 899     | 85bfcA8E16fAFde | Cindy        | Washington  | Female   | Buyer, industrial                                           | 50000    |\n",
      "| 900     | 15fDd48A41eCcd0 | Cristina     | Arroyo      | Female   | Actuary                                                     | 70000    |\n",
      "| 901     | EABBd81DFeeD7ab | Tracie       | Trevino     | Female   | Fish farm manager                                           | 100000   |\n",
      "| 902     | 830EfF83609B48C | Alyssa       | Robles      | Female   | Chief Operating Officer                                     | 85000    |\n",
      "| 903     | 8BAf5f1Cfc14dBa | Marco        | Shannon     | Male     | Engineer, chemical                                          | 80000    |\n",
      "| 904     | 1ECBd9199A91b6e | Megan        | Chavez      | Male     | Paediatric nurse                                            | 100000   |\n",
      "| 905     | 9DDa9FF9FdBfC66 | Francisco    | Fox         | Female   | Editor, film/video                                          | 65000    |\n",
      "| 906     | b83e0c3c1B1dE27 | Martha       | Lin         | Female   | Academic librarian                                          | 60000    |\n",
      "| 907     | c2f4DfEeE02d1Fa | Sarah        | Bautista    | Female   | Technical sales engineer                                    | 90000    |\n",
      "| 908     | aC06DadA725b3Fd | Katie        | George      | Female   | Archaeologist                                               | 85000    |\n",
      "| 909     | 7c0f808CE9EEfE7 | Sylvia       | Boyer       | Male     | Ranger/warden                                               | 80000    |\n",
      "| 910     | 3b44E9b5915745f | Whitney      | Andrews     | Female   | Journalist, broadcasting                                    | 80000    |\n",
      "| 911     | 31FFcD6eB48E856 | Michaela     | Calhoun     | Female   | Toxicologist                                                | 80000    |\n",
      "| 912     | 2caCaBe9CbdFFC8 | Steven       | Mata        | Male     | Cartographer                                                | 65000    |\n",
      "| 913     | 7Bad31BD10CE08C | Cheryl       | May         | Female   | Web designer                                                | 100000   |\n",
      "| 914     | 89D52456EC4eECE | Yolanda      | Wagner      | Male     | Health physicist                                            | 60000    |\n",
      "| 915     | a1Bec1eAd03bCAf | Christina    | Walters     | Female   | Commissioning editor                                        | 90000    |\n",
      "| 916     | 2c1aBF56c97b969 | Dustin       | Dyer        | Female   | Clinical molecular geneticist                               | 85000    |\n",
      "| 917     | ca7B27cbefCEBb0 | Angel        | Knox        | Female   | Conference centre manager                                   | 85000    |\n",
      "| 918     | C150Dc3E15e3b0A | Jill         | Jenkins     | Female   | Multimedia specialist                                       | 60000    |\n",
      "| 919     | aa1A1Ecb1E1661B | Gail         | Skinner     | Male     | Teacher, secondary school                                   | 65000    |\n",
      "| 920     | 3dCeDeb6a09408B | Suzanne      | Hernandez   | Female   | Solicitor, Scotland                                         | 50000    |\n",
      "| 921     | fa1c3AABF9d6d5E | Joanne       | Silva       | Female   | Marine scientist                                            | 50000    |\n",
      "| 922     | 5Bf923A1cB6ACF3 | Cole         | Hancock     | Male     | Pensions consultant                                         | 80000    |\n",
      "| 923     | FCc1A64eF8C879e | Joshua       | Phillips    | Male     | Programmer, applications                                    | 90000    |\n",
      "| 924     | bF5721BbCd579Df | Suzanne      | Hendrix     | Female   | Physiological scientist                                     | 50000    |\n",
      "| 925     | 3faedEDe9A8686a | Tyler        | Morse       | Female   | Personnel officer                                           | 60000    |\n",
      "| 926     | AcfA331E0c712AB | Debra        | Shields     | Male     | Radiographer, therapeutic                                   | 85000    |\n",
      "| 927     | fa611Ed5ccC99C8 | Marie        | Dominguez   | Male     | Research scientist (medical)                                | 80000    |\n",
      "| 928     | 30c4DEcbA34EA6f | Charles      | Griffith    | Male     | Cabin crew                                                  | 65000    |\n",
      "| 929     | 9224fea6EB73BF1 | Shari        | Glenn       | Female   | Phytotherapist                                              | 85000    |\n",
      "| 930     | 467Fc9EA1Aae0AD | Stephen      | Callahan    | Male     | Energy engineer                                             | 90000    |\n",
      "| 931     | 2BAe5D357b1213b | Geoffrey     | Booth       | Male     | Associate Professor                                         | 80000    |\n",
      "| 932     | 4DfdDfafc4Da95e | Noah         | Owen        | Female   | Advice worker                                               | 90000    |\n",
      "| 933     | 2e1ac4F7600ceA5 | Mariah       | Finley      | Male     | Conservation officer, nature                                | 85000    |\n",
      "| 934     | b12d138244da69c | Angelica     | Frazier     | Female   | Engineer, maintenance                                       | 65000    |\n",
      "| 935     | C1d1F3BEd92F0Dd | Angel        | Davidson    | Female   | Licensed conveyancer                                        | 100000   |\n",
      "| 936     | 3eE4Dc4C8FAb1F5 | Evelyn       | Holloway    | Male     | Jewellery designer                                          | 65000    |\n",
      "| 937     | 3b5A0bFC0bcAaCa | Luis         | Neal        | Male     | Engineer, maintenance                                       | 70000    |\n",
      "| 938     | 0efa54b5ea1D2EE | Karla        | Obrien      | Male     | Comptroller                                                 | 90000    |\n",
      "| 939     | 0dFeA94c36A0085 | Glenn        | Schaefer    | Female   | Pensions consultant                                         | 50000    |\n",
      "| 940     | 4C04e80C477F6fc | Julian       | Andrade     | Male     | Fish farm manager                                           | 100000   |\n",
      "| 941     | dD648d068e6BA2A | Willie       | Mccall      | Female   | Agricultural engineer                                       | 70000    |\n",
      "| 942     | cdBFEEF00Ac3b0E | Danielle     | Sims        | Male     | Engineer, production                                        | 65000    |\n",
      "| 943     | 2bDbaCfeA5dD24b | Sally        | Carrillo    | Female   | Call centre manager                                         | 70000    |\n",
      "| 944     | 0bec75Ebba75267 | Johnny       | Elliott     | Male     | Copywriter, advertising                                     | 50000    |\n",
      "| 945     | D7B72E2A09D9a3e | Janet        | Mckinney    | Female   | Ranger/warden                                               | 85000    |\n",
      "| 946     | c39CA02fba16018 | Brendan      | Ellison     | Female   | Designer, ceramics/pottery                                  | 65000    |\n",
      "| 947     | 1E5bd39FEa189Ca | Ana          | Rivas       | Female   | Oceanographer                                               | 70000    |\n",
      "| 948     | a3BeA53B74FAb3b | Emma         | Lawson      | Male     | Ranger/warden                                               | 100000   |\n",
      "| 949     | 614f7BFDFD0eb8a | Heather      | Holder      | Male     | Scientist, research (physical sciences)                     | 60000    |\n",
      "| 950     | 22e31df46F6fCD2 | Daryl        | Knox        | Male     | Academic librarian                                          | 85000    |\n",
      "| 951     | aa4b6Ffcd5EA4a8 | Johnny       | Clarke      | Female   | Medical sales representative                                | 80000    |\n",
      "| 952     | 6EE9F6c4e7E2baF | Laurie       | Blanchard   | Male     | Geographical information systems officer                    | 85000    |\n",
      "| 953     | E76E7b0AccbaFfc | Malik        | Stanley     | Male     | Nutritional therapist                                       | 50000    |\n",
      "| 954     | 41eDA1F2F3aC6eD | Mikayla      | Chaney      | Male     | Metallurgist                                                | 80000    |\n",
      "| 955     | Eb26cfD1F836dBb | Tasha        | Ramos       | Male     | IT technical support officer                                | 50000    |\n",
      "| 956     | eA75Ff58254E608 | Travis       | Krause      | Female   | Development worker, community                               | 65000    |\n",
      "| 957     | 15AeaeA0add0f2a | Kathy        | Yoder       | Female   | Agricultural consultant                                     | 60000    |\n",
      "| 958     | f3cCaCEbcD7ECae | Charles      | Hubbard     | Male     | Trading standards officer                                   | 60000    |\n",
      "| 959     | cFf7Cb8E9d87b29 | Beth         | Moyer       | Female   | Gaffer                                                      | 50000    |\n",
      "| 960     | e7C83084cdE54Ce | Joan         | Kelly       | Female   | Office manager                                              | 50000    |\n",
      "| 961     | 5De2AdFAd2562e2 | Don          | Pacheco     | Female   | Optician, dispensing                                        | 60000    |\n",
      "| 962     | 32Aa87B007D3a0c | Madeline     | Sellers     | Female   | Conservator, museum/gallery                                 | 60000    |\n",
      "| 963     | c5e7d7f5b6b60D3 | Candice      | Barber      | Male     | Pharmacologist                                              | 50000    |\n",
      "| 964     | BeF4EDcC9cb475F | Angel        | Marquez     | Female   | Outdoor activities/education manager                        | 100000   |\n",
      "| 965     | 401D08bA1E0f8bE | Breanna      | Mccullough  | Female   | Product designer                                            | 90000    |\n",
      "| 966     | bdb61a25De7a257 | Cassandra    | Adkins      | Female   | Therapist, sports                                           | 65000    |\n",
      "| 967     | 584e53eea9f8111 | Sherry       | Holloway    | Male     | Environmental manager                                       | 50000    |\n",
      "| 968     | 6ae7dbDbeF0d829 | Caitlyn      | Hubbard     | Female   | Location manager                                            | 65000    |\n",
      "| 969     | dd2Ca5BbccCFEC5 | Noah         | Lloyd       | Male     | Travel agency manager                                       | 50000    |\n",
      "| 970     | 38128d28998a9b8 | Vernon       | Daugherty   | Male     | Financial adviser                                           | 100000   |\n",
      "| 971     | f717C76C8B424FA | Jean         | Conway      | Male     | Printmaker                                                  | 50000    |\n",
      "| 972     | Abb1C0C64234175 | Phyllis      | Ray         | Female   | Embryologist, clinical                                      | 80000    |\n",
      "| 973     | CFd08cE1deAC2C1 | Wesley       | Berger      | Female   | Systems developer                                           | 100000   |\n",
      "| 974     | 5cAC295A6a4ACB0 | Damon        | Petersen    | Male     | Health visitor                                              | 85000    |\n",
      "| 975     | F1Ba9b3cA24bea5 | Tyrone       | Ponce       | Male     | Research scientist (life sciences)                          | 90000    |\n",
      "| 976     | 18fa6d7EE8ef71f | Victor       | Ayers       | Male     | Nurse, adult                                                | 85000    |\n",
      "| 977     | 220243491cdFd7A | Dennis       | Hampton     | Female   | Consulting civil engineer                                   | 80000    |\n",
      "| 978     | 66ce83ECBC9E077 | Darius       | Kerr        | Male     | Mental health nurse                                         | 90000    |\n",
      "| 979     | A40e0a3df2cF0E7 | Duane        | English     | Female   | Health visitor                                              | 90000    |\n",
      "| 980     | Fa4D7Cece0D9Aa0 | Jon          | Kaufman     | Female   | Warehouse manager                                           | 100000   |\n",
      "| 981     | B8b858f588605dF | Roger        | Hernandez   | Female   | Drilling engineer                                           | 60000    |\n",
      "| 982     | 323ae5fE1Cc2fdB | James        | Atkins      | Female   | Arts development officer                                    | 80000    |\n",
      "| 983     | af0D77BeEF7A6c8 | Damon        | Colon       | Male     | Scientist, research (maths)                                 | 80000    |\n",
      "| 984     | 7b5CfB8DdF8c5c5 | Dorothy      | Harvey      | Female   | Airline pilot                                               | 100000   |\n",
      "| 985     | eB90cc8dCA28Ee3 | Derrick      | Stanton     | Female   | Teacher, secondary school                                   | 50000    |\n",
      "| 986     | bA8b297CbcAcdB6 | Susan        | Clark       | Female   | Orthoptist                                                  | 60000    |\n",
      "| 987     | 9871eF832fab828 | Lonnie       | Reynolds    | Male     | Architectural technologist                                  | 85000    |\n",
      "| 988     | ceeDdd8a6A9684d | Joshua       | Walker      | Female   | Psychologist, prison and probation services                 | 90000    |\n",
      "| 989     | 00ED5d507b542D1 | Gavin        | Banks       | Female   | Dentist                                                     | 60000    |\n",
      "| 990     | 1Dba7B14a3E44EE | Omar         | Kent        | Male     | Horticultural consultant                                    | 60000    |\n",
      "| 991     | CBfaec1d322EBEe | Lydia        | Obrien      | Male     | Systems analyst                                             | 80000    |\n",
      "| 992     | E6e70ad4a3d0A2c | Brittney     | Trevino     | Female   | Illustrator                                                 | 80000    |\n",
      "| 993     | 54cC44b9D7fEDCF | Greg         | Chapman     | Female   | Petroleum engineer                                          | 90000    |\n",
      "| 994     | 0142106d1f4CcEF | Eugene       | Love        | Female   | Hospital doctor                                             | 90000    |\n",
      "| 995     | E54d5DDEeE6569E | Beverly      | Ball        | Male     | Publishing rights manager                                   | 85000    |\n",
      "| 996     | fedF4c7Fd9e7cFa | Kurt         | Bryant      | Female   | Personnel officer                                           | 90000    |\n",
      "| 997     | ECddaFEDdEc4FAB | Donna        | Barry       | Female   | Education administrator                                     | 50000    |\n",
      "| 998     | 2adde51d8B8979E | Cathy        | Mckinney    | Female   | Commercial/residential surveyor                             | 60000    |\n",
      "| 999     | Fb2FE369D1E171A | Jermaine     | Phelps      | Male     | Ambulance person                                            | 100000   |\n",
      "| 1000    | 8b756f6231DDC6e | Lee          | Tran        | Female   | Nurse, learning disability                                  | 90000    |\n"
     ]
    }
   ],
   "source": [
    "# a) Delete the 'Email', 'Phone', and 'Date of birth' columns\n",
    "df.drop(['Email', 'Phone', 'Date of birth'], axis=1, inplace=True)\n",
    "\n",
    "# b) Delete the rows containing any missing values\n",
    "print(f\"Shape of dataframe before dropping rows with missing values: {df.shape}\")\n",
    "df.dropna(inplace=True)\n",
    "print(f\"Shape of dataframe after dropping rows with missing values: {df.shape}\")\n",
    "\n",
    "# c) Print the final output\n",
    "print(\"\\nFinal dataframe:\\n\")\n",
    "print(df.to_markdown(index=False, numalign=\"left\", stralign=\"left\"))"
   ]
  },
  {
   "cell_type": "markdown",
   "metadata": {},
   "source": [
    "The columns `Email`, `Phone`, and `Date of birth` were successfully dropped from the dataset. Additionally, since there were no missing values in the dataset, the shape of the dataframe remained the same after attempting to drop rows with missing values.\n",
    "\n",
    "The final output after performing the required operations is shown above."
   ]
  },
  {
   "cell_type": "markdown",
   "metadata": {},
   "source": [
    "### 13. Create two NumPy arrays, x and y, each containing 100 random float values between 0 and 1. Perform the following tasks using Matplotlib and NumPy:\n",
    "\n",
    "- a) Create a scatter plot using x and y, setting the color of the points to red and the marker style to 'o'.\n",
    "\n",
    "- b) Add a horizontal line at y = 0.5 using a dashed line style and label it as 'y = 0.5'.\n",
    "\n",
    "- c) Add a vertical line at x = 0.5 using a dotted line style and label it as 'x = 0.5'.\n",
    "\n",
    "- d) Label the x-axis as 'X-axis' and the y-axis as 'Y-axis'.\n",
    "\n",
    "- e) Set the title of the plot as 'Advanced Scatter Plot of Random Values'.\n",
    "\n",
    "- f) Display a legend for the scatter plot, the horizontal line, and the vertical line."
   ]
  },
  {
   "cell_type": "code",
   "execution_count": 29,
   "metadata": {},
   "outputs": [
    {
     "data": {
      "image/png": "[encoded data removed]",
      "text/plain": [
       "<Figure size 1000x600 with 1 Axes>"
      ]
     },
     "metadata": {},
     "output_type": "display_data"
    }
   ],
   "source": [
    "import numpy as np\n",
    "import matplotlib.pyplot as plt\n",
    "\n",
    "# a) Create two NumPy arrays of random float values\n",
    "np.random.seed(42)  # For reproducibility\n",
    "x = np.random.rand(100)\n",
    "y = np.random.rand(100)\n",
    "\n",
    "# Create the scatter plot\n",
    "plt.figure(figsize=(10, 6))  # Adjust figure size if needed\n",
    "plt.scatter(x, y, color='red', marker='o', label='Random Data')  # Scatter plot with red circles\n",
    "\n",
    "# b) Add a horizontal line at y = 0.5\n",
    "plt.axhline(y=0.5, color='blue', linestyle='--', label='y = 0.5')  # Dashed blue horizontal line\n",
    "\n",
    "# c) Add a vertical line at x = 0.5\n",
    "plt.axvline(x=0.5, color='green', linestyle=':', label='x = 0.5')  # Dotted green vertical line\n",
    "\n",
    "# d) Label the axes\n",
    "plt.xlabel('X-axis', fontsize=12)\n",
    "plt.ylabel('Y-axis', fontsize=12)\n",
    "\n",
    "# e) Set the title\n",
    "plt.title('Advanced Scatter Plot of Random Values', fontsize=14)\n",
    "\n",
    "# f) Display the legend\n",
    "plt.legend()\n",
    "\n",
    "# Show the plot\n",
    "plt.grid(True)  # Add a grid for better visualization\n",
    "plt.show()"
   ]
  },
  {
   "cell_type": "markdown",
   "metadata": {},
   "source": [
    "### 14. Create a time-series dataset in a Pandas DataFrame with columns: 'Date', 'Temperature', 'Humidity' and Perform the following tasks using Matplotlib:\n",
    " - a) Plot the 'Temperature' and 'Humidity' on the same plot with different y-axes (left y-axis for 'Temperature' and right y-axis for 'Humidity').\n",
    " - b) Label the x-axis as 'Date'.\n",
    " - c) Set the title of the plot as 'Temperature and Humidity Over Time'."
   ]
  },
  {
   "cell_type": "markdown",
   "metadata": {},
   "source": [
    "- A synthetic dataset is generated with 'Date', 'Temperature', and 'Humidity' columns, simulating one year of data.\n",
    "- The 'Temperature' and 'Humidity' are plotted on the same graph but with separate y-axes for clarity.\n",
    "- The x-axis is labeled as 'Date', and the y-axes are labeled accordingly with units.\n",
    "- The plot is titled 'Temperature and Humidity Over Time', and a legend is included to distinguish the two lines."
   ]
  },
  {
   "cell_type": "code",
   "execution_count": 30,
   "metadata": {},
   "outputs": [
    {
     "data": {
      "image/png": "[encoded data removed]",
      "text/plain": [
       "<Figure size 1200x600 with 2 Axes>"
      ]
     },
     "metadata": {},
     "output_type": "display_data"
    }
   ],
   "source": [
    "import pandas as pd\n",
    "import numpy as np\n",
    "import matplotlib.pyplot as plt\n",
    "from datetime import datetime, timedelta\n",
    "\n",
    "# Create a date range for one year starting from today\n",
    "today = datetime.now()\n",
    "end_date = today + timedelta(days=365)\n",
    "date_range = pd.date_range(start=today, end=end_date)\n",
    "\n",
    "# Modify data generation to incorporate sinusoidal patterns and trends\n",
    "time = np.linspace(0, 365, len(date_range))  # Time in days\n",
    "\n",
    "# Temperature with yearly seasonality, daily fluctuations, and random noise\n",
    "temperature = (\n",
    "    25  # Average temperature\n",
    "    + 5 * np.sin(2 * np.pi * time / 365)  # Yearly seasonality\n",
    "    + 2 * np.sin(2 * np.pi * time / 24)  # Daily fluctuations\n",
    "    + 0.5 * np.random.randn(len(date_range))  # Random noise\n",
    ")\n",
    "\n",
    "# Humidity with yearly seasonality, daily fluctuations, and random noise\n",
    "humidity = (\n",
    "    60  # Average humidity\n",
    "    + 15 * np.cos(2 * np.pi * time / 365)  # Yearly seasonality\n",
    "    + 5 * np.cos(2 * np.pi * time / 24)  # Daily fluctuations\n",
    "    + 2 * np.random.randn(len(date_range))  # Random noise\n",
    ")\n",
    "\n",
    "# Create a DataFrame\n",
    "data = {'Date': date_range, 'Temperature': temperature, 'Humidity': humidity}\n",
    "df_time_series = pd.DataFrame(data)\n",
    "\n",
    "# Update the DataFrame with the modified data\n",
    "df_time_series['Temperature'] = temperature\n",
    "df_time_series['Humidity'] = humidity\n",
    "\n",
    "# Plot 'Temperature' on the left y-axis\n",
    "fig, ax1 = plt.subplots(figsize=(12, 6))\n",
    "ax1.plot(df_time_series['Date'], df_time_series['Temperature'], color='red', label='Temperature')\n",
    "ax1.set_xlabel('Date')\n",
    "ax1.set_ylabel('Temperature (°C)', color='red')\n",
    "\n",
    "# Create a twin y-axis for 'Humidity' on the right\n",
    "ax2 = ax1.twinx()\n",
    "\n",
    "# Plot 'Humidity' on the right y-axis\n",
    "ax2.plot(df_time_series['Date'], df_time_series['Humidity'], color='blue', label='Humidity')\n",
    "ax2.set_ylabel('Humidity (%)', color='blue')\n",
    "\n",
    "# Add title and legend\n",
    "plt.title('Temperature and Humidity Over Time')\n",
    "fig.legend(loc=\"upper right\")\n",
    "\n",
    "# Display the plot\n",
    "plt.tight_layout()\n",
    "plt.show()"
   ]
  },
  {
   "cell_type": "markdown",
   "metadata": {},
   "source": [
    "### 15. Create a NumPy array data containing 1000 samples from a normal distribution. Perform the following tasks using Matplotlib:\n",
    "- a) Plot a histogram of the data with 30 bins.\n",
    "\n",
    "- b) Overlay a line plot representing the normal distribution's probability density function (PDF).\n",
    "\n",
    "- c) Label the x-axis as 'Value' and the y-axis as 'Frequency/Probability'.\n",
    "\n",
    "- d) Set the title of the plot as 'Histogram with PDF Overlay'."
   ]
  },
  {
   "cell_type": "code",
   "execution_count": 31,
   "metadata": {},
   "outputs": [
    {
     "data": {
      "image/png": "[encoded data removed]",
      "text/plain": [
       "<Figure size 640x480 with 1 Axes>"
      ]
     },
     "metadata": {},
     "output_type": "display_data"
    }
   ],
   "source": [
    "import numpy as np\n",
    "import matplotlib.pyplot as plt\n",
    "\n",
    "# Generate 1000 samples from a normal distribution\n",
    "data = np.random.normal(0, 1, 1000)\n",
    "\n",
    "# a) Plot a histogram of the data with 30 bins\n",
    "plt.hist(data, bins=30, density=True, alpha=0.6, label='Histogram')\n",
    "\n",
    "# b) Overlay a line plot representing the normal distribution's PDF\n",
    "mean, std = data.mean(), data.std()\n",
    "x = np.arange(min(data), max(data), 0.1)\n",
    "pdf = (1 / (std * np.sqrt(2 * np.pi))) * np.exp(-0.5 * ((x - mean) / std) ** 2)\n",
    "plt.plot(x, pdf, 'r', label='PDF')\n",
    "\n",
    "# c) Label the x-axis as 'Value' and the y-axis as 'Frequency/Probability'\n",
    "plt.xlabel('Value')\n",
    "plt.ylabel('Frequency/Probability')\n",
    "\n",
    "# d) Set the title of the plot as 'Histogram with PDF Overlay'\n",
    "plt.title('Histogram with PDF Overlay')\n",
    "\n",
    "# Add legend\n",
    "plt.legend()\n",
    "\n",
    "# Display the plot\n",
    "plt.show()"
   ]
  },
  {
   "cell_type": "markdown",
   "metadata": {},
   "source": [
    "### 16. Set the title of the plot as 'Histogram with PDF Overlay'.\n",
    "\n",
    "(this is the error question, part of previous question that is already solved)"
   ]
  },
  {
   "cell_type": "markdown",
   "metadata": {},
   "source": [
    "### 17. Create a Seaborn scatter plot of two random arrays, color points based on their position relative to the origin (quadrants), add a legend, label the axes, and set the title as 'Quadrant-wise Scatter Plot'."
   ]
  },
  {
   "cell_type": "code",
   "execution_count": 32,
   "metadata": {},
   "outputs": [
    {
     "data": {
      "image/png": "[encoded data removed]",
      "text/plain": [
       "<Figure size 800x600 with 1 Axes>"
      ]
     },
     "metadata": {},
     "output_type": "display_data"
    }
   ],
   "source": [
    "import pandas as pd\n",
    "import numpy as np\n",
    "import matplotlib.pyplot as plt\n",
    "import seaborn as sns\n",
    "\n",
    "# Set seed for reproducibility\n",
    "np.random.seed(42)\n",
    "\n",
    "# Generate random arrays\n",
    "x = np.random.uniform(-1, 1, 100)\n",
    "y = np.random.uniform(-1, 1, 100)\n",
    "\n",
    "# Create DataFrame\n",
    "df = pd.DataFrame({'x': x, 'y': y})\n",
    "\n",
    "# Assign quadrants\n",
    "df['Quadrant'] = np.where((df['x'] > 0) & (df['y'] > 0), 'Quadrant I',\n",
    "                         np.where((df['x'] < 0) & (df['y'] > 0), 'Quadrant II',\n",
    "                                  np.where((df['x'] < 0) & (df['y'] < 0), 'Quadrant III', 'Quadrant IV')))\n",
    "\n",
    "# Create Seaborn scatter plot with quadrant separation lines\n",
    "plt.figure(figsize=(8, 6))\n",
    "sns.scatterplot(data=df, x='x', y='y', hue='Quadrant')\n",
    "\n",
    "# Add horizontal and vertical lines at 0\n",
    "plt.axhline(0, color='gray', linestyle='--')\n",
    "plt.axvline(0, color='gray', linestyle='--')\n",
    "\n",
    "# Add legend, labels, and title\n",
    "plt.legend()\n",
    "plt.xlabel('X-axis')\n",
    "plt.ylabel('Y-axis')\n",
    "plt.title('Quadrant-wise Scatter Plot')\n",
    "\n",
    "# Display the plot\n",
    "plt.show()"
   ]
  },
  {
   "cell_type": "markdown",
   "metadata": {},
   "source": [
    "### 18. With Bokeh, plot a line chart of a sine wave function, add grid lines, label the axes, and set the title as 'Sine Wave Function'."
   ]
  },
  {
   "cell_type": "markdown",
   "metadata": {},
   "source": [
    "**Explanation**\n",
    "\n",
    "1. **Import necessary modules:**\n",
    "    * `bokeh.plotting`: Contains the core plotting functions like `figure` and `show`\n",
    "    * `bokeh.io`: For outputting the plot in a Jupyter notebook \n",
    "    * `numpy`: For generating the numerical data for the sine wave\n",
    "\n",
    "2. **Enable Bokeh output:**\n",
    "    * `output_notebook()`: this line ensures the plot is displayed within the notebook itself.\n",
    "\n",
    "3. **Generate data:**\n",
    "    * `x = np.linspace(0, 10, 1000)`: Creates an array of 1000 evenly spaced values between 0 and 10, representing the x-axis values for our plot.\n",
    "    * `y = np.sin(x)`: Calculates the sine of each value in the `x` array, generating the corresponding y-values for the sine wave.\n",
    "\n",
    "4. **Create the plot:**\n",
    "    * `p = figure(...)`: Creates a Bokeh figure object with the specified title, axis labels, and dimensions.\n",
    "\n",
    "5. **Add the line plot:**\n",
    "    * `p.line(x, y, ...)`: Plots the sine wave using the `x` and `y` data, with additional styling options like line width, color, and transparency.\n",
    "\n",
    "6. **Add grid lines (optional):**\n",
    "    * `p.xgrid.grid_line_color = \"lightgrey\"` and `p.ygrid.grid_line_color = \"lightgrey\"`: Adds light grey grid lines to the plot for better visual clarity.\n",
    "\n",
    "7. **Show the plot:**\n",
    "    * `show(p)`: Renders and displays the Bokeh plot."
   ]
  },
  {
   "cell_type": "code",
   "execution_count": 33,
   "metadata": {},
   "outputs": [
    {
     "data": {
      "text/html": [
       "    <style>\n",
       "        .bk-notebook-logo {\n",
       "            display: block;\n",
       "            width: 20px;\n",
       "            height: 20px;\n",
       "            background-image: url(data:image/png;base64,iVBORw0KGgoAAAANSUhEUgAAABQAAAAUCAYAAACNiR0NAAAABHNCSVQICAgIfAhkiAAAAAlwSFlzAAALEgAACxIB0t1+/AAAABx0RVh0U29mdHdhcmUAQWRvYmUgRmlyZXdvcmtzIENTNui8sowAAAOkSURBVDiNjZRtaJVlGMd/1/08zzln5zjP1LWcU9N0NkN8m2CYjpgQYQXqSs0I84OLIC0hkEKoPtiH3gmKoiJDU7QpLgoLjLIQCpEsNJ1vqUOdO7ppbuec5+V+rj4ctwzd8IIbbi6u+8f1539dt3A78eXC7QizUF7gyV1fD1Yqg4JWz84yffhm0qkFqBogB9rM8tZdtwVsPUhWhGcFJngGeWrPzHm5oaMmkfEg1usvLFyc8jLRqDOMru7AyC8saQr7GG7f5fvDeH7Ej8CM66nIF+8yngt6HWaKh7k49Soy9nXurCi1o3qUbS3zWfrYeQDTB/Qj6kX6Ybhw4B+bOYoLKCC9H3Nu/leUTZ1JdRWkkn2ldcCamzrcf47KKXdAJllSlxAOkRgyHsGC/zRday5Qld9DyoM4/q/rUoy/CXh3jzOu3bHUVZeU+DEn8FInkPBFlu3+nW3Nw0mk6vCDiWg8CeJaxEwuHS3+z5RgY+YBR6V1Z1nxSOfoaPa4LASWxxdNp+VWTk7+4vzaou8v8PN+xo+KY2xsw6une2frhw05CTYOmQvsEhjhWjn0bmXPjpE1+kplmmkP3suftwTubK9Vq22qKmrBhpY4jvd5afdRA3wGjFAgcnTK2s4hY0/GPNIb0nErGMCRxWOOX64Z8RAC4oCXdklmEvcL8o0BfkNK4lUg9HTl+oPlQxdNo3Mg4Nv175e/1LDGzZen30MEjRUtmXSfiTVu1kK8W4txyV6BMKlbgk3lMwYCiusNy9fVfvvwMxv8Ynl6vxoByANLTWplvuj/nF9m2+PDtt1eiHPBr1oIfhCChQMBw6Aw0UulqTKZdfVvfG7VcfIqLG9bcldL/+pdWTLxLUy8Qq38heUIjh4XlzZxzQm19lLFlr8vdQ97rjZVOLf8nclzckbcD4wxXMidpX30sFd37Fv/GtwwhzhxGVAprjbg0gCAEeIgwCZyTV2Z1REEW8O4py0wsjeloKoMr6iCY6dP92H6Vw/oTyICIthibxjm/DfN9lVz8IqtqKYLUXfoKVMVQVVJOElGjrnnUt9T9wbgp8AyYKaGlqingHZU/uG2NTZSVqwHQTWkx9hxjkpWDaCg6Ckj5qebgBVbT3V3NNXMSiWSDdGV3hrtzla7J+duwPOToIg42ChPQOQjspnSlp1V+Gjdged7+8UN5CRAV7a5EdFNwCjEaBR27b3W890TE7g24NAP/mMDXRWrGoFPQI9ls/MWO2dWFAar/xcOIImbbpA3zgAAAABJRU5ErkJggg==);\n",
       "        }\n",
       "    </style>\n",
       "    <div>\n",
       "        <a href=\"https://bokeh.org\" target=\"_blank\" class=\"bk-notebook-logo\"></a>\n",
       "        <span id=\"e390a910-b761-49b4-973a-ae81c8c8f2c6\">Loading BokehJS ...</span>\n",
       "    </div>\n"
      ]
     },
     "metadata": {},
     "output_type": "display_data"
    },
    {
     "data": {
      "application/javascript": "'use strict';\n(function(root) {\n  function now() {\n    return new Date();\n  }\n\n  const force = true;\n\n  if (typeof root._bokeh_onload_callbacks === \"undefined\" || force === true) {\n    root._bokeh_onload_callbacks = [];\n    root._bokeh_is_loading = undefined;\n  }\n\nconst JS_MIME_TYPE = 'application/javascript';\n  const HTML_MIME_TYPE = 'text/html';\n  const EXEC_MIME_TYPE = 'application/vnd.bokehjs_exec.v0+json';\n  const CLASS_NAME = 'output_bokeh rendered_html';\n\n  /**\n   * Render data to the DOM node\n   */\n  function render(props, node) {\n    const script = document.createElement(\"script\");\n    node.appendChild(script);\n  }\n\n  /**\n   * Handle when an output is cleared or removed\n   */\n  function handleClearOutput(event, handle) {\n    function drop(id) {\n      const view = Bokeh.index.get_by_id(id)\n      if (view != null) {\n        view.model.document.clear()\n        Bokeh.index.delete(view)\n      }\n    }\n\n    const cell = handle.cell;\n\n    const id = cell.output_area._bokeh_element_id;\n    const server_id = cell.output_area._bokeh_server_id;\n\n    // Clean up Bokeh references\n    if (id != null) {\n      drop(id)\n    }\n\n    if (server_id !== undefined) {\n      // Clean up Bokeh references\n      const cmd_clean = \"from bokeh.io.state import curstate; print(curstate().uuid_to_server['\" + server_id + \"'].get_sessions()[0].document.roots[0]._id)\";\n      cell.notebook.kernel.execute(cmd_clean, {\n        iopub: {\n          output: function(msg) {\n            const id = msg.content.text.trim()\n            drop(id)\n          }\n        }\n      });\n      // Destroy server and session\n      const cmd_destroy = \"import bokeh.io.notebook as ion; ion.destroy_server('\" + server_id + \"')\";\n      cell.notebook.kernel.execute(cmd_destroy);\n    }\n  }\n\n  /**\n   * Handle when a new output is added\n   */\n  function handleAddOutput(event, handle) {\n    const output_area = handle.output_area;\n    const output = handle.output;\n\n    // limit handleAddOutput to display_data with EXEC_MIME_TYPE content only\n    if ((output.output_type != \"display_data\") || (!Object.prototype.hasOwnProperty.call(output.data, EXEC_MIME_TYPE))) {\n      return\n    }\n\n    const toinsert = output_area.element.find(\".\" + CLASS_NAME.split(' ')[0]);\n\n    if (output.metadata[EXEC_MIME_TYPE][\"id\"] !== undefined) {\n      toinsert[toinsert.length - 1].firstChild.textContent = output.data[JS_MIME_TYPE];\n      // store reference to embed id on output_area\n      output_area._bokeh_element_id = output.metadata[EXEC_MIME_TYPE][\"id\"];\n    }\n    if (output.metadata[EXEC_MIME_TYPE][\"server_id\"] !== undefined) {\n      const bk_div = document.createElement(\"div\");\n      bk_div.innerHTML = output.data[HTML_MIME_TYPE];\n      const script_attrs = bk_div.children[0].attributes;\n      for (let i = 0; i < script_attrs.length; i++) {\n        toinsert[toinsert.length - 1].firstChild.setAttribute(script_attrs[i].name, script_attrs[i].value);\n        toinsert[toinsert.length - 1].firstChild.textContent = bk_div.children[0].textContent\n      }\n      // store reference to server id on output_area\n      output_area._bokeh_server_id = output.metadata[EXEC_MIME_TYPE][\"server_id\"];\n    }\n  }\n\n  function register_renderer(events, OutputArea) {\n\n    function append_mime(data, metadata, element) {\n      // create a DOM node to render to\n      const toinsert = this.create_output_subarea(\n        metadata,\n        CLASS_NAME,\n        EXEC_MIME_TYPE\n      );\n      this.keyboard_manager.register_events(toinsert);\n      // Render to node\n      const props = {data: data, metadata: metadata[EXEC_MIME_TYPE]};\n      render(props, toinsert[toinsert.length - 1]);\n      element.append(toinsert);\n      return toinsert\n    }\n\n    /* Handle when an output is cleared or removed */\n    events.on('clear_output.CodeCell', handleClearOutput);\n    events.on('delete.Cell', handleClearOutput);\n\n    /* Handle when a new output is added */\n    events.on('output_added.OutputArea', handleAddOutput);\n\n    /**\n     * Register the mime type and append_mime function with output_area\n     */\n    OutputArea.prototype.register_mime_type(EXEC_MIME_TYPE, append_mime, {\n      /* Is output safe? */\n      safe: true,\n      /* Index of renderer in `output_area.display_order` */\n      index: 0\n    });\n  }\n\n  // register the mime type if in Jupyter Notebook environment and previously unregistered\n  if (root.Jupyter !== undefined) {\n    const events = require('base/js/events');\n    const OutputArea = require('notebook/js/outputarea').OutputArea;\n\n    if (OutputArea.prototype.mime_types().indexOf(EXEC_MIME_TYPE) == -1) {\n      register_renderer(events, OutputArea);\n    }\n  }\n  if (typeof (root._bokeh_timeout) === \"undefined\" || force === true) {\n    root._bokeh_timeout = Date.now() + 5000;\n    root._bokeh_failed_load = false;\n  }\n\n  const NB_LOAD_WARNING = {'data': {'text/html':\n     \"<div style='background-color: #fdd'>\\n\"+\n     \"<p>\\n\"+\n     \"BokehJS does not appear to have successfully loaded. If loading BokehJS from CDN, this \\n\"+\n     \"may be due to a slow or bad network connection. Possible fixes:\\n\"+\n     \"</p>\\n\"+\n     \"<ul>\\n\"+\n     \"<li>re-rerun `output_notebook()` to attempt to load from CDN again, or</li>\\n\"+\n     \"<li>use INLINE resources instead, as so:</li>\\n\"+\n     \"</ul>\\n\"+\n     \"<code>\\n\"+\n     \"from bokeh.resources import INLINE\\n\"+\n     \"output_notebook(resources=INLINE)\\n\"+\n     \"</code>\\n\"+\n     \"</div>\"}};\n\n  function display_loaded(error = null) {\n    const el = document.getElementById(\"e390a910-b761-49b4-973a-ae81c8c8f2c6\");\n    if (el != null) {\n      const html = (() => {\n        if (typeof root.Bokeh === \"undefined\") {\n          if (error == null) {\n            return \"BokehJS is loading ...\";\n          } else {\n            return \"BokehJS failed to load.\";\n          }\n        } else {\n          const prefix = `BokehJS ${root.Bokeh.version}`;\n          if (error == null) {\n            return `${prefix} successfully loaded.`;\n          } else {\n            return `${prefix} <b>encountered errors</b> while loading and may not function as expected.`;\n          }\n        }\n      })();\n      el.innerHTML = html;\n\n      if (error != null) {\n        const wrapper = document.createElement(\"div\");\n        wrapper.style.overflow = \"auto\";\n        wrapper.style.height = \"5em\";\n        wrapper.style.resize = \"vertical\";\n        const content = document.createElement(\"div\");\n        content.style.fontFamily = \"monospace\";\n        content.style.whiteSpace = \"pre-wrap\";\n        content.style.backgroundColor = \"rgb(255, 221, 221)\";\n        content.textContent = error.stack ?? error.toString();\n        wrapper.append(content);\n        el.append(wrapper);\n      }\n    } else if (Date.now() < root._bokeh_timeout) {\n      setTimeout(() => display_loaded(error), 100);\n    }\n  }\n\n  function run_callbacks() {\n    try {\n      root._bokeh_onload_callbacks.forEach(function(callback) {\n        if (callback != null)\n          callback();\n      });\n    } finally {\n      delete root._bokeh_onload_callbacks\n    }\n    console.debug(\"Bokeh: all callbacks have finished\");\n  }\n\n  function load_libs(css_urls, js_urls, callback) {\n    if (css_urls == null) css_urls = [];\n    if (js_urls == null) js_urls = [];\n\n    root._bokeh_onload_callbacks.push(callback);\n    if (root._bokeh_is_loading > 0) {\n      console.debug(\"Bokeh: BokehJS is being loaded, scheduling callback at\", now());\n      return null;\n    }\n    if (js_urls == null || js_urls.length === 0) {\n      run_callbacks();\n      return null;\n    }\n    console.debug(\"Bokeh: BokehJS not loaded, scheduling load and callback at\", now());\n    root._bokeh_is_loading = css_urls.length + js_urls.length;\n\n    function on_load() {\n      root._bokeh_is_loading--;\n      if (root._bokeh_is_loading === 0) {\n        console.debug(\"Bokeh: all BokehJS libraries/stylesheets loaded\");\n        run_callbacks()\n      }\n    }\n\n    function on_error(url) {\n      console.error(\"failed to load \" + url);\n    }\n\n    for (let i = 0; i < css_urls.length; i++) {\n      const url = css_urls[i];\n      const element = document.createElement(\"link\");\n      element.onload = on_load;\n      element.onerror = on_error.bind(null, url);\n      element.rel = \"stylesheet\";\n      element.type = \"text/css\";\n      element.href = url;\n      console.debug(\"Bokeh: injecting link tag for BokehJS stylesheet: \", url);\n      document.body.appendChild(element);\n    }\n\n    for (let i = 0; i < js_urls.length; i++) {\n      const url = js_urls[i];\n      const element = document.createElement('script');\n      element.onload = on_load;\n      element.onerror = on_error.bind(null, url);\n      element.async = false;\n      element.src = url;\n      console.debug(\"Bokeh: injecting script tag for BokehJS library: \", url);\n      document.head.appendChild(element);\n    }\n  };\n\n  function inject_raw_css(css) {\n    const element = document.createElement(\"style\");\n    element.appendChild(document.createTextNode(css));\n    document.body.appendChild(element);\n  }\n\n  const js_urls = [\"https://cdn.bokeh.org/bokeh/release/bokeh-3.4.1.min.js\", \"https://cdn.bokeh.org/bokeh/release/bokeh-gl-3.4.1.min.js\", \"https://cdn.bokeh.org/bokeh/release/bokeh-widgets-3.4.1.min.js\", \"https://cdn.bokeh.org/bokeh/release/bokeh-tables-3.4.1.min.js\", \"https://cdn.bokeh.org/bokeh/release/bokeh-mathjax-3.4.1.min.js\"];\n  const css_urls = [];\n\n  const inline_js = [    function(Bokeh) {\n      Bokeh.set_log_level(\"info\");\n    },\nfunction(Bokeh) {\n    }\n  ];\n\n  function run_inline_js() {\n    if (root.Bokeh !== undefined || force === true) {\n      try {\n            for (let i = 0; i < inline_js.length; i++) {\n      inline_js[i].call(root, root.Bokeh);\n    }\n\n      } catch (error) {display_loaded(error);throw error;\n      }if (force === true) {\n        display_loaded();\n      }} else if (Date.now() < root._bokeh_timeout) {\n      setTimeout(run_inline_js, 100);\n    } else if (!root._bokeh_failed_load) {\n      console.log(\"Bokeh: BokehJS failed to load within specified timeout.\");\n      root._bokeh_failed_load = true;\n    } else if (force !== true) {\n      const cell = $(document.getElementById(\"e390a910-b761-49b4-973a-ae81c8c8f2c6\")).parents('.cell').data().cell;\n      cell.output_area.append_execute_result(NB_LOAD_WARNING)\n    }\n  }\n\n  if (root._bokeh_is_loading === 0) {\n    console.debug(\"Bokeh: BokehJS loaded, going straight to plotting\");\n    run_inline_js();\n  } else {\n    load_libs(css_urls, js_urls, function() {\n      console.debug(\"Bokeh: BokehJS plotting callback run at\", now());\n      run_inline_js();\n    });\n  }\n}(window));",
      "application/vnd.bokehjs_load.v0+json": ""
     },
     "metadata": {},
     "output_type": "display_data"
    },
    {
     "data": {
      "text/html": [
       "\n",
       "  <div id=\"fd2561b3-3f54-4a1f-99dd-a47669d00f09\" data-root-id=\"p1001\" style=\"display: contents;\"></div>\n"
      ]
     },
     "metadata": {},
     "output_type": "display_data"
    },
    {
     "data": {
      "application/javascript": "(function(root) {\n  function embed_document(root) {\n  const docs_json = {\"c5d861e1-36e9-4606-baef-92420d48de86\":{\"version\":\"3.4.1\",\"title\":\"Bokeh Application\",\"roots\":[{\"type\":\"object\",\"name\":\"Figure\",\"id\":\"p1001\",\"attributes\":{\"width\":800,\"height\":400,\"x_range\":{\"type\":\"object\",\"name\":\"DataRange1d\",\"id\":\"p1002\"},\"y_range\":{\"type\":\"object\",\"name\":\"DataRange1d\",\"id\":\"p1003\"},\"x_scale\":{\"type\":\"object\",\"name\":\"LinearScale\",\"id\":\"p1011\"},\"y_scale\":{\"type\":\"object\",\"name\":\"LinearScale\",\"id\":\"p1012\"},\"title\":{\"type\":\"object\",\"name\":\"Title\",\"id\":\"p1004\",\"attributes\":{\"text\":\"Sine Wave Function\"}},\"outline_line_color\":null,\"renderers\":[{\"type\":\"object\",\"name\":\"GlyphRenderer\",\"id\":\"p1040\",\"attributes\":{\"data_source\":{\"type\":\"object\",\"name\":\"ColumnDataSource\",\"id\":\"p1034\",\"attributes\":{\"selected\":{\"type\":\"object\",\"name\":\"Selection\",\"id\":\"p1035\",\"attributes\":{\"indices\":[],\"line_indices\":[]}},\"selection_policy\":{\"type\":\"object\",\"name\":\"UnionRenderers\",\"id\":\"p1036\"},\"data\":{\"type\":\"map\",\"entries\":[[\"x\",{\"type\":\"ndarray\",\"array\":{\"type\":\"bytes\",\"data\":\"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\"},\"shape\":[1000],\"dtype\":\"float64\",\"order\":\"little\"}],[\"y\",{\"type\":\"ndarray\",\"array\":{\"type\":\"bytes\",\"data\":\"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\"},\"shape\":[1000],\"dtype\":\"float64\",\"order\":\"little\"}]]}}},\"view\":{\"type\":\"object\",\"name\":\"CDSView\",\"id\":\"p1041\",\"attributes\":{\"filter\":{\"type\":\"object\",\"name\":\"AllIndices\",\"id\":\"p1042\"}}},\"glyph\":{\"type\":\"object\",\"name\":\"Line\",\"id\":\"p1037\",\"attributes\":{\"x\":{\"type\":\"field\",\"field\":\"x\"},\"y\":{\"type\":\"field\",\"field\":\"y\"},\"line_color\":\"navy\",\"line_alpha\":0.7,\"line_width\":2}},\"nonselection_glyph\":{\"type\":\"object\",\"name\":\"Line\",\"id\":\"p1038\",\"attributes\":{\"x\":{\"type\":\"field\",\"field\":\"x\"},\"y\":{\"type\":\"field\",\"field\":\"y\"},\"line_color\":\"navy\",\"line_alpha\":0.1,\"line_width\":2}},\"muted_glyph\":{\"type\":\"object\",\"name\":\"Line\",\"id\":\"p1039\",\"attributes\":{\"x\":{\"type\":\"field\",\"field\":\"x\"},\"y\":{\"type\":\"field\",\"field\":\"y\"},\"line_color\":\"navy\",\"line_alpha\":0.2,\"line_width\":2}}}}],\"toolbar\":{\"type\":\"object\",\"name\":\"Toolbar\",\"id\":\"p1010\",\"attributes\":{\"tools\":[{\"type\":\"object\",\"name\":\"PanTool\",\"id\":\"p1023\"},{\"type\":\"object\",\"name\":\"WheelZoomTool\",\"id\":\"p1024\",\"attributes\":{\"renderers\":\"auto\"}},{\"type\":\"object\",\"name\":\"BoxZoomTool\",\"id\":\"p1025\",\"attributes\":{\"overlay\":{\"type\":\"object\",\"name\":\"BoxAnnotation\",\"id\":\"p1026\",\"attributes\":{\"syncable\":false,\"level\":\"overlay\",\"visible\":false,\"left\":{\"type\":\"number\",\"value\":\"nan\"},\"right\":{\"type\":\"number\",\"value\":\"nan\"},\"top\":{\"type\":\"number\",\"value\":\"nan\"},\"bottom\":{\"type\":\"number\",\"value\":\"nan\"},\"left_units\":\"canvas\",\"right_units\":\"canvas\",\"top_units\":\"canvas\",\"bottom_units\":\"canvas\",\"line_color\":\"black\",\"line_alpha\":1.0,\"line_width\":2,\"line_dash\":[4,4],\"fill_color\":\"lightgrey\",\"fill_alpha\":0.5}}}},{\"type\":\"object\",\"name\":\"SaveTool\",\"id\":\"p1031\"},{\"type\":\"object\",\"name\":\"ResetTool\",\"id\":\"p1032\"},{\"type\":\"object\",\"name\":\"HelpTool\",\"id\":\"p1033\"}]}},\"left\":[{\"type\":\"object\",\"name\":\"LinearAxis\",\"id\":\"p1018\",\"attributes\":{\"ticker\":{\"type\":\"object\",\"name\":\"BasicTicker\",\"id\":\"p1019\",\"attributes\":{\"mantissas\":[1,2,5]}},\"formatter\":{\"type\":\"object\",\"name\":\"BasicTickFormatter\",\"id\":\"p1020\"},\"axis_label\":\"sin(x)\",\"major_label_policy\":{\"type\":\"object\",\"name\":\"AllLabels\",\"id\":\"p1021\"}}}],\"below\":[{\"type\":\"object\",\"name\":\"LinearAxis\",\"id\":\"p1013\",\"attributes\":{\"ticker\":{\"type\":\"object\",\"name\":\"BasicTicker\",\"id\":\"p1014\",\"attributes\":{\"mantissas\":[1,2,5]}},\"formatter\":{\"type\":\"object\",\"name\":\"BasicTickFormatter\",\"id\":\"p1015\"},\"axis_label\":\"x\",\"major_label_policy\":{\"type\":\"object\",\"name\":\"AllLabels\",\"id\":\"p1016\"}}}],\"center\":[{\"type\":\"object\",\"name\":\"Grid\",\"id\":\"p1017\",\"attributes\":{\"axis\":{\"id\":\"p1013\"},\"grid_line_color\":null,\"grid_line_width\":0.5}},{\"type\":\"object\",\"name\":\"Grid\",\"id\":\"p1022\",\"attributes\":{\"dimension\":1,\"axis\":{\"id\":\"p1018\"},\"grid_line_color\":\"lightgrey\",\"grid_line_width\":0.5}},{\"type\":\"object\",\"name\":\"Legend\",\"id\":\"p1043\",\"attributes\":{\"location\":\"top_left\",\"click_policy\":\"hide\",\"items\":[{\"type\":\"object\",\"name\":\"LegendItem\",\"id\":\"p1044\",\"attributes\":{\"label\":{\"type\":\"value\",\"value\":\"sin(x)\"},\"renderers\":[{\"id\":\"p1040\"}]}}]}}],\"border_fill_color\":\"whitesmoke\"}}]}};\n  const render_items = [{\"docid\":\"c5d861e1-36e9-4606-baef-92420d48de86\",\"roots\":{\"p1001\":\"fd2561b3-3f54-4a1f-99dd-a47669d00f09\"},\"root_ids\":[\"p1001\"]}];\n  void root.Bokeh.embed.embed_items_notebook(docs_json, render_items);\n  }\n  if (root.Bokeh !== undefined) {\n    embed_document(root);\n  } else {\n    let attempts = 0;\n    const timer = setInterval(function(root) {\n      if (root.Bokeh !== undefined) {\n        clearInterval(timer);\n        embed_document(root);\n      } else {\n        attempts++;\n        if (attempts > 100) {\n          clearInterval(timer);\n          console.log(\"Bokeh: ERROR: Unable to run BokehJS code because BokehJS library is missing\");\n        }\n      }\n    }, 10, root)\n  }\n})(window);",
      "application/vnd.bokehjs_exec.v0+json": ""
     },
     "metadata": {
      "application/vnd.bokehjs_exec.v0+json": {
       "id": "p1001"
      }
     },
     "output_type": "display_data"
    }
   ],
   "source": [
    "from bokeh.plotting import figure, show\n",
    "from bokeh.io import output_notebook\n",
    "import numpy as np\n",
    "\n",
    "# Enable Bokeh output in the notebook (if you're using a Jupyter notebook)\n",
    "output_notebook()\n",
    "\n",
    "# Generate data points for the sine wave\n",
    "x = np.linspace(0, 10, 1000)  # 1000 points evenly spaced between 0 and 10\n",
    "y = np.sin(x)\n",
    "\n",
    "# Create the Bokeh plot\n",
    "p = figure(title=\"Sine Wave Function\", x_axis_label=\"x\", y_axis_label=\"sin(x)\", width=800, height=400)\n",
    "\n",
    "# Add the line plot of the sine wave with a legend label\n",
    "p.line(x, y, line_width=2, color=\"navy\", alpha=0.7, legend_label=\"sin(x)\") \n",
    "\n",
    "# Customize the legend\n",
    "p.legend.location = \"top_left\"  # Position the legend\n",
    "p.legend.click_policy=\"hide\"  # Allow hiding the legend by clicking on it\n",
    "\n",
    "# Add grid lines\n",
    "p.xgrid.grid_line_color = None\n",
    "p.ygrid.grid_line_color = \"lightgrey\"\n",
    "p.grid.grid_line_width = 0.5  # Make grid lines thinner\n",
    "\n",
    "# Style the plot area\n",
    "p.outline_line_color = None  # Remove the plot outline\n",
    "p.border_fill_color = \"whitesmoke\"  # Add a subtle background color\n",
    "\n",
    "# Show the plot\n",
    "show(p)"
   ]
  },
  {
   "cell_type": "markdown",
   "metadata": {},
   "source": [
    "### 19. Using Bokeh, generate a bar chart of randomly generated categorical data, color bars based on their values, add hover tooltips to display exact values, label the axes, and set the title as 'Random Categorical Bar Chart'."
   ]
  },
  {
   "cell_type": "code",
   "execution_count": 34,
   "metadata": {},
   "outputs": [
    {
     "data": {
      "text/html": [
       "\n",
       "  <div id=\"b2f161d2-30b5-414d-94e5-41915333caf2\" data-root-id=\"p1050\" style=\"display: contents;\"></div>\n"
      ]
     },
     "metadata": {},
     "output_type": "display_data"
    },
    {
     "data": {
      "application/javascript": "(function(root) {\n  function embed_document(root) {\n  const docs_json = {\"20f9abd5-5b19-4020-ad0f-0b233719ab2c\":{\"version\":\"3.4.1\",\"title\":\"Bokeh Application\",\"roots\":[{\"type\":\"object\",\"name\":\"Figure\",\"id\":\"p1050\",\"attributes\":{\"x_range\":{\"type\":\"object\",\"name\":\"FactorRange\",\"id\":\"p1060\",\"attributes\":{\"factors\":[\"Category A\",\"Category B\",\"Category C\",\"Category D\",\"Category E\"]}},\"y_range\":{\"type\":\"object\",\"name\":\"DataRange1d\",\"id\":\"p1052\"},\"x_scale\":{\"type\":\"object\",\"name\":\"CategoricalScale\",\"id\":\"p1061\"},\"y_scale\":{\"type\":\"object\",\"name\":\"LinearScale\",\"id\":\"p1062\"},\"title\":{\"type\":\"object\",\"name\":\"Title\",\"id\":\"p1053\",\"attributes\":{\"text\":\"Random Categorical Bar Chart\",\"text_font_size\":\"14pt\",\"align\":\"center\"}},\"renderers\":[{\"type\":\"object\",\"name\":\"GlyphRenderer\",\"id\":\"p1080\",\"attributes\":{\"data_source\":{\"type\":\"object\",\"name\":\"ColumnDataSource\",\"id\":\"p1047\",\"attributes\":{\"selected\":{\"type\":\"object\",\"name\":\"Selection\",\"id\":\"p1048\",\"attributes\":{\"indices\":[],\"line_indices\":[]}},\"selection_policy\":{\"type\":\"object\",\"name\":\"UnionRenderers\",\"id\":\"p1049\"},\"data\":{\"type\":\"map\",\"entries\":[[\"categories\",[\"Category A\",\"Category B\",\"Category C\",\"Category D\",\"Category E\"]],[\"values\",[26,26,56,91,38]]]}}},\"view\":{\"type\":\"object\",\"name\":\"CDSView\",\"id\":\"p1081\",\"attributes\":{\"filter\":{\"type\":\"object\",\"name\":\"AllIndices\",\"id\":\"p1082\"}}},\"glyph\":{\"type\":\"object\",\"name\":\"VBar\",\"id\":\"p1077\",\"attributes\":{\"x\":{\"type\":\"field\",\"field\":\"categories\"},\"width\":{\"type\":\"value\",\"value\":0.9},\"top\":{\"type\":\"field\",\"field\":\"values\"},\"line_color\":{\"type\":\"value\",\"value\":\"white\"},\"fill_color\":{\"type\":\"field\",\"field\":\"categories\",\"transform\":{\"type\":\"object\",\"name\":\"CategoricalColorMapper\",\"id\":\"p1073\",\"attributes\":{\"palette\":[\"#3288bd\",\"#99d594\",\"#e6f598\",\"#fee08b\",\"#fc8d59\",\"#d53e4f\"],\"factors\":[\"Category A\",\"Category B\",\"Category C\",\"Category D\",\"Category E\"]}}}}},\"nonselection_glyph\":{\"type\":\"object\",\"name\":\"VBar\",\"id\":\"p1078\",\"attributes\":{\"x\":{\"type\":\"field\",\"field\":\"categories\"},\"width\":{\"type\":\"value\",\"value\":0.9},\"top\":{\"type\":\"field\",\"field\":\"values\"},\"line_color\":{\"type\":\"value\",\"value\":\"white\"},\"line_alpha\":{\"type\":\"value\",\"value\":0.1},\"fill_color\":{\"type\":\"field\",\"field\":\"categories\",\"transform\":{\"id\":\"p1073\"}},\"fill_alpha\":{\"type\":\"value\",\"value\":0.1},\"hatch_alpha\":{\"type\":\"value\",\"value\":0.1}}},\"muted_glyph\":{\"type\":\"object\",\"name\":\"VBar\",\"id\":\"p1079\",\"attributes\":{\"x\":{\"type\":\"field\",\"field\":\"categories\"},\"width\":{\"type\":\"value\",\"value\":0.9},\"top\":{\"type\":\"field\",\"field\":\"values\"},\"line_color\":{\"type\":\"value\",\"value\":\"white\"},\"line_alpha\":{\"type\":\"value\",\"value\":0.2},\"fill_color\":{\"type\":\"field\",\"field\":\"categories\",\"transform\":{\"id\":\"p1073\"}},\"fill_alpha\":{\"type\":\"value\",\"value\":0.2},\"hatch_alpha\":{\"type\":\"value\",\"value\":0.2}}}}}],\"toolbar\":{\"type\":\"object\",\"name\":\"Toolbar\",\"id\":\"p1059\",\"attributes\":{\"tools\":[{\"type\":\"object\",\"name\":\"HoverTool\",\"id\":\"p1085\",\"attributes\":{\"renderers\":\"auto\",\"tooltips\":[[\"Category\",\"@categories\"],[\"Value\",\"@values\"]]}}]}},\"toolbar_location\":null,\"left\":[{\"type\":\"object\",\"name\":\"LinearAxis\",\"id\":\"p1068\",\"attributes\":{\"ticker\":{\"type\":\"object\",\"name\":\"BasicTicker\",\"id\":\"p1069\",\"attributes\":{\"mantissas\":[1,2,5]}},\"formatter\":{\"type\":\"object\",\"name\":\"BasicTickFormatter\",\"id\":\"p1070\"},\"axis_label\":\"Values\",\"major_label_policy\":{\"type\":\"object\",\"name\":\"AllLabels\",\"id\":\"p1071\"}}}],\"below\":[{\"type\":\"object\",\"name\":\"CategoricalAxis\",\"id\":\"p1063\",\"attributes\":{\"ticker\":{\"type\":\"object\",\"name\":\"CategoricalTicker\",\"id\":\"p1064\"},\"formatter\":{\"type\":\"object\",\"name\":\"CategoricalTickFormatter\",\"id\":\"p1065\"},\"axis_label\":\"Categories\",\"major_label_policy\":{\"type\":\"object\",\"name\":\"AllLabels\",\"id\":\"p1066\"}}}],\"center\":[{\"type\":\"object\",\"name\":\"Grid\",\"id\":\"p1067\",\"attributes\":{\"axis\":{\"id\":\"p1063\"}}},{\"type\":\"object\",\"name\":\"Grid\",\"id\":\"p1072\",\"attributes\":{\"dimension\":1,\"axis\":{\"id\":\"p1068\"}}},{\"type\":\"object\",\"name\":\"Legend\",\"id\":\"p1083\",\"attributes\":{\"location\":\"top_center\",\"orientation\":\"horizontal\",\"title\":\"Categories\",\"label_text_font_size\":\"10pt\",\"items\":[{\"type\":\"object\",\"name\":\"LegendItem\",\"id\":\"p1084\",\"attributes\":{\"label\":{\"type\":\"field\",\"field\":\"categories\"},\"renderers\":[{\"id\":\"p1080\"}]}}]}}]}}]}};\n  const render_items = [{\"docid\":\"20f9abd5-5b19-4020-ad0f-0b233719ab2c\",\"roots\":{\"p1050\":\"b2f161d2-30b5-414d-94e5-41915333caf2\"},\"root_ids\":[\"p1050\"]}];\n  void root.Bokeh.embed.embed_items_notebook(docs_json, render_items);\n  }\n  if (root.Bokeh !== undefined) {\n    embed_document(root);\n  } else {\n    let attempts = 0;\n    const timer = setInterval(function(root) {\n      if (root.Bokeh !== undefined) {\n        clearInterval(timer);\n        embed_document(root);\n      } else {\n        attempts++;\n        if (attempts > 100) {\n          clearInterval(timer);\n          console.log(\"Bokeh: ERROR: Unable to run BokehJS code because BokehJS library is missing\");\n        }\n      }\n    }, 10, root)\n  }\n})(window);",
      "application/vnd.bokehjs_exec.v0+json": ""
     },
     "metadata": {
      "application/vnd.bokehjs_exec.v0+json": {
       "id": "p1050"
      }
     },
     "output_type": "display_data"
    }
   ],
   "source": [
    "# Import necessary libraries from Bokeh\n",
    "from bokeh.io import show\n",
    "from bokeh.plotting import figure\n",
    "from bokeh.models import ColumnDataSource, HoverTool\n",
    "from bokeh.transform import factor_cmap\n",
    "from bokeh.palettes import Spectral6\n",
    "import random\n",
    "\n",
    "# Generate random categorical data\n",
    "categories = ['Category A', 'Category B', 'Category C', 'Category D', 'Category E']\n",
    "values = [random.randint(1, 100) for _ in categories]\n",
    "\n",
    "# Create a ColumnDataSource, which is the data structure Bokeh uses to pass data to plots\n",
    "source = ColumnDataSource(data=dict(categories=categories, values=values))\n",
    "\n",
    "# Create a figure object, which is the canvas where the plot will be drawn\n",
    "p = figure(x_range=categories, \n",
    "           title=\"Random Categorical Bar Chart\", \n",
    "           toolbar_location=None, \n",
    "           tools=\"\")\n",
    "\n",
    "# Add a vertical bar chart to the figure\n",
    "# factor_cmap is used to color the bars based on their values\n",
    "p.vbar(x='categories', \n",
    "       top='values', \n",
    "       width=0.9, \n",
    "       source=source, \n",
    "       legend_field=\"categories\", \n",
    "       line_color='white', \n",
    "       fill_color=factor_cmap('categories', palette=Spectral6, factors=categories))\n",
    "\n",
    "# Add tooltips that display the exact values when hovering over the bars\n",
    "hover = HoverTool()\n",
    "hover.tooltips = [(\"Category\", \"@categories\"), (\"Value\", \"@values\")]\n",
    "p.add_tools(hover)\n",
    "\n",
    "# Label the axes\n",
    "p.xaxis.axis_label = \"Categories\"\n",
    "p.yaxis.axis_label = \"Values\"\n",
    "\n",
    "# Customize the title of the plot for better presentation\n",
    "p.title.text_font_size = '14pt'\n",
    "p.title.align = 'center'\n",
    "\n",
    "# Customize the legend to make the plot more readable\n",
    "p.legend.title = \"Categories\"\n",
    "p.legend.label_text_font_size = \"10pt\"\n",
    "p.legend.orientation = \"horizontal\"\n",
    "p.legend.location = \"top_center\"\n",
    "\n",
    "# Show the plot\n",
    "show(p)"
   ]
  },
  {
   "cell_type": "markdown",
   "metadata": {},
   "source": [
    "### 20. Using Plotly, create a basic line plot of a randomly generated dataset, label the axes, and set the title as 'Simple Line Plot'."
   ]
  },
  {
   "cell_type": "code",
   "execution_count": 35,
   "metadata": {},
   "outputs": [
    {
     "data": {
      "application/vnd.plotly.v1+json": {
       "config": {
        "plotlyServerURL": "https://plot.ly"
       },
       "data": [
        {
         "mode": "lines",
         "name": "Random Data",
         "type": "scatter",
         "x": [
          0,
          0.20408163265306123,
          0.40816326530612246,
          0.6122448979591837,
          0.8163265306122449,
          1.0204081632653061,
          1.2244897959183674,
          1.4285714285714286,
          1.6326530612244898,
          1.836734693877551,
          2.0408163265306123,
          2.2448979591836737,
          2.4489795918367347,
          2.6530612244897958,
          2.857142857142857,
          3.0612244897959187,
          3.2653061224489797,
          3.4693877551020407,
          3.673469387755102,
          3.8775510204081636,
          4.081632653061225,
          4.285714285714286,
          4.4897959183673475,
          4.6938775510204085,
          4.8979591836734695,
          5.1020408163265305,
          5.3061224489795915,
          5.510204081632653,
          5.714285714285714,
          5.918367346938775,
          6.122448979591837,
          6.326530612244898,
          6.530612244897959,
          6.73469387755102,
          6.938775510204081,
          7.142857142857143,
          7.346938775510204,
          7.551020408163265,
          7.755102040816327,
          7.959183673469388,
          8.16326530612245,
          8.36734693877551,
          8.571428571428571,
          8.775510204081632,
          8.979591836734695,
          9.183673469387756,
          9.387755102040817,
          9.591836734693878,
          9.795918367346939,
          10
         ],
         "y": [
          0.4967141530112327,
          -0.13826430117118466,
          0.6476885381006925,
          1.5230298564080254,
          -0.23415337472333597,
          -0.23413695694918055,
          1.5792128155073915,
          0.7674347291529088,
          -0.4694743859349521,
          0.5425600435859647,
          -0.46341769281246226,
          -0.46572975357025687,
          0.24196227156603412,
          -1.913280244657798,
          -1.7249178325130328,
          -0.5622875292409727,
          -1.0128311203344238,
          0.3142473325952739,
          -0.9080240755212109,
          -1.4123037013352915,
          1.465648768921554,
          -0.22577630048653566,
          0.06752820468792384,
          -1.4247481862134568,
          -0.5443827245251827,
          0.11092258970986608,
          -1.1509935774223028,
          0.37569801834567196,
          -0.600638689918805,
          -0.2916937497932768,
          -0.6017066122293969,
          1.8522781845089378,
          -0.013497224737933921,
          -1.0577109289559004,
          0.822544912103189,
          -1.2208436499710222,
          0.2088635950047554,
          -1.9596701238797756,
          -1.3281860488984305,
          0.19686123586912352,
          0.7384665799954104,
          0.1713682811899705,
          -0.11564828238824053,
          -0.3011036955892888,
          -1.4785219903674274,
          -0.7198442083947086,
          -0.4606387709597875,
          1.0571222262189157,
          0.3436182895684614,
          -1.763040155362734
         ]
        }
       ],
       "layout": {
        "template": {
         "data": {
          "bar": [
           {
            "error_x": {
             "color": "#2a3f5f"
            },
            "error_y": {
             "color": "#2a3f5f"
            },
            "marker": {
             "line": {
              "color": "#E5ECF6",
              "width": 0.5
             },
             "pattern": {
              "fillmode": "overlay",
              "size": 10,
              "solidity": 0.2
             }
            },
            "type": "bar"
           }
          ],
          "barpolar": [
           {
            "marker": {
             "line": {
              "color": "#E5ECF6",
              "width": 0.5
             },
             "pattern": {
              "fillmode": "overlay",
              "size": 10,
              "solidity": 0.2
             }
            },
            "type": "barpolar"
           }
          ],
          "carpet": [
           {
            "aaxis": {
             "endlinecolor": "#2a3f5f",
             "gridcolor": "white",
             "linecolor": "white",
             "minorgridcolor": "white",
             "startlinecolor": "#2a3f5f"
            },
            "baxis": {
             "endlinecolor": "#2a3f5f",
             "gridcolor": "white",
             "linecolor": "white",
             "minorgridcolor": "white",
             "startlinecolor": "#2a3f5f"
            },
            "type": "carpet"
           }
          ],
          "choropleth": [
           {
            "colorbar": {
             "outlinewidth": 0,
             "ticks": ""
            },
            "type": "choropleth"
           }
          ],
          "contour": [
           {
            "colorbar": {
             "outlinewidth": 0,
             "ticks": ""
            },
            "colorscale": [
             [
              0,
              "#0d0887"
             ],
             [
              0.1111111111111111,
              "#46039f"
             ],
             [
              0.2222222222222222,
              "#7201a8"
             ],
             [
              0.3333333333333333,
              "#9c179e"
             ],
             [
              0.4444444444444444,
              "#bd3786"
             ],
             [
              0.5555555555555556,
              "#d8576b"
             ],
             [
              0.6666666666666666,
              "#ed7953"
             ],
             [
              0.7777777777777778,
              "#fb9f3a"
             ],
             [
              0.8888888888888888,
              "#fdca26"
             ],
             [
              1,
              "#f0f921"
             ]
            ],
            "type": "contour"
           }
          ],
          "contourcarpet": [
           {
            "colorbar": {
             "outlinewidth": 0,
             "ticks": ""
            },
            "type": "contourcarpet"
           }
          ],
          "heatmap": [
           {
            "colorbar": {
             "outlinewidth": 0,
             "ticks": ""
            },
            "colorscale": [
             [
              0,
              "#0d0887"
             ],
             [
              0.1111111111111111,
              "#46039f"
             ],
             [
              0.2222222222222222,
              "#7201a8"
             ],
             [
              0.3333333333333333,
              "#9c179e"
             ],
             [
              0.4444444444444444,
              "#bd3786"
             ],
             [
              0.5555555555555556,
              "#d8576b"
             ],
             [
              0.6666666666666666,
              "#ed7953"
             ],
             [
              0.7777777777777778,
              "#fb9f3a"
             ],
             [
              0.8888888888888888,
              "#fdca26"
             ],
             [
              1,
              "#f0f921"
             ]
            ],
            "type": "heatmap"
           }
          ],
          "heatmapgl": [
           {
            "colorbar": {
             "outlinewidth": 0,
             "ticks": ""
            },
            "colorscale": [
             [
              0,
              "#0d0887"
             ],
             [
              0.1111111111111111,
              "#46039f"
             ],
             [
              0.2222222222222222,
              "#7201a8"
             ],
             [
              0.3333333333333333,
              "#9c179e"
             ],
             [
              0.4444444444444444,
              "#bd3786"
             ],
             [
              0.5555555555555556,
              "#d8576b"
             ],
             [
              0.6666666666666666,
              "#ed7953"
             ],
             [
              0.7777777777777778,
              "#fb9f3a"
             ],
             [
              0.8888888888888888,
              "#fdca26"
             ],
             [
              1,
              "#f0f921"
             ]
            ],
            "type": "heatmapgl"
           }
          ],
          "histogram": [
           {
            "marker": {
             "pattern": {
              "fillmode": "overlay",
              "size": 10,
              "solidity": 0.2
             }
            },
            "type": "histogram"
           }
          ],
          "histogram2d": [
           {
            "colorbar": {
             "outlinewidth": 0,
             "ticks": ""
            },
            "colorscale": [
             [
              0,
              "#0d0887"
             ],
             [
              0.1111111111111111,
              "#46039f"
             ],
             [
              0.2222222222222222,
              "#7201a8"
             ],
             [
              0.3333333333333333,
              "#9c179e"
             ],
             [
              0.4444444444444444,
              "#bd3786"
             ],
             [
              0.5555555555555556,
              "#d8576b"
             ],
             [
              0.6666666666666666,
              "#ed7953"
             ],
             [
              0.7777777777777778,
              "#fb9f3a"
             ],
             [
              0.8888888888888888,
              "#fdca26"
             ],
             [
              1,
              "#f0f921"
             ]
            ],
            "type": "histogram2d"
           }
          ],
          "histogram2dcontour": [
           {
            "colorbar": {
             "outlinewidth": 0,
             "ticks": ""
            },
            "colorscale": [
             [
              0,
              "#0d0887"
             ],
             [
              0.1111111111111111,
              "#46039f"
             ],
             [
              0.2222222222222222,
              "#7201a8"
             ],
             [
              0.3333333333333333,
              "#9c179e"
             ],
             [
              0.4444444444444444,
              "#bd3786"
             ],
             [
              0.5555555555555556,
              "#d8576b"
             ],
             [
              0.6666666666666666,
              "#ed7953"
             ],
             [
              0.7777777777777778,
              "#fb9f3a"
             ],
             [
              0.8888888888888888,
              "#fdca26"
             ],
             [
              1,
              "#f0f921"
             ]
            ],
            "type": "histogram2dcontour"
           }
          ],
          "mesh3d": [
           {
            "colorbar": {
             "outlinewidth": 0,
             "ticks": ""
            },
            "type": "mesh3d"
           }
          ],
          "parcoords": [
           {
            "line": {
             "colorbar": {
              "outlinewidth": 0,
              "ticks": ""
             }
            },
            "type": "parcoords"
           }
          ],
          "pie": [
           {
            "automargin": true,
            "type": "pie"
           }
          ],
          "scatter": [
           {
            "fillpattern": {
             "fillmode": "overlay",
             "size": 10,
             "solidity": 0.2
            },
            "type": "scatter"
           }
          ],
          "scatter3d": [
           {
            "line": {
             "colorbar": {
              "outlinewidth": 0,
              "ticks": ""
             }
            },
            "marker": {
             "colorbar": {
              "outlinewidth": 0,
              "ticks": ""
             }
            },
            "type": "scatter3d"
           }
          ],
          "scattercarpet": [
           {
            "marker": {
             "colorbar": {
              "outlinewidth": 0,
              "ticks": ""
             }
            },
            "type": "scattercarpet"
           }
          ],
          "scattergeo": [
           {
            "marker": {
             "colorbar": {
              "outlinewidth": 0,
              "ticks": ""
             }
            },
            "type": "scattergeo"
           }
          ],
          "scattergl": [
           {
            "marker": {
             "colorbar": {
              "outlinewidth": 0,
              "ticks": ""
             }
            },
            "type": "scattergl"
           }
          ],
          "scattermapbox": [
           {
            "marker": {
             "colorbar": {
              "outlinewidth": 0,
              "ticks": ""
             }
            },
            "type": "scattermapbox"
           }
          ],
          "scatterpolar": [
           {
            "marker": {
             "colorbar": {
              "outlinewidth": 0,
              "ticks": ""
             }
            },
            "type": "scatterpolar"
           }
          ],
          "scatterpolargl": [
           {
            "marker": {
             "colorbar": {
              "outlinewidth": 0,
              "ticks": ""
             }
            },
            "type": "scatterpolargl"
           }
          ],
          "scatterternary": [
           {
            "marker": {
             "colorbar": {
              "outlinewidth": 0,
              "ticks": ""
             }
            },
            "type": "scatterternary"
           }
          ],
          "surface": [
           {
            "colorbar": {
             "outlinewidth": 0,
             "ticks": ""
            },
            "colorscale": [
             [
              0,
              "#0d0887"
             ],
             [
              0.1111111111111111,
              "#46039f"
             ],
             [
              0.2222222222222222,
              "#7201a8"
             ],
             [
              0.3333333333333333,
              "#9c179e"
             ],
             [
              0.4444444444444444,
              "#bd3786"
             ],
             [
              0.5555555555555556,
              "#d8576b"
             ],
             [
              0.6666666666666666,
              "#ed7953"
             ],
             [
              0.7777777777777778,
              "#fb9f3a"
             ],
             [
              0.8888888888888888,
              "#fdca26"
             ],
             [
              1,
              "#f0f921"
             ]
            ],
            "type": "surface"
           }
          ],
          "table": [
           {
            "cells": {
             "fill": {
              "color": "#EBF0F8"
             },
             "line": {
              "color": "white"
             }
            },
            "header": {
             "fill": {
              "color": "#C8D4E3"
             },
             "line": {
              "color": "white"
             }
            },
            "type": "table"
           }
          ]
         },
         "layout": {
          "annotationdefaults": {
           "arrowcolor": "#2a3f5f",
           "arrowhead": 0,
           "arrowwidth": 1
          },
          "autotypenumbers": "strict",
          "coloraxis": {
           "colorbar": {
            "outlinewidth": 0,
            "ticks": ""
           }
          },
          "colorscale": {
           "diverging": [
            [
             0,
             "#8e0152"
            ],
            [
             0.1,
             "#c51b7d"
            ],
            [
             0.2,
             "#de77ae"
            ],
            [
             0.3,
             "#f1b6da"
            ],
            [
             0.4,
             "#fde0ef"
            ],
            [
             0.5,
             "#f7f7f7"
            ],
            [
             0.6,
             "#e6f5d0"
            ],
            [
             0.7,
             "#b8e186"
            ],
            [
             0.8,
             "#7fbc41"
            ],
            [
             0.9,
             "#4d9221"
            ],
            [
             1,
             "#276419"
            ]
           ],
           "sequential": [
            [
             0,
             "#0d0887"
            ],
            [
             0.1111111111111111,
             "#46039f"
            ],
            [
             0.2222222222222222,
             "#7201a8"
            ],
            [
             0.3333333333333333,
             "#9c179e"
            ],
            [
             0.4444444444444444,
             "#bd3786"
            ],
            [
             0.5555555555555556,
             "#d8576b"
            ],
            [
             0.6666666666666666,
             "#ed7953"
            ],
            [
             0.7777777777777778,
             "#fb9f3a"
            ],
            [
             0.8888888888888888,
             "#fdca26"
            ],
            [
             1,
             "#f0f921"
            ]
           ],
           "sequentialminus": [
            [
             0,
             "#0d0887"
            ],
            [
             0.1111111111111111,
             "#46039f"
            ],
            [
             0.2222222222222222,
             "#7201a8"
            ],
            [
             0.3333333333333333,
             "#9c179e"
            ],
            [
             0.4444444444444444,
             "#bd3786"
            ],
            [
             0.5555555555555556,
             "#d8576b"
            ],
            [
             0.6666666666666666,
             "#ed7953"
            ],
            [
             0.7777777777777778,
             "#fb9f3a"
            ],
            [
             0.8888888888888888,
             "#fdca26"
            ],
            [
             1,
             "#f0f921"
            ]
           ]
          },
          "colorway": [
           "#636efa",
           "#EF553B",
           "#00cc96",
           "#ab63fa",
           "#FFA15A",
           "#19d3f3",
           "#FF6692",
           "#B6E880",
           "#FF97FF",
           "#FECB52"
          ],
          "font": {
           "color": "#2a3f5f"
          },
          "geo": {
           "bgcolor": "white",
           "lakecolor": "white",
           "landcolor": "#E5ECF6",
           "showlakes": true,
           "showland": true,
           "subunitcolor": "white"
          },
          "hoverlabel": {
           "align": "left"
          },
          "hovermode": "closest",
          "mapbox": {
           "style": "light"
          },
          "paper_bgcolor": "white",
          "plot_bgcolor": "#E5ECF6",
          "polar": {
           "angularaxis": {
            "gridcolor": "white",
            "linecolor": "white",
            "ticks": ""
           },
           "bgcolor": "#E5ECF6",
           "radialaxis": {
            "gridcolor": "white",
            "linecolor": "white",
            "ticks": ""
           }
          },
          "scene": {
           "xaxis": {
            "backgroundcolor": "#E5ECF6",
            "gridcolor": "white",
            "gridwidth": 2,
            "linecolor": "white",
            "showbackground": true,
            "ticks": "",
            "zerolinecolor": "white"
           },
           "yaxis": {
            "backgroundcolor": "#E5ECF6",
            "gridcolor": "white",
            "gridwidth": 2,
            "linecolor": "white",
            "showbackground": true,
            "ticks": "",
            "zerolinecolor": "white"
           },
           "zaxis": {
            "backgroundcolor": "#E5ECF6",
            "gridcolor": "white",
            "gridwidth": 2,
            "linecolor": "white",
            "showbackground": true,
            "ticks": "",
            "zerolinecolor": "white"
           }
          },
          "shapedefaults": {
           "line": {
            "color": "#2a3f5f"
           }
          },
          "ternary": {
           "aaxis": {
            "gridcolor": "white",
            "linecolor": "white",
            "ticks": ""
           },
           "baxis": {
            "gridcolor": "white",
            "linecolor": "white",
            "ticks": ""
           },
           "bgcolor": "#E5ECF6",
           "caxis": {
            "gridcolor": "white",
            "linecolor": "white",
            "ticks": ""
           }
          },
          "title": {
           "x": 0.05
          },
          "xaxis": {
           "automargin": true,
           "gridcolor": "white",
           "linecolor": "white",
           "ticks": "",
           "title": {
            "standoff": 15
           },
           "zerolinecolor": "white",
           "zerolinewidth": 2
          },
          "yaxis": {
           "automargin": true,
           "gridcolor": "white",
           "linecolor": "white",
           "ticks": "",
           "title": {
            "standoff": 15
           },
           "zerolinecolor": "white",
           "zerolinewidth": 2
          }
         }
        },
        "title": {
         "font": {
          "size": 20
         },
         "text": "Simple Line Plot",
         "x": 0.5,
         "xanchor": "center"
        },
        "xaxis": {
         "title": {
          "text": "X Axis Label"
         }
        },
        "yaxis": {
         "title": {
          "text": "Y Axis Label"
         }
        }
       }
      }
     },
     "metadata": {},
     "output_type": "display_data"
    }
   ],
   "source": [
    "# Import necessary libraries from Plotly\n",
    "import plotly.graph_objs as go\n",
    "import numpy as np\n",
    "\n",
    "# Generate a random dataset\n",
    "# For this example, we'll generate 50 random data points for both X and Y axes\n",
    "np.random.seed(42)  # Set seed for reproducibility\n",
    "x_data = np.linspace(0, 10, 50)  # Generate 50 evenly spaced numbers between 0 and 10\n",
    "y_data = np.random.randn(50)  # Generate 50 random numbers with a normal distribution\n",
    "\n",
    "# Create a line plot using Plotly's go.Line object\n",
    "line_plot = go.Figure()\n",
    "\n",
    "# Add the trace to the plot\n",
    "# The trace represents the data that is plotted on the graph\n",
    "line_plot.add_trace(go.Scatter(\n",
    "    x=x_data, \n",
    "    y=y_data,\n",
    "    mode='lines',  # This specifies that we want a line plot\n",
    "    name='Random Data'  # Label for the legend\n",
    "))\n",
    "\n",
    "# Label the axes\n",
    "line_plot.update_layout(\n",
    "    xaxis_title='X Axis Label',  # Label for the X axis\n",
    "    yaxis_title='Y Axis Label',  # Label for the Y axis\n",
    "    title='Simple Line Plot'  # Title of the plot\n",
    ")\n",
    "\n",
    "# Customize the title for better presentation\n",
    "line_plot.update_layout(\n",
    "    title=dict(\n",
    "        font=dict(size=20),  # Set the font size for the title\n",
    "        x=0.5,  # Center the title horizontally\n",
    "        xanchor='center'  # Anchor the title in the center\n",
    "    )\n",
    ")\n",
    "\n",
    "# Show the plot \n",
    "line_plot.show()"
   ]
  },
  {
   "cell_type": "markdown",
   "metadata": {},
   "source": [
    "### 21. Using Plotly, create an interactive pie chart of randomly generated data, add labels and percentages, set the title as 'Interactive Pie Chart'."
   ]
  },
  {
   "cell_type": "code",
   "execution_count": 36,
   "metadata": {},
   "outputs": [
    {
     "data": {
      "application/vnd.plotly.v1+json": {
       "config": {
        "plotlyServerURL": "https://plot.ly"
       },
       "data": [
        {
         "hole": 0.3,
         "hoverinfo": "label+percent",
         "labels": [
          "Category A",
          "Category B",
          "Category C",
          "Category D",
          "Category E"
         ],
         "textfont": {
          "size": 15
         },
         "textinfo": "label+percent",
         "type": "pie",
         "values": [
          61,
          24,
          81,
          70,
          30
         ]
        }
       ],
       "layout": {
        "legend": {
         "font": {
          "size": 12
         },
         "title": {
          "font": {
           "size": 15
          },
          "text": "Categories"
         }
        },
        "showlegend": true,
        "template": {
         "data": {
          "bar": [
           {
            "error_x": {
             "color": "#2a3f5f"
            },
            "error_y": {
             "color": "#2a3f5f"
            },
            "marker": {
             "line": {
              "color": "#E5ECF6",
              "width": 0.5
             },
             "pattern": {
              "fillmode": "overlay",
              "size": 10,
              "solidity": 0.2
             }
            },
            "type": "bar"
           }
          ],
          "barpolar": [
           {
            "marker": {
             "line": {
              "color": "#E5ECF6",
              "width": 0.5
             },
             "pattern": {
              "fillmode": "overlay",
              "size": 10,
              "solidity": 0.2
             }
            },
            "type": "barpolar"
           }
          ],
          "carpet": [
           {
            "aaxis": {
             "endlinecolor": "#2a3f5f",
             "gridcolor": "white",
             "linecolor": "white",
             "minorgridcolor": "white",
             "startlinecolor": "#2a3f5f"
            },
            "baxis": {
             "endlinecolor": "#2a3f5f",
             "gridcolor": "white",
             "linecolor": "white",
             "minorgridcolor": "white",
             "startlinecolor": "#2a3f5f"
            },
            "type": "carpet"
           }
          ],
          "choropleth": [
           {
            "colorbar": {
             "outlinewidth": 0,
             "ticks": ""
            },
            "type": "choropleth"
           }
          ],
          "contour": [
           {
            "colorbar": {
             "outlinewidth": 0,
             "ticks": ""
            },
            "colorscale": [
             [
              0,
              "#0d0887"
             ],
             [
              0.1111111111111111,
              "#46039f"
             ],
             [
              0.2222222222222222,
              "#7201a8"
             ],
             [
              0.3333333333333333,
              "#9c179e"
             ],
             [
              0.4444444444444444,
              "#bd3786"
             ],
             [
              0.5555555555555556,
              "#d8576b"
             ],
             [
              0.6666666666666666,
              "#ed7953"
             ],
             [
              0.7777777777777778,
              "#fb9f3a"
             ],
             [
              0.8888888888888888,
              "#fdca26"
             ],
             [
              1,
              "#f0f921"
             ]
            ],
            "type": "contour"
           }
          ],
          "contourcarpet": [
           {
            "colorbar": {
             "outlinewidth": 0,
             "ticks": ""
            },
            "type": "contourcarpet"
           }
          ],
          "heatmap": [
           {
            "colorbar": {
             "outlinewidth": 0,
             "ticks": ""
            },
            "colorscale": [
             [
              0,
              "#0d0887"
             ],
             [
              0.1111111111111111,
              "#46039f"
             ],
             [
              0.2222222222222222,
              "#7201a8"
             ],
             [
              0.3333333333333333,
              "#9c179e"
             ],
             [
              0.4444444444444444,
              "#bd3786"
             ],
             [
              0.5555555555555556,
              "#d8576b"
             ],
             [
              0.6666666666666666,
              "#ed7953"
             ],
             [
              0.7777777777777778,
              "#fb9f3a"
             ],
             [
              0.8888888888888888,
              "#fdca26"
             ],
             [
              1,
              "#f0f921"
             ]
            ],
            "type": "heatmap"
           }
          ],
          "heatmapgl": [
           {
            "colorbar": {
             "outlinewidth": 0,
             "ticks": ""
            },
            "colorscale": [
             [
              0,
              "#0d0887"
             ],
             [
              0.1111111111111111,
              "#46039f"
             ],
             [
              0.2222222222222222,
              "#7201a8"
             ],
             [
              0.3333333333333333,
              "#9c179e"
             ],
             [
              0.4444444444444444,
              "#bd3786"
             ],
             [
              0.5555555555555556,
              "#d8576b"
             ],
             [
              0.6666666666666666,
              "#ed7953"
             ],
             [
              0.7777777777777778,
              "#fb9f3a"
             ],
             [
              0.8888888888888888,
              "#fdca26"
             ],
             [
              1,
              "#f0f921"
             ]
            ],
            "type": "heatmapgl"
           }
          ],
          "histogram": [
           {
            "marker": {
             "pattern": {
              "fillmode": "overlay",
              "size": 10,
              "solidity": 0.2
             }
            },
            "type": "histogram"
           }
          ],
          "histogram2d": [
           {
            "colorbar": {
             "outlinewidth": 0,
             "ticks": ""
            },
            "colorscale": [
             [
              0,
              "#0d0887"
             ],
             [
              0.1111111111111111,
              "#46039f"
             ],
             [
              0.2222222222222222,
              "#7201a8"
             ],
             [
              0.3333333333333333,
              "#9c179e"
             ],
             [
              0.4444444444444444,
              "#bd3786"
             ],
             [
              0.5555555555555556,
              "#d8576b"
             ],
             [
              0.6666666666666666,
              "#ed7953"
             ],
             [
              0.7777777777777778,
              "#fb9f3a"
             ],
             [
              0.8888888888888888,
              "#fdca26"
             ],
             [
              1,
              "#f0f921"
             ]
            ],
            "type": "histogram2d"
           }
          ],
          "histogram2dcontour": [
           {
            "colorbar": {
             "outlinewidth": 0,
             "ticks": ""
            },
            "colorscale": [
             [
              0,
              "#0d0887"
             ],
             [
              0.1111111111111111,
              "#46039f"
             ],
             [
              0.2222222222222222,
              "#7201a8"
             ],
             [
              0.3333333333333333,
              "#9c179e"
             ],
             [
              0.4444444444444444,
              "#bd3786"
             ],
             [
              0.5555555555555556,
              "#d8576b"
             ],
             [
              0.6666666666666666,
              "#ed7953"
             ],
             [
              0.7777777777777778,
              "#fb9f3a"
             ],
             [
              0.8888888888888888,
              "#fdca26"
             ],
             [
              1,
              "#f0f921"
             ]
            ],
            "type": "histogram2dcontour"
           }
          ],
          "mesh3d": [
           {
            "colorbar": {
             "outlinewidth": 0,
             "ticks": ""
            },
            "type": "mesh3d"
           }
          ],
          "parcoords": [
           {
            "line": {
             "colorbar": {
              "outlinewidth": 0,
              "ticks": ""
             }
            },
            "type": "parcoords"
           }
          ],
          "pie": [
           {
            "automargin": true,
            "type": "pie"
           }
          ],
          "scatter": [
           {
            "fillpattern": {
             "fillmode": "overlay",
             "size": 10,
             "solidity": 0.2
            },
            "type": "scatter"
           }
          ],
          "scatter3d": [
           {
            "line": {
             "colorbar": {
              "outlinewidth": 0,
              "ticks": ""
             }
            },
            "marker": {
             "colorbar": {
              "outlinewidth": 0,
              "ticks": ""
             }
            },
            "type": "scatter3d"
           }
          ],
          "scattercarpet": [
           {
            "marker": {
             "colorbar": {
              "outlinewidth": 0,
              "ticks": ""
             }
            },
            "type": "scattercarpet"
           }
          ],
          "scattergeo": [
           {
            "marker": {
             "colorbar": {
              "outlinewidth": 0,
              "ticks": ""
             }
            },
            "type": "scattergeo"
           }
          ],
          "scattergl": [
           {
            "marker": {
             "colorbar": {
              "outlinewidth": 0,
              "ticks": ""
             }
            },
            "type": "scattergl"
           }
          ],
          "scattermapbox": [
           {
            "marker": {
             "colorbar": {
              "outlinewidth": 0,
              "ticks": ""
             }
            },
            "type": "scattermapbox"
           }
          ],
          "scatterpolar": [
           {
            "marker": {
             "colorbar": {
              "outlinewidth": 0,
              "ticks": ""
             }
            },
            "type": "scatterpolar"
           }
          ],
          "scatterpolargl": [
           {
            "marker": {
             "colorbar": {
              "outlinewidth": 0,
              "ticks": ""
             }
            },
            "type": "scatterpolargl"
           }
          ],
          "scatterternary": [
           {
            "marker": {
             "colorbar": {
              "outlinewidth": 0,
              "ticks": ""
             }
            },
            "type": "scatterternary"
           }
          ],
          "surface": [
           {
            "colorbar": {
             "outlinewidth": 0,
             "ticks": ""
            },
            "colorscale": [
             [
              0,
              "#0d0887"
             ],
             [
              0.1111111111111111,
              "#46039f"
             ],
             [
              0.2222222222222222,
              "#7201a8"
             ],
             [
              0.3333333333333333,
              "#9c179e"
             ],
             [
              0.4444444444444444,
              "#bd3786"
             ],
             [
              0.5555555555555556,
              "#d8576b"
             ],
             [
              0.6666666666666666,
              "#ed7953"
             ],
             [
              0.7777777777777778,
              "#fb9f3a"
             ],
             [
              0.8888888888888888,
              "#fdca26"
             ],
             [
              1,
              "#f0f921"
             ]
            ],
            "type": "surface"
           }
          ],
          "table": [
           {
            "cells": {
             "fill": {
              "color": "#EBF0F8"
             },
             "line": {
              "color": "white"
             }
            },
            "header": {
             "fill": {
              "color": "#C8D4E3"
             },
             "line": {
              "color": "white"
             }
            },
            "type": "table"
           }
          ]
         },
         "layout": {
          "annotationdefaults": {
           "arrowcolor": "#2a3f5f",
           "arrowhead": 0,
           "arrowwidth": 1
          },
          "autotypenumbers": "strict",
          "coloraxis": {
           "colorbar": {
            "outlinewidth": 0,
            "ticks": ""
           }
          },
          "colorscale": {
           "diverging": [
            [
             0,
             "#8e0152"
            ],
            [
             0.1,
             "#c51b7d"
            ],
            [
             0.2,
             "#de77ae"
            ],
            [
             0.3,
             "#f1b6da"
            ],
            [
             0.4,
             "#fde0ef"
            ],
            [
             0.5,
             "#f7f7f7"
            ],
            [
             0.6,
             "#e6f5d0"
            ],
            [
             0.7,
             "#b8e186"
            ],
            [
             0.8,
             "#7fbc41"
            ],
            [
             0.9,
             "#4d9221"
            ],
            [
             1,
             "#276419"
            ]
           ],
           "sequential": [
            [
             0,
             "#0d0887"
            ],
            [
             0.1111111111111111,
             "#46039f"
            ],
            [
             0.2222222222222222,
             "#7201a8"
            ],
            [
             0.3333333333333333,
             "#9c179e"
            ],
            [
             0.4444444444444444,
             "#bd3786"
            ],
            [
             0.5555555555555556,
             "#d8576b"
            ],
            [
             0.6666666666666666,
             "#ed7953"
            ],
            [
             0.7777777777777778,
             "#fb9f3a"
            ],
            [
             0.8888888888888888,
             "#fdca26"
            ],
            [
             1,
             "#f0f921"
            ]
           ],
           "sequentialminus": [
            [
             0,
             "#0d0887"
            ],
            [
             0.1111111111111111,
             "#46039f"
            ],
            [
             0.2222222222222222,
             "#7201a8"
            ],
            [
             0.3333333333333333,
             "#9c179e"
            ],
            [
             0.4444444444444444,
             "#bd3786"
            ],
            [
             0.5555555555555556,
             "#d8576b"
            ],
            [
             0.6666666666666666,
             "#ed7953"
            ],
            [
             0.7777777777777778,
             "#fb9f3a"
            ],
            [
             0.8888888888888888,
             "#fdca26"
            ],
            [
             1,
             "#f0f921"
            ]
           ]
          },
          "colorway": [
           "#636efa",
           "#EF553B",
           "#00cc96",
           "#ab63fa",
           "#FFA15A",
           "#19d3f3",
           "#FF6692",
           "#B6E880",
           "#FF97FF",
           "#FECB52"
          ],
          "font": {
           "color": "#2a3f5f"
          },
          "geo": {
           "bgcolor": "white",
           "lakecolor": "white",
           "landcolor": "#E5ECF6",
           "showlakes": true,
           "showland": true,
           "subunitcolor": "white"
          },
          "hoverlabel": {
           "align": "left"
          },
          "hovermode": "closest",
          "mapbox": {
           "style": "light"
          },
          "paper_bgcolor": "white",
          "plot_bgcolor": "#E5ECF6",
          "polar": {
           "angularaxis": {
            "gridcolor": "white",
            "linecolor": "white",
            "ticks": ""
           },
           "bgcolor": "#E5ECF6",
           "radialaxis": {
            "gridcolor": "white",
            "linecolor": "white",
            "ticks": ""
           }
          },
          "scene": {
           "xaxis": {
            "backgroundcolor": "#E5ECF6",
            "gridcolor": "white",
            "gridwidth": 2,
            "linecolor": "white",
            "showbackground": true,
            "ticks": "",
            "zerolinecolor": "white"
           },
           "yaxis": {
            "backgroundcolor": "#E5ECF6",
            "gridcolor": "white",
            "gridwidth": 2,
            "linecolor": "white",
            "showbackground": true,
            "ticks": "",
            "zerolinecolor": "white"
           },
           "zaxis": {
            "backgroundcolor": "#E5ECF6",
            "gridcolor": "white",
            "gridwidth": 2,
            "linecolor": "white",
            "showbackground": true,
            "ticks": "",
            "zerolinecolor": "white"
           }
          },
          "shapedefaults": {
           "line": {
            "color": "#2a3f5f"
           }
          },
          "ternary": {
           "aaxis": {
            "gridcolor": "white",
            "linecolor": "white",
            "ticks": ""
           },
           "baxis": {
            "gridcolor": "white",
            "linecolor": "white",
            "ticks": ""
           },
           "bgcolor": "#E5ECF6",
           "caxis": {
            "gridcolor": "white",
            "linecolor": "white",
            "ticks": ""
           }
          },
          "title": {
           "x": 0.05
          },
          "xaxis": {
           "automargin": true,
           "gridcolor": "white",
           "linecolor": "white",
           "ticks": "",
           "title": {
            "standoff": 15
           },
           "zerolinecolor": "white",
           "zerolinewidth": 2
          },
          "yaxis": {
           "automargin": true,
           "gridcolor": "white",
           "linecolor": "white",
           "ticks": "",
           "title": {
            "standoff": 15
           },
           "zerolinecolor": "white",
           "zerolinewidth": 2
          }
         }
        },
        "title": {
         "font": {
          "size": 20
         },
         "text": "Interactive Pie Chart",
         "x": 0.5,
         "xanchor": "center"
        }
       }
      }
     },
     "metadata": {},
     "output_type": "display_data"
    }
   ],
   "source": [
    "# Import the necessary libraries from Plotly\n",
    "import plotly.graph_objs as go\n",
    "import numpy as np\n",
    "\n",
    "# Generate random data for the pie chart\n",
    "# For this example, we'll generate 5 random data points that will represent the pie chart slices\n",
    "np.random.seed(42)  # Set seed for reproducibility\n",
    "labels = ['Category A', 'Category B', 'Category C', 'Category D', 'Category E']  # Labels for each pie slice\n",
    "values = np.random.randint(10, 100, size=5)  # Generate random integer values between 10 and 100 for each category\n",
    "\n",
    "# Create a pie chart using Plotly's go.Pie object\n",
    "pie_chart = go.Figure()\n",
    "\n",
    "# Add the pie chart trace to the figure\n",
    "# The trace represents the data that is plotted on the graph\n",
    "pie_chart.add_trace(go.Pie(\n",
    "    labels=labels,  # Specify the labels for each slice\n",
    "    values=values,  # Specify the values for each slice\n",
    "    hoverinfo='label+percent',  # Display the label and percentage on hover\n",
    "    textinfo='label+percent',  # Display the label and percentage directly on the chart\n",
    "    textfont_size=15,  # Set the font size for the text on the chart\n",
    "    hole=.3  # Optional: Create a donut chart effect by adding a hole in the center\n",
    "))\n",
    "\n",
    "# Set the title of the pie chart\n",
    "pie_chart.update_layout(\n",
    "    title='Interactive Pie Chart',  # Set the title of the pie chart\n",
    "    title_font_size=20,  # Set the font size of the title\n",
    "    title_x=0.5,  # Center the title horizontally\n",
    "    title_xanchor='center'  # Anchor the title in the center\n",
    ")\n",
    "\n",
    "# Customize the layout for better presentation\n",
    "pie_chart.update_layout(\n",
    "    showlegend=True,  # Display the legend\n",
    "    legend_title_text='Categories',  # Set the legend title\n",
    "    legend_title_font_size=15,  # Set the font size for the legend title\n",
    "    legend_font_size=12  # Set the font size for the legend labels\n",
    ")\n",
    "\n",
    "# Show the plot \n",
    "pie_chart.show()\n"
   ]
  },
  {
   "cell_type": "markdown",
   "metadata": {},
   "source": [
    "End of Data Toolkit!"
   ]
  }
 ],
 "metadata": {
  "kernelspec": {
   "display_name": "base",
   "language": "python",
   "name": "python3"
  },
  "language_info": {
   "codemirror_mode": {
    "name": "ipython",
    "version": 3
   },
   "file_extension": ".py",
   "mimetype": "text/x-python",
   "name": "python",
   "nbconvert_exporter": "python",
   "pygments_lexer": "ipython3",
   "version": "3.11.9"
  }
 },
 "nbformat": 4,
 "nbformat_minor": 2
}

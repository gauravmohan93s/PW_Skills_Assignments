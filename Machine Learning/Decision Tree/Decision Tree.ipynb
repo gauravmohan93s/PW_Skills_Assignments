{
 "cells": [
  {
   "cell_type": "markdown",
   "metadata": {},
   "source": [
    "---\n",
    "\n",
    "## 1. Theoretical Concepts\n",
    "\n",
    "### 1. What is a Decision Tree, and How Does It Work?\n",
    "A **Decision Tree** is a supervised machine learning algorithm used for both classification and regression. It builds a tree-like model where:\n",
    "- **Internal nodes** represent tests on features.\n",
    "- **Branches** correspond to outcomes of these tests.\n",
    "- **Leaf nodes** represent final predictions (class labels for classification or continuous values for regression).\n",
    "\n",
    "At each node, the algorithm chooses a feature and a threshold (or split point) that best separates the data based on a criterion (e.g., reduction in impurity). This process is applied recursively until a stopping criterion is met (e.g., maximum depth, minimum samples per node, or pure nodes).\n",
    "\n",
    "### 2. What Are Impurity Measures in Decision Trees?\n",
    "**Impurity measures** quantify how mixed the classes are within a node. In building a decision tree, splits are chosen to reduce impurity—i.e., to create groups that are as homogeneous as possible. The two most common measures are:\n",
    "- **Gini Impurity**\n",
    "- **Entropy**\n",
    "\n",
    "### 3. What Is the Mathematical Formula for Gini Impurity?\n",
    "For a node with \\( K \\) classes and with \\( p_i \\) representing the proportion of samples in class \\( i \\), the **Gini impurity** is defined as:\n",
    "\\[\n",
    "\\text{Gini} = 1 - \\sum_{i=1}^{K} p_i^2\n",
    "\\]\n",
    "This value is 0 when the node is pure (all samples belong to one class) and reaches a maximum when the classes are uniformly distributed.\n",
    "\n",
    "### 4. What Is the Mathematical Formula for Entropy?\n",
    "**Entropy** measures the amount of disorder or uncertainty. For a node with \\( K \\) classes, it is given by:\n",
    "\\[\n",
    "\\text{Entropy} = - \\sum_{i=1}^{K} p_i \\log_2 (p_i)\n",
    "\\]\n",
    "Like Gini, entropy is 0 when the node is pure and increases as the mix of classes becomes more even.\n",
    "\n",
    "### 5. What Is Information Gain, and How Is It Used in Decision Trees?\n",
    "**Information Gain (IG)** is the reduction in impurity achieved by a split. It is calculated as the difference between the impurity of the parent node and the weighted sum of the impurities of the child nodes. In formula:\n",
    "\\[\n",
    "\\text{IG} = \\text{Impurity (parent)} - \\sum_{j} \\left(\\frac{N_j}{N}\\right) \\text{Impurity (child}_j\\text{)}\n",
    "\\]\n",
    "Here, \\( N_j \\) is the number of samples in child node \\( j \\) and \\( N \\) is the number of samples in the parent. The split with the highest information gain is chosen.\n",
    "\n",
    "### 6. What Is the Difference Between Gini Impurity and Entropy?\n",
    "Both metrics measure the “purity” of a node:\n",
    "- **Gini Impurity** is simpler to compute and measures the probability of misclassifying a randomly chosen element.\n",
    "- **Entropy** (from information theory) tends to penalize impurity more strongly.\n",
    "In practice, the choice between the two rarely makes a large difference, though Gini is computationally faster.\n",
    "\n",
    "### 7. What Is the Mathematical Explanation Behind Decision Trees?\n",
    "Mathematically, a decision tree builds a model by:\n",
    "- **Recursively splitting** the feature space to minimize impurity (using Gini or Entropy).\n",
    "- **Selecting splits** that maximize information gain.\n",
    "- **Optimizing** a loss function (classification error or mean squared error for regression) on the training data.\n",
    "The tree is grown until a stopping criterion is reached, forming a piecewise constant approximation of the underlying function.\n",
    "\n",
    "### 8. What Is Pre-Pruning in Decision Trees?\n",
    "**Pre-Pruning** (or early stopping) involves halting the tree growth before it perfectly classifies the training data. This is done by setting limits such as:\n",
    "- Maximum depth\n",
    "- Minimum number of samples required to split a node\n",
    "- Minimum information gain required for a split\n",
    "\n",
    "The goal is to avoid overfitting by not growing overly complex trees.\n",
    "\n",
    "### 9. What Is Post-Pruning in Decision Trees?\n",
    "**Post-Pruning** allows the tree to grow to full depth and then removes nodes (or subtrees) that provide little to no improvement in prediction accuracy. This process is often guided by a validation set or cross-validation to balance complexity with generalization.\n",
    "\n",
    "### 10. What Is the Difference Between Pre-Pruning and Post-Pruning?\n",
    "- **Pre-Pruning:** Stops the tree growth early by setting limits; may risk underfitting if stopped too soon.\n",
    "- **Post-Pruning:** Grows a full tree first and then trims back; typically results in a more robust model by removing branches that overfit.\n",
    "\n",
    "### 11. What Is a Decision Tree Regressor?\n",
    "A **Decision Tree Regressor** is a tree-based model used for predicting continuous outcomes. Instead of using class purity metrics (Gini or Entropy), it typically uses the reduction in variance or mean squared error (MSE) to choose splits.\n",
    "\n",
    "### 12. What Are the Advantages and Disadvantages of Decision Trees?\n",
    "**Advantages:**\n",
    "- **Interpretability:** Easy to understand and visualize.\n",
    "- **Data Types:** Can handle both numerical and categorical features.\n",
    "- **Little Preprocessing:** Minimal data preparation required.\n",
    "- **Non-Linear Relationships:** Can capture complex patterns.\n",
    "\n",
    "**Disadvantages:**\n",
    "- **Overfitting:** Prone to overfitting if not pruned.\n",
    "- **Instability:** Small changes in data can lead to very different trees.\n",
    "- **Bias:** Can be biased toward features with more levels if not controlled.\n",
    "- **Generalization:** Often outperformed by ensemble methods (e.g., Random Forests).\n",
    "\n",
    "### 13. How Does a Decision Tree Handle Missing Values?\n",
    "Decision trees may handle missing values in several ways:\n",
    "- **Surrogate Splits:** Use alternative features that mimic the primary splitting feature.\n",
    "- **Imputation:** Replace missing values with statistical estimates.\n",
    "- **Treating Missing as a Category:** For categorical features, missing can be considered a separate category.\n",
    "\n",
    "### 14. How Does a Decision Tree Handle Categorical Features?\n",
    "Decision trees can directly work with categorical features by:\n",
    "- **Splitting on Categories:** For features with a small number of categories.\n",
    "- **Encoding:** For features with many categories, techniques such as one-hot encoding may be applied.\n",
    "\n",
    "### 15. What Are Some Real-World Applications of Decision Trees?\n",
    "Decision Trees are used across many domains, including:\n",
    "- **Medical Diagnosis:** Classifying diseases based on symptoms.\n",
    "- **Credit Scoring:** Evaluating risk in financial lending.\n",
    "- **Marketing:** Customer segmentation and targeted marketing.\n",
    "- **Fraud Detection:** Identifying fraudulent transactions.\n",
    "- **Predictive Maintenance:** Forecasting equipment failures.\n",
    "- **Spam Filtering:** Classifying emails as spam or not spam.\n",
    "\n",
    "---"
   ]
  },
  {
   "cell_type": "markdown",
   "metadata": {},
   "source": [
    "---\n",
    "\n",
    "## 2. Practical Python Implementations\n",
    "\n",
    "Below are Python code solutions for each programming task. You can run these scripts (each code block is self-contained) in an environment where the necessary packages (e.g., scikit-learn, matplotlib, seaborn, graphviz) are installed.\n",
    "\n",
    "### 2.1. Decision Tree Classifier on the Iris Dataset"
   ]
  },
  {
   "cell_type": "code",
   "execution_count": 1,
   "metadata": {},
   "outputs": [
    {
     "name": "stdout",
     "output_type": "stream",
     "text": [
      "Iris Dataset - Model Accuracy: 1.0\n"
     ]
    }
   ],
   "source": [
    "from sklearn.datasets import load_iris\n",
    "from sklearn.tree import DecisionTreeClassifier\n",
    "from sklearn.model_selection import train_test_split\n",
    "from sklearn.metrics import accuracy_score\n",
    "\n",
    "# Load Iris dataset\n",
    "iris = load_iris()\n",
    "X, y = iris.data, iris.target\n",
    "\n",
    "# Split dataset\n",
    "X_train, X_test, y_train, y_test = train_test_split(X, y, test_size=0.3, random_state=42)\n",
    "\n",
    "# Train Decision Tree Classifier\n",
    "clf = DecisionTreeClassifier(random_state=42)\n",
    "clf.fit(X_train, y_train)\n",
    "\n",
    "# Predict and print model accuracy\n",
    "y_pred = clf.predict(X_test)\n",
    "print(\"Iris Dataset - Model Accuracy:\", accuracy_score(y_test, y_pred))"
   ]
  },
  {
   "cell_type": "markdown",
   "metadata": {},
   "source": [
    "### 2.2. Decision Tree Classifier Using Gini Impurity & Feature Importances"
   ]
  },
  {
   "cell_type": "code",
   "execution_count": 2,
   "metadata": {},
   "outputs": [
    {
     "name": "stdout",
     "output_type": "stream",
     "text": [
      "Feature Importances (Gini): [0.         0.01911002 0.89326355 0.08762643]\n"
     ]
    }
   ],
   "source": [
    "# Train classifier using Gini Impurity\n",
    "clf_gini = DecisionTreeClassifier(criterion=\"gini\", random_state=42)\n",
    "clf_gini.fit(X_train, y_train)\n",
    "\n",
    "# Print feature importances\n",
    "print(\"Feature Importances (Gini):\", clf_gini.feature_importances_)"
   ]
  },
  {
   "cell_type": "markdown",
   "metadata": {},
   "source": [
    "### 2.3. Decision Tree Classifier Using Entropy & Model Accuracy"
   ]
  },
  {
   "cell_type": "code",
   "execution_count": 3,
   "metadata": {},
   "outputs": [
    {
     "name": "stdout",
     "output_type": "stream",
     "text": [
      "Iris Dataset - Accuracy (Entropy): 0.9777777777777777\n"
     ]
    }
   ],
   "source": [
    "# Train classifier using Entropy criterion\n",
    "clf_entropy = DecisionTreeClassifier(criterion=\"entropy\", random_state=42)\n",
    "clf_entropy.fit(X_train, y_train)\n",
    "\n",
    "# Predict and print accuracy\n",
    "y_pred_entropy = clf_entropy.predict(X_test)\n",
    "print(\"Iris Dataset - Accuracy (Entropy):\", accuracy_score(y_test, y_pred_entropy))"
   ]
  },
  {
   "cell_type": "markdown",
   "metadata": {},
   "source": [
    "### 2.4. Decision Tree Regressor on a Housing Dataset with MSE Evaluation"
   ]
  },
  {
   "cell_type": "code",
   "execution_count": 4,
   "metadata": {},
   "outputs": [
    {
     "name": "stdout",
     "output_type": "stream",
     "text": [
      "Housing Dataset - Mean Squared Error: 0.5280096503174904\n"
     ]
    }
   ],
   "source": [
    "from sklearn.datasets import fetch_california_housing\n",
    "from sklearn.tree import DecisionTreeRegressor\n",
    "from sklearn.metrics import mean_squared_error\n",
    "\n",
    "# Load housing dataset (California Housing)\n",
    "housing = fetch_california_housing()\n",
    "X_housing, y_housing = housing.data, housing.target\n",
    "\n",
    "# Split dataset\n",
    "X_train_h, X_test_h, y_train_h, y_test_h = train_test_split(X_housing, y_housing, test_size=0.3, random_state=42)\n",
    "\n",
    "# Train Decision Tree Regressor\n",
    "regressor = DecisionTreeRegressor(random_state=42)\n",
    "regressor.fit(X_train_h, y_train_h)\n",
    "\n",
    "# Predict and evaluate using MSE\n",
    "y_pred_h = regressor.predict(X_test_h)\n",
    "print(\"Housing Dataset - Mean Squared Error:\", mean_squared_error(y_test_h, y_pred_h))"
   ]
  },
  {
   "cell_type": "markdown",
   "metadata": {},
   "source": [
    "### 2.5. Visualizing a Decision Tree Using Graphviz"
   ]
  },
  {
   "cell_type": "code",
   "execution_count": 5,
   "metadata": {},
   "outputs": [
    {
     "data": {
      "image/svg+xml": [
       "<?xml version=\"1.0\" encoding=\"UTF-8\" standalone=\"no\"?>\n",
       "<!DOCTYPE svg PUBLIC \"-//W3C//DTD SVG 1.1//EN\"\n",
       " \"http://www.w3.org/Graphics/SVG/1.1/DTD/svg11.dtd\">\n",
       "<!-- Generated by graphviz version 12.2.1 (20241206.2353)\n",
       " -->\n",
       "<!-- Title: Tree Pages: 1 -->\n",
       "<svg width=\"746pt\" height=\"816pt\"\n",
       " viewBox=\"0.00 0.00 746.38 815.50\" xmlns=\"http://www.w3.org/2000/svg\" xmlns:xlink=\"http://www.w3.org/1999/xlink\">\n",
       "<g id=\"graph0\" class=\"graph\" transform=\"scale(1 1) rotate(0) translate(4 811.5)\">\n",
       "<title>Tree</title>\n",
       "<polygon fill=\"white\" stroke=\"none\" points=\"-4,4 -4,-811.5 742.38,-811.5 742.38,4 -4,4\"/>\n",
       "<!-- 0 -->\n",
       "<g id=\"node1\" class=\"node\">\n",
       "<title>0</title>\n",
       "<path fill=\"#ffffff\" stroke=\"black\" d=\"M263.38,-807.5C263.38,-807.5 128.88,-807.5 128.88,-807.5 122.88,-807.5 116.88,-801.5 116.88,-795.5 116.88,-795.5 116.88,-732.75 116.88,-732.75 116.88,-726.75 122.88,-720.75 128.88,-720.75 128.88,-720.75 263.38,-720.75 263.38,-720.75 269.38,-720.75 275.38,-726.75 275.38,-732.75 275.38,-732.75 275.38,-795.5 275.38,-795.5 275.38,-801.5 269.38,-807.5 263.38,-807.5\"/>\n",
       "<text text-anchor=\"start\" x=\"124.88\" y=\"-790.2\" font-family=\"Helvetica,sans-Serif\" font-size=\"14.00\">petal length (cm) ≤ 2.45</text>\n",
       "<text text-anchor=\"start\" x=\"160.88\" y=\"-774.45\" font-family=\"Helvetica,sans-Serif\" font-size=\"14.00\">gini = 0.664</text>\n",
       "<text text-anchor=\"start\" x=\"151.5\" y=\"-758.7\" font-family=\"Helvetica,sans-Serif\" font-size=\"14.00\">samples = 105</text>\n",
       "<text text-anchor=\"start\" x=\"138.38\" y=\"-742.95\" font-family=\"Helvetica,sans-Serif\" font-size=\"14.00\">value = [31, 37, 37]</text>\n",
       "<text text-anchor=\"start\" x=\"144\" y=\"-727.2\" font-family=\"Helvetica,sans-Serif\" font-size=\"14.00\">class = versicolor</text>\n",
       "</g>\n",
       "<!-- 1 -->\n",
       "<g id=\"node2\" class=\"node\">\n",
       "<title>1</title>\n",
       "<path fill=\"#e58139\" stroke=\"black\" d=\"M164.38,-676.88C164.38,-676.88 71.88,-676.88 71.88,-676.88 65.88,-676.88 59.88,-670.88 59.88,-664.88 59.88,-664.88 59.88,-617.88 59.88,-617.88 59.88,-611.88 65.88,-605.88 71.88,-605.88 71.88,-605.88 164.38,-605.88 164.38,-605.88 170.38,-605.88 176.38,-611.88 176.38,-617.88 176.38,-617.88 176.38,-664.88 176.38,-664.88 176.38,-670.88 170.38,-676.88 164.38,-676.88\"/>\n",
       "<text text-anchor=\"start\" x=\"90.38\" y=\"-659.58\" font-family=\"Helvetica,sans-Serif\" font-size=\"14.00\">gini = 0.0</text>\n",
       "<text text-anchor=\"start\" x=\"77.25\" y=\"-643.83\" font-family=\"Helvetica,sans-Serif\" font-size=\"14.00\">samples = 31</text>\n",
       "<text text-anchor=\"start\" x=\"67.88\" y=\"-628.08\" font-family=\"Helvetica,sans-Serif\" font-size=\"14.00\">value = [31, 0, 0]</text>\n",
       "<text text-anchor=\"start\" x=\"75\" y=\"-612.33\" font-family=\"Helvetica,sans-Serif\" font-size=\"14.00\">class = setosa</text>\n",
       "</g>\n",
       "<!-- 0&#45;&gt;1 -->\n",
       "<g id=\"edge1\" class=\"edge\">\n",
       "<title>0&#45;&gt;1</title>\n",
       "<path fill=\"none\" stroke=\"black\" d=\"M168.63,-720.55C161.5,-709.52 153.82,-697.63 146.64,-686.52\"/>\n",
       "<polygon fill=\"black\" stroke=\"black\" points=\"149.68,-684.78 141.32,-678.27 143.8,-688.57 149.68,-684.78\"/>\n",
       "<text text-anchor=\"middle\" x=\"135.24\" y=\"-696.02\" font-family=\"Helvetica,sans-Serif\" font-size=\"14.00\">True</text>\n",
       "</g>\n",
       "<!-- 2 -->\n",
       "<g id=\"node3\" class=\"node\">\n",
       "<title>2</title>\n",
       "<path fill=\"#ffffff\" stroke=\"black\" d=\"M341.38,-684.75C341.38,-684.75 206.88,-684.75 206.88,-684.75 200.88,-684.75 194.88,-678.75 194.88,-672.75 194.88,-672.75 194.88,-610 194.88,-610 194.88,-604 200.88,-598 206.88,-598 206.88,-598 341.38,-598 341.38,-598 347.38,-598 353.38,-604 353.38,-610 353.38,-610 353.38,-672.75 353.38,-672.75 353.38,-678.75 347.38,-684.75 341.38,-684.75\"/>\n",
       "<text text-anchor=\"start\" x=\"202.88\" y=\"-667.45\" font-family=\"Helvetica,sans-Serif\" font-size=\"14.00\">petal length (cm) ≤ 4.75</text>\n",
       "<text text-anchor=\"start\" x=\"246.38\" y=\"-651.7\" font-family=\"Helvetica,sans-Serif\" font-size=\"14.00\">gini = 0.5</text>\n",
       "<text text-anchor=\"start\" x=\"233.25\" y=\"-635.95\" font-family=\"Helvetica,sans-Serif\" font-size=\"14.00\">samples = 74</text>\n",
       "<text text-anchor=\"start\" x=\"220.12\" y=\"-620.2\" font-family=\"Helvetica,sans-Serif\" font-size=\"14.00\">value = [0, 37, 37]</text>\n",
       "<text text-anchor=\"start\" x=\"222\" y=\"-604.45\" font-family=\"Helvetica,sans-Serif\" font-size=\"14.00\">class = versicolor</text>\n",
       "</g>\n",
       "<!-- 0&#45;&gt;2 -->\n",
       "<g id=\"edge2\" class=\"edge\">\n",
       "<title>0&#45;&gt;2</title>\n",
       "<path fill=\"none\" stroke=\"black\" d=\"M223.62,-720.55C229.04,-712.17 234.78,-703.28 240.38,-694.61\"/>\n",
       "<polygon fill=\"black\" stroke=\"black\" points=\"243.3,-696.54 245.79,-686.24 237.42,-692.74 243.3,-696.54\"/>\n",
       "<text text-anchor=\"middle\" x=\"251.87\" y=\"-703.99\" font-family=\"Helvetica,sans-Serif\" font-size=\"14.00\">False</text>\n",
       "</g>\n",
       "<!-- 3 -->\n",
       "<g id=\"node4\" class=\"node\">\n",
       "<title>3</title>\n",
       "<path fill=\"#3fe685\" stroke=\"black\" d=\"M251,-562C251,-562 129.25,-562 129.25,-562 123.25,-562 117.25,-556 117.25,-550 117.25,-550 117.25,-487.25 117.25,-487.25 117.25,-481.25 123.25,-475.25 129.25,-475.25 129.25,-475.25 251,-475.25 251,-475.25 257,-475.25 263,-481.25 263,-487.25 263,-487.25 263,-550 263,-550 263,-556 257,-562 251,-562\"/>\n",
       "<text text-anchor=\"start\" x=\"125.25\" y=\"-544.7\" font-family=\"Helvetica,sans-Serif\" font-size=\"14.00\">petal width (cm) ≤ 1.6</text>\n",
       "<text text-anchor=\"start\" x=\"154.88\" y=\"-528.95\" font-family=\"Helvetica,sans-Serif\" font-size=\"14.00\">gini = 0.059</text>\n",
       "<text text-anchor=\"start\" x=\"149.25\" y=\"-513.2\" font-family=\"Helvetica,sans-Serif\" font-size=\"14.00\">samples = 33</text>\n",
       "<text text-anchor=\"start\" x=\"139.88\" y=\"-497.45\" font-family=\"Helvetica,sans-Serif\" font-size=\"14.00\">value = [0, 32, 1]</text>\n",
       "<text text-anchor=\"start\" x=\"138\" y=\"-481.7\" font-family=\"Helvetica,sans-Serif\" font-size=\"14.00\">class = versicolor</text>\n",
       "</g>\n",
       "<!-- 2&#45;&gt;3 -->\n",
       "<g id=\"edge3\" class=\"edge\">\n",
       "<title>2&#45;&gt;3</title>\n",
       "<path fill=\"none\" stroke=\"black\" d=\"M244.51,-597.8C238.61,-589.33 232.36,-580.34 226.27,-571.58\"/>\n",
       "<polygon fill=\"black\" stroke=\"black\" points=\"229.2,-569.67 220.62,-563.46 223.46,-573.67 229.2,-569.67\"/>\n",
       "</g>\n",
       "<!-- 6 -->\n",
       "<g id=\"node7\" class=\"node\">\n",
       "<title>6</title>\n",
       "<path fill=\"#9254e9\" stroke=\"black\" d=\"M422.75,-562C422.75,-562 293.5,-562 293.5,-562 287.5,-562 281.5,-556 281.5,-550 281.5,-550 281.5,-487.25 281.5,-487.25 281.5,-481.25 287.5,-475.25 293.5,-475.25 293.5,-475.25 422.75,-475.25 422.75,-475.25 428.75,-475.25 434.75,-481.25 434.75,-487.25 434.75,-487.25 434.75,-550 434.75,-550 434.75,-556 428.75,-562 422.75,-562\"/>\n",
       "<text text-anchor=\"start\" x=\"289.5\" y=\"-544.7\" font-family=\"Helvetica,sans-Serif\" font-size=\"14.00\">petal width (cm) ≤ 1.75</text>\n",
       "<text text-anchor=\"start\" x=\"322.88\" y=\"-528.95\" font-family=\"Helvetica,sans-Serif\" font-size=\"14.00\">gini = 0.214</text>\n",
       "<text text-anchor=\"start\" x=\"317.25\" y=\"-513.2\" font-family=\"Helvetica,sans-Serif\" font-size=\"14.00\">samples = 41</text>\n",
       "<text text-anchor=\"start\" x=\"307.88\" y=\"-497.45\" font-family=\"Helvetica,sans-Serif\" font-size=\"14.00\">value = [0, 5, 36]</text>\n",
       "<text text-anchor=\"start\" x=\"310.12\" y=\"-481.7\" font-family=\"Helvetica,sans-Serif\" font-size=\"14.00\">class = virginica</text>\n",
       "</g>\n",
       "<!-- 2&#45;&gt;6 -->\n",
       "<g id=\"edge6\" class=\"edge\">\n",
       "<title>2&#45;&gt;6</title>\n",
       "<path fill=\"none\" stroke=\"black\" d=\"M303.74,-597.8C309.64,-589.33 315.89,-580.34 321.98,-571.58\"/>\n",
       "<polygon fill=\"black\" stroke=\"black\" points=\"324.79,-573.67 327.63,-563.46 319.05,-569.67 324.79,-573.67\"/>\n",
       "</g>\n",
       "<!-- 4 -->\n",
       "<g id=\"node5\" class=\"node\">\n",
       "<title>4</title>\n",
       "<path fill=\"#39e581\" stroke=\"black\" d=\"M108.25,-431.38C108.25,-431.38 12,-431.38 12,-431.38 6,-431.38 0,-425.38 0,-419.38 0,-419.38 0,-372.38 0,-372.38 0,-366.38 6,-360.38 12,-360.38 12,-360.38 108.25,-360.38 108.25,-360.38 114.25,-360.38 120.25,-366.38 120.25,-372.38 120.25,-372.38 120.25,-419.38 120.25,-419.38 120.25,-425.38 114.25,-431.38 108.25,-431.38\"/>\n",
       "<text text-anchor=\"start\" x=\"32.38\" y=\"-414.07\" font-family=\"Helvetica,sans-Serif\" font-size=\"14.00\">gini = 0.0</text>\n",
       "<text text-anchor=\"start\" x=\"19.25\" y=\"-398.32\" font-family=\"Helvetica,sans-Serif\" font-size=\"14.00\">samples = 32</text>\n",
       "<text text-anchor=\"start\" x=\"9.88\" y=\"-382.57\" font-family=\"Helvetica,sans-Serif\" font-size=\"14.00\">value = [0, 32, 0]</text>\n",
       "<text text-anchor=\"start\" x=\"8\" y=\"-366.82\" font-family=\"Helvetica,sans-Serif\" font-size=\"14.00\">class = versicolor</text>\n",
       "</g>\n",
       "<!-- 3&#45;&gt;4 -->\n",
       "<g id=\"edge4\" class=\"edge\">\n",
       "<title>3&#45;&gt;4</title>\n",
       "<path fill=\"none\" stroke=\"black\" d=\"M144.29,-475.05C131.7,-463.36 118.05,-450.68 105.49,-439.01\"/>\n",
       "<polygon fill=\"black\" stroke=\"black\" points=\"108.22,-436.77 98.52,-432.53 103.46,-441.9 108.22,-436.77\"/>\n",
       "</g>\n",
       "<!-- 5 -->\n",
       "<g id=\"node6\" class=\"node\">\n",
       "<title>5</title>\n",
       "<path fill=\"#8139e5\" stroke=\"black\" d=\"M238.12,-431.38C238.12,-431.38 150.12,-431.38 150.12,-431.38 144.12,-431.38 138.12,-425.38 138.12,-419.38 138.12,-419.38 138.12,-372.38 138.12,-372.38 138.12,-366.38 144.12,-360.38 150.12,-360.38 150.12,-360.38 238.12,-360.38 238.12,-360.38 244.12,-360.38 250.12,-366.38 250.12,-372.38 250.12,-372.38 250.12,-419.38 250.12,-419.38 250.12,-425.38 244.12,-431.38 238.12,-431.38\"/>\n",
       "<text text-anchor=\"start\" x=\"166.38\" y=\"-414.07\" font-family=\"Helvetica,sans-Serif\" font-size=\"14.00\">gini = 0.0</text>\n",
       "<text text-anchor=\"start\" x=\"157\" y=\"-398.32\" font-family=\"Helvetica,sans-Serif\" font-size=\"14.00\">samples = 1</text>\n",
       "<text text-anchor=\"start\" x=\"147.62\" y=\"-382.57\" font-family=\"Helvetica,sans-Serif\" font-size=\"14.00\">value = [0, 0, 1]</text>\n",
       "<text text-anchor=\"start\" x=\"146.12\" y=\"-366.82\" font-family=\"Helvetica,sans-Serif\" font-size=\"14.00\">class = virginica</text>\n",
       "</g>\n",
       "<!-- 3&#45;&gt;5 -->\n",
       "<g id=\"edge5\" class=\"edge\">\n",
       "<title>3&#45;&gt;5</title>\n",
       "<path fill=\"none\" stroke=\"black\" d=\"M191.54,-475.05C191.88,-464.58 192.26,-453.33 192.61,-442.71\"/>\n",
       "<polygon fill=\"black\" stroke=\"black\" points=\"196.09,-443.13 192.93,-433.02 189.1,-442.89 196.09,-443.13\"/>\n",
       "</g>\n",
       "<!-- 7 -->\n",
       "<g id=\"node8\" class=\"node\">\n",
       "<title>7</title>\n",
       "<path fill=\"#ffffff\" stroke=\"black\" d=\"M421.38,-439.25C421.38,-439.25 286.88,-439.25 286.88,-439.25 280.88,-439.25 274.88,-433.25 274.88,-427.25 274.88,-427.25 274.88,-364.5 274.88,-364.5 274.88,-358.5 280.88,-352.5 286.88,-352.5 286.88,-352.5 421.38,-352.5 421.38,-352.5 427.38,-352.5 433.38,-358.5 433.38,-364.5 433.38,-364.5 433.38,-427.25 433.38,-427.25 433.38,-433.25 427.38,-439.25 421.38,-439.25\"/>\n",
       "<text text-anchor=\"start\" x=\"282.88\" y=\"-421.95\" font-family=\"Helvetica,sans-Serif\" font-size=\"14.00\">petal length (cm) ≤ 4.95</text>\n",
       "<text text-anchor=\"start\" x=\"326.38\" y=\"-406.2\" font-family=\"Helvetica,sans-Serif\" font-size=\"14.00\">gini = 0.5</text>\n",
       "<text text-anchor=\"start\" x=\"317\" y=\"-390.45\" font-family=\"Helvetica,sans-Serif\" font-size=\"14.00\">samples = 8</text>\n",
       "<text text-anchor=\"start\" x=\"307.62\" y=\"-374.7\" font-family=\"Helvetica,sans-Serif\" font-size=\"14.00\">value = [0, 4, 4]</text>\n",
       "<text text-anchor=\"start\" x=\"302\" y=\"-358.95\" font-family=\"Helvetica,sans-Serif\" font-size=\"14.00\">class = versicolor</text>\n",
       "</g>\n",
       "<!-- 6&#45;&gt;7 -->\n",
       "<g id=\"edge7\" class=\"edge\">\n",
       "<title>6&#45;&gt;7</title>\n",
       "<path fill=\"none\" stroke=\"black\" d=\"M356.71,-475.05C356.45,-467.21 356.18,-458.92 355.91,-450.79\"/>\n",
       "<polygon fill=\"black\" stroke=\"black\" points=\"359.42,-450.86 355.59,-440.98 352.42,-451.09 359.42,-450.86\"/>\n",
       "</g>\n",
       "<!-- 14 -->\n",
       "<g id=\"node15\" class=\"node\">\n",
       "<title>14</title>\n",
       "<path fill=\"#853fe6\" stroke=\"black\" d=\"M598.38,-439.25C598.38,-439.25 463.88,-439.25 463.88,-439.25 457.88,-439.25 451.88,-433.25 451.88,-427.25 451.88,-427.25 451.88,-364.5 451.88,-364.5 451.88,-358.5 457.88,-352.5 463.88,-352.5 463.88,-352.5 598.38,-352.5 598.38,-352.5 604.38,-352.5 610.38,-358.5 610.38,-364.5 610.38,-364.5 610.38,-427.25 610.38,-427.25 610.38,-433.25 604.38,-439.25 598.38,-439.25\"/>\n",
       "<text text-anchor=\"start\" x=\"459.88\" y=\"-421.95\" font-family=\"Helvetica,sans-Serif\" font-size=\"14.00\">petal length (cm) ≤ 4.85</text>\n",
       "<text text-anchor=\"start\" x=\"495.88\" y=\"-406.2\" font-family=\"Helvetica,sans-Serif\" font-size=\"14.00\">gini = 0.059</text>\n",
       "<text text-anchor=\"start\" x=\"490.25\" y=\"-390.45\" font-family=\"Helvetica,sans-Serif\" font-size=\"14.00\">samples = 33</text>\n",
       "<text text-anchor=\"start\" x=\"480.88\" y=\"-374.7\" font-family=\"Helvetica,sans-Serif\" font-size=\"14.00\">value = [0, 1, 32]</text>\n",
       "<text text-anchor=\"start\" x=\"483.12\" y=\"-358.95\" font-family=\"Helvetica,sans-Serif\" font-size=\"14.00\">class = virginica</text>\n",
       "</g>\n",
       "<!-- 6&#45;&gt;14 -->\n",
       "<g id=\"edge14\" class=\"edge\">\n",
       "<title>6&#45;&gt;14</title>\n",
       "<path fill=\"none\" stroke=\"black\" d=\"M419.12,-475.05C432.48,-465.73 446.73,-455.78 460.43,-446.22\"/>\n",
       "<polygon fill=\"black\" stroke=\"black\" points=\"462.37,-449.13 468.57,-440.54 458.36,-443.39 462.37,-449.13\"/>\n",
       "</g>\n",
       "<!-- 8 -->\n",
       "<g id=\"node9\" class=\"node\">\n",
       "<title>8</title>\n",
       "<path fill=\"#39e581\" stroke=\"black\" d=\"M249.25,-308.62C249.25,-308.62 153,-308.62 153,-308.62 147,-308.62 141,-302.62 141,-296.62 141,-296.62 141,-249.62 141,-249.62 141,-243.62 147,-237.62 153,-237.62 153,-237.62 249.25,-237.62 249.25,-237.62 255.25,-237.62 261.25,-243.62 261.25,-249.62 261.25,-249.62 261.25,-296.62 261.25,-296.62 261.25,-302.62 255.25,-308.62 249.25,-308.62\"/>\n",
       "<text text-anchor=\"start\" x=\"173.38\" y=\"-291.32\" font-family=\"Helvetica,sans-Serif\" font-size=\"14.00\">gini = 0.0</text>\n",
       "<text text-anchor=\"start\" x=\"164\" y=\"-275.57\" font-family=\"Helvetica,sans-Serif\" font-size=\"14.00\">samples = 2</text>\n",
       "<text text-anchor=\"start\" x=\"154.62\" y=\"-259.82\" font-family=\"Helvetica,sans-Serif\" font-size=\"14.00\">value = [0, 2, 0]</text>\n",
       "<text text-anchor=\"start\" x=\"149\" y=\"-244.07\" font-family=\"Helvetica,sans-Serif\" font-size=\"14.00\">class = versicolor</text>\n",
       "</g>\n",
       "<!-- 7&#45;&gt;8 -->\n",
       "<g id=\"edge8\" class=\"edge\">\n",
       "<title>7&#45;&gt;8</title>\n",
       "<path fill=\"none\" stroke=\"black\" d=\"M300.18,-352.3C285.08,-340.38 268.69,-327.45 253.67,-315.59\"/>\n",
       "<polygon fill=\"black\" stroke=\"black\" points=\"256.21,-313.14 246.19,-309.69 251.87,-318.63 256.21,-313.14\"/>\n",
       "</g>\n",
       "<!-- 9 -->\n",
       "<g id=\"node10\" class=\"node\">\n",
       "<title>9</title>\n",
       "<path fill=\"#c09cf2\" stroke=\"black\" d=\"M420.75,-316.5C420.75,-316.5 291.5,-316.5 291.5,-316.5 285.5,-316.5 279.5,-310.5 279.5,-304.5 279.5,-304.5 279.5,-241.75 279.5,-241.75 279.5,-235.75 285.5,-229.75 291.5,-229.75 291.5,-229.75 420.75,-229.75 420.75,-229.75 426.75,-229.75 432.75,-235.75 432.75,-241.75 432.75,-241.75 432.75,-304.5 432.75,-304.5 432.75,-310.5 426.75,-316.5 420.75,-316.5\"/>\n",
       "<text text-anchor=\"start\" x=\"287.5\" y=\"-299.2\" font-family=\"Helvetica,sans-Serif\" font-size=\"14.00\">petal width (cm) ≤ 1.55</text>\n",
       "<text text-anchor=\"start\" x=\"320.88\" y=\"-283.45\" font-family=\"Helvetica,sans-Serif\" font-size=\"14.00\">gini = 0.444</text>\n",
       "<text text-anchor=\"start\" x=\"319\" y=\"-267.7\" font-family=\"Helvetica,sans-Serif\" font-size=\"14.00\">samples = 6</text>\n",
       "<text text-anchor=\"start\" x=\"309.62\" y=\"-251.95\" font-family=\"Helvetica,sans-Serif\" font-size=\"14.00\">value = [0, 2, 4]</text>\n",
       "<text text-anchor=\"start\" x=\"308.12\" y=\"-236.2\" font-family=\"Helvetica,sans-Serif\" font-size=\"14.00\">class = virginica</text>\n",
       "</g>\n",
       "<!-- 7&#45;&gt;9 -->\n",
       "<g id=\"edge9\" class=\"edge\">\n",
       "<title>7&#45;&gt;9</title>\n",
       "<path fill=\"none\" stroke=\"black\" d=\"M354.83,-352.3C354.96,-344.46 355.1,-336.17 355.23,-328.04\"/>\n",
       "<polygon fill=\"black\" stroke=\"black\" points=\"358.73,-328.29 355.39,-318.23 351.73,-328.17 358.73,-328.29\"/>\n",
       "</g>\n",
       "<!-- 10 -->\n",
       "<g id=\"node11\" class=\"node\">\n",
       "<title>10</title>\n",
       "<path fill=\"#8139e5\" stroke=\"black\" d=\"M253.12,-185.88C253.12,-185.88 165.12,-185.88 165.12,-185.88 159.12,-185.88 153.12,-179.88 153.12,-173.88 153.12,-173.88 153.12,-126.88 153.12,-126.88 153.12,-120.88 159.12,-114.88 165.12,-114.88 165.12,-114.88 253.12,-114.88 253.12,-114.88 259.12,-114.88 265.12,-120.88 265.12,-126.88 265.12,-126.88 265.12,-173.88 265.12,-173.88 265.12,-179.88 259.12,-185.88 253.12,-185.88\"/>\n",
       "<text text-anchor=\"start\" x=\"181.38\" y=\"-168.57\" font-family=\"Helvetica,sans-Serif\" font-size=\"14.00\">gini = 0.0</text>\n",
       "<text text-anchor=\"start\" x=\"172\" y=\"-152.82\" font-family=\"Helvetica,sans-Serif\" font-size=\"14.00\">samples = 3</text>\n",
       "<text text-anchor=\"start\" x=\"162.62\" y=\"-137.07\" font-family=\"Helvetica,sans-Serif\" font-size=\"14.00\">value = [0, 0, 3]</text>\n",
       "<text text-anchor=\"start\" x=\"161.12\" y=\"-121.33\" font-family=\"Helvetica,sans-Serif\" font-size=\"14.00\">class = virginica</text>\n",
       "</g>\n",
       "<!-- 9&#45;&gt;10 -->\n",
       "<g id=\"edge10\" class=\"edge\">\n",
       "<title>9&#45;&gt;10</title>\n",
       "<path fill=\"none\" stroke=\"black\" d=\"M304.3,-229.55C289.92,-217.74 274.33,-204.94 260.01,-193.18\"/>\n",
       "<polygon fill=\"black\" stroke=\"black\" points=\"262.4,-190.61 252.45,-186.96 257.96,-196.02 262.4,-190.61\"/>\n",
       "</g>\n",
       "<!-- 11 -->\n",
       "<g id=\"node12\" class=\"node\">\n",
       "<title>11</title>\n",
       "<path fill=\"#9cf2c0\" stroke=\"black\" d=\"M429.38,-193.75C429.38,-193.75 294.88,-193.75 294.88,-193.75 288.88,-193.75 282.88,-187.75 282.88,-181.75 282.88,-181.75 282.88,-119 282.88,-119 282.88,-113 288.88,-107 294.88,-107 294.88,-107 429.38,-107 429.38,-107 435.38,-107 441.38,-113 441.38,-119 441.38,-119 441.38,-181.75 441.38,-181.75 441.38,-187.75 435.38,-193.75 429.38,-193.75\"/>\n",
       "<text text-anchor=\"start\" x=\"290.88\" y=\"-176.45\" font-family=\"Helvetica,sans-Serif\" font-size=\"14.00\">petal length (cm) ≤ 5.45</text>\n",
       "<text text-anchor=\"start\" x=\"326.88\" y=\"-160.7\" font-family=\"Helvetica,sans-Serif\" font-size=\"14.00\">gini = 0.444</text>\n",
       "<text text-anchor=\"start\" x=\"325\" y=\"-144.95\" font-family=\"Helvetica,sans-Serif\" font-size=\"14.00\">samples = 3</text>\n",
       "<text text-anchor=\"start\" x=\"315.62\" y=\"-129.2\" font-family=\"Helvetica,sans-Serif\" font-size=\"14.00\">value = [0, 2, 1]</text>\n",
       "<text text-anchor=\"start\" x=\"310\" y=\"-113.45\" font-family=\"Helvetica,sans-Serif\" font-size=\"14.00\">class = versicolor</text>\n",
       "</g>\n",
       "<!-- 9&#45;&gt;11 -->\n",
       "<g id=\"edge11\" class=\"edge\">\n",
       "<title>9&#45;&gt;11</title>\n",
       "<path fill=\"none\" stroke=\"black\" d=\"M358.24,-229.55C358.63,-221.71 359.04,-213.42 359.45,-205.29\"/>\n",
       "<polygon fill=\"black\" stroke=\"black\" points=\"362.93,-205.64 359.93,-195.48 355.94,-205.3 362.93,-205.64\"/>\n",
       "</g>\n",
       "<!-- 12 -->\n",
       "<g id=\"node13\" class=\"node\">\n",
       "<title>12</title>\n",
       "<path fill=\"#39e581\" stroke=\"black\" d=\"M343.25,-71C343.25,-71 247,-71 247,-71 241,-71 235,-65 235,-59 235,-59 235,-12 235,-12 235,-6 241,0 247,0 247,0 343.25,0 343.25,0 349.25,0 355.25,-6 355.25,-12 355.25,-12 355.25,-59 355.25,-59 355.25,-65 349.25,-71 343.25,-71\"/>\n",
       "<text text-anchor=\"start\" x=\"267.38\" y=\"-53.7\" font-family=\"Helvetica,sans-Serif\" font-size=\"14.00\">gini = 0.0</text>\n",
       "<text text-anchor=\"start\" x=\"258\" y=\"-37.95\" font-family=\"Helvetica,sans-Serif\" font-size=\"14.00\">samples = 2</text>\n",
       "<text text-anchor=\"start\" x=\"248.62\" y=\"-22.2\" font-family=\"Helvetica,sans-Serif\" font-size=\"14.00\">value = [0, 2, 0]</text>\n",
       "<text text-anchor=\"start\" x=\"243\" y=\"-6.45\" font-family=\"Helvetica,sans-Serif\" font-size=\"14.00\">class = versicolor</text>\n",
       "</g>\n",
       "<!-- 11&#45;&gt;12 -->\n",
       "<g id=\"edge12\" class=\"edge\">\n",
       "<title>11&#45;&gt;12</title>\n",
       "<path fill=\"none\" stroke=\"black\" d=\"M336.8,-106.7C331.79,-98.27 326.52,-89.39 321.48,-80.9\"/>\n",
       "<polygon fill=\"black\" stroke=\"black\" points=\"324.58,-79.27 316.47,-72.46 318.56,-82.84 324.58,-79.27\"/>\n",
       "</g>\n",
       "<!-- 13 -->\n",
       "<g id=\"node14\" class=\"node\">\n",
       "<title>13</title>\n",
       "<path fill=\"#8139e5\" stroke=\"black\" d=\"M473.12,-71C473.12,-71 385.12,-71 385.12,-71 379.12,-71 373.12,-65 373.12,-59 373.12,-59 373.12,-12 373.12,-12 373.12,-6 379.12,0 385.12,0 385.12,0 473.12,0 473.12,0 479.12,0 485.12,-6 485.12,-12 485.12,-12 485.12,-59 485.12,-59 485.12,-65 479.12,-71 473.12,-71\"/>\n",
       "<text text-anchor=\"start\" x=\"401.38\" y=\"-53.7\" font-family=\"Helvetica,sans-Serif\" font-size=\"14.00\">gini = 0.0</text>\n",
       "<text text-anchor=\"start\" x=\"392\" y=\"-37.95\" font-family=\"Helvetica,sans-Serif\" font-size=\"14.00\">samples = 1</text>\n",
       "<text text-anchor=\"start\" x=\"382.62\" y=\"-22.2\" font-family=\"Helvetica,sans-Serif\" font-size=\"14.00\">value = [0, 0, 1]</text>\n",
       "<text text-anchor=\"start\" x=\"381.12\" y=\"-6.45\" font-family=\"Helvetica,sans-Serif\" font-size=\"14.00\">class = virginica</text>\n",
       "</g>\n",
       "<!-- 11&#45;&gt;13 -->\n",
       "<g id=\"edge13\" class=\"edge\">\n",
       "<title>11&#45;&gt;13</title>\n",
       "<path fill=\"none\" stroke=\"black\" d=\"M387.45,-106.7C392.46,-98.27 397.73,-89.39 402.77,-80.9\"/>\n",
       "<polygon fill=\"black\" stroke=\"black\" points=\"405.69,-82.84 407.78,-72.46 399.67,-79.27 405.69,-82.84\"/>\n",
       "</g>\n",
       "<!-- 15 -->\n",
       "<g id=\"node16\" class=\"node\">\n",
       "<title>15</title>\n",
       "<path fill=\"#c09cf2\" stroke=\"black\" d=\"M591.5,-316.5C591.5,-316.5 466.75,-316.5 466.75,-316.5 460.75,-316.5 454.75,-310.5 454.75,-304.5 454.75,-304.5 454.75,-241.75 454.75,-241.75 454.75,-235.75 460.75,-229.75 466.75,-229.75 466.75,-229.75 591.5,-229.75 591.5,-229.75 597.5,-229.75 603.5,-235.75 603.5,-241.75 603.5,-241.75 603.5,-304.5 603.5,-304.5 603.5,-310.5 597.5,-316.5 591.5,-316.5\"/>\n",
       "<text text-anchor=\"start\" x=\"462.75\" y=\"-299.2\" font-family=\"Helvetica,sans-Serif\" font-size=\"14.00\">sepal width (cm) ≤ 3.1</text>\n",
       "<text text-anchor=\"start\" x=\"493.88\" y=\"-283.45\" font-family=\"Helvetica,sans-Serif\" font-size=\"14.00\">gini = 0.444</text>\n",
       "<text text-anchor=\"start\" x=\"492\" y=\"-267.7\" font-family=\"Helvetica,sans-Serif\" font-size=\"14.00\">samples = 3</text>\n",
       "<text text-anchor=\"start\" x=\"482.62\" y=\"-251.95\" font-family=\"Helvetica,sans-Serif\" font-size=\"14.00\">value = [0, 1, 2]</text>\n",
       "<text text-anchor=\"start\" x=\"481.12\" y=\"-236.2\" font-family=\"Helvetica,sans-Serif\" font-size=\"14.00\">class = virginica</text>\n",
       "</g>\n",
       "<!-- 14&#45;&gt;15 -->\n",
       "<g id=\"edge15\" class=\"edge\">\n",
       "<title>14&#45;&gt;15</title>\n",
       "<path fill=\"none\" stroke=\"black\" d=\"M530.42,-352.3C530.29,-344.46 530.15,-336.17 530.02,-328.04\"/>\n",
       "<polygon fill=\"black\" stroke=\"black\" points=\"533.52,-328.17 529.86,-318.23 526.52,-328.29 533.52,-328.17\"/>\n",
       "</g>\n",
       "<!-- 18 -->\n",
       "<g id=\"node19\" class=\"node\">\n",
       "<title>18</title>\n",
       "<path fill=\"#8139e5\" stroke=\"black\" d=\"M726.38,-308.62C726.38,-308.62 633.88,-308.62 633.88,-308.62 627.88,-308.62 621.88,-302.62 621.88,-296.62 621.88,-296.62 621.88,-249.62 621.88,-249.62 621.88,-243.62 627.88,-237.62 633.88,-237.62 633.88,-237.62 726.38,-237.62 726.38,-237.62 732.38,-237.62 738.38,-243.62 738.38,-249.62 738.38,-249.62 738.38,-296.62 738.38,-296.62 738.38,-302.62 732.38,-308.62 726.38,-308.62\"/>\n",
       "<text text-anchor=\"start\" x=\"652.38\" y=\"-291.32\" font-family=\"Helvetica,sans-Serif\" font-size=\"14.00\">gini = 0.0</text>\n",
       "<text text-anchor=\"start\" x=\"639.25\" y=\"-275.57\" font-family=\"Helvetica,sans-Serif\" font-size=\"14.00\">samples = 30</text>\n",
       "<text text-anchor=\"start\" x=\"629.88\" y=\"-259.82\" font-family=\"Helvetica,sans-Serif\" font-size=\"14.00\">value = [0, 0, 30]</text>\n",
       "<text text-anchor=\"start\" x=\"632.12\" y=\"-244.07\" font-family=\"Helvetica,sans-Serif\" font-size=\"14.00\">class = virginica</text>\n",
       "</g>\n",
       "<!-- 14&#45;&gt;18 -->\n",
       "<g id=\"edge18\" class=\"edge\">\n",
       "<title>14&#45;&gt;18</title>\n",
       "<path fill=\"none\" stroke=\"black\" d=\"M583.66,-352.3C598.23,-340.49 614.03,-327.69 628.55,-315.93\"/>\n",
       "<polygon fill=\"black\" stroke=\"black\" points=\"630.65,-318.72 636.22,-309.71 626.25,-313.28 630.65,-318.72\"/>\n",
       "</g>\n",
       "<!-- 16 -->\n",
       "<g id=\"node17\" class=\"node\">\n",
       "<title>16</title>\n",
       "<path fill=\"#8139e5\" stroke=\"black\" d=\"M567.12,-185.88C567.12,-185.88 479.12,-185.88 479.12,-185.88 473.12,-185.88 467.12,-179.88 467.12,-173.88 467.12,-173.88 467.12,-126.88 467.12,-126.88 467.12,-120.88 473.12,-114.88 479.12,-114.88 479.12,-114.88 567.12,-114.88 567.12,-114.88 573.12,-114.88 579.12,-120.88 579.12,-126.88 579.12,-126.88 579.12,-173.88 579.12,-173.88 579.12,-179.88 573.12,-185.88 567.12,-185.88\"/>\n",
       "<text text-anchor=\"start\" x=\"495.38\" y=\"-168.57\" font-family=\"Helvetica,sans-Serif\" font-size=\"14.00\">gini = 0.0</text>\n",
       "<text text-anchor=\"start\" x=\"486\" y=\"-152.82\" font-family=\"Helvetica,sans-Serif\" font-size=\"14.00\">samples = 2</text>\n",
       "<text text-anchor=\"start\" x=\"476.62\" y=\"-137.07\" font-family=\"Helvetica,sans-Serif\" font-size=\"14.00\">value = [0, 0, 2]</text>\n",
       "<text text-anchor=\"start\" x=\"475.12\" y=\"-121.33\" font-family=\"Helvetica,sans-Serif\" font-size=\"14.00\">class = virginica</text>\n",
       "</g>\n",
       "<!-- 15&#45;&gt;16 -->\n",
       "<g id=\"edge16\" class=\"edge\">\n",
       "<title>15&#45;&gt;16</title>\n",
       "<path fill=\"none\" stroke=\"black\" d=\"M527.01,-229.55C526.49,-219.08 525.93,-207.83 525.4,-197.21\"/>\n",
       "<polygon fill=\"black\" stroke=\"black\" points=\"528.91,-197.33 524.92,-187.52 521.92,-197.68 528.91,-197.33\"/>\n",
       "</g>\n",
       "<!-- 17 -->\n",
       "<g id=\"node18\" class=\"node\">\n",
       "<title>17</title>\n",
       "<path fill=\"#39e581\" stroke=\"black\" d=\"M705.25,-185.88C705.25,-185.88 609,-185.88 609,-185.88 603,-185.88 597,-179.88 597,-173.88 597,-173.88 597,-126.88 597,-126.88 597,-120.88 603,-114.88 609,-114.88 609,-114.88 705.25,-114.88 705.25,-114.88 711.25,-114.88 717.25,-120.88 717.25,-126.88 717.25,-126.88 717.25,-173.88 717.25,-173.88 717.25,-179.88 711.25,-185.88 705.25,-185.88\"/>\n",
       "<text text-anchor=\"start\" x=\"629.38\" y=\"-168.57\" font-family=\"Helvetica,sans-Serif\" font-size=\"14.00\">gini = 0.0</text>\n",
       "<text text-anchor=\"start\" x=\"620\" y=\"-152.82\" font-family=\"Helvetica,sans-Serif\" font-size=\"14.00\">samples = 1</text>\n",
       "<text text-anchor=\"start\" x=\"610.62\" y=\"-137.07\" font-family=\"Helvetica,sans-Serif\" font-size=\"14.00\">value = [0, 1, 0]</text>\n",
       "<text text-anchor=\"start\" x=\"605\" y=\"-121.33\" font-family=\"Helvetica,sans-Serif\" font-size=\"14.00\">class = versicolor</text>\n",
       "</g>\n",
       "<!-- 15&#45;&gt;17 -->\n",
       "<g id=\"edge17\" class=\"edge\">\n",
       "<title>15&#45;&gt;17</title>\n",
       "<path fill=\"none\" stroke=\"black\" d=\"M574.25,-229.55C586.53,-217.97 599.83,-205.42 612.11,-193.84\"/>\n",
       "<polygon fill=\"black\" stroke=\"black\" points=\"614.44,-196.45 619.32,-187.04 609.64,-191.36 614.44,-196.45\"/>\n",
       "</g>\n",
       "</g>\n",
       "</svg>\n"
      ],
      "text/plain": [
       "<graphviz.sources.Source at 0x2ca0a8fe630>"
      ]
     },
     "execution_count": 5,
     "metadata": {},
     "output_type": "execute_result"
    }
   ],
   "source": [
    "from sklearn.tree import export_graphviz\n",
    "import graphviz\n",
    "\n",
    "# Export the tree in DOT format\n",
    "dot_data = export_graphviz(clf, out_file=None,\n",
    "                           feature_names=iris.feature_names,\n",
    "                           class_names=iris.target_names,\n",
    "                           filled=True, rounded=True,\n",
    "                           special_characters=True)\n",
    "# Generate and display the graph\n",
    "graph = graphviz.Source(dot_data)\n",
    "graph.render(\"iris_tree\")  # Saves the visualization as a file\n",
    "graph  # Display in supported environments (e.g., Jupyter Notebook)"
   ]
  },
  {
   "cell_type": "markdown",
   "metadata": {},
   "source": [
    "### 2.6. Classifier with Maximum Depth of 3 vs. Fully Grown Tree"
   ]
  },
  {
   "cell_type": "code",
   "execution_count": 6,
   "metadata": {},
   "outputs": [
    {
     "name": "stdout",
     "output_type": "stream",
     "text": [
      "Accuracy (max_depth=3): 1.0\n",
      "Accuracy (full tree): 1.0\n"
     ]
    }
   ],
   "source": [
    "# Decision Tree with maximum depth of 3\n",
    "clf_depth3 = DecisionTreeClassifier(max_depth=3, random_state=42)\n",
    "clf_depth3.fit(X_train, y_train)\n",
    "y_pred_depth3 = clf_depth3.predict(X_test)\n",
    "acc_depth3 = accuracy_score(y_test, y_pred_depth3)\n",
    "print(\"Accuracy (max_depth=3):\", acc_depth3)\n",
    "\n",
    "# Fully grown Decision Tree\n",
    "clf_full = DecisionTreeClassifier(random_state=42)\n",
    "clf_full.fit(X_train, y_train)\n",
    "y_pred_full = clf_full.predict(X_test)\n",
    "acc_full = accuracy_score(y_test, y_pred_full)\n",
    "print(\"Accuracy (full tree):\", acc_full)"
   ]
  },
  {
   "cell_type": "markdown",
   "metadata": {},
   "source": [
    "### 2.7. Classifier with min_samples_split=5 vs. Default Tree"
   ]
  },
  {
   "cell_type": "code",
   "execution_count": 7,
   "metadata": {},
   "outputs": [
    {
     "name": "stdout",
     "output_type": "stream",
     "text": [
      "Accuracy (min_samples_split=5): 1.0\n",
      "Accuracy (default): 1.0\n"
     ]
    }
   ],
   "source": [
    "# Decision Tree with min_samples_split=5\n",
    "clf_min_samples = DecisionTreeClassifier(min_samples_split=5, random_state=42)\n",
    "clf_min_samples.fit(X_train, y_train)\n",
    "y_pred_min_samples = clf_min_samples.predict(X_test)\n",
    "acc_min_samples = accuracy_score(y_test, y_pred_min_samples)\n",
    "print(\"Accuracy (min_samples_split=5):\", acc_min_samples)\n",
    "\n",
    "# Default Decision Tree\n",
    "clf_default = DecisionTreeClassifier(random_state=42)\n",
    "clf_default.fit(X_train, y_train)\n",
    "y_pred_default = clf_default.predict(X_test)\n",
    "acc_default = accuracy_score(y_test, y_pred_default)\n",
    "print(\"Accuracy (default):\", acc_default)"
   ]
  },
  {
   "cell_type": "markdown",
   "metadata": {},
   "source": [
    "### 2.8. Feature Scaling Before Training vs. Unscaled Data"
   ]
  },
  {
   "cell_type": "code",
   "execution_count": 8,
   "metadata": {},
   "outputs": [
    {
     "name": "stdout",
     "output_type": "stream",
     "text": [
      "Accuracy (with feature scaling): 1.0\n"
     ]
    }
   ],
   "source": [
    "from sklearn.preprocessing import StandardScaler\n",
    "\n",
    "# Scale the features\n",
    "scaler = StandardScaler()\n",
    "X_train_scaled = scaler.fit_transform(X_train)\n",
    "X_test_scaled = scaler.transform(X_test)\n",
    "\n",
    "# Train classifier on scaled data\n",
    "clf_scaled = DecisionTreeClassifier(random_state=42)\n",
    "clf_scaled.fit(X_train_scaled, y_train)\n",
    "y_pred_scaled = clf_scaled.predict(X_test_scaled)\n",
    "acc_scaled = accuracy_score(y_test, y_pred_scaled)\n",
    "print(\"Accuracy (with feature scaling):\", acc_scaled)\n",
    "\n",
    "# Note: Decision Trees are generally scale-invariant so accuracy differences may be minimal."
   ]
  },
  {
   "cell_type": "markdown",
   "metadata": {},
   "source": [
    "### 2.9. One-vs-Rest (OvR) Strategy for Multiclass Classification"
   ]
  },
  {
   "cell_type": "code",
   "execution_count": 9,
   "metadata": {},
   "outputs": [
    {
     "name": "stdout",
     "output_type": "stream",
     "text": [
      "Accuracy (One-vs-Rest): 1.0\n"
     ]
    }
   ],
   "source": [
    "from sklearn.multiclass import OneVsRestClassifier\n",
    "\n",
    "# Wrap the Decision Tree Classifier with OneVsRest strategy\n",
    "clf_ovr = OneVsRestClassifier(DecisionTreeClassifier(random_state=42))\n",
    "clf_ovr.fit(X_train, y_train)\n",
    "y_pred_ovr = clf_ovr.predict(X_test)\n",
    "acc_ovr = accuracy_score(y_test, y_pred_ovr)\n",
    "print(\"Accuracy (One-vs-Rest):\", acc_ovr)"
   ]
  },
  {
   "cell_type": "markdown",
   "metadata": {},
   "source": [
    "### 2.10. Displaying Feature Importance Scores"
   ]
  },
  {
   "cell_type": "code",
   "execution_count": 10,
   "metadata": {},
   "outputs": [
    {
     "name": "stdout",
     "output_type": "stream",
     "text": [
      "Feature Importance Scores: [0.         0.01911002 0.89326355 0.08762643]\n"
     ]
    }
   ],
   "source": [
    "# Train the classifier and display feature importances\n",
    "clf_feature = DecisionTreeClassifier(random_state=42)\n",
    "clf_feature.fit(X_train, y_train)\n",
    "print(\"Feature Importance Scores:\", clf_feature.feature_importances_)"
   ]
  },
  {
   "cell_type": "markdown",
   "metadata": {},
   "source": [
    "### 2.11. Decision Tree Regressor: max_depth=5 vs. Unrestricted Tree"
   ]
  },
  {
   "cell_type": "code",
   "execution_count": 11,
   "metadata": {},
   "outputs": [
    {
     "name": "stdout",
     "output_type": "stream",
     "text": [
      "MSE (max_depth=5): 0.5210801561811793\n",
      "MSE (unrestricted tree): 0.5280096503174904\n"
     ]
    }
   ],
   "source": [
    "# Regressor with max_depth=5\n",
    "clf_reg_max5 = DecisionTreeRegressor(max_depth=5, random_state=42)\n",
    "clf_reg_max5.fit(X_train_h, y_train_h)\n",
    "y_pred_reg_max5 = clf_reg_max5.predict(X_test_h)\n",
    "mse_max5 = mean_squared_error(y_test_h, y_pred_reg_max5)\n",
    "print(\"MSE (max_depth=5):\", mse_max5)\n",
    "\n",
    "# Unrestricted (fully grown) regressor\n",
    "clf_reg_full = DecisionTreeRegressor(random_state=42)\n",
    "clf_reg_full.fit(X_train_h, y_train_h)\n",
    "y_pred_reg_full = clf_reg_full.predict(X_test_h)\n",
    "mse_full = mean_squared_error(y_test_h, y_pred_reg_full)\n",
    "print(\"MSE (unrestricted tree):\", mse_full)"
   ]
  },
  {
   "cell_type": "markdown",
   "metadata": {},
   "source": [
    "### 2.12. Cost Complexity Pruning (CCP) & Its Effect on Accuracy"
   ]
  },
  {
   "cell_type": "code",
   "execution_count": 12,
   "metadata": {},
   "outputs": [
    {
     "data": {
      "image/png": "[encoded data removed]",
      "text/plain": [
       "<Figure size 640x480 with 1 Axes>"
      ]
     },
     "metadata": {},
     "output_type": "display_data"
    }
   ],
   "source": [
    "# Obtain the cost complexity pruning path for the unpruned tree\n",
    "path = clf.cost_complexity_pruning_path(X_train, y_train)\n",
    "ccp_alphas = path.ccp_alphas\n",
    "\n",
    "accuracies = []\n",
    "for ccp_alpha in ccp_alphas:\n",
    "    clf_pruned = DecisionTreeClassifier(random_state=42, ccp_alpha=ccp_alpha)\n",
    "    clf_pruned.fit(X_train, y_train)\n",
    "    accuracies.append(accuracy_score(y_test, clf_pruned.predict(X_test)))\n",
    "\n",
    "import matplotlib.pyplot as plt\n",
    "\n",
    "plt.figure()\n",
    "plt.plot(ccp_alphas, accuracies, marker='o', drawstyle=\"steps-post\")\n",
    "plt.xlabel(\"ccp_alpha\")\n",
    "plt.ylabel(\"Accuracy\")\n",
    "plt.title(\"Effect of Cost Complexity Pruning on Accuracy\")\n",
    "plt.show()"
   ]
  },
  {
   "cell_type": "markdown",
   "metadata": {},
   "source": [
    "### 2.13. Evaluating Classifier Performance Using Precision, Recall, and F1-Score"
   ]
  },
  {
   "cell_type": "code",
   "execution_count": 13,
   "metadata": {},
   "outputs": [
    {
     "name": "stdout",
     "output_type": "stream",
     "text": [
      "Classification Report:\n",
      "               precision    recall  f1-score   support\n",
      "\n",
      "           0       1.00      1.00      1.00        19\n",
      "           1       1.00      1.00      1.00        13\n",
      "           2       1.00      1.00      1.00        13\n",
      "\n",
      "    accuracy                           1.00        45\n",
      "   macro avg       1.00      1.00      1.00        45\n",
      "weighted avg       1.00      1.00      1.00        45\n",
      "\n"
     ]
    }
   ],
   "source": [
    "from sklearn.metrics import classification_report\n",
    "\n",
    "clf_metrics = DecisionTreeClassifier(random_state=42)\n",
    "clf_metrics.fit(X_train, y_train)\n",
    "y_pred_metrics = clf_metrics.predict(X_test)\n",
    "\n",
    "# Print a detailed classification report\n",
    "print(\"Classification Report:\\n\", classification_report(y_test, y_pred_metrics))"
   ]
  },
  {
   "cell_type": "markdown",
   "metadata": {},
   "source": [
    "### 2.14. Visualizing the Confusion Matrix with Seaborn"
   ]
  },
  {
   "cell_type": "code",
   "execution_count": 14,
   "metadata": {},
   "outputs": [
    {
     "data": {
      "image/png": "[encoded data removed]",
      "text/plain": [
       "<Figure size 640x480 with 2 Axes>"
      ]
     },
     "metadata": {},
     "output_type": "display_data"
    }
   ],
   "source": [
    "import seaborn as sns\n",
    "from sklearn.metrics import confusion_matrix\n",
    "\n",
    "cm = confusion_matrix(y_test, y_pred)\n",
    "plt.figure()\n",
    "sns.heatmap(cm, annot=True, fmt='d', cmap='Blues',\n",
    "            xticklabels=iris.target_names,\n",
    "            yticklabels=iris.target_names)\n",
    "plt.xlabel(\"Predicted Label\")\n",
    "plt.ylabel(\"True Label\")\n",
    "plt.title(\"Confusion Matrix\")\n",
    "plt.show()"
   ]
  },
  {
   "cell_type": "markdown",
   "metadata": {},
   "source": [
    "### 2.15. Hyperparameter Tuning Using GridSearchCV"
   ]
  },
  {
   "cell_type": "code",
   "execution_count": 15,
   "metadata": {},
   "outputs": [
    {
     "name": "stdout",
     "output_type": "stream",
     "text": [
      "Best Parameters: {'max_depth': None, 'min_samples_split': 10}\n",
      "Best Cross-Validation Accuracy: 0.9428571428571428\n"
     ]
    }
   ],
   "source": [
    "from sklearn.model_selection import GridSearchCV\n",
    "\n",
    "# Define parameter grid for max_depth and min_samples_split\n",
    "param_grid = {\n",
    "    'max_depth': [None, 3, 5, 7],\n",
    "    'min_samples_split': [2, 5, 10]\n",
    "}\n",
    "\n",
    "grid_search = GridSearchCV(DecisionTreeClassifier(random_state=42), param_grid, cv=5)\n",
    "grid_search.fit(X_train, y_train)\n",
    "\n",
    "print(\"Best Parameters:\", grid_search.best_params_)\n",
    "print(\"Best Cross-Validation Accuracy:\", grid_search.best_score_)"
   ]
  }
 ],
 "metadata": {
  "kernelspec": {
   "display_name": "base",
   "language": "python",
   "name": "python3"
  },
  "language_info": {
   "codemirror_mode": {
    "name": "ipython",
    "version": 3
   },
   "file_extension": ".py",
   "mimetype": "text/x-python",
   "name": "python",
   "nbconvert_exporter": "python",
   "pygments_lexer": "ipython3",
   "version": "3.12.7"
  }
 },
 "nbformat": 4,
 "nbformat_minor": 2
}

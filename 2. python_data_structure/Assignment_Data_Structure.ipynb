{
 "cells": [
  {
   "cell_type": "markdown",
   "id": "5f24fece-ed2f-4c43-ab07-6909f4903ba3",
   "metadata": {},
   "source": [
    "### 1. Discuss String Slicing and Provide Examples\n",
    "\n",
    "**String Slicing:**\n",
    "String slicing allows you to extract parts of a string using a colon-separated notation. The syntax is `string[start:end:step]`, where `start` is the index where the slice begins, `end` is the index where the slice ends (exclusive), and `step` is the number of characters to skip between each character in the slice.\n",
    "\n",
    "**Detailed Examples:**"
   ]
  },
  {
   "cell_type": "code",
   "execution_count": 11,
   "id": "cc40c1ac-5655-4d6c-9040-6843e6f56dc4",
   "metadata": {},
   "outputs": [
    {
     "name": "stdout",
     "output_type": "stream",
     "text": [
      "Hello\n"
     ]
    }
   ],
   "source": [
    "# Example String\n",
    "text = \"Hello, World!\"\n",
    "\n",
    "# Slicing from the beginning to the 5th character (not inclusive)\n",
    "slice1 = text[0:5]  # Output: 'Hello'\n",
    "print(slice1)"
   ]
  },
  {
   "cell_type": "code",
   "execution_count": 12,
   "id": "c7b71b83-d770-4655-a26e-69bacf5b4766",
   "metadata": {},
   "outputs": [
    {
     "name": "stdout",
     "output_type": "stream",
     "text": [
      "World!\n"
     ]
    }
   ],
   "source": [
    "# Slicing from the 7th character to the end\n",
    "slice2 = text[7:]  # Output: 'World!'\n",
    "print(slice2)"
   ]
  },
  {
   "cell_type": "code",
   "execution_count": 13,
   "id": "778aca70-3677-4e30-9928-3fd438bf40e2",
   "metadata": {},
   "outputs": [
    {
     "name": "stdout",
     "output_type": "stream",
     "text": [
      "Hlo\n"
     ]
    }
   ],
   "source": [
    "# Slicing from the beginning to the 5th character with step of 2\n",
    "slice3 = text[0:5:2]  # Output: 'Hlo'\n",
    "print(slice3)"
   ]
  },
  {
   "cell_type": "code",
   "execution_count": 14,
   "id": "07322bd7-98cb-434c-87e4-04952ac2ea06",
   "metadata": {},
   "outputs": [
    {
     "name": "stdout",
     "output_type": "stream",
     "text": [
      "Hlo ol!\n"
     ]
    }
   ],
   "source": [
    "# Slicing the entire string with step of 2\n",
    "slice4 = text[::2]  # Output: 'Hlo ol!'\n",
    "print(slice4)"
   ]
  },
  {
   "cell_type": "code",
   "execution_count": 15,
   "id": "71e79f0d-7acd-4498-952c-17ad09217d61",
   "metadata": {},
   "outputs": [
    {
     "name": "stdout",
     "output_type": "stream",
     "text": [
      "World\n"
     ]
    }
   ],
   "source": [
    "# Slicing with negative indexing\n",
    "slice5 = text[-6:-1]  # Output: 'World'\n",
    "print(slice5)"
   ]
  },
  {
   "cell_type": "code",
   "execution_count": 16,
   "id": "c2517681-df56-4049-8370-3dee78e087c9",
   "metadata": {},
   "outputs": [
    {
     "name": "stdout",
     "output_type": "stream",
     "text": [
      "!dlroW ,olleH\n"
     ]
    }
   ],
   "source": [
    "# Reversing a string\n",
    "reverse_text = text[::-1]  # Output: '!dlroW ,olleH'\n",
    "print(reverse_text)"
   ]
  },
  {
   "cell_type": "markdown",
   "id": "a27086d5-695a-4330-9010-aeea1692e477",
   "metadata": {},
   "source": [
    "### 2. Explain the Key Features of Lists in Python\n",
    "\n",
    "**Key Features:**\n",
    "\n",
    "- **Ordered**: Lists maintain the order of elements as they are added.\n",
    "- **Mutable**: You can change, add, and remove elements after the list is created.\n",
    "- **Heterogeneous**: A single list can contain elements of different data types (integers, strings, floats, etc.).\n",
    "- **Dynamic**: Lists can grow and shrink as needed, without a fixed size.\n",
    "- **Indexable**: Elements can be accessed using their index, starting from 0.\n",
    "\n",
    "**Detailed Examples:**"
   ]
  },
  {
   "cell_type": "code",
   "execution_count": 17,
   "id": "f44ded46-448c-4c25-800f-c50ffda0eadb",
   "metadata": {},
   "outputs": [
    {
     "name": "stdout",
     "output_type": "stream",
     "text": [
      "[1, 'Hello', 3.14, True]\n"
     ]
    }
   ],
   "source": [
    "# Creating a list with different data types\n",
    "my_list = [1, \"Hello\", 3.14, True]\n",
    "\n",
    "print(my_list)"
   ]
  },
  {
   "cell_type": "code",
   "execution_count": 18,
   "id": "00bdaa67-472f-441a-b255-e7232993efac",
   "metadata": {},
   "outputs": [
    {
     "name": "stdout",
     "output_type": "stream",
     "text": [
      "1\n"
     ]
    }
   ],
   "source": [
    "# Accessing elements by index\n",
    "first_element = my_list[0]  # Output: 1\n",
    "print(first_element)"
   ]
  },
  {
   "cell_type": "code",
   "execution_count": 19,
   "id": "ddd2555b-42c4-4f03-a4e0-38544d09922a",
   "metadata": {},
   "outputs": [
    {
     "name": "stdout",
     "output_type": "stream",
     "text": [
      "True\n"
     ]
    }
   ],
   "source": [
    "# Accessing the last element\n",
    "last_element = my_list[-1]  # Output: True\n",
    "print(last_element)"
   ]
  },
  {
   "cell_type": "code",
   "execution_count": 20,
   "id": "3e09077e-bbe2-4685-aa53-490434cea85a",
   "metadata": {},
   "outputs": [
    {
     "name": "stdout",
     "output_type": "stream",
     "text": [
      "[1, 'World', 3.14, True]\n"
     ]
    }
   ],
   "source": [
    "# Modifying elements\n",
    "my_list[1] = \"World\"  # List becomes [1, \"World\", 3.14, True]\n",
    "print(my_list)"
   ]
  },
  {
   "cell_type": "code",
   "execution_count": 21,
   "id": "44f37cd5-5328-4e2b-ab08-2a61cee6349c",
   "metadata": {},
   "outputs": [
    {
     "name": "stdout",
     "output_type": "stream",
     "text": [
      "[1, 'World', 3.14, True, 42]\n"
     ]
    }
   ],
   "source": [
    "# Adding elements\n",
    "my_list.append(42)  # List becomes [1, \"World\", 3.14, True, 42]\n",
    "print(my_list)"
   ]
  },
  {
   "cell_type": "code",
   "execution_count": 22,
   "id": "d0e68fc5-49b2-498a-9730-03d72c431dc0",
   "metadata": {},
   "outputs": [
    {
     "name": "stdout",
     "output_type": "stream",
     "text": [
      "[1, 'Python', 'World', 3.14, True, 42]\n"
     ]
    }
   ],
   "source": [
    "# Inserting elements at a specific position\n",
    "my_list.insert(1, \"Python\")  # List becomes [1, \"Python\", \"World\", 3.14, True, 42]\n",
    "print(my_list)"
   ]
  },
  {
   "cell_type": "code",
   "execution_count": 23,
   "id": "4cdd12df-5253-4af9-8f9d-a7562989cc0c",
   "metadata": {},
   "outputs": [
    {
     "name": "stdout",
     "output_type": "stream",
     "text": [
      "[1, 'Python', 'World', True, 42]\n"
     ]
    }
   ],
   "source": [
    "# Removing elements by value\n",
    "my_list.remove(3.14)  # List becomes [1, \"Python\", \"World\", True, 42]\n",
    "print(my_list)"
   ]
  },
  {
   "cell_type": "code",
   "execution_count": 24,
   "id": "66e24237-38d6-4dcc-8e20-b31ecce51610",
   "metadata": {},
   "outputs": [
    {
     "name": "stdout",
     "output_type": "stream",
     "text": [
      "World\n",
      "[1, 'Python', True, 42]\n"
     ]
    }
   ],
   "source": [
    "# Removing elements by index\n",
    "popped_element = my_list.pop(2)  # Output: \"World\", List becomes [1, \"Python\", True, 42]\n",
    "print(popped_element)\n",
    "print(my_list)"
   ]
  },
  {
   "cell_type": "markdown",
   "id": "8c41328e-3d45-40e9-87a2-d42396305d21",
   "metadata": {},
   "source": [
    "### 3. Describe How to Access, Modify, and Delete Elements in a List with Examples\n",
    "\n",
    "**Accessing Elements:**\n",
    "\n",
    "You can access elements in a list by referring to their index."
   ]
  },
  {
   "cell_type": "code",
   "execution_count": 25,
   "id": "6525116a-ad26-49bb-8daa-553efbc2fdaf",
   "metadata": {},
   "outputs": [],
   "source": [
    "# Example list\n",
    "my_list = [10, 20, 30, 40, 50]"
   ]
  },
  {
   "cell_type": "code",
   "execution_count": 26,
   "id": "3c772866-c5d3-4f00-84cf-6233d2a33208",
   "metadata": {},
   "outputs": [
    {
     "name": "stdout",
     "output_type": "stream",
     "text": [
      "10\n"
     ]
    }
   ],
   "source": [
    "# Accessing the first element\n",
    "print(my_list[0])  # Output: 10"
   ]
  },
  {
   "cell_type": "code",
   "execution_count": 27,
   "id": "365d708e-917f-4932-a0bf-c2c736749bd2",
   "metadata": {},
   "outputs": [
    {
     "name": "stdout",
     "output_type": "stream",
     "text": [
      "50\n"
     ]
    }
   ],
   "source": [
    "# Accessing the last element using negative indexing\n",
    "print(my_list[-1])  # Output: 50"
   ]
  },
  {
   "cell_type": "code",
   "execution_count": 28,
   "id": "cc70b62f-7586-4634-ab93-d8dabf7a785f",
   "metadata": {},
   "outputs": [
    {
     "name": "stdout",
     "output_type": "stream",
     "text": [
      "[20, 30, 40]\n"
     ]
    }
   ],
   "source": [
    "# Accessing a range of elements (slicing)\n",
    "print(my_list[1:4])  # Output: [20, 30, 40]"
   ]
  },
  {
   "cell_type": "markdown",
   "id": "d836cfb3-14c4-4834-938e-9945b40cf893",
   "metadata": {},
   "source": [
    "**Modifying Elements:**\n",
    "\n",
    "Lists are mutable, so you can change the value of any element."
   ]
  },
  {
   "cell_type": "code",
   "execution_count": 29,
   "id": "6bccc680-f328-410c-8187-ffaac5272cab",
   "metadata": {},
   "outputs": [
    {
     "name": "stdout",
     "output_type": "stream",
     "text": [
      "[10, 25, 30, 40, 50]\n"
     ]
    }
   ],
   "source": [
    "# Modifying the second element\n",
    "my_list[1] = 25\n",
    "print(my_list)  # Output: [10, 25, 30, 40, 50]"
   ]
  },
  {
   "cell_type": "code",
   "execution_count": 30,
   "id": "60e5e0f3-8160-4d7d-ae0f-cbd3e37db24c",
   "metadata": {},
   "outputs": [
    {
     "name": "stdout",
     "output_type": "stream",
     "text": [
      "[10, 25, 35, 45, 50]\n"
     ]
    }
   ],
   "source": [
    "# Modifying a range of elements\n",
    "my_list[2:4] = [35, 45]\n",
    "print(my_list)  # Output: [10, 25, 35, 45, 50]"
   ]
  },
  {
   "cell_type": "markdown",
   "id": "d92f18d4-04f1-4872-a97f-c5c196b01436",
   "metadata": {},
   "source": [
    "**Deleting Elements:**\n",
    "\n",
    "You can delete elements using the `del` statement, `pop()`, or `remove()` method."
   ]
  },
  {
   "cell_type": "code",
   "execution_count": 32,
   "id": "544cec85-ba97-4178-b1f4-12a65c4736f6",
   "metadata": {},
   "outputs": [
    {
     "name": "stdout",
     "output_type": "stream",
     "text": [
      "[25, 35, 45, 50]\n"
     ]
    }
   ],
   "source": [
    "# Using del to delete the first element\n",
    "del my_list[0]\n",
    "print(my_list)  # Output: [25, 35, 45, 50]"
   ]
  },
  {
   "cell_type": "code",
   "execution_count": 33,
   "id": "a92dfdc5-0698-4167-810c-a09a14760081",
   "metadata": {},
   "outputs": [
    {
     "name": "stdout",
     "output_type": "stream",
     "text": [
      "50\n",
      "[25, 35, 45]\n"
     ]
    }
   ],
   "source": [
    "# Using pop() to remove and return the last element\n",
    "last_element = my_list.pop()\n",
    "print(last_element)  # Output: 50\n",
    "print(my_list)  # Output: [25, 35, 45]"
   ]
  },
  {
   "cell_type": "code",
   "execution_count": 34,
   "id": "6fb1b348-a31b-4058-a7fc-14572456c8a9",
   "metadata": {},
   "outputs": [
    {
     "name": "stdout",
     "output_type": "stream",
     "text": [
      "[25, 45]\n"
     ]
    }
   ],
   "source": [
    "# Using remove() to delete by value\n",
    "my_list.remove(35)\n",
    "print(my_list)  # Output: [25, 45]"
   ]
  },
  {
   "cell_type": "markdown",
   "id": "91b68d0e-7bc1-4d66-a7c4-b5603aa5fd23",
   "metadata": {},
   "source": [
    "### 4. Compare and Contrast Tuples and Lists with Examples\n",
    "\n",
    "**Tuples:**\n",
    "\n",
    "- **Ordered**: Tuples maintain the order of elements.\n",
    "- **Immutable**: Once a tuple is created, you cannot modify its elements.\n",
    "- **Heterogeneous**: Can contain different data types.\n",
    "- **Fixed Size**: Cannot change size after creation.\n",
    "- **Indexable**: Elements can be accessed using their index.\n",
    "\n",
    "**Lists:**\n",
    "\n",
    "- **Ordered**: Lists maintain the order of elements.\n",
    "- **Mutable**: Elements can be changed, added, or removed.\n",
    "- **Heterogeneous**: Can contain different data types.\n",
    "- **Dynamic Size**: Can grow and shrink.\n",
    "- **Indexable**: Elements can be accessed using their index.\n",
    "\n",
    "**Examples:**"
   ]
  },
  {
   "cell_type": "code",
   "execution_count": 35,
   "id": "a52a08d6-37ed-4401-8df3-906873226d78",
   "metadata": {},
   "outputs": [],
   "source": [
    "# Tuple example\n",
    "my_tuple = (1, \"Hello\", 3.14, True)\n",
    "\n",
    "# List example\n",
    "my_list = [1, \"Hello\", 3.14, True]"
   ]
  },
  {
   "cell_type": "code",
   "execution_count": 36,
   "id": "aa543736-0ff2-4aff-aec2-17076e0e9cdb",
   "metadata": {},
   "outputs": [
    {
     "name": "stdout",
     "output_type": "stream",
     "text": [
      "Hello\n"
     ]
    }
   ],
   "source": [
    "# Accessing elements in a tuple\n",
    "print(my_tuple[1])  # Output: 'Hello'"
   ]
  },
  {
   "cell_type": "code",
   "execution_count": 37,
   "id": "be52b9bb-c853-43b7-9bcd-dc350396859c",
   "metadata": {},
   "outputs": [
    {
     "name": "stdout",
     "output_type": "stream",
     "text": [
      "Hello\n"
     ]
    }
   ],
   "source": [
    "# Accessing elements in a list\n",
    "print(my_list[1])  # Output: 'Hello'"
   ]
  },
  {
   "cell_type": "code",
   "execution_count": 38,
   "id": "ed4858d7-2be5-4d79-b689-c26ffdd36d0b",
   "metadata": {},
   "outputs": [
    {
     "ename": "TypeError",
     "evalue": "'tuple' object does not support item assignment",
     "output_type": "error",
     "traceback": [
      "\u001b[1;31m---------------------------------------------------------------------------\u001b[0m",
      "\u001b[1;31mTypeError\u001b[0m                                 Traceback (most recent call last)",
      "Cell \u001b[1;32mIn[38], line 2\u001b[0m\n\u001b[0;32m      1\u001b[0m \u001b[38;5;66;03m# Trying to modify a tuple element (will raise an error)\u001b[39;00m\n\u001b[1;32m----> 2\u001b[0m my_tuple[\u001b[38;5;241m1\u001b[39m] \u001b[38;5;241m=\u001b[39m \u001b[38;5;124m\"\u001b[39m\u001b[38;5;124mWorld\u001b[39m\u001b[38;5;124m\"\u001b[39m\n",
      "\u001b[1;31mTypeError\u001b[0m: 'tuple' object does not support item assignment"
     ]
    }
   ],
   "source": [
    "# Trying to modify a tuple element (will raise an error)\n",
    "my_tuple[1] = \"World\"  # Output: TypeError: 'tuple' object does not support item assignment"
   ]
  },
  {
   "cell_type": "code",
   "execution_count": 39,
   "id": "fdc15df8-a410-4138-ad1c-aa11ba02665f",
   "metadata": {},
   "outputs": [
    {
     "name": "stdout",
     "output_type": "stream",
     "text": [
      "[1, 'World', 3.14, True]\n"
     ]
    }
   ],
   "source": [
    "# Modifying a list element\n",
    "my_list[1] = \"World\"\n",
    "print(my_list)  # Output: [1, 'World', 3.14, True]"
   ]
  },
  {
   "cell_type": "markdown",
   "id": "5e1c4318-cdf9-4457-b883-6aa6381e12d5",
   "metadata": {},
   "source": [
    "### 5. Describe the Key Features of Sets and Provide Examples of Their Use\n",
    "\n",
    "**Key Features:**\n",
    "\n",
    "- **Unordered**: Sets do not maintain any order of elements.\n",
    "- **Mutable**: Elements can be added or removed.\n",
    "- **Unique Elements**: No duplicate elements are allowed.\n",
    "- **Heterogeneous**: Can contain different data types.\n",
    "\n",
    "**Examples:**"
   ]
  },
  {
   "cell_type": "code",
   "execution_count": 40,
   "id": "e3c06557-6b59-4205-af39-731aefc735fb",
   "metadata": {},
   "outputs": [
    {
     "name": "stdout",
     "output_type": "stream",
     "text": [
      "{1, 2, 3, 4}\n"
     ]
    }
   ],
   "source": [
    "# Creating a set with unique elements\n",
    "my_set = {1, 2, 3, 4, 4}  # Output: {1, 2, 3, 4}\n",
    "print(my_set)"
   ]
  },
  {
   "cell_type": "code",
   "execution_count": 41,
   "id": "030ed4cb-2f30-4d3b-b147-151e18151eac",
   "metadata": {},
   "outputs": [
    {
     "name": "stdout",
     "output_type": "stream",
     "text": [
      "{1, 2, 3, 4, 5}\n"
     ]
    }
   ],
   "source": [
    "# Adding elements to a set\n",
    "my_set.add(5)\n",
    "print(my_set)  # Output: {1, 2, 3, 4, 5}"
   ]
  },
  {
   "cell_type": "code",
   "execution_count": 42,
   "id": "f912f9dc-9a00-48a6-a0d2-9e375f67e103",
   "metadata": {},
   "outputs": [
    {
     "name": "stdout",
     "output_type": "stream",
     "text": [
      "{1, 2, 4, 5}\n"
     ]
    }
   ],
   "source": [
    "# Removing elements from a set\n",
    "my_set.remove(3)\n",
    "print(my_set)  # Output: {1, 2, 4, 5}"
   ]
  },
  {
   "cell_type": "code",
   "execution_count": 43,
   "id": "a6903a93-b6c9-4391-9536-e40e96d37994",
   "metadata": {},
   "outputs": [],
   "source": [
    "# Set operations: union, intersection, difference\n",
    "set_a = {1, 2, 3}\n",
    "set_b = {3, 4, 5}"
   ]
  },
  {
   "cell_type": "code",
   "execution_count": 44,
   "id": "bd3aedfd-2ed2-4413-891a-26c254c2a455",
   "metadata": {},
   "outputs": [
    {
     "name": "stdout",
     "output_type": "stream",
     "text": [
      "{1, 2, 3, 4, 5}\n"
     ]
    }
   ],
   "source": [
    "# Union\n",
    "union_set = set_a | set_b  # Output: {1, 2, 3, 4, 5}\n",
    "print(union_set)"
   ]
  },
  {
   "cell_type": "code",
   "execution_count": 45,
   "id": "00605ba5-9d0d-4aa9-8236-21008cb8e306",
   "metadata": {},
   "outputs": [
    {
     "name": "stdout",
     "output_type": "stream",
     "text": [
      "{3}\n"
     ]
    }
   ],
   "source": [
    "# Intersection\n",
    "intersection_set = set_a & set_b  # Output: {3}\n",
    "print(intersection_set)"
   ]
  },
  {
   "cell_type": "code",
   "execution_count": 46,
   "id": "43cf875c-8a99-46ec-82a9-ea20e53ab9b3",
   "metadata": {},
   "outputs": [
    {
     "name": "stdout",
     "output_type": "stream",
     "text": [
      "{1, 2}\n"
     ]
    }
   ],
   "source": [
    "# Difference\n",
    "difference_set = set_a - set_b  # Output: {1, 2}\n",
    "print(difference_set)"
   ]
  },
  {
   "cell_type": "markdown",
   "id": "cab6625b-88ea-4125-afa0-7492473d35e8",
   "metadata": {},
   "source": [
    "### 6. Discuss the Use Cases of Tuples and Sets in Python Programming\n",
    "\n",
    "**Tuples:**\n",
    "\n",
    "- **Fixed Data**: Use tuples for storing fixed collections of items, like coordinates (latitude, longitude) or RGB color values.\n",
    "- **Dictionary Keys**: Since tuples are immutable, they can be used as keys in dictionaries.\n",
    "- **Return Multiple Values**: Tuples can be used to return multiple values from a function."
   ]
  },
  {
   "cell_type": "code",
   "execution_count": 47,
   "id": "7586a6b5-a5fb-4c14-ab34-5e79fcb7850f",
   "metadata": {},
   "outputs": [
    {
     "name": "stdout",
     "output_type": "stream",
     "text": [
      "New York\n"
     ]
    }
   ],
   "source": [
    "# Fixed data example\n",
    "coordinates = (40.7128, 74.0060)  # Latitude and Longitude of New York City\n",
    "\n",
    "# Using a tuple as a dictionary key\n",
    "locations = {coordinates: \"New York\"}\n",
    "print(locations[(40.7128, 74.0060)])  # Output: 'New York'"
   ]
  },
  {
   "cell_type": "code",
   "execution_count": 48,
   "id": "80b1963d-99b7-4f5b-9574-382ab8405813",
   "metadata": {},
   "outputs": [
    {
     "name": "stdout",
     "output_type": "stream",
     "text": [
      "Alice\n",
      "30\n"
     ]
    }
   ],
   "source": [
    "# Returning multiple values from a function\n",
    "def get_person():\n",
    "    return (\"Alice\", 30)\n",
    "\n",
    "name, age = get_person()\n",
    "print(name)  # Output: 'Alice'\n",
    "print(age)  # Output: 30"
   ]
  },
  {
   "cell_type": "markdown",
   "id": "79731f9a-cbe1-4c44-a5cc-bc775327d81d",
   "metadata": {},
   "source": [
    "**Sets:**\n",
    "\n",
    "- **Membership Testing**: Efficiently check if an element is in a set.\n",
    "- **Unique Elements**: Store collections of unique items, such as unique user IDs.\n",
    "- **Mathematical Set Operations**: Perform operations like union, intersection, and difference.\n",
    "\n",
    "**Examples:**"
   ]
  },
  {
   "cell_type": "code",
   "execution_count": 49,
   "id": "4715f677-02de-456f-bc12-a6fc538146e5",
   "metadata": {},
   "outputs": [
    {
     "name": "stdout",
     "output_type": "stream",
     "text": [
      "True\n"
     ]
    }
   ],
   "source": [
    "# Membership testing\n",
    "user_ids = {101, 102, 103, 104}\n",
    "print(101 in user_ids)  # Output: True"
   ]
  },
  {
   "cell_type": "code",
   "execution_count": 50,
   "id": "b42827ac-04b5-48f6-8a00-212403390e1f",
   "metadata": {},
   "outputs": [
    {
     "name": "stdout",
     "output_type": "stream",
     "text": [
      "{'test@example.com', 'user@example.com'}\n"
     ]
    }
   ],
   "source": [
    "# Ensuring unique elements\n",
    "email_list = [\"test@example.com\", \"test@example.com\", \"user@example.com\"]\n",
    "unique_emails = set(email_list)\n",
    "print(unique_emails)  # Output: {'test@example.com', 'user@example.com'}"
   ]
  },
  {
   "cell_type": "code",
   "execution_count": 51,
   "id": "fa6dc526-06d1-4028-8bd3-c43dcadac8c9",
   "metadata": {},
   "outputs": [
    {
     "name": "stdout",
     "output_type": "stream",
     "text": [
      "{1, 2, 3, 4, 5}\n"
     ]
    }
   ],
   "source": [
    "# Mathematical set operations\n",
    "set_a = {1, 2, 3}\n",
    "set_b = {3, 4, 5}\n",
    "\n",
    "# Union\n",
    "print(set_a | set_b)  # Output: {1, 2, 3, 4, 5}"
   ]
  },
  {
   "cell_type": "code",
   "execution_count": 52,
   "id": "89cf11dd-67a6-405c-9b56-7bb654977e56",
   "metadata": {},
   "outputs": [
    {
     "name": "stdout",
     "output_type": "stream",
     "text": [
      "{3}\n"
     ]
    }
   ],
   "source": [
    "# Intersection\n",
    "print(set_a & set_b)  # Output: {3}"
   ]
  },
  {
   "cell_type": "code",
   "execution_count": 53,
   "id": "f1172095-e289-438f-88c2-255b1909359d",
   "metadata": {},
   "outputs": [
    {
     "name": "stdout",
     "output_type": "stream",
     "text": [
      "{1, 2}\n"
     ]
    }
   ],
   "source": [
    "# Difference\n",
    "print(set_a - set_b)  # Output: {1, 2}"
   ]
  },
  {
   "cell_type": "markdown",
   "id": "b671d425-3264-4f78-8869-4db44135a1b4",
   "metadata": {},
   "source": [
    "### 7. Describe How to Add, Modify, and Delete Items in a Dictionary with Examples\n",
    "\n",
    "**Adding Items:**\n",
    "\n",
    "You can add new key-value pairs to a dictionary by simply assigning a value to a new key."
   ]
  },
  {
   "cell_type": "code",
   "execution_count": 54,
   "id": "3d838f39-5d02-4874-bf56-2b42188e8af0",
   "metadata": {},
   "outputs": [
    {
     "name": "stdout",
     "output_type": "stream",
     "text": [
      "{'name': 'Alice', 'age': 25}\n"
     ]
    }
   ],
   "source": [
    "# Creating a dictionary\n",
    "my_dict = {\"name\": \"Alice\", \"age\": 25}\n",
    "print(my_dict)"
   ]
  },
  {
   "cell_type": "code",
   "execution_count": 55,
   "id": "13f36ba9-dce0-444a-8a4c-0dca1cd56fcf",
   "metadata": {},
   "outputs": [
    {
     "name": "stdout",
     "output_type": "stream",
     "text": [
      "{'name': 'Alice', 'age': 25, 'city': 'New York'}\n"
     ]
    }
   ],
   "source": [
    "# Adding a new key-value pair\n",
    "my_dict[\"city\"] = \"New York\"\n",
    "print(my_dict)  # Output: {\"name\": \"Alice\", \"age\": 25, \"city\": \"New York\"}"
   ]
  },
  {
   "cell_type": "markdown",
   "id": "ec41168c-adea-40d4-b5a8-ae9b1ea70317",
   "metadata": {},
   "source": [
    "**Modifying Items:**\n",
    "\n",
    "Modify the value associated with an existing key by assigning a new value to that key."
   ]
  },
  {
   "cell_type": "code",
   "execution_count": 56,
   "id": "309a6830-bafc-44dd-b734-e8fcc2a53fc4",
   "metadata": {},
   "outputs": [
    {
     "name": "stdout",
     "output_type": "stream",
     "text": [
      "{'name': 'Alice', 'age': 26, 'city': 'New York'}\n"
     ]
    }
   ],
   "source": [
    "# Modifying an existing key-value pair\n",
    "my_dict[\"age\"] = 26\n",
    "print(my_dict)  # Output: {\"name\": \"Alice\", \"age\": 26, \"city\": \"New York\"}"
   ]
  },
  {
   "cell_type": "markdown",
   "id": "080de55f-3853-4eb5-a4eb-14923b193d23",
   "metadata": {},
   "source": [
    "**Deleting Items:**\n",
    "\n",
    "Delete key-value pairs using the `del` statement, `pop()`, or `clear()` method."
   ]
  },
  {
   "cell_type": "code",
   "execution_count": 57,
   "id": "6c57ae4f-3bf7-4129-9bc5-3f678cc30177",
   "metadata": {},
   "outputs": [
    {
     "name": "stdout",
     "output_type": "stream",
     "text": [
      "{'name': 'Alice', 'age': 26}\n"
     ]
    }
   ],
   "source": [
    "# Using del to delete a key-value pair\n",
    "del my_dict[\"city\"]\n",
    "print(my_dict)  # Output: {\"name\": \"Alice\", \"age\": 26}"
   ]
  },
  {
   "cell_type": "code",
   "execution_count": 58,
   "id": "8a7ce20d-ec47-498b-bb78-697c796cdc8a",
   "metadata": {},
   "outputs": [
    {
     "name": "stdout",
     "output_type": "stream",
     "text": [
      "26\n",
      "{'name': 'Alice'}\n"
     ]
    }
   ],
   "source": [
    "# Using pop() to delete and return a value\n",
    "age = my_dict.pop(\"age\")\n",
    "print(age)  # Output: 26\n",
    "print(my_dict)  # Output: {\"name\": \"Alice\"}"
   ]
  },
  {
   "cell_type": "code",
   "execution_count": 59,
   "id": "94145c20-fbbb-489b-be3e-fd0e014cf411",
   "metadata": {},
   "outputs": [
    {
     "name": "stdout",
     "output_type": "stream",
     "text": [
      "{}\n"
     ]
    }
   ],
   "source": [
    "# Using clear() to remove all items\n",
    "my_dict.clear()\n",
    "print(my_dict)  # Output: {}"
   ]
  },
  {
   "cell_type": "markdown",
   "id": "7986084d-0ec4-4ce0-b2ec-3d3ae6483452",
   "metadata": {},
   "source": [
    "### 8. Discuss the Importance of Dictionary Keys Being Immutable and Provide Examples\n",
    "\n",
    "**Importance:**\n",
    "\n",
    "- **Hashable**: Dictionary keys must be hashable to ensure efficient lookup. Immutability guarantees that the hash value of a key does not change, which is crucial for maintaining the integrity of the dictionary.\n",
    "- **Consistency**: Immutable keys ensure that the key-value pairs can be reliably accessed and managed without unexpected changes.\n",
    "\n",
    "**Examples:**"
   ]
  },
  {
   "cell_type": "code",
   "execution_count": 60,
   "id": "abfa19ac-0c5d-49fb-b0ce-825cd810340b",
   "metadata": {},
   "outputs": [],
   "source": [
    "# Using a tuple as a dictionary key\n",
    "coordinates = {(40.7128, 74.0060): \"New York\"}"
   ]
  },
  {
   "cell_type": "code",
   "execution_count": 61,
   "id": "19e2d91c-3e91-4e01-9b7b-19932b2b9a37",
   "metadata": {},
   "outputs": [
    {
     "name": "stdout",
     "output_type": "stream",
     "text": [
      "New York\n"
     ]
    }
   ],
   "source": [
    "# Immutable keys ensure consistent access\n",
    "print(coordinates[(40.7128, 74.0060)])  # Output: 'New York'"
   ]
  },
  {
   "cell_type": "code",
   "execution_count": 62,
   "id": "56ebbc27-a1d4-4245-83e3-e6d94bf40e74",
   "metadata": {},
   "outputs": [
    {
     "ename": "TypeError",
     "evalue": "unhashable type: 'list'",
     "output_type": "error",
     "traceback": [
      "\u001b[1;31m---------------------------------------------------------------------------\u001b[0m",
      "\u001b[1;31mTypeError\u001b[0m                                 Traceback (most recent call last)",
      "Cell \u001b[1;32mIn[62], line 2\u001b[0m\n\u001b[0;32m      1\u001b[0m \u001b[38;5;66;03m# Trying to use a list as a dictionary key (will raise an error)\u001b[39;00m\n\u001b[1;32m----> 2\u001b[0m my_dict \u001b[38;5;241m=\u001b[39m {[\u001b[38;5;241m1\u001b[39m, \u001b[38;5;241m2\u001b[39m, \u001b[38;5;241m3\u001b[39m]: \u001b[38;5;124m\"\u001b[39m\u001b[38;5;124mNumbers\u001b[39m\u001b[38;5;124m\"\u001b[39m}\n",
      "\u001b[1;31mTypeError\u001b[0m: unhashable type: 'list'"
     ]
    }
   ],
   "source": [
    "# Trying to use a list as a dictionary key (will raise an error)\n",
    "my_dict = {[1, 2, 3]: \"Numbers\"}  # Output: TypeError: unhashable type: 'list'"
   ]
  },
  {
   "cell_type": "code",
   "execution_count": 63,
   "id": "1c17acd9-b87e-46eb-99ad-36f8a23f7044",
   "metadata": {},
   "outputs": [
    {
     "name": "stdout",
     "output_type": "stream",
     "text": [
      "Numbers\n"
     ]
    }
   ],
   "source": [
    "# Correct usage with immutable keys (tuples)\n",
    "my_dict = {(1, 2, 3): \"Numbers\"}\n",
    "print(my_dict[(1, 2, 3)])  # Output: 'Numbers'"
   ]
  },
  {
   "cell_type": "code",
   "execution_count": null,
   "id": "7eb7b151-6cf9-44b7-bfc2-ace66d2aef19",
   "metadata": {},
   "outputs": [],
   "source": []
  }
 ],
 "metadata": {
  "kernelspec": {
   "display_name": "Python 3 (ipykernel)",
   "language": "python",
   "name": "python3"
  },
  "language_info": {
   "codemirror_mode": {
    "name": "ipython",
    "version": 3
   },
   "file_extension": ".py",
   "mimetype": "text/x-python",
   "name": "python",
   "nbconvert_exporter": "python",
   "pygments_lexer": "ipython3",
   "version": "3.11.7"
  }
 },
 "nbformat": 4,
 "nbformat_minor": 5
}

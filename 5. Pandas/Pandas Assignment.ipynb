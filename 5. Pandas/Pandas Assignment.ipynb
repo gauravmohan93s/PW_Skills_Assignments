{
 "cells": [
  {
   "cell_type": "markdown",
   "metadata": {},
   "source": [
    "# Assignments: Data Structures in Python\n",
    "\n",
    "1. Write a code to reverse a string\n",
    "\n",
    "Explanation: Slicing with a negative step efficiently reverses the string's character order."
   ]
  },
  {
   "cell_type": "code",
   "execution_count": 13,
   "metadata": {},
   "outputs": [
    {
     "name": "stdout",
     "output_type": "stream",
     "text": [
      "Original: 'hello', Reversed: 'olleh'\n"
     ]
    }
   ],
   "source": [
    "def reverse_string(input_str):\n",
    "    \"\"\"Reverses a string using slicing.\"\"\"\n",
    "    return input_str[::-1]\n",
    "\n",
    "# Example usage\n",
    "original = \"hello\"\n",
    "reversed = reverse_string(original)\n",
    "print(f\"Original: '{original}', Reversed: '{reversed}'\")"
   ]
  },
  {
   "cell_type": "markdown",
   "metadata": {},
   "source": [
    "2. Write a code to count the number of vowels in a string"
   ]
  },
  {
   "cell_type": "code",
   "execution_count": 14,
   "metadata": {},
   "outputs": [
    {
     "name": "stdout",
     "output_type": "stream",
     "text": [
      "Number of vowels: 8\n"
     ]
    }
   ],
   "source": [
    "def count_vowels(input_str):\n",
    "    \"\"\"Counts vowels (both uppercase and lowercase) in a string.\"\"\"\n",
    "    vowels = set(\"aeiouAEIOU\")\n",
    "    count = 0\n",
    "    for char in input_str:\n",
    "        if char in vowels:\n",
    "            count += 1\n",
    "    return count\n",
    "\n",
    "# Example usage\n",
    "text = \"This is a sample sentence.\"\n",
    "vowel_count = count_vowels(text)\n",
    "print(f\"Number of vowels: {vowel_count}\")"
   ]
  },
  {
   "cell_type": "markdown",
   "metadata": {},
   "source": [
    "3. Write a code to check if a given string is a palindrome or not"
   ]
  },
  {
   "cell_type": "code",
   "execution_count": 15,
   "metadata": {},
   "outputs": [
    {
     "name": "stdout",
     "output_type": "stream",
     "text": [
      "'racecar' is a palindrome: True\n"
     ]
    }
   ],
   "source": [
    "def is_palindrome(input_str):\n",
    "    \"\"\"Checks if a string is a palindrome (reads the same backward).\"\"\"\n",
    "    cleaned_str = ''.join(char for char in input_str if char.isalnum()).lower()\n",
    "    return cleaned_str == cleaned_str[::-1]  \n",
    "\n",
    "# Example usage\n",
    "word = \"racecar\"\n",
    "is_pal = is_palindrome(word)\n",
    "print(f\"'{word}' is a palindrome: {is_pal}\")"
   ]
  },
  {
   "cell_type": "markdown",
   "metadata": {},
   "source": [
    "4. Write a code to check if two given strings are anagrams of each other."
   ]
  },
  {
   "cell_type": "code",
   "execution_count": 16,
   "metadata": {},
   "outputs": [
    {
     "name": "stdout",
     "output_type": "stream",
     "text": [
      "'listen' and 'silent' are anagrams: True\n"
     ]
    }
   ],
   "source": [
    "from collections import Counter\n",
    "\n",
    "def are_anagrams(str1, str2):\n",
    "    \"\"\"Checks if two strings are anagrams (contain the same letters).\"\"\"\n",
    "    return Counter(str1.lower()) == Counter(str2.lower())\n",
    "\n",
    "# Example usage\n",
    "word1 = \"listen\"\n",
    "word2 = \"silent\"\n",
    "is_ana = are_anagrams(word1, word2)\n",
    "print(f\"'{word1}' and '{word2}' are anagrams: {is_ana}\")"
   ]
  },
  {
   "cell_type": "markdown",
   "metadata": {},
   "source": [
    "5. Write a code to find all occurances of a given substring within another string"
   ]
  },
  {
   "cell_type": "code",
   "execution_count": 19,
   "metadata": {},
   "outputs": [],
   "source": [
    "def find_substring_occurrences(text, substring):\n",
    "    \"\"\"Finds all indices (case-insensitive) of a substring within a string.\"\"\"\n",
    "\n",
    "    indices = []\n",
    "    start = 0\n",
    "    text_lower = text.lower()  # Convert text to lowercase for case-insensitive search\n",
    "    substring_lower = substring.lower()\n",
    "\n",
    "    while start < len(text_lower): \n",
    "        index = text_lower.find(substring_lower, start)\n",
    "        if index == -1:\n",
    "            break\n",
    "        indices.append(index)  # Append index from the original (case-sensitive) text\n",
    "        start = index + len(substring_lower) \n",
    "    return indices"
   ]
  },
  {
   "cell_type": "code",
   "execution_count": 20,
   "metadata": {},
   "outputs": [
    {
     "name": "stdout",
     "output_type": "stream",
     "text": [
      "Indices of 'the' in the sentence: [0, 31, 45]\n"
     ]
    }
   ],
   "source": [
    "sentence = \"The quick brown fox jumps over the lazy dog. The lazy dog sleeps.\"\n",
    "sub = \"the\"  \n",
    "occurrences = find_substring_occurrences(sentence, sub)\n",
    "print(f\"Indices of '{sub}' in the sentence: {occurrences}\")"
   ]
  },
  {
   "cell_type": "markdown",
   "metadata": {},
   "source": [
    "6. Write a code to perform basic string compression using the counts of repeated characters"
   ]
  },
  {
   "cell_type": "code",
   "execution_count": 21,
   "metadata": {},
   "outputs": [
    {
     "name": "stdout",
     "output_type": "stream",
     "text": [
      "Compressed string: 'a2bc5a3'\n"
     ]
    }
   ],
   "source": [
    "def compress_string(input_str):\n",
    "    \"\"\"Compresses a string using run-length encoding.\"\"\"\n",
    "    \n",
    "    if not input_str:  # Handle empty string\n",
    "        return input_str\n",
    "    \n",
    "    compressed = \"\"\n",
    "    current_char = input_str[0]\n",
    "    count = 1\n",
    "\n",
    "    for i in range(1, len(input_str)):\n",
    "        if input_str[i] == current_char:\n",
    "            count += 1\n",
    "        else:\n",
    "            compressed += current_char + (str(count) if count > 1 else \"\")  \n",
    "            current_char = input_str[i]\n",
    "            count = 1\n",
    "\n",
    "    compressed += current_char + (str(count) if count > 1 else \"\")  \n",
    "\n",
    "    return compressed if len(compressed) < len(input_str) else input_str\n",
    "\n",
    "# Example usage\n",
    "text = \"aabcccccaaa\"\n",
    "compressed = compress_string(text)\n",
    "print(f\"Compressed string: '{compressed}'\")"
   ]
  },
  {
   "cell_type": "markdown",
   "metadata": {},
   "source": [
    "7. write a code to determine if a string has all unique characters"
   ]
  },
  {
   "cell_type": "code",
   "execution_count": 22,
   "metadata": {},
   "outputs": [
    {
     "name": "stdout",
     "output_type": "stream",
     "text": [
      "'abcdefg' has all unique characters: True\n",
      "'abbcdef' has all unique characters: False\n"
     ]
    }
   ],
   "source": [
    "def has_all_unique_chars(input_str):\n",
    "    \"\"\"Checks if a string has all unique characters.\"\"\"\n",
    "    return len(set(input_str)) == len(input_str)\n",
    "\n",
    "# Example usage\n",
    "text1 = \"abcdefg\"\n",
    "text2 = \"abbcdef\"\n",
    "print(f\"'{text1}' has all unique characters: {has_all_unique_chars(text1)}\")\n",
    "print(f\"'{text2}' has all unique characters: {has_all_unique_chars(text2)}\")"
   ]
  },
  {
   "cell_type": "markdown",
   "metadata": {},
   "source": [
    "8. Write a code to convert a given string to uppercase or lowercase"
   ]
  },
  {
   "cell_type": "code",
   "execution_count": 23,
   "metadata": {},
   "outputs": [
    {
     "name": "stdout",
     "output_type": "stream",
     "text": [
      "Original: This is a Mixed Case Sentence.\n",
      "Uppercase: THIS IS A MIXED CASE SENTENCE.\n",
      "Lowercase: this is a mixed case sentence.\n"
     ]
    }
   ],
   "source": [
    "def convert_case(input_str, to_uppercase=True):\n",
    "    \"\"\"Converts a string to uppercase or lowercase.\"\"\"\n",
    "    if to_uppercase:\n",
    "        return input_str.upper()\n",
    "    else:\n",
    "        return input_str.lower()\n",
    "\n",
    "# Example usage\n",
    "text = \"This is a Mixed Case Sentence.\"\n",
    "upper_text = convert_case(text)\n",
    "lower_text = convert_case(text, to_uppercase=False)\n",
    "\n",
    "print(f\"Original: {text}\")\n",
    "print(f\"Uppercase: {upper_text}\")\n",
    "print(f\"Lowercase: {lower_text}\")"
   ]
  },
  {
   "cell_type": "markdown",
   "metadata": {},
   "source": [
    "9. Write a code to count the number of words in a string"
   ]
  },
  {
   "cell_type": "code",
   "execution_count": 24,
   "metadata": {},
   "outputs": [],
   "source": [
    "def count_words(input_str):\n",
    "    \"\"\"Counts words, allowing customization of what constitutes a word.\"\"\"\n",
    "    word_count = 0\n",
    "    in_word = False\n",
    "    for char in input_str:\n",
    "        if char.isalnum(): # Consider alphanumeric characters as part of words\n",
    "            in_word = True\n",
    "        elif in_word:  # Transition from word to non-word\n",
    "            word_count += 1\n",
    "            in_word = False\n",
    "    if in_word: # Handle case where last character is part of a word\n",
    "        word_count += 1\n",
    "    return word_count\n"
   ]
  },
  {
   "cell_type": "code",
   "execution_count": 25,
   "metadata": {},
   "outputs": [
    {
     "name": "stdout",
     "output_type": "stream",
     "text": [
      "Number of words: 7\n"
     ]
    }
   ],
   "source": [
    "# Example usage\n",
    "text = \"This is a  sentence   with   extra spaces.\"\n",
    "word_count = count_words(text)\n",
    "print(f\"Number of words: {word_count}\")"
   ]
  },
  {
   "cell_type": "markdown",
   "metadata": {},
   "source": [
    "10. Write a code to concatenate two strings without using the + operator"
   ]
  },
  {
   "cell_type": "code",
   "execution_count": 26,
   "metadata": {},
   "outputs": [
    {
     "name": "stdout",
     "output_type": "stream",
     "text": [
      "Hello World!\n"
     ]
    }
   ],
   "source": [
    "def concatenate_strings(str1, str2):\n",
    "    \"\"\"Concatenates two strings using the join() method.\"\"\"\n",
    "    return \"\".join([str1, str2])\n",
    "\n",
    "# Example usage\n",
    "text1 = \"Hello\"\n",
    "text2 = \" World!\"\n",
    "result = concatenate_strings(text1, text2)\n",
    "print(result)"
   ]
  },
  {
   "cell_type": "markdown",
   "metadata": {},
   "source": [
    "11. Write a code to remove all occurrences of a specific element from a list"
   ]
  },
  {
   "cell_type": "code",
   "execution_count": 27,
   "metadata": {},
   "outputs": [
    {
     "name": "stdout",
     "output_type": "stream",
     "text": [
      "Filtered list: [1, 3, 4, 5]\n"
     ]
    }
   ],
   "source": [
    "def remove_all_occurrences(lst, element):\n",
    "    \"\"\"Removes all occurrences of an element from a list using list comprehension.\"\"\"\n",
    "    return [item for item in lst if item != element]\n",
    "\n",
    "# Example usage\n",
    "numbers = [1, 2, 3, 2, 4, 5, 2]\n",
    "element_to_remove = 2\n",
    "filtered_numbers = remove_all_occurrences(numbers, element_to_remove)\n",
    "print(f\"Filtered list: {filtered_numbers}\")"
   ]
  },
  {
   "cell_type": "markdown",
   "metadata": {},
   "source": [
    "12. Implement a code to find the second largest number in a given list of integers"
   ]
  },
  {
   "cell_type": "code",
   "execution_count": 28,
   "metadata": {},
   "outputs": [
    {
     "name": "stdout",
     "output_type": "stream",
     "text": [
      "Second largest number: 12\n"
     ]
    }
   ],
   "source": [
    "def find_second_largest(nums):\n",
    "    \"\"\"Finds the second largest number by tracking two largest values.\"\"\"\n",
    "    if len(nums) < 2:\n",
    "        return None \n",
    "\n",
    "    largest = float('-inf')\n",
    "    second_largest = float('-inf')\n",
    "\n",
    "    for num in nums:\n",
    "        if num > largest:\n",
    "            second_largest = largest\n",
    "            largest = num\n",
    "        elif num > second_largest and num != largest:\n",
    "            second_largest = num\n",
    "    \n",
    "    return second_largest if second_largest != float('-inf') else None\n",
    "\n",
    "# Example usage\n",
    "numbers = [5, 12, 8, 2, 20]\n",
    "second_largest = find_second_largest(numbers)\n",
    "print(f\"Second largest number: {second_largest}\") "
   ]
  },
  {
   "cell_type": "markdown",
   "metadata": {},
   "source": [
    "13. Create a code to count the occurrences of each element in a list and return a dictionary with elements as keys and their counts as Values."
   ]
  },
  {
   "cell_type": "code",
   "execution_count": 29,
   "metadata": {},
   "outputs": [
    {
     "name": "stdout",
     "output_type": "stream",
     "text": [
      "Element counts: Counter({2: 3, 1: 1, 3: 1, 4: 1, 5: 1})\n"
     ]
    }
   ],
   "source": [
    "from collections import Counter\n",
    "\n",
    "def count_occurrences(lst):\n",
    "    \"\"\"Counts occurrences of elements in a list using Counter.\"\"\"\n",
    "    return Counter(lst)  \n",
    "\n",
    "# Example usage\n",
    "numbers = [1, 2, 3, 2, 4, 5, 2]\n",
    "occurrences = count_occurrences(numbers)\n",
    "print(f\"Element counts: {occurrences}\")"
   ]
  },
  {
   "cell_type": "markdown",
   "metadata": {},
   "source": [
    "14. Write a code to reverse a list  in-place without using any built-in reverse functions."
   ]
  },
  {
   "cell_type": "code",
   "execution_count": 30,
   "metadata": {},
   "outputs": [
    {
     "name": "stdout",
     "output_type": "stream",
     "text": [
      "Reversed list: [5, 4, 3, 2, 1]\n"
     ]
    }
   ],
   "source": [
    "def reverse_list_in_place(lst):\n",
    "    \"\"\"Reverses a list in-place using two pointers (start and end).\"\"\"\n",
    "    start = 0\n",
    "    end = len(lst) - 1\n",
    "    \n",
    "    while start < end:\n",
    "        # Swap elements at start and end indices\n",
    "        lst[start], lst[end] = lst[end], lst[start]\n",
    "        \n",
    "        # Move the pointers towards the center\n",
    "        start += 1\n",
    "        end -= 1\n",
    "\n",
    "# Example usage\n",
    "numbers = [1, 2, 3, 4, 5]\n",
    "reverse_list_in_place(numbers)\n",
    "print(f\"Reversed list: {numbers}\")"
   ]
  },
  {
   "cell_type": "markdown",
   "metadata": {},
   "source": [
    "15. Implement a code to find a remove duplicates from a list while preserving the original order of elements."
   ]
  },
  {
   "cell_type": "code",
   "execution_count": 31,
   "metadata": {},
   "outputs": [
    {
     "name": "stdout",
     "output_type": "stream",
     "text": [
      "Unique list: [1, 2, 3, 4, 5]\n"
     ]
    }
   ],
   "source": [
    "def remove_duplicates_preserve_order(lst):\n",
    "    \"\"\"Removes duplicates from a list while preserving order.\"\"\"\n",
    "    seen = set()\n",
    "    return [x for x in lst if not (x in seen or seen.add(x))]\n",
    "\n",
    "# Example usage\n",
    "numbers = [1, 2, 3, 2, 4, 5, 2]\n",
    "unique_numbers = remove_duplicates_preserve_order(numbers)\n",
    "print(f\"Unique list: {unique_numbers}\")"
   ]
  },
  {
   "cell_type": "markdown",
   "metadata": {},
   "source": [
    "16. Create a code to check if a given list is sorted (either in ascending or descending order) or not."
   ]
  },
  {
   "cell_type": "code",
   "execution_count": 32,
   "metadata": {},
   "outputs": [
    {
     "name": "stdout",
     "output_type": "stream",
     "text": [
      "[1, 2, 3, 4, 5] is sorted: True\n",
      "[5, 4, 3, 2, 1] is sorted: True\n",
      "[3, 2, 5, 1, 4] is sorted: False\n"
     ]
    }
   ],
   "source": [
    "def is_sorted(lst):\n",
    "    \"\"\"Checks if a list is sorted in ascending or descending order.\"\"\"\n",
    "    \n",
    "    if not lst:  # Handle empty lists\n",
    "        return True\n",
    "    \n",
    "    ascending = lst[0] <= lst[1]  # Determine initial sort direction\n",
    "    for i in range(1, len(lst) - 1):\n",
    "        if ascending and lst[i] > lst[i + 1]:\n",
    "            return False  # Not ascending\n",
    "        elif not ascending and lst[i] < lst[i + 1]:\n",
    "            return False  # Not descending\n",
    "\n",
    "    return True  # If we reach here, the list is sorted\n",
    "\n",
    "# Example usage\n",
    "list1 = [1, 2, 3, 4, 5]\n",
    "list2 = [5, 4, 3, 2, 1]\n",
    "list3 = [3, 2, 5, 1, 4]\n",
    "print(f\"{list1} is sorted: {is_sorted(list1)}\")\n",
    "print(f\"{list2} is sorted: {is_sorted(list2)}\")\n",
    "print(f\"{list3} is sorted: {is_sorted(list3)}\")"
   ]
  },
  {
   "cell_type": "markdown",
   "metadata": {},
   "source": [
    "17. Write a code to merge two sorted lists into a single sorted list"
   ]
  },
  {
   "cell_type": "code",
   "execution_count": 33,
   "metadata": {},
   "outputs": [],
   "source": [
    "def merge_sorted_lists(lst1, lst2):\n",
    "    \"\"\"Merges two sorted lists using the two-pointer approach.\"\"\"\n",
    "    merged = []\n",
    "    i, j = 0, 0  # Pointers for lst1 and lst2\n",
    "\n",
    "    while i < len(lst1) and j < len(lst2):\n",
    "        if lst1[i] < lst2[j]:\n",
    "            merged.append(lst1[i])\n",
    "            i += 1\n",
    "        else:\n",
    "            merged.append(lst2[j])\n",
    "            j += 1\n",
    "\n",
    "    merged.extend(lst1[i:])  # Append any remaining elements from lst1\n",
    "    merged.extend(lst2[j:])  # Append any remaining elements from lst2\n",
    "    return merged"
   ]
  },
  {
   "cell_type": "code",
   "execution_count": 34,
   "metadata": {},
   "outputs": [
    {
     "name": "stdout",
     "output_type": "stream",
     "text": [
      "Merged list: [1, 2, 3, 4, 5, 6]\n"
     ]
    }
   ],
   "source": [
    "# Example usage\n",
    "list1 = [1, 3, 5]\n",
    "list2 = [2, 4, 6]\n",
    "merged_list = merge_sorted_lists(list1, list2)\n",
    "print(f\"Merged list: {merged_list}\")"
   ]
  }
 ],
 "metadata": {
  "kernelspec": {
   "display_name": "base",
   "language": "python",
   "name": "python3"
  },
  "language_info": {
   "codemirror_mode": {
    "name": "ipython",
    "version": 3
   },
   "file_extension": ".py",
   "mimetype": "text/x-python",
   "name": "python",
   "nbconvert_exporter": "python",
   "pygments_lexer": "ipython3",
   "version": "3.11.9"
  }
 },
 "nbformat": 4,
 "nbformat_minor": 2
}
